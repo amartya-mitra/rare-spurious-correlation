{
 "cells": [
  {
   "cell_type": "code",
   "execution_count": 5,
   "id": "310f7920-ef89-49d3-98e4-53e1e07efb56",
   "metadata": {},
   "outputs": [
    {
     "name": "stdout",
     "output_type": "stream",
     "text": [
      "The autoreload extension is already loaded. To reload it, use:\n",
      "  %reload_ext autoreload\n"
     ]
    }
   ],
   "source": [
    "%load_ext autoreload\n",
    "%autoreload 2\n",
    "\n",
    "from functools import lru_cache\n",
    "import sys\n",
    "sys.path.append(\"../\")\n",
    "from os.path import join\n",
    "from IPython.display import display\n",
    "from functools import partial\n",
    "\n",
    "import matplotlib\n",
    "matplotlib.rcParams['pdf.fonttype'] = 42\n",
    "matplotlib.rcParams['ps.fonttype'] = 42\n",
    "matplotlib.rc('text', usetex=False)\n",
    "import matplotlib.pyplot as plt\n",
    "\n",
    "from scipy.stats import ttest_ind, sem\n",
    "from scipy.fft import fft2\n",
    "import scipy\n",
    "import joblib\n",
    "import numpy as np\n",
    "import torch\n",
    "from torch import nn\n",
    "from torch.utils.data import Dataset, DataLoader\n",
    "from tqdm.notebook import tqdm\n",
    "from skimage.segmentation import mark_boundaries\n",
    "from scipy.stats import pearsonr\n",
    "import pandas as pd\n",
    "pd.options.display.float_format = '{:,.3f}'.format\n",
    "pd.set_option('display.max_rows', 128)\n",
    "\n",
    "from spurious_ml.models.torch_utils import archs\n",
    "from spurious_ml.variables import auto_var\n",
    "from params import *\n",
    "from utils import params_to_dataframe\n",
    "\n",
    "fontsize=18"
   ]
  },
  {
   "cell_type": "code",
   "execution_count": 2,
   "id": "346f130e-60ea-4b5a-9c58-de079c427268",
   "metadata": {},
   "outputs": [],
   "source": [
    "def cnn_pred_fn(X, model, device=\"cuda\"):\n",
    "    if len(X.shape) == 4:\n",
    "        X = X.transpose(0, 3, 1, 2)\n",
    "        \n",
    "    dset = torch.utils.data.TensorDataset(torch.from_numpy(X).float())\n",
    "    loader = torch.utils.data.DataLoader(dset, batch_size=128)\n",
    "    \n",
    "    model.to(device).eval()\n",
    "    fetX = []\n",
    "    for (x, ) in tqdm(loader, desc=\"[pred_fn]\"):\n",
    "        fetX.append(model(x.to(device)).cpu().detach().numpy())\n",
    "    fetX = np.concatenate(fetX, axis=0)\n",
    "    return fetX\n",
    "\n",
    "def mlp_pred_fn(X, model, device=\"cuda\"):\n",
    "    dset = torch.utils.data.TensorDataset(torch.from_numpy(X.reshape(len(X), -1)).float())\n",
    "    loader = torch.utils.data.DataLoader(dset, batch_size=256)\n",
    "    \n",
    "    model.to(device).eval()\n",
    "    fetX = []\n",
    "    for (x, ) in tqdm(loader, desc=\"[pred_fn]\"):\n",
    "        fetX.append(model(x.to(device)).cpu().detach().numpy())\n",
    "    fetX = np.concatenate(fetX, axis=0)\n",
    "    return fetX"
   ]
  },
  {
   "cell_type": "code",
   "execution_count": 3,
   "id": "d2306836-7db3-4c52-927a-5579f55b4dc3",
   "metadata": {},
   "outputs": [],
   "source": [
    "params = {\n",
    "    \"mnist\": [\n",
    "        [\"CNN002\", \"CNN\", \"../models/train_classifier/128-mnist-70-0.01-ce-tor-CNN002-0.0-adam-0-0.0.pt\"],\n",
    "        [\"MLP\", \"small MLP\", \"../models/train_classifier/128-mnist-70-0.01-ce-tor-MLP-0.0-adam-0-0.0.pt\"],\n",
    "        [\"LargeMLP\", \"MLP\", \"../models/train_classifier/128-mnist-70-0.01-ce-tor-LargeMLP-0.0-adam-0-0.0.pt\"],\n",
    "        [\"LargeMLPv2\", \"large MLP\", \"../models/train_classifier/128-mnist-70-0.01-ce-tor-LargeMLPv2-0.0-adam-0-0.0.pt\"],\n",
    "    ],\n",
    "    \"fashion\": [\n",
    "        [\"CNN002\", \"CNN\", \"../models/train_classifier/128-fashion-70-0.01-ce-tor-CNN002-0.0-adam-0-0.0.pt\"],\n",
    "        [\"MLP\", \"small MLP\", \"../models/train_classifier/128-fashion-70-0.01-ce-tor-MLP-0.0-adam-0-0.0.pt\"],\n",
    "        [\"LargeMLP\", \"MLP\", \"../models/train_classifier/128-fashion-70-0.01-ce-tor-LargeMLP-0.0-adam-0-0.0.pt\"],\n",
    "        [\"LargeMLPv2\", \"large MLP\", \"../models/train_classifier/128-fashion-70-0.01-ce-tor-LargeMLPv2-0.0-adam-0-0.0.pt\"],\n",
    "    ],\n",
    "    \"cifar10\": [\n",
    "        [\"altResNet20Norm02\", \"ResNet20\", \"../models/train_classifier/128-cifar10-70-0.1-aug01-ce-tor-altResNet20Norm02-0.9-sgd-0-0.0001.pt\"],\n",
    "        [\"altResNet32Norm02\", \"ResNet32\", \"../models/train_classifier/128-cifar10-70-0.1-aug01-ce-tor-altResNet32Norm02-0.9-sgd-0-0.0001.pt\"],\n",
    "        [\"altResNet110Norm02\", \"ResNet110\", \"../models/train_classifier/128-cifar10-70-0.1-aug01-ce-tor-altResNet110Norm02-0.9-sgd-0-0.0001.pt\"],\n",
    "        [\"Vgg16Norm02\", \"Vgg16\", \"../models/train_classifier/128-cifar10-70-0.01-aug01-ce-tor-Vgg16Norm02-0.9-sgd-0-0.0001.pt\"],\n",
    "    ],\n",
    "}\n",
    "\n",
    "def occlude_X(X, occlude, random_state):\n",
    "    if occlude == 0:\n",
    "        return np.copy(X)\n",
    "    if occlude == 1:\n",
    "        return np.zeros_like(X)\n",
    "    retX = []\n",
    "    tX = np.copy(X.reshape(X.shape[0], X.shape[1] * X.shape[2], X.shape[3]))\n",
    "    inds = np.where(tX != 0)\n",
    "    n_blocked = int(X.shape[1] * X.shape[2] * occlude)\n",
    "    blocked_pixels = random_state.choice(np.arange(2), size=len(inds[1]), p=[1-occlude, occlude], replace=True)\n",
    "    for i in tqdm(range(len(X))):\n",
    "        pixel_no = inds[1][inds[0] == i][blocked_pixels[inds[0] == i] == 1]\n",
    "        tX[i][pixel_no] = 0\n",
    "        retX.append(tX[i].reshape(1, X.shape[1], X.shape[2], X.shape[3]))\n",
    "    return np.concatenate(retX, axis=0)\n"
   ]
  },
  {
   "cell_type": "code",
   "execution_count": 14,
   "id": "72a77988-4611-4a99-9b73-9cbfd8978915",
   "metadata": {
    "scrolled": true,
    "tags": []
   },
   "outputs": [
    {
     "data": {
      "application/vnd.jupyter.widget-view+json": {
       "model_id": "99e93a6b285e45a3bd0a5288f6ac5da7",
       "version_major": 2,
       "version_minor": 0
      },
      "text/plain": [
       "  0%|          | 0/500 [00:00<?, ?it/s]"
      ]
     },
     "metadata": {},
     "output_type": "display_data"
    },
    {
     "data": {
      "application/vnd.jupyter.widget-view+json": {
       "model_id": "29f85815c21e468c9258c40e48609256",
       "version_major": 2,
       "version_minor": 0
      },
      "text/plain": [
       "  0%|          | 0/500 [00:00<?, ?it/s]"
      ]
     },
     "metadata": {},
     "output_type": "display_data"
    },
    {
     "data": {
      "application/vnd.jupyter.widget-view+json": {
       "model_id": "5dc67dda95b840d9884f59482aeb4fc5",
       "version_major": 2,
       "version_minor": 0
      },
      "text/plain": [
       "  0%|          | 0/500 [00:00<?, ?it/s]"
      ]
     },
     "metadata": {},
     "output_type": "display_data"
    },
    {
     "data": {
      "application/vnd.jupyter.widget-view+json": {
       "model_id": "3a9bcb29517e4ed687c3636abb062124",
       "version_major": 2,
       "version_minor": 0
      },
      "text/plain": [
       "  0%|          | 0/500 [00:00<?, ?it/s]"
      ]
     },
     "metadata": {},
     "output_type": "display_data"
    },
    {
     "data": {
      "application/vnd.jupyter.widget-view+json": {
       "model_id": "a53939333f1a42ed83b4dbe146404e31",
       "version_major": 2,
       "version_minor": 0
      },
      "text/plain": [
       "  0%|          | 0/500 [00:00<?, ?it/s]"
      ]
     },
     "metadata": {},
     "output_type": "display_data"
    },
    {
     "data": {
      "application/vnd.jupyter.widget-view+json": {
       "model_id": "ad39d1fa4ce44d46bccdacd1142a73d1",
       "version_major": 2,
       "version_minor": 0
      },
      "text/plain": [
       "  0%|          | 0/500 [00:00<?, ?it/s]"
      ]
     },
     "metadata": {},
     "output_type": "display_data"
    },
    {
     "data": {
      "application/vnd.jupyter.widget-view+json": {
       "model_id": "78148b83c45548ec84895f1f2076d0f9",
       "version_major": 2,
       "version_minor": 0
      },
      "text/plain": [
       "  0%|          | 0/500 [00:00<?, ?it/s]"
      ]
     },
     "metadata": {},
     "output_type": "display_data"
    },
    {
     "data": {
      "application/vnd.jupyter.widget-view+json": {
       "model_id": "2335a4d15bc84be89ecda0e8bb0ff663",
       "version_major": 2,
       "version_minor": 0
      },
      "text/plain": [
       "  0%|          | 0/500 [00:00<?, ?it/s]"
      ]
     },
     "metadata": {},
     "output_type": "display_data"
    },
    {
     "data": {
      "application/vnd.jupyter.widget-view+json": {
       "model_id": "154510063b564998a76192a483489f2a",
       "version_major": 2,
       "version_minor": 0
      },
      "text/plain": [
       "  0%|          | 0/500 [00:00<?, ?it/s]"
      ]
     },
     "metadata": {},
     "output_type": "display_data"
    },
    {
     "data": {
      "application/vnd.jupyter.widget-view+json": {
       "model_id": "e267735d898f48adb1d52aed53a34637",
       "version_major": 2,
       "version_minor": 0
      },
      "text/plain": [
       "  0%|          | 0/500 [00:00<?, ?it/s]"
      ]
     },
     "metadata": {},
     "output_type": "display_data"
    },
    {
     "data": {
      "application/vnd.jupyter.widget-view+json": {
       "model_id": "6e11fbbe5f164ec6a7cbfcbdf74f6ee7",
       "version_major": 2,
       "version_minor": 0
      },
      "text/plain": [
       "  0%|          | 0/500 [00:00<?, ?it/s]"
      ]
     },
     "metadata": {},
     "output_type": "display_data"
    },
    {
     "data": {
      "application/vnd.jupyter.widget-view+json": {
       "model_id": "8d965bd909fe400fb9a5f1b9288487eb",
       "version_major": 2,
       "version_minor": 0
      },
      "text/plain": [
       "  0%|          | 0/500 [00:00<?, ?it/s]"
      ]
     },
     "metadata": {},
     "output_type": "display_data"
    },
    {
     "data": {
      "application/vnd.jupyter.widget-view+json": {
       "model_id": "e4d62097a51a4692973b82b27a79528a",
       "version_major": 2,
       "version_minor": 0
      },
      "text/plain": [
       "  0%|          | 0/500 [00:00<?, ?it/s]"
      ]
     },
     "metadata": {},
     "output_type": "display_data"
    },
    {
     "data": {
      "application/vnd.jupyter.widget-view+json": {
       "model_id": "d0b73ac1a5124daf9d4eec8270092c97",
       "version_major": 2,
       "version_minor": 0
      },
      "text/plain": [
       "  0%|          | 0/500 [00:00<?, ?it/s]"
      ]
     },
     "metadata": {},
     "output_type": "display_data"
    },
    {
     "data": {
      "application/vnd.jupyter.widget-view+json": {
       "model_id": "3e6160dc8bb846d0b812c88e43daec93",
       "version_major": 2,
       "version_minor": 0
      },
      "text/plain": [
       "  0%|          | 0/500 [00:00<?, ?it/s]"
      ]
     },
     "metadata": {},
     "output_type": "display_data"
    },
    {
     "data": {
      "application/vnd.jupyter.widget-view+json": {
       "model_id": "0da7757fbe4249e3af1ad8f491f06df5",
       "version_major": 2,
       "version_minor": 0
      },
      "text/plain": [
       "  0%|          | 0/500 [00:00<?, ?it/s]"
      ]
     },
     "metadata": {},
     "output_type": "display_data"
    },
    {
     "data": {
      "application/vnd.jupyter.widget-view+json": {
       "model_id": "7428939461b74a9a8f99c05fbaa04ccf",
       "version_major": 2,
       "version_minor": 0
      },
      "text/plain": [
       "  0%|          | 0/500 [00:00<?, ?it/s]"
      ]
     },
     "metadata": {},
     "output_type": "display_data"
    },
    {
     "data": {
      "application/vnd.jupyter.widget-view+json": {
       "model_id": "829c19c45f8043a783021f528a98c6e8",
       "version_major": 2,
       "version_minor": 0
      },
      "text/plain": [
       "  0%|          | 0/500 [00:00<?, ?it/s]"
      ]
     },
     "metadata": {},
     "output_type": "display_data"
    },
    {
     "data": {
      "application/vnd.jupyter.widget-view+json": {
       "model_id": "ed3e114fd8564dd395b5d456d4b35d33",
       "version_major": 2,
       "version_minor": 0
      },
      "text/plain": [
       "  0%|          | 0/500 [00:00<?, ?it/s]"
      ]
     },
     "metadata": {},
     "output_type": "display_data"
    },
    {
     "data": {
      "application/vnd.jupyter.widget-view+json": {
       "model_id": "b6eebcc1949b40ef8ab004ae478ca66c",
       "version_major": 2,
       "version_minor": 0
      },
      "text/plain": [
       "  0%|          | 0/500 [00:00<?, ?it/s]"
      ]
     },
     "metadata": {},
     "output_type": "display_data"
    },
    {
     "data": {
      "application/vnd.jupyter.widget-view+json": {
       "model_id": "8cf64984ad05459b95478e48056f4380",
       "version_major": 2,
       "version_minor": 0
      },
      "text/plain": [
       "  0%|          | 0/500 [00:00<?, ?it/s]"
      ]
     },
     "metadata": {},
     "output_type": "display_data"
    },
    {
     "data": {
      "application/vnd.jupyter.widget-view+json": {
       "model_id": "efd74d39229e45dcafde7527dffeca7c",
       "version_major": 2,
       "version_minor": 0
      },
      "text/plain": [
       "  0%|          | 0/500 [00:00<?, ?it/s]"
      ]
     },
     "metadata": {},
     "output_type": "display_data"
    },
    {
     "data": {
      "application/vnd.jupyter.widget-view+json": {
       "model_id": "55cba713580d418c996799ba428190bb",
       "version_major": 2,
       "version_minor": 0
      },
      "text/plain": [
       "  0%|          | 0/500 [00:00<?, ?it/s]"
      ]
     },
     "metadata": {},
     "output_type": "display_data"
    },
    {
     "data": {
      "application/vnd.jupyter.widget-view+json": {
       "model_id": "ad4073b3ecb04db0aaae510b9ae0ddae",
       "version_major": 2,
       "version_minor": 0
      },
      "text/plain": [
       "  0%|          | 0/500 [00:00<?, ?it/s]"
      ]
     },
     "metadata": {},
     "output_type": "display_data"
    },
    {
     "data": {
      "application/vnd.jupyter.widget-view+json": {
       "model_id": "fccd5b0184b4444498547a6f8345817d",
       "version_major": 2,
       "version_minor": 0
      },
      "text/plain": [
       "  0%|          | 0/500 [00:00<?, ?it/s]"
      ]
     },
     "metadata": {},
     "output_type": "display_data"
    },
    {
     "data": {
      "application/vnd.jupyter.widget-view+json": {
       "model_id": "45bb80491fd64a608ac1159fad01d635",
       "version_major": 2,
       "version_minor": 0
      },
      "text/plain": [
       "  0%|          | 0/500 [00:00<?, ?it/s]"
      ]
     },
     "metadata": {},
     "output_type": "display_data"
    },
    {
     "data": {
      "application/vnd.jupyter.widget-view+json": {
       "model_id": "0ebf8896d1df46cc93dae57dba7ef034",
       "version_major": 2,
       "version_minor": 0
      },
      "text/plain": [
       "  0%|          | 0/500 [00:00<?, ?it/s]"
      ]
     },
     "metadata": {},
     "output_type": "display_data"
    },
    {
     "data": {
      "application/vnd.jupyter.widget-view+json": {
       "model_id": "a961a3380db341bd96bf19930dee872f",
       "version_major": 2,
       "version_minor": 0
      },
      "text/plain": [
       "  0%|          | 0/500 [00:00<?, ?it/s]"
      ]
     },
     "metadata": {},
     "output_type": "display_data"
    },
    {
     "data": {
      "application/vnd.jupyter.widget-view+json": {
       "model_id": "6f6f1ce3698f40b5ae82fd0829bc47e8",
       "version_major": 2,
       "version_minor": 0
      },
      "text/plain": [
       "  0%|          | 0/500 [00:00<?, ?it/s]"
      ]
     },
     "metadata": {},
     "output_type": "display_data"
    },
    {
     "data": {
      "application/vnd.jupyter.widget-view+json": {
       "model_id": "084fd3a95fac492bb20b3589885bea95",
       "version_major": 2,
       "version_minor": 0
      },
      "text/plain": [
       "  0%|          | 0/500 [00:00<?, ?it/s]"
      ]
     },
     "metadata": {},
     "output_type": "display_data"
    },
    {
     "data": {
      "application/vnd.jupyter.widget-view+json": {
       "model_id": "10f1c72070694f3dac816f8d81db088e",
       "version_major": 2,
       "version_minor": 0
      },
      "text/plain": [
       "  0%|          | 0/500 [00:00<?, ?it/s]"
      ]
     },
     "metadata": {},
     "output_type": "display_data"
    },
    {
     "data": {
      "application/vnd.jupyter.widget-view+json": {
       "model_id": "b7644ab642be40adb99fccf911f6b4a0",
       "version_major": 2,
       "version_minor": 0
      },
      "text/plain": [
       "  0%|          | 0/500 [00:00<?, ?it/s]"
      ]
     },
     "metadata": {},
     "output_type": "display_data"
    },
    {
     "data": {
      "application/vnd.jupyter.widget-view+json": {
       "model_id": "514e01e3788a4277b24c596d223942f3",
       "version_major": 2,
       "version_minor": 0
      },
      "text/plain": [
       "  0%|          | 0/500 [00:00<?, ?it/s]"
      ]
     },
     "metadata": {},
     "output_type": "display_data"
    },
    {
     "data": {
      "application/vnd.jupyter.widget-view+json": {
       "model_id": "74243aca56294070b71db083b179a682",
       "version_major": 2,
       "version_minor": 0
      },
      "text/plain": [
       "  0%|          | 0/500 [00:00<?, ?it/s]"
      ]
     },
     "metadata": {},
     "output_type": "display_data"
    },
    {
     "data": {
      "application/vnd.jupyter.widget-view+json": {
       "model_id": "d2be680254b4403ba28ef70a3590a7b2",
       "version_major": 2,
       "version_minor": 0
      },
      "text/plain": [
       "  0%|          | 0/500 [00:00<?, ?it/s]"
      ]
     },
     "metadata": {},
     "output_type": "display_data"
    },
    {
     "data": {
      "application/vnd.jupyter.widget-view+json": {
       "model_id": "ba4ee78384f4417ca54799ec8579914d",
       "version_major": 2,
       "version_minor": 0
      },
      "text/plain": [
       "  0%|          | 0/500 [00:00<?, ?it/s]"
      ]
     },
     "metadata": {},
     "output_type": "display_data"
    },
    {
     "data": {
      "application/vnd.jupyter.widget-view+json": {
       "model_id": "262947f9bd4242539c2c44ad2b0d80f2",
       "version_major": 2,
       "version_minor": 0
      },
      "text/plain": [
       "  0%|          | 0/500 [00:00<?, ?it/s]"
      ]
     },
     "metadata": {},
     "output_type": "display_data"
    },
    {
     "data": {
      "application/vnd.jupyter.widget-view+json": {
       "model_id": "356243011eee4694aab32e761ef5a2ea",
       "version_major": 2,
       "version_minor": 0
      },
      "text/plain": [
       "  0%|          | 0/500 [00:00<?, ?it/s]"
      ]
     },
     "metadata": {},
     "output_type": "display_data"
    },
    {
     "data": {
      "application/vnd.jupyter.widget-view+json": {
       "model_id": "905258e3b6204ab4a99bfef46c261c2a",
       "version_major": 2,
       "version_minor": 0
      },
      "text/plain": [
       "  0%|          | 0/500 [00:00<?, ?it/s]"
      ]
     },
     "metadata": {},
     "output_type": "display_data"
    },
    {
     "data": {
      "application/vnd.jupyter.widget-view+json": {
       "model_id": "c93b998e2cf14edab4c70c92ac3b05db",
       "version_major": 2,
       "version_minor": 0
      },
      "text/plain": [
       "  0%|          | 0/500 [00:00<?, ?it/s]"
      ]
     },
     "metadata": {},
     "output_type": "display_data"
    },
    {
     "data": {
      "application/vnd.jupyter.widget-view+json": {
       "model_id": "0c66fb31b8ba49f489a6d57d31d786c1",
       "version_major": 2,
       "version_minor": 0
      },
      "text/plain": [
       "  0%|          | 0/500 [00:00<?, ?it/s]"
      ]
     },
     "metadata": {},
     "output_type": "display_data"
    },
    {
     "data": {
      "application/vnd.jupyter.widget-view+json": {
       "model_id": "5c5167d486eb4058a765e1300ea205c2",
       "version_major": 2,
       "version_minor": 0
      },
      "text/plain": [
       "  0%|          | 0/500 [00:00<?, ?it/s]"
      ]
     },
     "metadata": {},
     "output_type": "display_data"
    },
    {
     "data": {
      "application/vnd.jupyter.widget-view+json": {
       "model_id": "a7e87670042048d9b5a76efef0379212",
       "version_major": 2,
       "version_minor": 0
      },
      "text/plain": [
       "  0%|          | 0/500 [00:00<?, ?it/s]"
      ]
     },
     "metadata": {},
     "output_type": "display_data"
    },
    {
     "data": {
      "application/vnd.jupyter.widget-view+json": {
       "model_id": "e738815e15ad42f3b1d859d79b88a095",
       "version_major": 2,
       "version_minor": 0
      },
      "text/plain": [
       "  0%|          | 0/500 [00:00<?, ?it/s]"
      ]
     },
     "metadata": {},
     "output_type": "display_data"
    },
    {
     "data": {
      "application/vnd.jupyter.widget-view+json": {
       "model_id": "65505fe1d48b4bb097995c33fd4e4a50",
       "version_major": 2,
       "version_minor": 0
      },
      "text/plain": [
       "  0%|          | 0/500 [00:00<?, ?it/s]"
      ]
     },
     "metadata": {},
     "output_type": "display_data"
    },
    {
     "data": {
      "application/vnd.jupyter.widget-view+json": {
       "model_id": "b3bfa6f0122f4dc2b305d949543b2efe",
       "version_major": 2,
       "version_minor": 0
      },
      "text/plain": [
       "  0%|          | 0/500 [00:00<?, ?it/s]"
      ]
     },
     "metadata": {},
     "output_type": "display_data"
    },
    {
     "data": {
      "application/vnd.jupyter.widget-view+json": {
       "model_id": "6f8f1c4e015845b3837e70a7c4a120b4",
       "version_major": 2,
       "version_minor": 0
      },
      "text/plain": [
       "  0%|          | 0/500 [00:00<?, ?it/s]"
      ]
     },
     "metadata": {},
     "output_type": "display_data"
    },
    {
     "data": {
      "application/vnd.jupyter.widget-view+json": {
       "model_id": "0da07c11f0ba471e8c39e6fba60701eb",
       "version_major": 2,
       "version_minor": 0
      },
      "text/plain": [
       "  0%|          | 0/500 [00:00<?, ?it/s]"
      ]
     },
     "metadata": {},
     "output_type": "display_data"
    },
    {
     "data": {
      "application/vnd.jupyter.widget-view+json": {
       "model_id": "417e0f94361f4a5da310a7f70e5ab969",
       "version_major": 2,
       "version_minor": 0
      },
      "text/plain": [
       "  0%|          | 0/500 [00:00<?, ?it/s]"
      ]
     },
     "metadata": {},
     "output_type": "display_data"
    },
    {
     "data": {
      "application/vnd.jupyter.widget-view+json": {
       "model_id": "1eed36bf8de8479696da33279ef0408b",
       "version_major": 2,
       "version_minor": 0
      },
      "text/plain": [
       "[pred_fn]:   0%|          | 0/4 [00:00<?, ?it/s]"
      ]
     },
     "metadata": {},
     "output_type": "display_data"
    },
    {
     "data": {
      "application/vnd.jupyter.widget-view+json": {
       "model_id": "72de12c76ac448318ad705e20951301a",
       "version_major": 2,
       "version_minor": 0
      },
      "text/plain": [
       "[pred_fn]:   0%|          | 0/4 [00:00<?, ?it/s]"
      ]
     },
     "metadata": {},
     "output_type": "display_data"
    },
    {
     "data": {
      "application/vnd.jupyter.widget-view+json": {
       "model_id": "2345b1e1b90d4e688422afe0b2ca52bc",
       "version_major": 2,
       "version_minor": 0
      },
      "text/plain": [
       "[pred_fn]:   0%|          | 0/4 [00:00<?, ?it/s]"
      ]
     },
     "metadata": {},
     "output_type": "display_data"
    },
    {
     "data": {
      "application/vnd.jupyter.widget-view+json": {
       "model_id": "6a3f43539cc94a60abb9045937b190fe",
       "version_major": 2,
       "version_minor": 0
      },
      "text/plain": [
       "[pred_fn]:   0%|          | 0/4 [00:00<?, ?it/s]"
      ]
     },
     "metadata": {},
     "output_type": "display_data"
    },
    {
     "data": {
      "application/vnd.jupyter.widget-view+json": {
       "model_id": "e39aed9073024ae2a3dbbff0a1830d24",
       "version_major": 2,
       "version_minor": 0
      },
      "text/plain": [
       "[pred_fn]:   0%|          | 0/4 [00:00<?, ?it/s]"
      ]
     },
     "metadata": {},
     "output_type": "display_data"
    },
    {
     "data": {
      "application/vnd.jupyter.widget-view+json": {
       "model_id": "cbc541729ca6434092b4ac520283667c",
       "version_major": 2,
       "version_minor": 0
      },
      "text/plain": [
       "[pred_fn]:   0%|          | 0/4 [00:00<?, ?it/s]"
      ]
     },
     "metadata": {},
     "output_type": "display_data"
    },
    {
     "data": {
      "application/vnd.jupyter.widget-view+json": {
       "model_id": "d5da20b1c2454041b64341cc93e0b583",
       "version_major": 2,
       "version_minor": 0
      },
      "text/plain": [
       "[pred_fn]:   0%|          | 0/4 [00:00<?, ?it/s]"
      ]
     },
     "metadata": {},
     "output_type": "display_data"
    },
    {
     "data": {
      "application/vnd.jupyter.widget-view+json": {
       "model_id": "99b3c829ce0b4281a797392abb775932",
       "version_major": 2,
       "version_minor": 0
      },
      "text/plain": [
       "[pred_fn]:   0%|          | 0/4 [00:00<?, ?it/s]"
      ]
     },
     "metadata": {},
     "output_type": "display_data"
    },
    {
     "data": {
      "application/vnd.jupyter.widget-view+json": {
       "model_id": "2fc3326680f044a6a71e9c2533dc9c8b",
       "version_major": 2,
       "version_minor": 0
      },
      "text/plain": [
       "[pred_fn]:   0%|          | 0/4 [00:00<?, ?it/s]"
      ]
     },
     "metadata": {},
     "output_type": "display_data"
    },
    {
     "data": {
      "application/vnd.jupyter.widget-view+json": {
       "model_id": "44b5008b88154f6c841b440214396798",
       "version_major": 2,
       "version_minor": 0
      },
      "text/plain": [
       "[pred_fn]:   0%|          | 0/4 [00:00<?, ?it/s]"
      ]
     },
     "metadata": {},
     "output_type": "display_data"
    },
    {
     "data": {
      "application/vnd.jupyter.widget-view+json": {
       "model_id": "02c7b13770c2466b9f0713c521fb4e55",
       "version_major": 2,
       "version_minor": 0
      },
      "text/plain": [
       "[pred_fn]:   0%|          | 0/4 [00:00<?, ?it/s]"
      ]
     },
     "metadata": {},
     "output_type": "display_data"
    },
    {
     "data": {
      "application/vnd.jupyter.widget-view+json": {
       "model_id": "baab4102b828441a8c11e90ffbf8ad87",
       "version_major": 2,
       "version_minor": 0
      },
      "text/plain": [
       "[pred_fn]:   0%|          | 0/4 [00:00<?, ?it/s]"
      ]
     },
     "metadata": {},
     "output_type": "display_data"
    },
    {
     "data": {
      "application/vnd.jupyter.widget-view+json": {
       "model_id": "59518fb876a54f6c89a65306b1f025a7",
       "version_major": 2,
       "version_minor": 0
      },
      "text/plain": [
       "[pred_fn]:   0%|          | 0/4 [00:00<?, ?it/s]"
      ]
     },
     "metadata": {},
     "output_type": "display_data"
    },
    {
     "data": {
      "application/vnd.jupyter.widget-view+json": {
       "model_id": "22fa6faca46841698e8c9f48cdd7da2e",
       "version_major": 2,
       "version_minor": 0
      },
      "text/plain": [
       "[pred_fn]:   0%|          | 0/4 [00:00<?, ?it/s]"
      ]
     },
     "metadata": {},
     "output_type": "display_data"
    },
    {
     "data": {
      "application/vnd.jupyter.widget-view+json": {
       "model_id": "5ed7cd5ddcf647e88d7ec2f288297c26",
       "version_major": 2,
       "version_minor": 0
      },
      "text/plain": [
       "[pred_fn]:   0%|          | 0/4 [00:00<?, ?it/s]"
      ]
     },
     "metadata": {},
     "output_type": "display_data"
    },
    {
     "data": {
      "application/vnd.jupyter.widget-view+json": {
       "model_id": "9e9a71f0ba3044948feaeaf75e12bb74",
       "version_major": 2,
       "version_minor": 0
      },
      "text/plain": [
       "[pred_fn]:   0%|          | 0/4 [00:00<?, ?it/s]"
      ]
     },
     "metadata": {},
     "output_type": "display_data"
    },
    {
     "data": {
      "application/vnd.jupyter.widget-view+json": {
       "model_id": "aa8165ddb1014336978607802e935a5e",
       "version_major": 2,
       "version_minor": 0
      },
      "text/plain": [
       "[pred_fn]:   0%|          | 0/4 [00:00<?, ?it/s]"
      ]
     },
     "metadata": {},
     "output_type": "display_data"
    },
    {
     "data": {
      "application/vnd.jupyter.widget-view+json": {
       "model_id": "6ccd7319d48c4175833aeb4305b833ba",
       "version_major": 2,
       "version_minor": 0
      },
      "text/plain": [
       "[pred_fn]:   0%|          | 0/4 [00:00<?, ?it/s]"
      ]
     },
     "metadata": {},
     "output_type": "display_data"
    },
    {
     "data": {
      "application/vnd.jupyter.widget-view+json": {
       "model_id": "4e3cc3f346cc4139877dd66869209759",
       "version_major": 2,
       "version_minor": 0
      },
      "text/plain": [
       "[pred_fn]:   0%|          | 0/4 [00:00<?, ?it/s]"
      ]
     },
     "metadata": {},
     "output_type": "display_data"
    },
    {
     "data": {
      "application/vnd.jupyter.widget-view+json": {
       "model_id": "bce85c7ce5c14e77a8b0c192e6abc15d",
       "version_major": 2,
       "version_minor": 0
      },
      "text/plain": [
       "[pred_fn]:   0%|          | 0/4 [00:00<?, ?it/s]"
      ]
     },
     "metadata": {},
     "output_type": "display_data"
    },
    {
     "data": {
      "application/vnd.jupyter.widget-view+json": {
       "model_id": "8486e245a10a40c18c074886d1d3b0ed",
       "version_major": 2,
       "version_minor": 0
      },
      "text/plain": [
       "[pred_fn]:   0%|          | 0/4 [00:00<?, ?it/s]"
      ]
     },
     "metadata": {},
     "output_type": "display_data"
    },
    {
     "data": {
      "application/vnd.jupyter.widget-view+json": {
       "model_id": "6e91fdb052104357a41ecd07309906d8",
       "version_major": 2,
       "version_minor": 0
      },
      "text/plain": [
       "[pred_fn]:   0%|          | 0/4 [00:00<?, ?it/s]"
      ]
     },
     "metadata": {},
     "output_type": "display_data"
    },
    {
     "data": {
      "application/vnd.jupyter.widget-view+json": {
       "model_id": "ef577bec1fc14ada82f26aa867babc55",
       "version_major": 2,
       "version_minor": 0
      },
      "text/plain": [
       "[pred_fn]:   0%|          | 0/4 [00:00<?, ?it/s]"
      ]
     },
     "metadata": {},
     "output_type": "display_data"
    },
    {
     "data": {
      "application/vnd.jupyter.widget-view+json": {
       "model_id": "93ff9e7273d04bf1aafe75cb099d0dd1",
       "version_major": 2,
       "version_minor": 0
      },
      "text/plain": [
       "[pred_fn]:   0%|          | 0/4 [00:00<?, ?it/s]"
      ]
     },
     "metadata": {},
     "output_type": "display_data"
    },
    {
     "data": {
      "application/vnd.jupyter.widget-view+json": {
       "model_id": "7a01a757fcfd442987f0fc82c0465213",
       "version_major": 2,
       "version_minor": 0
      },
      "text/plain": [
       "[pred_fn]:   0%|          | 0/4 [00:00<?, ?it/s]"
      ]
     },
     "metadata": {},
     "output_type": "display_data"
    },
    {
     "data": {
      "application/vnd.jupyter.widget-view+json": {
       "model_id": "a059175938f3421eae36787eb9c1c529",
       "version_major": 2,
       "version_minor": 0
      },
      "text/plain": [
       "[pred_fn]:   0%|          | 0/4 [00:00<?, ?it/s]"
      ]
     },
     "metadata": {},
     "output_type": "display_data"
    },
    {
     "data": {
      "application/vnd.jupyter.widget-view+json": {
       "model_id": "310dd1d7887e4a40b46b4c6a065c3676",
       "version_major": 2,
       "version_minor": 0
      },
      "text/plain": [
       "[pred_fn]:   0%|          | 0/4 [00:00<?, ?it/s]"
      ]
     },
     "metadata": {},
     "output_type": "display_data"
    },
    {
     "data": {
      "application/vnd.jupyter.widget-view+json": {
       "model_id": "f8f74ded0a1e4cfaa28717b1f3cb0d18",
       "version_major": 2,
       "version_minor": 0
      },
      "text/plain": [
       "[pred_fn]:   0%|          | 0/4 [00:00<?, ?it/s]"
      ]
     },
     "metadata": {},
     "output_type": "display_data"
    },
    {
     "data": {
      "application/vnd.jupyter.widget-view+json": {
       "model_id": "3b467856e8d1483f96462afe184a0751",
       "version_major": 2,
       "version_minor": 0
      },
      "text/plain": [
       "[pred_fn]:   0%|          | 0/4 [00:00<?, ?it/s]"
      ]
     },
     "metadata": {},
     "output_type": "display_data"
    },
    {
     "data": {
      "application/vnd.jupyter.widget-view+json": {
       "model_id": "a5e18063a5cd437ea194d422bff49ffb",
       "version_major": 2,
       "version_minor": 0
      },
      "text/plain": [
       "[pred_fn]:   0%|          | 0/4 [00:00<?, ?it/s]"
      ]
     },
     "metadata": {},
     "output_type": "display_data"
    },
    {
     "data": {
      "application/vnd.jupyter.widget-view+json": {
       "model_id": "55d2e924efef475e8b03c3cee4fed4fb",
       "version_major": 2,
       "version_minor": 0
      },
      "text/plain": [
       "[pred_fn]:   0%|          | 0/4 [00:00<?, ?it/s]"
      ]
     },
     "metadata": {},
     "output_type": "display_data"
    },
    {
     "data": {
      "application/vnd.jupyter.widget-view+json": {
       "model_id": "377dbb7563f946bc80f5e48834dbc2f7",
       "version_major": 2,
       "version_minor": 0
      },
      "text/plain": [
       "[pred_fn]:   0%|          | 0/4 [00:00<?, ?it/s]"
      ]
     },
     "metadata": {},
     "output_type": "display_data"
    },
    {
     "data": {
      "application/vnd.jupyter.widget-view+json": {
       "model_id": "ed073e42e2774bd4a6c970c84f164e52",
       "version_major": 2,
       "version_minor": 0
      },
      "text/plain": [
       "[pred_fn]:   0%|          | 0/4 [00:00<?, ?it/s]"
      ]
     },
     "metadata": {},
     "output_type": "display_data"
    },
    {
     "data": {
      "application/vnd.jupyter.widget-view+json": {
       "model_id": "122ddd61c4824da9b1a6506531324b33",
       "version_major": 2,
       "version_minor": 0
      },
      "text/plain": [
       "[pred_fn]:   0%|          | 0/4 [00:00<?, ?it/s]"
      ]
     },
     "metadata": {},
     "output_type": "display_data"
    },
    {
     "data": {
      "application/vnd.jupyter.widget-view+json": {
       "model_id": "e2be415727334e558273310a69fd9b55",
       "version_major": 2,
       "version_minor": 0
      },
      "text/plain": [
       "[pred_fn]:   0%|          | 0/4 [00:00<?, ?it/s]"
      ]
     },
     "metadata": {},
     "output_type": "display_data"
    },
    {
     "data": {
      "application/vnd.jupyter.widget-view+json": {
       "model_id": "4a2d0141d274416a86ca8e7fcd1c20b7",
       "version_major": 2,
       "version_minor": 0
      },
      "text/plain": [
       "[pred_fn]:   0%|          | 0/4 [00:00<?, ?it/s]"
      ]
     },
     "metadata": {},
     "output_type": "display_data"
    },
    {
     "data": {
      "application/vnd.jupyter.widget-view+json": {
       "model_id": "a307948223c7479fbe8a9f98d490a6e3",
       "version_major": 2,
       "version_minor": 0
      },
      "text/plain": [
       "[pred_fn]:   0%|          | 0/4 [00:00<?, ?it/s]"
      ]
     },
     "metadata": {},
     "output_type": "display_data"
    },
    {
     "data": {
      "application/vnd.jupyter.widget-view+json": {
       "model_id": "61afd373baed4f87b95f9953e4fad5b0",
       "version_major": 2,
       "version_minor": 0
      },
      "text/plain": [
       "[pred_fn]:   0%|          | 0/4 [00:00<?, ?it/s]"
      ]
     },
     "metadata": {},
     "output_type": "display_data"
    },
    {
     "data": {
      "application/vnd.jupyter.widget-view+json": {
       "model_id": "92a3d97899534390a1e1df5f5c0f8fcd",
       "version_major": 2,
       "version_minor": 0
      },
      "text/plain": [
       "[pred_fn]:   0%|          | 0/4 [00:00<?, ?it/s]"
      ]
     },
     "metadata": {},
     "output_type": "display_data"
    },
    {
     "data": {
      "application/vnd.jupyter.widget-view+json": {
       "model_id": "3d490f0987cf43339bb11ae01b00675a",
       "version_major": 2,
       "version_minor": 0
      },
      "text/plain": [
       "[pred_fn]:   0%|          | 0/4 [00:00<?, ?it/s]"
      ]
     },
     "metadata": {},
     "output_type": "display_data"
    },
    {
     "data": {
      "application/vnd.jupyter.widget-view+json": {
       "model_id": "1c56c03a3a154146a5817d016631cd7c",
       "version_major": 2,
       "version_minor": 0
      },
      "text/plain": [
       "[pred_fn]:   0%|          | 0/4 [00:00<?, ?it/s]"
      ]
     },
     "metadata": {},
     "output_type": "display_data"
    },
    {
     "data": {
      "application/vnd.jupyter.widget-view+json": {
       "model_id": "b2f796eeb8754031ae23c3e0b8591369",
       "version_major": 2,
       "version_minor": 0
      },
      "text/plain": [
       "[pred_fn]:   0%|          | 0/4 [00:00<?, ?it/s]"
      ]
     },
     "metadata": {},
     "output_type": "display_data"
    },
    {
     "data": {
      "application/vnd.jupyter.widget-view+json": {
       "model_id": "9de2f37a785942d48ac16bf966487407",
       "version_major": 2,
       "version_minor": 0
      },
      "text/plain": [
       "[pred_fn]:   0%|          | 0/4 [00:00<?, ?it/s]"
      ]
     },
     "metadata": {},
     "output_type": "display_data"
    },
    {
     "data": {
      "application/vnd.jupyter.widget-view+json": {
       "model_id": "6a6d7d2d992740b8bd84813a603fb610",
       "version_major": 2,
       "version_minor": 0
      },
      "text/plain": [
       "[pred_fn]:   0%|          | 0/4 [00:00<?, ?it/s]"
      ]
     },
     "metadata": {},
     "output_type": "display_data"
    },
    {
     "data": {
      "application/vnd.jupyter.widget-view+json": {
       "model_id": "5ddf473af68844269a1972eff3e3b1be",
       "version_major": 2,
       "version_minor": 0
      },
      "text/plain": [
       "[pred_fn]:   0%|          | 0/4 [00:00<?, ?it/s]"
      ]
     },
     "metadata": {},
     "output_type": "display_data"
    },
    {
     "data": {
      "application/vnd.jupyter.widget-view+json": {
       "model_id": "a400a336f1594f26b3b53235a1557d47",
       "version_major": 2,
       "version_minor": 0
      },
      "text/plain": [
       "[pred_fn]:   0%|          | 0/4 [00:00<?, ?it/s]"
      ]
     },
     "metadata": {},
     "output_type": "display_data"
    },
    {
     "data": {
      "application/vnd.jupyter.widget-view+json": {
       "model_id": "968f38e3b1eb48acb3f5f0311ccb7fdb",
       "version_major": 2,
       "version_minor": 0
      },
      "text/plain": [
       "[pred_fn]:   0%|          | 0/4 [00:00<?, ?it/s]"
      ]
     },
     "metadata": {},
     "output_type": "display_data"
    },
    {
     "data": {
      "application/vnd.jupyter.widget-view+json": {
       "model_id": "2ceaefaaa79e41ffbd40a55e8c948e3a",
       "version_major": 2,
       "version_minor": 0
      },
      "text/plain": [
       "[pred_fn]:   0%|          | 0/4 [00:00<?, ?it/s]"
      ]
     },
     "metadata": {},
     "output_type": "display_data"
    },
    {
     "data": {
      "application/vnd.jupyter.widget-view+json": {
       "model_id": "deb24b7caeb04aee915788e3ad040588",
       "version_major": 2,
       "version_minor": 0
      },
      "text/plain": [
       "[pred_fn]:   0%|          | 0/4 [00:00<?, ?it/s]"
      ]
     },
     "metadata": {},
     "output_type": "display_data"
    },
    {
     "data": {
      "application/vnd.jupyter.widget-view+json": {
       "model_id": "a1069594bedb408881b187c49e2140d1",
       "version_major": 2,
       "version_minor": 0
      },
      "text/plain": [
       "[pred_fn]:   0%|          | 0/4 [00:00<?, ?it/s]"
      ]
     },
     "metadata": {},
     "output_type": "display_data"
    },
    {
     "data": {
      "application/vnd.jupyter.widget-view+json": {
       "model_id": "30b899f8553841f6bb382f82bee0eb56",
       "version_major": 2,
       "version_minor": 0
      },
      "text/plain": [
       "[pred_fn]:   0%|          | 0/4 [00:00<?, ?it/s]"
      ]
     },
     "metadata": {},
     "output_type": "display_data"
    },
    {
     "data": {
      "application/vnd.jupyter.widget-view+json": {
       "model_id": "171413a034c6452b952d827eef5f7ef7",
       "version_major": 2,
       "version_minor": 0
      },
      "text/plain": [
       "[pred_fn]:   0%|          | 0/2 [00:00<?, ?it/s]"
      ]
     },
     "metadata": {},
     "output_type": "display_data"
    },
    {
     "data": {
      "application/vnd.jupyter.widget-view+json": {
       "model_id": "fa9381e91ad04c5383dccbda746b37ec",
       "version_major": 2,
       "version_minor": 0
      },
      "text/plain": [
       "[pred_fn]:   0%|          | 0/2 [00:00<?, ?it/s]"
      ]
     },
     "metadata": {},
     "output_type": "display_data"
    },
    {
     "data": {
      "application/vnd.jupyter.widget-view+json": {
       "model_id": "8d31f35271674364b0eb11eec21a2cba",
       "version_major": 2,
       "version_minor": 0
      },
      "text/plain": [
       "[pred_fn]:   0%|          | 0/2 [00:00<?, ?it/s]"
      ]
     },
     "metadata": {},
     "output_type": "display_data"
    },
    {
     "data": {
      "application/vnd.jupyter.widget-view+json": {
       "model_id": "2cd6ba7bf4a940e5956dc0dca5ed2339",
       "version_major": 2,
       "version_minor": 0
      },
      "text/plain": [
       "[pred_fn]:   0%|          | 0/2 [00:00<?, ?it/s]"
      ]
     },
     "metadata": {},
     "output_type": "display_data"
    },
    {
     "data": {
      "application/vnd.jupyter.widget-view+json": {
       "model_id": "d8374f0184034c1f8d0a54b21c2b89f2",
       "version_major": 2,
       "version_minor": 0
      },
      "text/plain": [
       "[pred_fn]:   0%|          | 0/2 [00:00<?, ?it/s]"
      ]
     },
     "metadata": {},
     "output_type": "display_data"
    },
    {
     "data": {
      "application/vnd.jupyter.widget-view+json": {
       "model_id": "e0c74d53c23444ee85f7b1375279f7b1",
       "version_major": 2,
       "version_minor": 0
      },
      "text/plain": [
       "[pred_fn]:   0%|          | 0/2 [00:00<?, ?it/s]"
      ]
     },
     "metadata": {},
     "output_type": "display_data"
    },
    {
     "data": {
      "application/vnd.jupyter.widget-view+json": {
       "model_id": "d738e8a955ed4d2a86b65b97e9b51d30",
       "version_major": 2,
       "version_minor": 0
      },
      "text/plain": [
       "[pred_fn]:   0%|          | 0/2 [00:00<?, ?it/s]"
      ]
     },
     "metadata": {},
     "output_type": "display_data"
    },
    {
     "data": {
      "application/vnd.jupyter.widget-view+json": {
       "model_id": "4d889206f9654f7c8daa38dd09335df3",
       "version_major": 2,
       "version_minor": 0
      },
      "text/plain": [
       "[pred_fn]:   0%|          | 0/2 [00:00<?, ?it/s]"
      ]
     },
     "metadata": {},
     "output_type": "display_data"
    },
    {
     "data": {
      "application/vnd.jupyter.widget-view+json": {
       "model_id": "d3ca56956bd047f693e0bf52127fc31d",
       "version_major": 2,
       "version_minor": 0
      },
      "text/plain": [
       "[pred_fn]:   0%|          | 0/2 [00:00<?, ?it/s]"
      ]
     },
     "metadata": {},
     "output_type": "display_data"
    },
    {
     "data": {
      "application/vnd.jupyter.widget-view+json": {
       "model_id": "48391ba55a1644e1a5ff0002546598cf",
       "version_major": 2,
       "version_minor": 0
      },
      "text/plain": [
       "[pred_fn]:   0%|          | 0/2 [00:00<?, ?it/s]"
      ]
     },
     "metadata": {},
     "output_type": "display_data"
    },
    {
     "data": {
      "application/vnd.jupyter.widget-view+json": {
       "model_id": "f7266edc6ac942d4b960fd67d563f2f3",
       "version_major": 2,
       "version_minor": 0
      },
      "text/plain": [
       "[pred_fn]:   0%|          | 0/2 [00:00<?, ?it/s]"
      ]
     },
     "metadata": {},
     "output_type": "display_data"
    },
    {
     "data": {
      "application/vnd.jupyter.widget-view+json": {
       "model_id": "9441c14477b44854aa30670d38484106",
       "version_major": 2,
       "version_minor": 0
      },
      "text/plain": [
       "[pred_fn]:   0%|          | 0/2 [00:00<?, ?it/s]"
      ]
     },
     "metadata": {},
     "output_type": "display_data"
    },
    {
     "data": {
      "application/vnd.jupyter.widget-view+json": {
       "model_id": "7cc7257013ce4756adc8a92a8e325ae0",
       "version_major": 2,
       "version_minor": 0
      },
      "text/plain": [
       "[pred_fn]:   0%|          | 0/2 [00:00<?, ?it/s]"
      ]
     },
     "metadata": {},
     "output_type": "display_data"
    },
    {
     "data": {
      "application/vnd.jupyter.widget-view+json": {
       "model_id": "1d714234dd0c43258545904be1bc8399",
       "version_major": 2,
       "version_minor": 0
      },
      "text/plain": [
       "[pred_fn]:   0%|          | 0/2 [00:00<?, ?it/s]"
      ]
     },
     "metadata": {},
     "output_type": "display_data"
    },
    {
     "data": {
      "application/vnd.jupyter.widget-view+json": {
       "model_id": "45db194b20034d69bb2d1d67b3e01d1a",
       "version_major": 2,
       "version_minor": 0
      },
      "text/plain": [
       "[pred_fn]:   0%|          | 0/2 [00:00<?, ?it/s]"
      ]
     },
     "metadata": {},
     "output_type": "display_data"
    },
    {
     "data": {
      "application/vnd.jupyter.widget-view+json": {
       "model_id": "1f8c5af19e8d4cd187b3afdc28ff3c65",
       "version_major": 2,
       "version_minor": 0
      },
      "text/plain": [
       "[pred_fn]:   0%|          | 0/2 [00:00<?, ?it/s]"
      ]
     },
     "metadata": {},
     "output_type": "display_data"
    },
    {
     "data": {
      "application/vnd.jupyter.widget-view+json": {
       "model_id": "ffb35d892785466786776df08d23d55a",
       "version_major": 2,
       "version_minor": 0
      },
      "text/plain": [
       "[pred_fn]:   0%|          | 0/2 [00:00<?, ?it/s]"
      ]
     },
     "metadata": {},
     "output_type": "display_data"
    },
    {
     "data": {
      "application/vnd.jupyter.widget-view+json": {
       "model_id": "049497d2a56c480bbd0a0b7997025786",
       "version_major": 2,
       "version_minor": 0
      },
      "text/plain": [
       "[pred_fn]:   0%|          | 0/2 [00:00<?, ?it/s]"
      ]
     },
     "metadata": {},
     "output_type": "display_data"
    },
    {
     "data": {
      "application/vnd.jupyter.widget-view+json": {
       "model_id": "049772fbee5b4168ae69ef130d0d407c",
       "version_major": 2,
       "version_minor": 0
      },
      "text/plain": [
       "[pred_fn]:   0%|          | 0/2 [00:00<?, ?it/s]"
      ]
     },
     "metadata": {},
     "output_type": "display_data"
    },
    {
     "data": {
      "application/vnd.jupyter.widget-view+json": {
       "model_id": "5d5a99f861b446b59157a8186df1d44b",
       "version_major": 2,
       "version_minor": 0
      },
      "text/plain": [
       "[pred_fn]:   0%|          | 0/2 [00:00<?, ?it/s]"
      ]
     },
     "metadata": {},
     "output_type": "display_data"
    },
    {
     "data": {
      "application/vnd.jupyter.widget-view+json": {
       "model_id": "445a03a8c41949a589acc000dbe642d0",
       "version_major": 2,
       "version_minor": 0
      },
      "text/plain": [
       "[pred_fn]:   0%|          | 0/2 [00:00<?, ?it/s]"
      ]
     },
     "metadata": {},
     "output_type": "display_data"
    },
    {
     "data": {
      "application/vnd.jupyter.widget-view+json": {
       "model_id": "493de949df6743aaad11f6a806417199",
       "version_major": 2,
       "version_minor": 0
      },
      "text/plain": [
       "[pred_fn]:   0%|          | 0/2 [00:00<?, ?it/s]"
      ]
     },
     "metadata": {},
     "output_type": "display_data"
    },
    {
     "data": {
      "application/vnd.jupyter.widget-view+json": {
       "model_id": "52a36eab7c0f486a96d4f08563279542",
       "version_major": 2,
       "version_minor": 0
      },
      "text/plain": [
       "[pred_fn]:   0%|          | 0/2 [00:00<?, ?it/s]"
      ]
     },
     "metadata": {},
     "output_type": "display_data"
    },
    {
     "data": {
      "application/vnd.jupyter.widget-view+json": {
       "model_id": "afe536487722493eb0cd1e6084e64979",
       "version_major": 2,
       "version_minor": 0
      },
      "text/plain": [
       "[pred_fn]:   0%|          | 0/2 [00:00<?, ?it/s]"
      ]
     },
     "metadata": {},
     "output_type": "display_data"
    },
    {
     "data": {
      "application/vnd.jupyter.widget-view+json": {
       "model_id": "ea53cac968e245f2b0db0146fc90e531",
       "version_major": 2,
       "version_minor": 0
      },
      "text/plain": [
       "[pred_fn]:   0%|          | 0/2 [00:00<?, ?it/s]"
      ]
     },
     "metadata": {},
     "output_type": "display_data"
    },
    {
     "data": {
      "application/vnd.jupyter.widget-view+json": {
       "model_id": "074ae7eb96ea4da6804567ff651e7059",
       "version_major": 2,
       "version_minor": 0
      },
      "text/plain": [
       "[pred_fn]:   0%|          | 0/2 [00:00<?, ?it/s]"
      ]
     },
     "metadata": {},
     "output_type": "display_data"
    },
    {
     "data": {
      "application/vnd.jupyter.widget-view+json": {
       "model_id": "e971d4e3d3424c6f81f6898343037de5",
       "version_major": 2,
       "version_minor": 0
      },
      "text/plain": [
       "[pred_fn]:   0%|          | 0/2 [00:00<?, ?it/s]"
      ]
     },
     "metadata": {},
     "output_type": "display_data"
    },
    {
     "data": {
      "application/vnd.jupyter.widget-view+json": {
       "model_id": "06fb6d13ac73405e8b7e6fe0b48e8b2f",
       "version_major": 2,
       "version_minor": 0
      },
      "text/plain": [
       "[pred_fn]:   0%|          | 0/2 [00:00<?, ?it/s]"
      ]
     },
     "metadata": {},
     "output_type": "display_data"
    },
    {
     "data": {
      "application/vnd.jupyter.widget-view+json": {
       "model_id": "d57cef03ece54f7480867d0d707d00e6",
       "version_major": 2,
       "version_minor": 0
      },
      "text/plain": [
       "[pred_fn]:   0%|          | 0/2 [00:00<?, ?it/s]"
      ]
     },
     "metadata": {},
     "output_type": "display_data"
    },
    {
     "data": {
      "application/vnd.jupyter.widget-view+json": {
       "model_id": "06226896f0db4db9afc886e8d9eb1189",
       "version_major": 2,
       "version_minor": 0
      },
      "text/plain": [
       "[pred_fn]:   0%|          | 0/2 [00:00<?, ?it/s]"
      ]
     },
     "metadata": {},
     "output_type": "display_data"
    },
    {
     "data": {
      "application/vnd.jupyter.widget-view+json": {
       "model_id": "480a885a49a0472bb3323725caf0f9f6",
       "version_major": 2,
       "version_minor": 0
      },
      "text/plain": [
       "[pred_fn]:   0%|          | 0/2 [00:00<?, ?it/s]"
      ]
     },
     "metadata": {},
     "output_type": "display_data"
    },
    {
     "data": {
      "application/vnd.jupyter.widget-view+json": {
       "model_id": "3fcf36bc4d654ea280b608a77e8ac7e3",
       "version_major": 2,
       "version_minor": 0
      },
      "text/plain": [
       "[pred_fn]:   0%|          | 0/2 [00:00<?, ?it/s]"
      ]
     },
     "metadata": {},
     "output_type": "display_data"
    },
    {
     "data": {
      "application/vnd.jupyter.widget-view+json": {
       "model_id": "5ffb9d251c86448cbc264059187419c5",
       "version_major": 2,
       "version_minor": 0
      },
      "text/plain": [
       "[pred_fn]:   0%|          | 0/2 [00:00<?, ?it/s]"
      ]
     },
     "metadata": {},
     "output_type": "display_data"
    },
    {
     "data": {
      "application/vnd.jupyter.widget-view+json": {
       "model_id": "3805d490c8d943a7960f5e8008a69748",
       "version_major": 2,
       "version_minor": 0
      },
      "text/plain": [
       "[pred_fn]:   0%|          | 0/2 [00:00<?, ?it/s]"
      ]
     },
     "metadata": {},
     "output_type": "display_data"
    },
    {
     "data": {
      "application/vnd.jupyter.widget-view+json": {
       "model_id": "0c9b8de9df094795b50432b96501298f",
       "version_major": 2,
       "version_minor": 0
      },
      "text/plain": [
       "[pred_fn]:   0%|          | 0/2 [00:00<?, ?it/s]"
      ]
     },
     "metadata": {},
     "output_type": "display_data"
    },
    {
     "data": {
      "application/vnd.jupyter.widget-view+json": {
       "model_id": "7b31b83f2360433ca3899f790285e52a",
       "version_major": 2,
       "version_minor": 0
      },
      "text/plain": [
       "[pred_fn]:   0%|          | 0/2 [00:00<?, ?it/s]"
      ]
     },
     "metadata": {},
     "output_type": "display_data"
    },
    {
     "data": {
      "application/vnd.jupyter.widget-view+json": {
       "model_id": "ecd9a4663d6e4f93a9a33e9c3db19924",
       "version_major": 2,
       "version_minor": 0
      },
      "text/plain": [
       "[pred_fn]:   0%|          | 0/2 [00:00<?, ?it/s]"
      ]
     },
     "metadata": {},
     "output_type": "display_data"
    },
    {
     "data": {
      "application/vnd.jupyter.widget-view+json": {
       "model_id": "378eec0a816f422999bd8dd2bf80ce18",
       "version_major": 2,
       "version_minor": 0
      },
      "text/plain": [
       "[pred_fn]:   0%|          | 0/2 [00:00<?, ?it/s]"
      ]
     },
     "metadata": {},
     "output_type": "display_data"
    },
    {
     "data": {
      "application/vnd.jupyter.widget-view+json": {
       "model_id": "1bb2ae7f52f44f36ae3cb452fcfcc4f2",
       "version_major": 2,
       "version_minor": 0
      },
      "text/plain": [
       "[pred_fn]:   0%|          | 0/2 [00:00<?, ?it/s]"
      ]
     },
     "metadata": {},
     "output_type": "display_data"
    },
    {
     "data": {
      "application/vnd.jupyter.widget-view+json": {
       "model_id": "4b542cf4a45b40fea6337914cd98c019",
       "version_major": 2,
       "version_minor": 0
      },
      "text/plain": [
       "[pred_fn]:   0%|          | 0/2 [00:00<?, ?it/s]"
      ]
     },
     "metadata": {},
     "output_type": "display_data"
    },
    {
     "data": {
      "application/vnd.jupyter.widget-view+json": {
       "model_id": "a1809e9787df4ee781d64fb954e3f6d9",
       "version_major": 2,
       "version_minor": 0
      },
      "text/plain": [
       "[pred_fn]:   0%|          | 0/2 [00:00<?, ?it/s]"
      ]
     },
     "metadata": {},
     "output_type": "display_data"
    },
    {
     "data": {
      "application/vnd.jupyter.widget-view+json": {
       "model_id": "73d34f32dba64b88ba6b3d464fef4922",
       "version_major": 2,
       "version_minor": 0
      },
      "text/plain": [
       "[pred_fn]:   0%|          | 0/2 [00:00<?, ?it/s]"
      ]
     },
     "metadata": {},
     "output_type": "display_data"
    },
    {
     "data": {
      "application/vnd.jupyter.widget-view+json": {
       "model_id": "c87f1e1a442240b4ba5a1b86351b9bd3",
       "version_major": 2,
       "version_minor": 0
      },
      "text/plain": [
       "[pred_fn]:   0%|          | 0/2 [00:00<?, ?it/s]"
      ]
     },
     "metadata": {},
     "output_type": "display_data"
    },
    {
     "data": {
      "application/vnd.jupyter.widget-view+json": {
       "model_id": "d55e0707fe3941969914b08839ad68ac",
       "version_major": 2,
       "version_minor": 0
      },
      "text/plain": [
       "[pred_fn]:   0%|          | 0/2 [00:00<?, ?it/s]"
      ]
     },
     "metadata": {},
     "output_type": "display_data"
    },
    {
     "data": {
      "application/vnd.jupyter.widget-view+json": {
       "model_id": "14094fb2fc414094a46f9bb4d10b7ea2",
       "version_major": 2,
       "version_minor": 0
      },
      "text/plain": [
       "[pred_fn]:   0%|          | 0/2 [00:00<?, ?it/s]"
      ]
     },
     "metadata": {},
     "output_type": "display_data"
    },
    {
     "data": {
      "application/vnd.jupyter.widget-view+json": {
       "model_id": "6cdce1158e8a46109e4e0ad7cad9cd0b",
       "version_major": 2,
       "version_minor": 0
      },
      "text/plain": [
       "[pred_fn]:   0%|          | 0/2 [00:00<?, ?it/s]"
      ]
     },
     "metadata": {},
     "output_type": "display_data"
    },
    {
     "data": {
      "application/vnd.jupyter.widget-view+json": {
       "model_id": "facc9a0464e6436d928c302d547a0847",
       "version_major": 2,
       "version_minor": 0
      },
      "text/plain": [
       "[pred_fn]:   0%|          | 0/2 [00:00<?, ?it/s]"
      ]
     },
     "metadata": {},
     "output_type": "display_data"
    },
    {
     "data": {
      "application/vnd.jupyter.widget-view+json": {
       "model_id": "c4c8438f7de44cdd92866be3e3329020",
       "version_major": 2,
       "version_minor": 0
      },
      "text/plain": [
       "[pred_fn]:   0%|          | 0/2 [00:00<?, ?it/s]"
      ]
     },
     "metadata": {},
     "output_type": "display_data"
    },
    {
     "data": {
      "application/vnd.jupyter.widget-view+json": {
       "model_id": "fa10a7967af74dc2934ca1dd3e131618",
       "version_major": 2,
       "version_minor": 0
      },
      "text/plain": [
       "[pred_fn]:   0%|          | 0/2 [00:00<?, ?it/s]"
      ]
     },
     "metadata": {},
     "output_type": "display_data"
    },
    {
     "data": {
      "application/vnd.jupyter.widget-view+json": {
       "model_id": "a7b7a67b5ce44410a053649f9e5f297b",
       "version_major": 2,
       "version_minor": 0
      },
      "text/plain": [
       "[pred_fn]:   0%|          | 0/2 [00:00<?, ?it/s]"
      ]
     },
     "metadata": {},
     "output_type": "display_data"
    },
    {
     "data": {
      "application/vnd.jupyter.widget-view+json": {
       "model_id": "6f570da5412b48b7bd2aa3b6f69760d5",
       "version_major": 2,
       "version_minor": 0
      },
      "text/plain": [
       "[pred_fn]:   0%|          | 0/2 [00:00<?, ?it/s]"
      ]
     },
     "metadata": {},
     "output_type": "display_data"
    },
    {
     "data": {
      "application/vnd.jupyter.widget-view+json": {
       "model_id": "a4a63f2e68fa43b19b1e5076fd9c5941",
       "version_major": 2,
       "version_minor": 0
      },
      "text/plain": [
       "[pred_fn]:   0%|          | 0/2 [00:00<?, ?it/s]"
      ]
     },
     "metadata": {},
     "output_type": "display_data"
    },
    {
     "data": {
      "application/vnd.jupyter.widget-view+json": {
       "model_id": "d4c9721abe074180827b048e3ff7baef",
       "version_major": 2,
       "version_minor": 0
      },
      "text/plain": [
       "[pred_fn]:   0%|          | 0/2 [00:00<?, ?it/s]"
      ]
     },
     "metadata": {},
     "output_type": "display_data"
    },
    {
     "data": {
      "application/vnd.jupyter.widget-view+json": {
       "model_id": "a845ef32644a42c29cf631de22f9cd75",
       "version_major": 2,
       "version_minor": 0
      },
      "text/plain": [
       "[pred_fn]:   0%|          | 0/2 [00:00<?, ?it/s]"
      ]
     },
     "metadata": {},
     "output_type": "display_data"
    },
    {
     "data": {
      "application/vnd.jupyter.widget-view+json": {
       "model_id": "c0cfed428a9848bca06aeae7d38e4b5a",
       "version_major": 2,
       "version_minor": 0
      },
      "text/plain": [
       "[pred_fn]:   0%|          | 0/2 [00:00<?, ?it/s]"
      ]
     },
     "metadata": {},
     "output_type": "display_data"
    },
    {
     "data": {
      "application/vnd.jupyter.widget-view+json": {
       "model_id": "abd93e6064514c37a6eefa319a2f124d",
       "version_major": 2,
       "version_minor": 0
      },
      "text/plain": [
       "[pred_fn]:   0%|          | 0/2 [00:00<?, ?it/s]"
      ]
     },
     "metadata": {},
     "output_type": "display_data"
    },
    {
     "data": {
      "application/vnd.jupyter.widget-view+json": {
       "model_id": "a2f4675f9f5c45c8be7bdada4c4bde0a",
       "version_major": 2,
       "version_minor": 0
      },
      "text/plain": [
       "[pred_fn]:   0%|          | 0/2 [00:00<?, ?it/s]"
      ]
     },
     "metadata": {},
     "output_type": "display_data"
    },
    {
     "data": {
      "application/vnd.jupyter.widget-view+json": {
       "model_id": "dd5afe6cb30f42619905697c4e6633aa",
       "version_major": 2,
       "version_minor": 0
      },
      "text/plain": [
       "[pred_fn]:   0%|          | 0/2 [00:00<?, ?it/s]"
      ]
     },
     "metadata": {},
     "output_type": "display_data"
    },
    {
     "data": {
      "application/vnd.jupyter.widget-view+json": {
       "model_id": "68d1b411a8ac4519b407990e41edeb89",
       "version_major": 2,
       "version_minor": 0
      },
      "text/plain": [
       "[pred_fn]:   0%|          | 0/2 [00:00<?, ?it/s]"
      ]
     },
     "metadata": {},
     "output_type": "display_data"
    },
    {
     "data": {
      "application/vnd.jupyter.widget-view+json": {
       "model_id": "34d79dc367c844679720d934e701f7a3",
       "version_major": 2,
       "version_minor": 0
      },
      "text/plain": [
       "[pred_fn]:   0%|          | 0/2 [00:00<?, ?it/s]"
      ]
     },
     "metadata": {},
     "output_type": "display_data"
    },
    {
     "data": {
      "application/vnd.jupyter.widget-view+json": {
       "model_id": "02462c6e1129431d99d61e40bb821603",
       "version_major": 2,
       "version_minor": 0
      },
      "text/plain": [
       "[pred_fn]:   0%|          | 0/2 [00:00<?, ?it/s]"
      ]
     },
     "metadata": {},
     "output_type": "display_data"
    },
    {
     "data": {
      "application/vnd.jupyter.widget-view+json": {
       "model_id": "f8f471c80819430e80db1672d83e5821",
       "version_major": 2,
       "version_minor": 0
      },
      "text/plain": [
       "[pred_fn]:   0%|          | 0/2 [00:00<?, ?it/s]"
      ]
     },
     "metadata": {},
     "output_type": "display_data"
    },
    {
     "data": {
      "application/vnd.jupyter.widget-view+json": {
       "model_id": "1b08eaf87531457994f01f2405662d5f",
       "version_major": 2,
       "version_minor": 0
      },
      "text/plain": [
       "[pred_fn]:   0%|          | 0/2 [00:00<?, ?it/s]"
      ]
     },
     "metadata": {},
     "output_type": "display_data"
    },
    {
     "data": {
      "application/vnd.jupyter.widget-view+json": {
       "model_id": "78a90ed49f184c348a43776a1cd301a9",
       "version_major": 2,
       "version_minor": 0
      },
      "text/plain": [
       "[pred_fn]:   0%|          | 0/2 [00:00<?, ?it/s]"
      ]
     },
     "metadata": {},
     "output_type": "display_data"
    },
    {
     "data": {
      "application/vnd.jupyter.widget-view+json": {
       "model_id": "db41929c9c8042e591c14b6d24885b07",
       "version_major": 2,
       "version_minor": 0
      },
      "text/plain": [
       "[pred_fn]:   0%|          | 0/2 [00:00<?, ?it/s]"
      ]
     },
     "metadata": {},
     "output_type": "display_data"
    },
    {
     "data": {
      "application/vnd.jupyter.widget-view+json": {
       "model_id": "09e463067ec94e97951cf1283a29fd26",
       "version_major": 2,
       "version_minor": 0
      },
      "text/plain": [
       "[pred_fn]:   0%|          | 0/2 [00:00<?, ?it/s]"
      ]
     },
     "metadata": {},
     "output_type": "display_data"
    },
    {
     "data": {
      "application/vnd.jupyter.widget-view+json": {
       "model_id": "a1bb93073bf442c2bb8a9b99a2eadabb",
       "version_major": 2,
       "version_minor": 0
      },
      "text/plain": [
       "[pred_fn]:   0%|          | 0/2 [00:00<?, ?it/s]"
      ]
     },
     "metadata": {},
     "output_type": "display_data"
    },
    {
     "data": {
      "application/vnd.jupyter.widget-view+json": {
       "model_id": "e46898648d5443d893835b3af54251e2",
       "version_major": 2,
       "version_minor": 0
      },
      "text/plain": [
       "[pred_fn]:   0%|          | 0/2 [00:00<?, ?it/s]"
      ]
     },
     "metadata": {},
     "output_type": "display_data"
    },
    {
     "data": {
      "application/vnd.jupyter.widget-view+json": {
       "model_id": "d407eb6be2334bbc9619d2e0bb642723",
       "version_major": 2,
       "version_minor": 0
      },
      "text/plain": [
       "[pred_fn]:   0%|          | 0/2 [00:00<?, ?it/s]"
      ]
     },
     "metadata": {},
     "output_type": "display_data"
    },
    {
     "data": {
      "application/vnd.jupyter.widget-view+json": {
       "model_id": "46904a12e74243ed97710b56505bd479",
       "version_major": 2,
       "version_minor": 0
      },
      "text/plain": [
       "[pred_fn]:   0%|          | 0/2 [00:00<?, ?it/s]"
      ]
     },
     "metadata": {},
     "output_type": "display_data"
    },
    {
     "data": {
      "application/vnd.jupyter.widget-view+json": {
       "model_id": "be34570b6e0941efae67fa4ebe2d5cac",
       "version_major": 2,
       "version_minor": 0
      },
      "text/plain": [
       "[pred_fn]:   0%|          | 0/2 [00:00<?, ?it/s]"
      ]
     },
     "metadata": {},
     "output_type": "display_data"
    },
    {
     "data": {
      "application/vnd.jupyter.widget-view+json": {
       "model_id": "0d0a516bd00947b0b35fc98a73b80c75",
       "version_major": 2,
       "version_minor": 0
      },
      "text/plain": [
       "[pred_fn]:   0%|          | 0/2 [00:00<?, ?it/s]"
      ]
     },
     "metadata": {},
     "output_type": "display_data"
    },
    {
     "data": {
      "application/vnd.jupyter.widget-view+json": {
       "model_id": "cac4c75007414bdabea2197e4b39f066",
       "version_major": 2,
       "version_minor": 0
      },
      "text/plain": [
       "[pred_fn]:   0%|          | 0/2 [00:00<?, ?it/s]"
      ]
     },
     "metadata": {},
     "output_type": "display_data"
    },
    {
     "data": {
      "application/vnd.jupyter.widget-view+json": {
       "model_id": "ff047edfc3974244a4e4649912a62e61",
       "version_major": 2,
       "version_minor": 0
      },
      "text/plain": [
       "[pred_fn]:   0%|          | 0/2 [00:00<?, ?it/s]"
      ]
     },
     "metadata": {},
     "output_type": "display_data"
    },
    {
     "data": {
      "application/vnd.jupyter.widget-view+json": {
       "model_id": "f48d896303364716ab91bddae8bae328",
       "version_major": 2,
       "version_minor": 0
      },
      "text/plain": [
       "[pred_fn]:   0%|          | 0/2 [00:00<?, ?it/s]"
      ]
     },
     "metadata": {},
     "output_type": "display_data"
    },
    {
     "data": {
      "application/vnd.jupyter.widget-view+json": {
       "model_id": "47e3f06c21394e3ba41024b13ac88b8a",
       "version_major": 2,
       "version_minor": 0
      },
      "text/plain": [
       "[pred_fn]:   0%|          | 0/2 [00:00<?, ?it/s]"
      ]
     },
     "metadata": {},
     "output_type": "display_data"
    },
    {
     "data": {
      "application/vnd.jupyter.widget-view+json": {
       "model_id": "1f4aa729f7304f94a9955da7cc3fdc19",
       "version_major": 2,
       "version_minor": 0
      },
      "text/plain": [
       "[pred_fn]:   0%|          | 0/2 [00:00<?, ?it/s]"
      ]
     },
     "metadata": {},
     "output_type": "display_data"
    },
    {
     "data": {
      "application/vnd.jupyter.widget-view+json": {
       "model_id": "1bd4688a0958479b9d4b22f8322637ae",
       "version_major": 2,
       "version_minor": 0
      },
      "text/plain": [
       "[pred_fn]:   0%|          | 0/2 [00:00<?, ?it/s]"
      ]
     },
     "metadata": {},
     "output_type": "display_data"
    },
    {
     "data": {
      "application/vnd.jupyter.widget-view+json": {
       "model_id": "296f5a5511c54927ae755eeaa61f4070",
       "version_major": 2,
       "version_minor": 0
      },
      "text/plain": [
       "[pred_fn]:   0%|          | 0/2 [00:00<?, ?it/s]"
      ]
     },
     "metadata": {},
     "output_type": "display_data"
    },
    {
     "data": {
      "application/vnd.jupyter.widget-view+json": {
       "model_id": "1f292b601444486897640f21cdedd99e",
       "version_major": 2,
       "version_minor": 0
      },
      "text/plain": [
       "[pred_fn]:   0%|          | 0/2 [00:00<?, ?it/s]"
      ]
     },
     "metadata": {},
     "output_type": "display_data"
    },
    {
     "data": {
      "application/vnd.jupyter.widget-view+json": {
       "model_id": "6ee437f987b24e57a44968133d385757",
       "version_major": 2,
       "version_minor": 0
      },
      "text/plain": [
       "[pred_fn]:   0%|          | 0/2 [00:00<?, ?it/s]"
      ]
     },
     "metadata": {},
     "output_type": "display_data"
    },
    {
     "data": {
      "application/vnd.jupyter.widget-view+json": {
       "model_id": "96698dbaafa7465c847ac0bf91b856b0",
       "version_major": 2,
       "version_minor": 0
      },
      "text/plain": [
       "[pred_fn]:   0%|          | 0/2 [00:00<?, ?it/s]"
      ]
     },
     "metadata": {},
     "output_type": "display_data"
    },
    {
     "data": {
      "application/vnd.jupyter.widget-view+json": {
       "model_id": "bbabc9a25daf46f58ac58ccdf4d5902b",
       "version_major": 2,
       "version_minor": 0
      },
      "text/plain": [
       "[pred_fn]:   0%|          | 0/2 [00:00<?, ?it/s]"
      ]
     },
     "metadata": {},
     "output_type": "display_data"
    },
    {
     "data": {
      "application/vnd.jupyter.widget-view+json": {
       "model_id": "c490ad5e1def4887a762b11597dd9d53",
       "version_major": 2,
       "version_minor": 0
      },
      "text/plain": [
       "[pred_fn]:   0%|          | 0/2 [00:00<?, ?it/s]"
      ]
     },
     "metadata": {},
     "output_type": "display_data"
    },
    {
     "data": {
      "application/vnd.jupyter.widget-view+json": {
       "model_id": "d646376a25ff47ee80b10322c574dc48",
       "version_major": 2,
       "version_minor": 0
      },
      "text/plain": [
       "[pred_fn]:   0%|          | 0/2 [00:00<?, ?it/s]"
      ]
     },
     "metadata": {},
     "output_type": "display_data"
    },
    {
     "data": {
      "application/vnd.jupyter.widget-view+json": {
       "model_id": "f9db44a435e34d93960107a1c38e79b7",
       "version_major": 2,
       "version_minor": 0
      },
      "text/plain": [
       "[pred_fn]:   0%|          | 0/2 [00:00<?, ?it/s]"
      ]
     },
     "metadata": {},
     "output_type": "display_data"
    },
    {
     "data": {
      "application/vnd.jupyter.widget-view+json": {
       "model_id": "e31e39a40c9a4a54972c2ebc9145909d",
       "version_major": 2,
       "version_minor": 0
      },
      "text/plain": [
       "[pred_fn]:   0%|          | 0/2 [00:00<?, ?it/s]"
      ]
     },
     "metadata": {},
     "output_type": "display_data"
    },
    {
     "data": {
      "application/vnd.jupyter.widget-view+json": {
       "model_id": "df2021862cb14ea5a9f207fde3e673df",
       "version_major": 2,
       "version_minor": 0
      },
      "text/plain": [
       "[pred_fn]:   0%|          | 0/2 [00:00<?, ?it/s]"
      ]
     },
     "metadata": {},
     "output_type": "display_data"
    },
    {
     "data": {
      "application/vnd.jupyter.widget-view+json": {
       "model_id": "e57a752e162842369a7f27dfaeb2f279",
       "version_major": 2,
       "version_minor": 0
      },
      "text/plain": [
       "[pred_fn]:   0%|          | 0/2 [00:00<?, ?it/s]"
      ]
     },
     "metadata": {},
     "output_type": "display_data"
    },
    {
     "data": {
      "application/vnd.jupyter.widget-view+json": {
       "model_id": "01804a305e1b4a288c7356439dc4d4d9",
       "version_major": 2,
       "version_minor": 0
      },
      "text/plain": [
       "[pred_fn]:   0%|          | 0/2 [00:00<?, ?it/s]"
      ]
     },
     "metadata": {},
     "output_type": "display_data"
    },
    {
     "data": {
      "application/vnd.jupyter.widget-view+json": {
       "model_id": "c806c44c52f34470aea9a21877de634b",
       "version_major": 2,
       "version_minor": 0
      },
      "text/plain": [
       "[pred_fn]:   0%|          | 0/2 [00:00<?, ?it/s]"
      ]
     },
     "metadata": {},
     "output_type": "display_data"
    },
    {
     "data": {
      "application/vnd.jupyter.widget-view+json": {
       "model_id": "c8be71368cd04c67adadecfdca3f151f",
       "version_major": 2,
       "version_minor": 0
      },
      "text/plain": [
       "[pred_fn]:   0%|          | 0/2 [00:00<?, ?it/s]"
      ]
     },
     "metadata": {},
     "output_type": "display_data"
    },
    {
     "data": {
      "application/vnd.jupyter.widget-view+json": {
       "model_id": "019d085a2a184afb95b1297326f27b38",
       "version_major": 2,
       "version_minor": 0
      },
      "text/plain": [
       "[pred_fn]:   0%|          | 0/2 [00:00<?, ?it/s]"
      ]
     },
     "metadata": {},
     "output_type": "display_data"
    },
    {
     "data": {
      "application/vnd.jupyter.widget-view+json": {
       "model_id": "d6e9c28e53dc4e69a97310009473d139",
       "version_major": 2,
       "version_minor": 0
      },
      "text/plain": [
       "[pred_fn]:   0%|          | 0/2 [00:00<?, ?it/s]"
      ]
     },
     "metadata": {},
     "output_type": "display_data"
    },
    {
     "data": {
      "application/vnd.jupyter.widget-view+json": {
       "model_id": "252ea6633297419487f42768a0c4190b",
       "version_major": 2,
       "version_minor": 0
      },
      "text/plain": [
       "[pred_fn]:   0%|          | 0/2 [00:00<?, ?it/s]"
      ]
     },
     "metadata": {},
     "output_type": "display_data"
    },
    {
     "data": {
      "application/vnd.jupyter.widget-view+json": {
       "model_id": "9fe875f206a54753816ec080a5276b3e",
       "version_major": 2,
       "version_minor": 0
      },
      "text/plain": [
       "[pred_fn]:   0%|          | 0/2 [00:00<?, ?it/s]"
      ]
     },
     "metadata": {},
     "output_type": "display_data"
    },
    {
     "data": {
      "application/vnd.jupyter.widget-view+json": {
       "model_id": "bf0174aa8d3a411eaa0ebf9004dca260",
       "version_major": 2,
       "version_minor": 0
      },
      "text/plain": [
       "[pred_fn]:   0%|          | 0/2 [00:00<?, ?it/s]"
      ]
     },
     "metadata": {},
     "output_type": "display_data"
    },
    {
     "data": {
      "application/vnd.jupyter.widget-view+json": {
       "model_id": "50cd9f756beb48d698e6bc29646ea80e",
       "version_major": 2,
       "version_minor": 0
      },
      "text/plain": [
       "[pred_fn]:   0%|          | 0/2 [00:00<?, ?it/s]"
      ]
     },
     "metadata": {},
     "output_type": "display_data"
    },
    {
     "data": {
      "application/vnd.jupyter.widget-view+json": {
       "model_id": "853cbdfc9f8546e2925351bd85a0f00d",
       "version_major": 2,
       "version_minor": 0
      },
      "text/plain": [
       "[pred_fn]:   0%|          | 0/2 [00:00<?, ?it/s]"
      ]
     },
     "metadata": {},
     "output_type": "display_data"
    },
    {
     "data": {
      "application/vnd.jupyter.widget-view+json": {
       "model_id": "166756a74503427cab8b082057657720",
       "version_major": 2,
       "version_minor": 0
      },
      "text/plain": [
       "[pred_fn]:   0%|          | 0/2 [00:00<?, ?it/s]"
      ]
     },
     "metadata": {},
     "output_type": "display_data"
    },
    {
     "data": {
      "application/vnd.jupyter.widget-view+json": {
       "model_id": "efcc7d66ef4b4a6c9cab1fc0ec6ddf1d",
       "version_major": 2,
       "version_minor": 0
      },
      "text/plain": [
       "[pred_fn]:   0%|          | 0/2 [00:00<?, ?it/s]"
      ]
     },
     "metadata": {},
     "output_type": "display_data"
    },
    {
     "data": {
      "application/vnd.jupyter.widget-view+json": {
       "model_id": "a7775356c2d843e5ae5636fba65eccbb",
       "version_major": 2,
       "version_minor": 0
      },
      "text/plain": [
       "[pred_fn]:   0%|          | 0/2 [00:00<?, ?it/s]"
      ]
     },
     "metadata": {},
     "output_type": "display_data"
    },
    {
     "data": {
      "application/vnd.jupyter.widget-view+json": {
       "model_id": "b191c7bf585c4c8498036177cdd0746b",
       "version_major": 2,
       "version_minor": 0
      },
      "text/plain": [
       "[pred_fn]:   0%|          | 0/2 [00:00<?, ?it/s]"
      ]
     },
     "metadata": {},
     "output_type": "display_data"
    },
    {
     "data": {
      "application/vnd.jupyter.widget-view+json": {
       "model_id": "a893b1c7fa94441781ffdf04938779ab",
       "version_major": 2,
       "version_minor": 0
      },
      "text/plain": [
       "[pred_fn]:   0%|          | 0/2 [00:00<?, ?it/s]"
      ]
     },
     "metadata": {},
     "output_type": "display_data"
    },
    {
     "data": {
      "application/vnd.jupyter.widget-view+json": {
       "model_id": "8cb0a45d9b2d498bbeb8bb90d9ab172c",
       "version_major": 2,
       "version_minor": 0
      },
      "text/plain": [
       "[pred_fn]:   0%|          | 0/2 [00:00<?, ?it/s]"
      ]
     },
     "metadata": {},
     "output_type": "display_data"
    },
    {
     "data": {
      "application/vnd.jupyter.widget-view+json": {
       "model_id": "c8edabd6303d48b8bd82d818f91baab9",
       "version_major": 2,
       "version_minor": 0
      },
      "text/plain": [
       "[pred_fn]:   0%|          | 0/2 [00:00<?, ?it/s]"
      ]
     },
     "metadata": {},
     "output_type": "display_data"
    },
    {
     "data": {
      "application/vnd.jupyter.widget-view+json": {
       "model_id": "ec0b19c5d6cd49be9ea821de1a41aa72",
       "version_major": 2,
       "version_minor": 0
      },
      "text/plain": [
       "[pred_fn]:   0%|          | 0/2 [00:00<?, ?it/s]"
      ]
     },
     "metadata": {},
     "output_type": "display_data"
    },
    {
     "data": {
      "application/vnd.jupyter.widget-view+json": {
       "model_id": "2a599fbbb4014b188b6fbfdbeeb647ca",
       "version_major": 2,
       "version_minor": 0
      },
      "text/plain": [
       "[pred_fn]:   0%|          | 0/2 [00:00<?, ?it/s]"
      ]
     },
     "metadata": {},
     "output_type": "display_data"
    },
    {
     "data": {
      "application/vnd.jupyter.widget-view+json": {
       "model_id": "f1384556bb0b45c49a31149ae5134cab",
       "version_major": 2,
       "version_minor": 0
      },
      "text/plain": [
       "[pred_fn]:   0%|          | 0/2 [00:00<?, ?it/s]"
      ]
     },
     "metadata": {},
     "output_type": "display_data"
    },
    {
     "data": {
      "application/vnd.jupyter.widget-view+json": {
       "model_id": "e090d178a0364f68bbbb5554c34deadd",
       "version_major": 2,
       "version_minor": 0
      },
      "text/plain": [
       "[pred_fn]:   0%|          | 0/2 [00:00<?, ?it/s]"
      ]
     },
     "metadata": {},
     "output_type": "display_data"
    },
    {
     "data": {
      "application/vnd.jupyter.widget-view+json": {
       "model_id": "d224fb391eb54ad7968d4d19112bfaee",
       "version_major": 2,
       "version_minor": 0
      },
      "text/plain": [
       "[pred_fn]:   0%|          | 0/2 [00:00<?, ?it/s]"
      ]
     },
     "metadata": {},
     "output_type": "display_data"
    },
    {
     "data": {
      "application/vnd.jupyter.widget-view+json": {
       "model_id": "5e17a59bf88c492aac62be409d98287b",
       "version_major": 2,
       "version_minor": 0
      },
      "text/plain": [
       "[pred_fn]:   0%|          | 0/2 [00:00<?, ?it/s]"
      ]
     },
     "metadata": {},
     "output_type": "display_data"
    },
    {
     "data": {
      "application/vnd.jupyter.widget-view+json": {
       "model_id": "1d1be4bef6144770b6d1333a54470257",
       "version_major": 2,
       "version_minor": 0
      },
      "text/plain": [
       "[pred_fn]:   0%|          | 0/2 [00:00<?, ?it/s]"
      ]
     },
     "metadata": {},
     "output_type": "display_data"
    },
    {
     "data": {
      "application/vnd.jupyter.widget-view+json": {
       "model_id": "cddad73d2e5e4de6adfeddc14f8989c9",
       "version_major": 2,
       "version_minor": 0
      },
      "text/plain": [
       "[pred_fn]:   0%|          | 0/2 [00:00<?, ?it/s]"
      ]
     },
     "metadata": {},
     "output_type": "display_data"
    },
    {
     "data": {
      "application/vnd.jupyter.widget-view+json": {
       "model_id": "0a77139e48a140279e444c1d8aff7e33",
       "version_major": 2,
       "version_minor": 0
      },
      "text/plain": [
       "[pred_fn]:   0%|          | 0/2 [00:00<?, ?it/s]"
      ]
     },
     "metadata": {},
     "output_type": "display_data"
    },
    {
     "data": {
      "application/vnd.jupyter.widget-view+json": {
       "model_id": "3b8e7c260d504145a73218b7ac165157",
       "version_major": 2,
       "version_minor": 0
      },
      "text/plain": [
       "[pred_fn]:   0%|          | 0/2 [00:00<?, ?it/s]"
      ]
     },
     "metadata": {},
     "output_type": "display_data"
    },
    {
     "data": {
      "application/vnd.jupyter.widget-view+json": {
       "model_id": "82c41d37eca948918d5d67d01e58a014",
       "version_major": 2,
       "version_minor": 0
      },
      "text/plain": [
       "[pred_fn]:   0%|          | 0/2 [00:00<?, ?it/s]"
      ]
     },
     "metadata": {},
     "output_type": "display_data"
    },
    {
     "data": {
      "application/vnd.jupyter.widget-view+json": {
       "model_id": "04aa81e3e2234b3da54bfdad7fc7aeca",
       "version_major": 2,
       "version_minor": 0
      },
      "text/plain": [
       "[pred_fn]:   0%|          | 0/2 [00:00<?, ?it/s]"
      ]
     },
     "metadata": {},
     "output_type": "display_data"
    },
    {
     "data": {
      "application/vnd.jupyter.widget-view+json": {
       "model_id": "8a434b0d8efc444ead6a814d1f81ca6f",
       "version_major": 2,
       "version_minor": 0
      },
      "text/plain": [
       "[pred_fn]:   0%|          | 0/2 [00:00<?, ?it/s]"
      ]
     },
     "metadata": {},
     "output_type": "display_data"
    },
    {
     "data": {
      "application/vnd.jupyter.widget-view+json": {
       "model_id": "fd4dde274fdd4a1c8d1f8a7e21d1da88",
       "version_major": 2,
       "version_minor": 0
      },
      "text/plain": [
       "[pred_fn]:   0%|          | 0/2 [00:00<?, ?it/s]"
      ]
     },
     "metadata": {},
     "output_type": "display_data"
    },
    {
     "data": {
      "application/vnd.jupyter.widget-view+json": {
       "model_id": "6c13176ec79d4605901f99a9112f3dc7",
       "version_major": 2,
       "version_minor": 0
      },
      "text/plain": [
       "[pred_fn]:   0%|          | 0/2 [00:00<?, ?it/s]"
      ]
     },
     "metadata": {},
     "output_type": "display_data"
    },
    {
     "data": {
      "application/vnd.jupyter.widget-view+json": {
       "model_id": "2ec10d13bd0f447bb378f8d274a7d133",
       "version_major": 2,
       "version_minor": 0
      },
      "text/plain": [
       "[pred_fn]:   0%|          | 0/2 [00:00<?, ?it/s]"
      ]
     },
     "metadata": {},
     "output_type": "display_data"
    },
    {
     "data": {
      "application/vnd.jupyter.widget-view+json": {
       "model_id": "f874f6680d474a00938d5da483eacda2",
       "version_major": 2,
       "version_minor": 0
      },
      "text/plain": [
       "[pred_fn]:   0%|          | 0/2 [00:00<?, ?it/s]"
      ]
     },
     "metadata": {},
     "output_type": "display_data"
    },
    {
     "data": {
      "application/vnd.jupyter.widget-view+json": {
       "model_id": "53424a6aab4b44ada01313440bf9deb1",
       "version_major": 2,
       "version_minor": 0
      },
      "text/plain": [
       "[pred_fn]:   0%|          | 0/2 [00:00<?, ?it/s]"
      ]
     },
     "metadata": {},
     "output_type": "display_data"
    },
    {
     "data": {
      "application/vnd.jupyter.widget-view+json": {
       "model_id": "71d4d61679cf4c3c862de14b277b9311",
       "version_major": 2,
       "version_minor": 0
      },
      "text/plain": [
       "[pred_fn]:   0%|          | 0/2 [00:00<?, ?it/s]"
      ]
     },
     "metadata": {},
     "output_type": "display_data"
    },
    {
     "data": {
      "application/vnd.jupyter.widget-view+json": {
       "model_id": "ac99a5a6e0974707b96852c751fb2c54",
       "version_major": 2,
       "version_minor": 0
      },
      "text/plain": [
       "[pred_fn]:   0%|          | 0/2 [00:00<?, ?it/s]"
      ]
     },
     "metadata": {},
     "output_type": "display_data"
    },
    {
     "data": {
      "application/vnd.jupyter.widget-view+json": {
       "model_id": "23873643ac4b4b59af88015d5c58e8f6",
       "version_major": 2,
       "version_minor": 0
      },
      "text/plain": [
       "[pred_fn]:   0%|          | 0/2 [00:00<?, ?it/s]"
      ]
     },
     "metadata": {},
     "output_type": "display_data"
    },
    {
     "data": {
      "application/vnd.jupyter.widget-view+json": {
       "model_id": "5dda862dcbea4c7e9fb2d9de4142ee1a",
       "version_major": 2,
       "version_minor": 0
      },
      "text/plain": [
       "[pred_fn]:   0%|          | 0/2 [00:00<?, ?it/s]"
      ]
     },
     "metadata": {},
     "output_type": "display_data"
    },
    {
     "data": {
      "application/vnd.jupyter.widget-view+json": {
       "model_id": "976c0eb05bdc457792d7180cf281e212",
       "version_major": 2,
       "version_minor": 0
      },
      "text/plain": [
       "[pred_fn]:   0%|          | 0/2 [00:00<?, ?it/s]"
      ]
     },
     "metadata": {},
     "output_type": "display_data"
    },
    {
     "data": {
      "application/vnd.jupyter.widget-view+json": {
       "model_id": "feb517e711504ef3a6271ef6f1ba3f05",
       "version_major": 2,
       "version_minor": 0
      },
      "text/plain": [
       "[pred_fn]:   0%|          | 0/2 [00:00<?, ?it/s]"
      ]
     },
     "metadata": {},
     "output_type": "display_data"
    },
    {
     "data": {
      "application/vnd.jupyter.widget-view+json": {
       "model_id": "c7f666336a7f4fec93b1ce2bbee8010e",
       "version_major": 2,
       "version_minor": 0
      },
      "text/plain": [
       "[pred_fn]:   0%|          | 0/2 [00:00<?, ?it/s]"
      ]
     },
     "metadata": {},
     "output_type": "display_data"
    },
    {
     "data": {
      "application/vnd.jupyter.widget-view+json": {
       "model_id": "f9b90ce596094ed889764a2a517d80dd",
       "version_major": 2,
       "version_minor": 0
      },
      "text/plain": [
       "[pred_fn]:   0%|          | 0/2 [00:00<?, ?it/s]"
      ]
     },
     "metadata": {},
     "output_type": "display_data"
    },
    {
     "data": {
      "application/vnd.jupyter.widget-view+json": {
       "model_id": "7d8d0474a5224fc4b36b10a486e5f49a",
       "version_major": 2,
       "version_minor": 0
      },
      "text/plain": [
       "[pred_fn]:   0%|          | 0/2 [00:00<?, ?it/s]"
      ]
     },
     "metadata": {},
     "output_type": "display_data"
    },
    {
     "data": {
      "application/vnd.jupyter.widget-view+json": {
       "model_id": "496eb83d81084f3990d7534315a2d2ba",
       "version_major": 2,
       "version_minor": 0
      },
      "text/plain": [
       "[pred_fn]:   0%|          | 0/2 [00:00<?, ?it/s]"
      ]
     },
     "metadata": {},
     "output_type": "display_data"
    },
    {
     "data": {
      "application/vnd.jupyter.widget-view+json": {
       "model_id": "4f48176872384d63ad77796301f549e5",
       "version_major": 2,
       "version_minor": 0
      },
      "text/plain": [
       "[pred_fn]:   0%|          | 0/2 [00:00<?, ?it/s]"
      ]
     },
     "metadata": {},
     "output_type": "display_data"
    },
    {
     "data": {
      "application/vnd.jupyter.widget-view+json": {
       "model_id": "59720a91ef8b48fb85995c1a8212b332",
       "version_major": 2,
       "version_minor": 0
      },
      "text/plain": [
       "[pred_fn]:   0%|          | 0/2 [00:00<?, ?it/s]"
      ]
     },
     "metadata": {},
     "output_type": "display_data"
    },
    {
     "data": {
      "application/vnd.jupyter.widget-view+json": {
       "model_id": "d311503304b44f3cb91077da1297ba1b",
       "version_major": 2,
       "version_minor": 0
      },
      "text/plain": [
       "[pred_fn]:   0%|          | 0/2 [00:00<?, ?it/s]"
      ]
     },
     "metadata": {},
     "output_type": "display_data"
    },
    {
     "data": {
      "application/vnd.jupyter.widget-view+json": {
       "model_id": "735a4524e2714d1bae52a1e8c06dcb25",
       "version_major": 2,
       "version_minor": 0
      },
      "text/plain": [
       "[pred_fn]:   0%|          | 0/2 [00:00<?, ?it/s]"
      ]
     },
     "metadata": {},
     "output_type": "display_data"
    },
    {
     "data": {
      "application/vnd.jupyter.widget-view+json": {
       "model_id": "a5981b4faac646f2979034ca6173def7",
       "version_major": 2,
       "version_minor": 0
      },
      "text/plain": [
       "[pred_fn]:   0%|          | 0/2 [00:00<?, ?it/s]"
      ]
     },
     "metadata": {},
     "output_type": "display_data"
    },
    {
     "data": {
      "application/vnd.jupyter.widget-view+json": {
       "model_id": "95ed3b762a6442a8b1ab8b891f01415f",
       "version_major": 2,
       "version_minor": 0
      },
      "text/plain": [
       "[pred_fn]:   0%|          | 0/2 [00:00<?, ?it/s]"
      ]
     },
     "metadata": {},
     "output_type": "display_data"
    },
    {
     "data": {
      "application/vnd.jupyter.widget-view+json": {
       "model_id": "9db90ae7623141d586c2478f42f47730",
       "version_major": 2,
       "version_minor": 0
      },
      "text/plain": [
       "[pred_fn]:   0%|          | 0/2 [00:00<?, ?it/s]"
      ]
     },
     "metadata": {},
     "output_type": "display_data"
    },
    {
     "data": {
      "application/vnd.jupyter.widget-view+json": {
       "model_id": "511192ec690a4983b44521d8940ca15e",
       "version_major": 2,
       "version_minor": 0
      },
      "text/plain": [
       "[pred_fn]:   0%|          | 0/2 [00:00<?, ?it/s]"
      ]
     },
     "metadata": {},
     "output_type": "display_data"
    },
    {
     "data": {
      "application/vnd.jupyter.widget-view+json": {
       "model_id": "aef44f621d1d4c8ca976024b3e6acb84",
       "version_major": 2,
       "version_minor": 0
      },
      "text/plain": [
       "[pred_fn]:   0%|          | 0/2 [00:00<?, ?it/s]"
      ]
     },
     "metadata": {},
     "output_type": "display_data"
    },
    {
     "data": {
      "application/vnd.jupyter.widget-view+json": {
       "model_id": "6840832333414df68fabd332cfb1cd44",
       "version_major": 2,
       "version_minor": 0
      },
      "text/plain": [
       "[pred_fn]:   0%|          | 0/2 [00:00<?, ?it/s]"
      ]
     },
     "metadata": {},
     "output_type": "display_data"
    },
    {
     "data": {
      "application/vnd.jupyter.widget-view+json": {
       "model_id": "a57ceac3f50a4a0490902b56a7cbbde2",
       "version_major": 2,
       "version_minor": 0
      },
      "text/plain": [
       "[pred_fn]:   0%|          | 0/2 [00:00<?, ?it/s]"
      ]
     },
     "metadata": {},
     "output_type": "display_data"
    },
    {
     "data": {
      "application/vnd.jupyter.widget-view+json": {
       "model_id": "c7142d82b3004f0d808b372cb2ba4f72",
       "version_major": 2,
       "version_minor": 0
      },
      "text/plain": [
       "[pred_fn]:   0%|          | 0/2 [00:00<?, ?it/s]"
      ]
     },
     "metadata": {},
     "output_type": "display_data"
    },
    {
     "data": {
      "application/vnd.jupyter.widget-view+json": {
       "model_id": "1aef7da04cc447088f2c9e8d7fc119d4",
       "version_major": 2,
       "version_minor": 0
      },
      "text/plain": [
       "[pred_fn]:   0%|          | 0/2 [00:00<?, ?it/s]"
      ]
     },
     "metadata": {},
     "output_type": "display_data"
    },
    {
     "data": {
      "application/vnd.jupyter.widget-view+json": {
       "model_id": "8e9aa9d7524a423c9a8d165fa4a58480",
       "version_major": 2,
       "version_minor": 0
      },
      "text/plain": [
       "[pred_fn]:   0%|          | 0/2 [00:00<?, ?it/s]"
      ]
     },
     "metadata": {},
     "output_type": "display_data"
    },
    {
     "data": {
      "application/vnd.jupyter.widget-view+json": {
       "model_id": "d76ed5c5c47943498d4a60551ab68ef9",
       "version_major": 2,
       "version_minor": 0
      },
      "text/plain": [
       "[pred_fn]:   0%|          | 0/2 [00:00<?, ?it/s]"
      ]
     },
     "metadata": {},
     "output_type": "display_data"
    },
    {
     "data": {
      "application/vnd.jupyter.widget-view+json": {
       "model_id": "af087c3ea10f4a738d40c916285b8653",
       "version_major": 2,
       "version_minor": 0
      },
      "text/plain": [
       "[pred_fn]:   0%|          | 0/2 [00:00<?, ?it/s]"
      ]
     },
     "metadata": {},
     "output_type": "display_data"
    },
    {
     "data": {
      "application/vnd.jupyter.widget-view+json": {
       "model_id": "12219e85b9764a1ea488c56f5f9de891",
       "version_major": 2,
       "version_minor": 0
      },
      "text/plain": [
       "[pred_fn]:   0%|          | 0/2 [00:00<?, ?it/s]"
      ]
     },
     "metadata": {},
     "output_type": "display_data"
    },
    {
     "data": {
      "application/vnd.jupyter.widget-view+json": {
       "model_id": "082d89044d1e44349207b51e0965a3bb",
       "version_major": 2,
       "version_minor": 0
      },
      "text/plain": [
       "[pred_fn]:   0%|          | 0/2 [00:00<?, ?it/s]"
      ]
     },
     "metadata": {},
     "output_type": "display_data"
    },
    {
     "data": {
      "application/vnd.jupyter.widget-view+json": {
       "model_id": "460cca38f17b4e9ab7c18735e1ed4cd9",
       "version_major": 2,
       "version_minor": 0
      },
      "text/plain": [
       "[pred_fn]:   0%|          | 0/2 [00:00<?, ?it/s]"
      ]
     },
     "metadata": {},
     "output_type": "display_data"
    },
    {
     "data": {
      "application/vnd.jupyter.widget-view+json": {
       "model_id": "e4a518990d7342859254e468c947b5d8",
       "version_major": 2,
       "version_minor": 0
      },
      "text/plain": [
       "  0%|          | 0/500 [00:00<?, ?it/s]"
      ]
     },
     "metadata": {},
     "output_type": "display_data"
    },
    {
     "data": {
      "application/vnd.jupyter.widget-view+json": {
       "model_id": "bc42e556eda94d88b94691134bfb3b48",
       "version_major": 2,
       "version_minor": 0
      },
      "text/plain": [
       "  0%|          | 0/500 [00:00<?, ?it/s]"
      ]
     },
     "metadata": {},
     "output_type": "display_data"
    },
    {
     "data": {
      "application/vnd.jupyter.widget-view+json": {
       "model_id": "5da3af2c001f4f369769a818cea6fe38",
       "version_major": 2,
       "version_minor": 0
      },
      "text/plain": [
       "  0%|          | 0/500 [00:00<?, ?it/s]"
      ]
     },
     "metadata": {},
     "output_type": "display_data"
    },
    {
     "data": {
      "application/vnd.jupyter.widget-view+json": {
       "model_id": "c41c09eb067442c3894a7d0005f1ce83",
       "version_major": 2,
       "version_minor": 0
      },
      "text/plain": [
       "  0%|          | 0/500 [00:00<?, ?it/s]"
      ]
     },
     "metadata": {},
     "output_type": "display_data"
    },
    {
     "data": {
      "application/vnd.jupyter.widget-view+json": {
       "model_id": "9f46fc65f4ae49c09bd1c857d9e8ec17",
       "version_major": 2,
       "version_minor": 0
      },
      "text/plain": [
       "  0%|          | 0/500 [00:00<?, ?it/s]"
      ]
     },
     "metadata": {},
     "output_type": "display_data"
    },
    {
     "data": {
      "application/vnd.jupyter.widget-view+json": {
       "model_id": "309770bf28f24bf2baeb2e3132894202",
       "version_major": 2,
       "version_minor": 0
      },
      "text/plain": [
       "  0%|          | 0/500 [00:00<?, ?it/s]"
      ]
     },
     "metadata": {},
     "output_type": "display_data"
    },
    {
     "data": {
      "application/vnd.jupyter.widget-view+json": {
       "model_id": "488f00e93a924a36aa084e0cdb115c49",
       "version_major": 2,
       "version_minor": 0
      },
      "text/plain": [
       "  0%|          | 0/500 [00:00<?, ?it/s]"
      ]
     },
     "metadata": {},
     "output_type": "display_data"
    },
    {
     "data": {
      "application/vnd.jupyter.widget-view+json": {
       "model_id": "f079b4dd6d1949e1ab9b962b7b5dffe3",
       "version_major": 2,
       "version_minor": 0
      },
      "text/plain": [
       "  0%|          | 0/500 [00:00<?, ?it/s]"
      ]
     },
     "metadata": {},
     "output_type": "display_data"
    },
    {
     "data": {
      "application/vnd.jupyter.widget-view+json": {
       "model_id": "10921bc2d302495ca1655f96816e1717",
       "version_major": 2,
       "version_minor": 0
      },
      "text/plain": [
       "  0%|          | 0/500 [00:00<?, ?it/s]"
      ]
     },
     "metadata": {},
     "output_type": "display_data"
    },
    {
     "data": {
      "application/vnd.jupyter.widget-view+json": {
       "model_id": "29c07935fcb04d9cabe909914f301918",
       "version_major": 2,
       "version_minor": 0
      },
      "text/plain": [
       "  0%|          | 0/500 [00:00<?, ?it/s]"
      ]
     },
     "metadata": {},
     "output_type": "display_data"
    },
    {
     "data": {
      "application/vnd.jupyter.widget-view+json": {
       "model_id": "1e73abfc13df41a0a339173fa860386d",
       "version_major": 2,
       "version_minor": 0
      },
      "text/plain": [
       "  0%|          | 0/500 [00:00<?, ?it/s]"
      ]
     },
     "metadata": {},
     "output_type": "display_data"
    },
    {
     "data": {
      "application/vnd.jupyter.widget-view+json": {
       "model_id": "fa9a04f59fc24f4880c8a61e9894525a",
       "version_major": 2,
       "version_minor": 0
      },
      "text/plain": [
       "  0%|          | 0/500 [00:00<?, ?it/s]"
      ]
     },
     "metadata": {},
     "output_type": "display_data"
    },
    {
     "data": {
      "application/vnd.jupyter.widget-view+json": {
       "model_id": "e299455d38e040d58bfacf8d94d38388",
       "version_major": 2,
       "version_minor": 0
      },
      "text/plain": [
       "  0%|          | 0/500 [00:00<?, ?it/s]"
      ]
     },
     "metadata": {},
     "output_type": "display_data"
    },
    {
     "data": {
      "application/vnd.jupyter.widget-view+json": {
       "model_id": "238946e45f6747cd8f890742c255d56d",
       "version_major": 2,
       "version_minor": 0
      },
      "text/plain": [
       "  0%|          | 0/500 [00:00<?, ?it/s]"
      ]
     },
     "metadata": {},
     "output_type": "display_data"
    },
    {
     "data": {
      "application/vnd.jupyter.widget-view+json": {
       "model_id": "c04d0d7f5bdb4baab28affb6487f13a5",
       "version_major": 2,
       "version_minor": 0
      },
      "text/plain": [
       "  0%|          | 0/500 [00:00<?, ?it/s]"
      ]
     },
     "metadata": {},
     "output_type": "display_data"
    },
    {
     "data": {
      "application/vnd.jupyter.widget-view+json": {
       "model_id": "2349cf64cf2c4888bd67bab997896c0d",
       "version_major": 2,
       "version_minor": 0
      },
      "text/plain": [
       "  0%|          | 0/500 [00:00<?, ?it/s]"
      ]
     },
     "metadata": {},
     "output_type": "display_data"
    },
    {
     "data": {
      "application/vnd.jupyter.widget-view+json": {
       "model_id": "64f871415da84cdb9d38e2e243e2d1e9",
       "version_major": 2,
       "version_minor": 0
      },
      "text/plain": [
       "  0%|          | 0/500 [00:00<?, ?it/s]"
      ]
     },
     "metadata": {},
     "output_type": "display_data"
    },
    {
     "data": {
      "application/vnd.jupyter.widget-view+json": {
       "model_id": "5bb059585d5a4e9da682e263f898d9f0",
       "version_major": 2,
       "version_minor": 0
      },
      "text/plain": [
       "  0%|          | 0/500 [00:00<?, ?it/s]"
      ]
     },
     "metadata": {},
     "output_type": "display_data"
    },
    {
     "data": {
      "application/vnd.jupyter.widget-view+json": {
       "model_id": "74445abd4bd74868ac0125e21a89bd57",
       "version_major": 2,
       "version_minor": 0
      },
      "text/plain": [
       "  0%|          | 0/500 [00:00<?, ?it/s]"
      ]
     },
     "metadata": {},
     "output_type": "display_data"
    },
    {
     "data": {
      "application/vnd.jupyter.widget-view+json": {
       "model_id": "89e08d4b78f94262ab7622a9991f0073",
       "version_major": 2,
       "version_minor": 0
      },
      "text/plain": [
       "  0%|          | 0/500 [00:00<?, ?it/s]"
      ]
     },
     "metadata": {},
     "output_type": "display_data"
    },
    {
     "data": {
      "application/vnd.jupyter.widget-view+json": {
       "model_id": "4002362ff7974a9c9e768e9afc3283d7",
       "version_major": 2,
       "version_minor": 0
      },
      "text/plain": [
       "  0%|          | 0/500 [00:00<?, ?it/s]"
      ]
     },
     "metadata": {},
     "output_type": "display_data"
    },
    {
     "data": {
      "application/vnd.jupyter.widget-view+json": {
       "model_id": "1cf7d70e15c84e1aa896f7239f5bf7b9",
       "version_major": 2,
       "version_minor": 0
      },
      "text/plain": [
       "  0%|          | 0/500 [00:00<?, ?it/s]"
      ]
     },
     "metadata": {},
     "output_type": "display_data"
    },
    {
     "data": {
      "application/vnd.jupyter.widget-view+json": {
       "model_id": "181ecce437f843c6a438f7103d88262d",
       "version_major": 2,
       "version_minor": 0
      },
      "text/plain": [
       "  0%|          | 0/500 [00:00<?, ?it/s]"
      ]
     },
     "metadata": {},
     "output_type": "display_data"
    },
    {
     "data": {
      "application/vnd.jupyter.widget-view+json": {
       "model_id": "1ad25b30e7334aea98159fc6ca97e04d",
       "version_major": 2,
       "version_minor": 0
      },
      "text/plain": [
       "  0%|          | 0/500 [00:00<?, ?it/s]"
      ]
     },
     "metadata": {},
     "output_type": "display_data"
    },
    {
     "data": {
      "application/vnd.jupyter.widget-view+json": {
       "model_id": "3437eb278e7d46bc82446440c7aac516",
       "version_major": 2,
       "version_minor": 0
      },
      "text/plain": [
       "  0%|          | 0/500 [00:00<?, ?it/s]"
      ]
     },
     "metadata": {},
     "output_type": "display_data"
    },
    {
     "data": {
      "application/vnd.jupyter.widget-view+json": {
       "model_id": "dae0d59cbc1d4136b1312db282e27251",
       "version_major": 2,
       "version_minor": 0
      },
      "text/plain": [
       "  0%|          | 0/500 [00:00<?, ?it/s]"
      ]
     },
     "metadata": {},
     "output_type": "display_data"
    },
    {
     "data": {
      "application/vnd.jupyter.widget-view+json": {
       "model_id": "655ab28890064b2e8e732d354b82740d",
       "version_major": 2,
       "version_minor": 0
      },
      "text/plain": [
       "  0%|          | 0/500 [00:00<?, ?it/s]"
      ]
     },
     "metadata": {},
     "output_type": "display_data"
    },
    {
     "data": {
      "application/vnd.jupyter.widget-view+json": {
       "model_id": "c724de1035a14d9187a26d4a85b72394",
       "version_major": 2,
       "version_minor": 0
      },
      "text/plain": [
       "  0%|          | 0/500 [00:00<?, ?it/s]"
      ]
     },
     "metadata": {},
     "output_type": "display_data"
    },
    {
     "data": {
      "application/vnd.jupyter.widget-view+json": {
       "model_id": "432bc1dd25c84318878050d515a7eadf",
       "version_major": 2,
       "version_minor": 0
      },
      "text/plain": [
       "  0%|          | 0/500 [00:00<?, ?it/s]"
      ]
     },
     "metadata": {},
     "output_type": "display_data"
    },
    {
     "data": {
      "application/vnd.jupyter.widget-view+json": {
       "model_id": "48fd269b3d27483eab97d0f958788cb6",
       "version_major": 2,
       "version_minor": 0
      },
      "text/plain": [
       "  0%|          | 0/500 [00:00<?, ?it/s]"
      ]
     },
     "metadata": {},
     "output_type": "display_data"
    },
    {
     "data": {
      "application/vnd.jupyter.widget-view+json": {
       "model_id": "54a3476c794f410699589b3ddaad9377",
       "version_major": 2,
       "version_minor": 0
      },
      "text/plain": [
       "  0%|          | 0/500 [00:00<?, ?it/s]"
      ]
     },
     "metadata": {},
     "output_type": "display_data"
    },
    {
     "data": {
      "application/vnd.jupyter.widget-view+json": {
       "model_id": "0eb052d19dbf4bfbb978c4e1390c7e2c",
       "version_major": 2,
       "version_minor": 0
      },
      "text/plain": [
       "  0%|          | 0/500 [00:00<?, ?it/s]"
      ]
     },
     "metadata": {},
     "output_type": "display_data"
    },
    {
     "data": {
      "application/vnd.jupyter.widget-view+json": {
       "model_id": "f34232a1eb9d4edba29a8ef5005b810d",
       "version_major": 2,
       "version_minor": 0
      },
      "text/plain": [
       "  0%|          | 0/500 [00:00<?, ?it/s]"
      ]
     },
     "metadata": {},
     "output_type": "display_data"
    },
    {
     "data": {
      "application/vnd.jupyter.widget-view+json": {
       "model_id": "80e60f143d684264801b0cda2d3be9fd",
       "version_major": 2,
       "version_minor": 0
      },
      "text/plain": [
       "  0%|          | 0/500 [00:00<?, ?it/s]"
      ]
     },
     "metadata": {},
     "output_type": "display_data"
    },
    {
     "data": {
      "application/vnd.jupyter.widget-view+json": {
       "model_id": "f8aea93d5f69490a8d8a5a1e29d2a66e",
       "version_major": 2,
       "version_minor": 0
      },
      "text/plain": [
       "  0%|          | 0/500 [00:00<?, ?it/s]"
      ]
     },
     "metadata": {},
     "output_type": "display_data"
    },
    {
     "data": {
      "application/vnd.jupyter.widget-view+json": {
       "model_id": "9dde93e1901b40e5809f09af75016b92",
       "version_major": 2,
       "version_minor": 0
      },
      "text/plain": [
       "  0%|          | 0/500 [00:00<?, ?it/s]"
      ]
     },
     "metadata": {},
     "output_type": "display_data"
    },
    {
     "data": {
      "application/vnd.jupyter.widget-view+json": {
       "model_id": "122119992335460289fdecc4bf51be5a",
       "version_major": 2,
       "version_minor": 0
      },
      "text/plain": [
       "  0%|          | 0/500 [00:00<?, ?it/s]"
      ]
     },
     "metadata": {},
     "output_type": "display_data"
    },
    {
     "data": {
      "application/vnd.jupyter.widget-view+json": {
       "model_id": "8012896b1e7d4970814275e2d6349505",
       "version_major": 2,
       "version_minor": 0
      },
      "text/plain": [
       "  0%|          | 0/500 [00:00<?, ?it/s]"
      ]
     },
     "metadata": {},
     "output_type": "display_data"
    },
    {
     "data": {
      "application/vnd.jupyter.widget-view+json": {
       "model_id": "073a0f04fa0348c9862451f4399a997b",
       "version_major": 2,
       "version_minor": 0
      },
      "text/plain": [
       "  0%|          | 0/500 [00:00<?, ?it/s]"
      ]
     },
     "metadata": {},
     "output_type": "display_data"
    },
    {
     "data": {
      "application/vnd.jupyter.widget-view+json": {
       "model_id": "8ef69beb818c48eb933cec214802d65d",
       "version_major": 2,
       "version_minor": 0
      },
      "text/plain": [
       "  0%|          | 0/500 [00:00<?, ?it/s]"
      ]
     },
     "metadata": {},
     "output_type": "display_data"
    },
    {
     "data": {
      "application/vnd.jupyter.widget-view+json": {
       "model_id": "83a35b0ca64446d98aef30932d28a82b",
       "version_major": 2,
       "version_minor": 0
      },
      "text/plain": [
       "  0%|          | 0/500 [00:00<?, ?it/s]"
      ]
     },
     "metadata": {},
     "output_type": "display_data"
    },
    {
     "data": {
      "application/vnd.jupyter.widget-view+json": {
       "model_id": "9adedc56a0a74986a4fc7855aea70578",
       "version_major": 2,
       "version_minor": 0
      },
      "text/plain": [
       "  0%|          | 0/500 [00:00<?, ?it/s]"
      ]
     },
     "metadata": {},
     "output_type": "display_data"
    },
    {
     "data": {
      "application/vnd.jupyter.widget-view+json": {
       "model_id": "17282c89097d454e8121cf671d9b8caf",
       "version_major": 2,
       "version_minor": 0
      },
      "text/plain": [
       "  0%|          | 0/500 [00:00<?, ?it/s]"
      ]
     },
     "metadata": {},
     "output_type": "display_data"
    },
    {
     "data": {
      "application/vnd.jupyter.widget-view+json": {
       "model_id": "7ae1a8fd77554c10adeb511933803cf5",
       "version_major": 2,
       "version_minor": 0
      },
      "text/plain": [
       "  0%|          | 0/500 [00:00<?, ?it/s]"
      ]
     },
     "metadata": {},
     "output_type": "display_data"
    },
    {
     "data": {
      "application/vnd.jupyter.widget-view+json": {
       "model_id": "a970b2f9e25146d8a005ba8e358cefb4",
       "version_major": 2,
       "version_minor": 0
      },
      "text/plain": [
       "  0%|          | 0/500 [00:00<?, ?it/s]"
      ]
     },
     "metadata": {},
     "output_type": "display_data"
    },
    {
     "data": {
      "application/vnd.jupyter.widget-view+json": {
       "model_id": "dbadf965f4f04ccca9e43bd13dd828a7",
       "version_major": 2,
       "version_minor": 0
      },
      "text/plain": [
       "  0%|          | 0/500 [00:00<?, ?it/s]"
      ]
     },
     "metadata": {},
     "output_type": "display_data"
    },
    {
     "data": {
      "application/vnd.jupyter.widget-view+json": {
       "model_id": "40d2e49b8db149ccba842ab2db280fb9",
       "version_major": 2,
       "version_minor": 0
      },
      "text/plain": [
       "  0%|          | 0/500 [00:00<?, ?it/s]"
      ]
     },
     "metadata": {},
     "output_type": "display_data"
    },
    {
     "data": {
      "application/vnd.jupyter.widget-view+json": {
       "model_id": "053feced463e46d78c0263886bcead8b",
       "version_major": 2,
       "version_minor": 0
      },
      "text/plain": [
       "  0%|          | 0/500 [00:00<?, ?it/s]"
      ]
     },
     "metadata": {},
     "output_type": "display_data"
    },
    {
     "data": {
      "application/vnd.jupyter.widget-view+json": {
       "model_id": "481f3a52bd3a47d99c36ab7c9edcb26b",
       "version_major": 2,
       "version_minor": 0
      },
      "text/plain": [
       "  0%|          | 0/500 [00:00<?, ?it/s]"
      ]
     },
     "metadata": {},
     "output_type": "display_data"
    },
    {
     "data": {
      "application/vnd.jupyter.widget-view+json": {
       "model_id": "9f96a5610def47a9a0f3b407e0dd527c",
       "version_major": 2,
       "version_minor": 0
      },
      "text/plain": [
       "[pred_fn]:   0%|          | 0/4 [00:00<?, ?it/s]"
      ]
     },
     "metadata": {},
     "output_type": "display_data"
    },
    {
     "data": {
      "application/vnd.jupyter.widget-view+json": {
       "model_id": "f05079c7ec34456880e7d6833ed3003e",
       "version_major": 2,
       "version_minor": 0
      },
      "text/plain": [
       "[pred_fn]:   0%|          | 0/4 [00:00<?, ?it/s]"
      ]
     },
     "metadata": {},
     "output_type": "display_data"
    },
    {
     "data": {
      "application/vnd.jupyter.widget-view+json": {
       "model_id": "b43795eae10c4abcae166771a1195ffc",
       "version_major": 2,
       "version_minor": 0
      },
      "text/plain": [
       "[pred_fn]:   0%|          | 0/4 [00:00<?, ?it/s]"
      ]
     },
     "metadata": {},
     "output_type": "display_data"
    },
    {
     "data": {
      "application/vnd.jupyter.widget-view+json": {
       "model_id": "b52b3e08c82b476faad27ed6f3476c28",
       "version_major": 2,
       "version_minor": 0
      },
      "text/plain": [
       "[pred_fn]:   0%|          | 0/4 [00:00<?, ?it/s]"
      ]
     },
     "metadata": {},
     "output_type": "display_data"
    },
    {
     "data": {
      "application/vnd.jupyter.widget-view+json": {
       "model_id": "e93bc985345c41a682ff42ca879e9796",
       "version_major": 2,
       "version_minor": 0
      },
      "text/plain": [
       "[pred_fn]:   0%|          | 0/4 [00:00<?, ?it/s]"
      ]
     },
     "metadata": {},
     "output_type": "display_data"
    },
    {
     "data": {
      "application/vnd.jupyter.widget-view+json": {
       "model_id": "d679a5433b4f426194ea844ffb806260",
       "version_major": 2,
       "version_minor": 0
      },
      "text/plain": [
       "[pred_fn]:   0%|          | 0/4 [00:00<?, ?it/s]"
      ]
     },
     "metadata": {},
     "output_type": "display_data"
    },
    {
     "data": {
      "application/vnd.jupyter.widget-view+json": {
       "model_id": "247cf68f3c7f472781ba6d016f5e921c",
       "version_major": 2,
       "version_minor": 0
      },
      "text/plain": [
       "[pred_fn]:   0%|          | 0/4 [00:00<?, ?it/s]"
      ]
     },
     "metadata": {},
     "output_type": "display_data"
    },
    {
     "data": {
      "application/vnd.jupyter.widget-view+json": {
       "model_id": "d7705c9227c04626bd34be522f1ad44c",
       "version_major": 2,
       "version_minor": 0
      },
      "text/plain": [
       "[pred_fn]:   0%|          | 0/4 [00:00<?, ?it/s]"
      ]
     },
     "metadata": {},
     "output_type": "display_data"
    },
    {
     "data": {
      "application/vnd.jupyter.widget-view+json": {
       "model_id": "5eeec07788be40d78c5857c78d304870",
       "version_major": 2,
       "version_minor": 0
      },
      "text/plain": [
       "[pred_fn]:   0%|          | 0/4 [00:00<?, ?it/s]"
      ]
     },
     "metadata": {},
     "output_type": "display_data"
    },
    {
     "data": {
      "application/vnd.jupyter.widget-view+json": {
       "model_id": "69ea9554eb70450bb36c2e5aaa340e1e",
       "version_major": 2,
       "version_minor": 0
      },
      "text/plain": [
       "[pred_fn]:   0%|          | 0/4 [00:00<?, ?it/s]"
      ]
     },
     "metadata": {},
     "output_type": "display_data"
    },
    {
     "data": {
      "application/vnd.jupyter.widget-view+json": {
       "model_id": "1eccbe07dd15442288d2cac6552155a9",
       "version_major": 2,
       "version_minor": 0
      },
      "text/plain": [
       "[pred_fn]:   0%|          | 0/4 [00:00<?, ?it/s]"
      ]
     },
     "metadata": {},
     "output_type": "display_data"
    },
    {
     "data": {
      "application/vnd.jupyter.widget-view+json": {
       "model_id": "03d6aae2eb3f4176bb6a4597f5f69922",
       "version_major": 2,
       "version_minor": 0
      },
      "text/plain": [
       "[pred_fn]:   0%|          | 0/4 [00:00<?, ?it/s]"
      ]
     },
     "metadata": {},
     "output_type": "display_data"
    },
    {
     "data": {
      "application/vnd.jupyter.widget-view+json": {
       "model_id": "cb5d471de13e49b4b1929bdf8bacd500",
       "version_major": 2,
       "version_minor": 0
      },
      "text/plain": [
       "[pred_fn]:   0%|          | 0/4 [00:00<?, ?it/s]"
      ]
     },
     "metadata": {},
     "output_type": "display_data"
    },
    {
     "data": {
      "application/vnd.jupyter.widget-view+json": {
       "model_id": "d6e7b03ddcf64a3f8b56e6a0d691e932",
       "version_major": 2,
       "version_minor": 0
      },
      "text/plain": [
       "[pred_fn]:   0%|          | 0/4 [00:00<?, ?it/s]"
      ]
     },
     "metadata": {},
     "output_type": "display_data"
    },
    {
     "data": {
      "application/vnd.jupyter.widget-view+json": {
       "model_id": "cd137f8e0aae4c9dab0755a5ec817f3f",
       "version_major": 2,
       "version_minor": 0
      },
      "text/plain": [
       "[pred_fn]:   0%|          | 0/4 [00:00<?, ?it/s]"
      ]
     },
     "metadata": {},
     "output_type": "display_data"
    },
    {
     "data": {
      "application/vnd.jupyter.widget-view+json": {
       "model_id": "d66f10049f404ec4a71e439ebc31d33c",
       "version_major": 2,
       "version_minor": 0
      },
      "text/plain": [
       "[pred_fn]:   0%|          | 0/4 [00:00<?, ?it/s]"
      ]
     },
     "metadata": {},
     "output_type": "display_data"
    },
    {
     "data": {
      "application/vnd.jupyter.widget-view+json": {
       "model_id": "bc37de83058544c1811ec8fe0024d8b4",
       "version_major": 2,
       "version_minor": 0
      },
      "text/plain": [
       "[pred_fn]:   0%|          | 0/4 [00:00<?, ?it/s]"
      ]
     },
     "metadata": {},
     "output_type": "display_data"
    },
    {
     "data": {
      "application/vnd.jupyter.widget-view+json": {
       "model_id": "96383220c76b4dec84c92f1b0ba96de3",
       "version_major": 2,
       "version_minor": 0
      },
      "text/plain": [
       "[pred_fn]:   0%|          | 0/4 [00:00<?, ?it/s]"
      ]
     },
     "metadata": {},
     "output_type": "display_data"
    },
    {
     "data": {
      "application/vnd.jupyter.widget-view+json": {
       "model_id": "d4c912be417148b5991504e4316a3c30",
       "version_major": 2,
       "version_minor": 0
      },
      "text/plain": [
       "[pred_fn]:   0%|          | 0/4 [00:00<?, ?it/s]"
      ]
     },
     "metadata": {},
     "output_type": "display_data"
    },
    {
     "data": {
      "application/vnd.jupyter.widget-view+json": {
       "model_id": "5ab81a9b71ca457e931c0881c59dce14",
       "version_major": 2,
       "version_minor": 0
      },
      "text/plain": [
       "[pred_fn]:   0%|          | 0/4 [00:00<?, ?it/s]"
      ]
     },
     "metadata": {},
     "output_type": "display_data"
    },
    {
     "data": {
      "application/vnd.jupyter.widget-view+json": {
       "model_id": "f4e9a6c1c21a4abfa0997bad8feab19b",
       "version_major": 2,
       "version_minor": 0
      },
      "text/plain": [
       "[pred_fn]:   0%|          | 0/4 [00:00<?, ?it/s]"
      ]
     },
     "metadata": {},
     "output_type": "display_data"
    },
    {
     "data": {
      "application/vnd.jupyter.widget-view+json": {
       "model_id": "9b5b09fa1f8442fe8aa29a8886cdba6e",
       "version_major": 2,
       "version_minor": 0
      },
      "text/plain": [
       "[pred_fn]:   0%|          | 0/4 [00:00<?, ?it/s]"
      ]
     },
     "metadata": {},
     "output_type": "display_data"
    },
    {
     "data": {
      "application/vnd.jupyter.widget-view+json": {
       "model_id": "1383615b5ce7463fb87d5b8a84f700d5",
       "version_major": 2,
       "version_minor": 0
      },
      "text/plain": [
       "[pred_fn]:   0%|          | 0/4 [00:00<?, ?it/s]"
      ]
     },
     "metadata": {},
     "output_type": "display_data"
    },
    {
     "data": {
      "application/vnd.jupyter.widget-view+json": {
       "model_id": "a2513fc6fa5846b59300b1f025f94a2a",
       "version_major": 2,
       "version_minor": 0
      },
      "text/plain": [
       "[pred_fn]:   0%|          | 0/4 [00:00<?, ?it/s]"
      ]
     },
     "metadata": {},
     "output_type": "display_data"
    },
    {
     "data": {
      "application/vnd.jupyter.widget-view+json": {
       "model_id": "11d9803edc044ab69d98bee780d0a3ed",
       "version_major": 2,
       "version_minor": 0
      },
      "text/plain": [
       "[pred_fn]:   0%|          | 0/4 [00:00<?, ?it/s]"
      ]
     },
     "metadata": {},
     "output_type": "display_data"
    },
    {
     "data": {
      "application/vnd.jupyter.widget-view+json": {
       "model_id": "23775a31f6b440ba852f4ad359250c5a",
       "version_major": 2,
       "version_minor": 0
      },
      "text/plain": [
       "[pred_fn]:   0%|          | 0/4 [00:00<?, ?it/s]"
      ]
     },
     "metadata": {},
     "output_type": "display_data"
    },
    {
     "data": {
      "application/vnd.jupyter.widget-view+json": {
       "model_id": "80ce348ca93c49d189af887e7bdf0cf6",
       "version_major": 2,
       "version_minor": 0
      },
      "text/plain": [
       "[pred_fn]:   0%|          | 0/4 [00:00<?, ?it/s]"
      ]
     },
     "metadata": {},
     "output_type": "display_data"
    },
    {
     "data": {
      "application/vnd.jupyter.widget-view+json": {
       "model_id": "975fed617aca45a288271b3f8e83aaa8",
       "version_major": 2,
       "version_minor": 0
      },
      "text/plain": [
       "[pred_fn]:   0%|          | 0/4 [00:00<?, ?it/s]"
      ]
     },
     "metadata": {},
     "output_type": "display_data"
    },
    {
     "data": {
      "application/vnd.jupyter.widget-view+json": {
       "model_id": "53e14734d1454f41b99b0614fb9c2ccf",
       "version_major": 2,
       "version_minor": 0
      },
      "text/plain": [
       "[pred_fn]:   0%|          | 0/4 [00:00<?, ?it/s]"
      ]
     },
     "metadata": {},
     "output_type": "display_data"
    },
    {
     "data": {
      "application/vnd.jupyter.widget-view+json": {
       "model_id": "5f92917b65d04a6dab7bdaf8fe2e7aee",
       "version_major": 2,
       "version_minor": 0
      },
      "text/plain": [
       "[pred_fn]:   0%|          | 0/4 [00:00<?, ?it/s]"
      ]
     },
     "metadata": {},
     "output_type": "display_data"
    },
    {
     "data": {
      "application/vnd.jupyter.widget-view+json": {
       "model_id": "658bde9780304188a0757e06e7019bd6",
       "version_major": 2,
       "version_minor": 0
      },
      "text/plain": [
       "[pred_fn]:   0%|          | 0/4 [00:00<?, ?it/s]"
      ]
     },
     "metadata": {},
     "output_type": "display_data"
    },
    {
     "data": {
      "application/vnd.jupyter.widget-view+json": {
       "model_id": "e7e0077e3d6845c2902c050c475636fb",
       "version_major": 2,
       "version_minor": 0
      },
      "text/plain": [
       "[pred_fn]:   0%|          | 0/4 [00:00<?, ?it/s]"
      ]
     },
     "metadata": {},
     "output_type": "display_data"
    },
    {
     "data": {
      "application/vnd.jupyter.widget-view+json": {
       "model_id": "afd6883425124b25926cb2b49baed77a",
       "version_major": 2,
       "version_minor": 0
      },
      "text/plain": [
       "[pred_fn]:   0%|          | 0/4 [00:00<?, ?it/s]"
      ]
     },
     "metadata": {},
     "output_type": "display_data"
    },
    {
     "data": {
      "application/vnd.jupyter.widget-view+json": {
       "model_id": "b3725281a5454809a7fd3bf063409b13",
       "version_major": 2,
       "version_minor": 0
      },
      "text/plain": [
       "[pred_fn]:   0%|          | 0/4 [00:00<?, ?it/s]"
      ]
     },
     "metadata": {},
     "output_type": "display_data"
    },
    {
     "data": {
      "application/vnd.jupyter.widget-view+json": {
       "model_id": "836a53f65edd40b59c54ab159254ef06",
       "version_major": 2,
       "version_minor": 0
      },
      "text/plain": [
       "[pred_fn]:   0%|          | 0/4 [00:00<?, ?it/s]"
      ]
     },
     "metadata": {},
     "output_type": "display_data"
    },
    {
     "data": {
      "application/vnd.jupyter.widget-view+json": {
       "model_id": "27518444212647dd8a6cd373862b24aa",
       "version_major": 2,
       "version_minor": 0
      },
      "text/plain": [
       "[pred_fn]:   0%|          | 0/4 [00:00<?, ?it/s]"
      ]
     },
     "metadata": {},
     "output_type": "display_data"
    },
    {
     "data": {
      "application/vnd.jupyter.widget-view+json": {
       "model_id": "585eb3f8f1364958b16e24b1d7d78b4f",
       "version_major": 2,
       "version_minor": 0
      },
      "text/plain": [
       "[pred_fn]:   0%|          | 0/4 [00:00<?, ?it/s]"
      ]
     },
     "metadata": {},
     "output_type": "display_data"
    },
    {
     "data": {
      "application/vnd.jupyter.widget-view+json": {
       "model_id": "68fc44b6381e4fd7ad8bc72485b3e0a9",
       "version_major": 2,
       "version_minor": 0
      },
      "text/plain": [
       "[pred_fn]:   0%|          | 0/4 [00:00<?, ?it/s]"
      ]
     },
     "metadata": {},
     "output_type": "display_data"
    },
    {
     "data": {
      "application/vnd.jupyter.widget-view+json": {
       "model_id": "d63076211a3a4dafb4eaefd8d0697b2c",
       "version_major": 2,
       "version_minor": 0
      },
      "text/plain": [
       "[pred_fn]:   0%|          | 0/4 [00:00<?, ?it/s]"
      ]
     },
     "metadata": {},
     "output_type": "display_data"
    },
    {
     "data": {
      "application/vnd.jupyter.widget-view+json": {
       "model_id": "c68bfe408ba64937a119fc712af70385",
       "version_major": 2,
       "version_minor": 0
      },
      "text/plain": [
       "[pred_fn]:   0%|          | 0/4 [00:00<?, ?it/s]"
      ]
     },
     "metadata": {},
     "output_type": "display_data"
    },
    {
     "data": {
      "application/vnd.jupyter.widget-view+json": {
       "model_id": "e73f123230c443d096a4539cf8c354e0",
       "version_major": 2,
       "version_minor": 0
      },
      "text/plain": [
       "[pred_fn]:   0%|          | 0/4 [00:00<?, ?it/s]"
      ]
     },
     "metadata": {},
     "output_type": "display_data"
    },
    {
     "data": {
      "application/vnd.jupyter.widget-view+json": {
       "model_id": "de18f9b61958486088cbb81376999674",
       "version_major": 2,
       "version_minor": 0
      },
      "text/plain": [
       "[pred_fn]:   0%|          | 0/4 [00:00<?, ?it/s]"
      ]
     },
     "metadata": {},
     "output_type": "display_data"
    },
    {
     "data": {
      "application/vnd.jupyter.widget-view+json": {
       "model_id": "c87ac8c060da4bf4a2adc14bdaeb6988",
       "version_major": 2,
       "version_minor": 0
      },
      "text/plain": [
       "[pred_fn]:   0%|          | 0/4 [00:00<?, ?it/s]"
      ]
     },
     "metadata": {},
     "output_type": "display_data"
    },
    {
     "data": {
      "application/vnd.jupyter.widget-view+json": {
       "model_id": "b47589f732d8449583770fcecf740cd9",
       "version_major": 2,
       "version_minor": 0
      },
      "text/plain": [
       "[pred_fn]:   0%|          | 0/4 [00:00<?, ?it/s]"
      ]
     },
     "metadata": {},
     "output_type": "display_data"
    },
    {
     "data": {
      "application/vnd.jupyter.widget-view+json": {
       "model_id": "abc552f84ddd430e8bd9866c01e87d0a",
       "version_major": 2,
       "version_minor": 0
      },
      "text/plain": [
       "[pred_fn]:   0%|          | 0/4 [00:00<?, ?it/s]"
      ]
     },
     "metadata": {},
     "output_type": "display_data"
    },
    {
     "data": {
      "application/vnd.jupyter.widget-view+json": {
       "model_id": "d121c0d50d944fbc9b63734c179d5a14",
       "version_major": 2,
       "version_minor": 0
      },
      "text/plain": [
       "[pred_fn]:   0%|          | 0/4 [00:00<?, ?it/s]"
      ]
     },
     "metadata": {},
     "output_type": "display_data"
    },
    {
     "data": {
      "application/vnd.jupyter.widget-view+json": {
       "model_id": "692969239c3a459b80803127451f732d",
       "version_major": 2,
       "version_minor": 0
      },
      "text/plain": [
       "[pred_fn]:   0%|          | 0/4 [00:00<?, ?it/s]"
      ]
     },
     "metadata": {},
     "output_type": "display_data"
    },
    {
     "data": {
      "application/vnd.jupyter.widget-view+json": {
       "model_id": "a614d5d84a0b4941907a250bd959b7f9",
       "version_major": 2,
       "version_minor": 0
      },
      "text/plain": [
       "[pred_fn]:   0%|          | 0/4 [00:00<?, ?it/s]"
      ]
     },
     "metadata": {},
     "output_type": "display_data"
    },
    {
     "data": {
      "application/vnd.jupyter.widget-view+json": {
       "model_id": "90fcfb89a84242f0a4f371802c301532",
       "version_major": 2,
       "version_minor": 0
      },
      "text/plain": [
       "[pred_fn]:   0%|          | 0/4 [00:00<?, ?it/s]"
      ]
     },
     "metadata": {},
     "output_type": "display_data"
    },
    {
     "data": {
      "application/vnd.jupyter.widget-view+json": {
       "model_id": "344b1d8ceca54b838aa3b25cccb2dba3",
       "version_major": 2,
       "version_minor": 0
      },
      "text/plain": [
       "[pred_fn]:   0%|          | 0/4 [00:00<?, ?it/s]"
      ]
     },
     "metadata": {},
     "output_type": "display_data"
    },
    {
     "data": {
      "application/vnd.jupyter.widget-view+json": {
       "model_id": "52ad56ec70dd42d990c80464c37d39a1",
       "version_major": 2,
       "version_minor": 0
      },
      "text/plain": [
       "[pred_fn]:   0%|          | 0/4 [00:00<?, ?it/s]"
      ]
     },
     "metadata": {},
     "output_type": "display_data"
    },
    {
     "data": {
      "application/vnd.jupyter.widget-view+json": {
       "model_id": "7b7d08e73fb94d14b8a48ea8ff83c340",
       "version_major": 2,
       "version_minor": 0
      },
      "text/plain": [
       "[pred_fn]:   0%|          | 0/2 [00:00<?, ?it/s]"
      ]
     },
     "metadata": {},
     "output_type": "display_data"
    },
    {
     "data": {
      "application/vnd.jupyter.widget-view+json": {
       "model_id": "5e2ab1694728443d8f416b2081753b8c",
       "version_major": 2,
       "version_minor": 0
      },
      "text/plain": [
       "[pred_fn]:   0%|          | 0/2 [00:00<?, ?it/s]"
      ]
     },
     "metadata": {},
     "output_type": "display_data"
    },
    {
     "data": {
      "application/vnd.jupyter.widget-view+json": {
       "model_id": "699ae88ff08b4f7380c67da38d37c788",
       "version_major": 2,
       "version_minor": 0
      },
      "text/plain": [
       "[pred_fn]:   0%|          | 0/2 [00:00<?, ?it/s]"
      ]
     },
     "metadata": {},
     "output_type": "display_data"
    },
    {
     "data": {
      "application/vnd.jupyter.widget-view+json": {
       "model_id": "46c0f2caad74493c97ea7cbadbcb4b93",
       "version_major": 2,
       "version_minor": 0
      },
      "text/plain": [
       "[pred_fn]:   0%|          | 0/2 [00:00<?, ?it/s]"
      ]
     },
     "metadata": {},
     "output_type": "display_data"
    },
    {
     "data": {
      "application/vnd.jupyter.widget-view+json": {
       "model_id": "e0f3c43b53b1454fb66b083db53de7db",
       "version_major": 2,
       "version_minor": 0
      },
      "text/plain": [
       "[pred_fn]:   0%|          | 0/2 [00:00<?, ?it/s]"
      ]
     },
     "metadata": {},
     "output_type": "display_data"
    },
    {
     "data": {
      "application/vnd.jupyter.widget-view+json": {
       "model_id": "83767ad1b43a4b1790c27124e7583630",
       "version_major": 2,
       "version_minor": 0
      },
      "text/plain": [
       "[pred_fn]:   0%|          | 0/2 [00:00<?, ?it/s]"
      ]
     },
     "metadata": {},
     "output_type": "display_data"
    },
    {
     "data": {
      "application/vnd.jupyter.widget-view+json": {
       "model_id": "832520262c7d4ad795024bb73f95b82a",
       "version_major": 2,
       "version_minor": 0
      },
      "text/plain": [
       "[pred_fn]:   0%|          | 0/2 [00:00<?, ?it/s]"
      ]
     },
     "metadata": {},
     "output_type": "display_data"
    },
    {
     "data": {
      "application/vnd.jupyter.widget-view+json": {
       "model_id": "28e44dc35572461baf14484c9baedf04",
       "version_major": 2,
       "version_minor": 0
      },
      "text/plain": [
       "[pred_fn]:   0%|          | 0/2 [00:00<?, ?it/s]"
      ]
     },
     "metadata": {},
     "output_type": "display_data"
    },
    {
     "data": {
      "application/vnd.jupyter.widget-view+json": {
       "model_id": "d0177e0369e54da1940e8f3faa7e61c1",
       "version_major": 2,
       "version_minor": 0
      },
      "text/plain": [
       "[pred_fn]:   0%|          | 0/2 [00:00<?, ?it/s]"
      ]
     },
     "metadata": {},
     "output_type": "display_data"
    },
    {
     "data": {
      "application/vnd.jupyter.widget-view+json": {
       "model_id": "d0ef32b879974934b6d277bca036f4ff",
       "version_major": 2,
       "version_minor": 0
      },
      "text/plain": [
       "[pred_fn]:   0%|          | 0/2 [00:00<?, ?it/s]"
      ]
     },
     "metadata": {},
     "output_type": "display_data"
    },
    {
     "data": {
      "application/vnd.jupyter.widget-view+json": {
       "model_id": "9f48b93fe117422c9ae46077d04ac01e",
       "version_major": 2,
       "version_minor": 0
      },
      "text/plain": [
       "[pred_fn]:   0%|          | 0/2 [00:00<?, ?it/s]"
      ]
     },
     "metadata": {},
     "output_type": "display_data"
    },
    {
     "data": {
      "application/vnd.jupyter.widget-view+json": {
       "model_id": "63f2b523cf6347178ed7c97668e13646",
       "version_major": 2,
       "version_minor": 0
      },
      "text/plain": [
       "[pred_fn]:   0%|          | 0/2 [00:00<?, ?it/s]"
      ]
     },
     "metadata": {},
     "output_type": "display_data"
    },
    {
     "data": {
      "application/vnd.jupyter.widget-view+json": {
       "model_id": "b26514d72f2c444e96584dfbc594d163",
       "version_major": 2,
       "version_minor": 0
      },
      "text/plain": [
       "[pred_fn]:   0%|          | 0/2 [00:00<?, ?it/s]"
      ]
     },
     "metadata": {},
     "output_type": "display_data"
    },
    {
     "data": {
      "application/vnd.jupyter.widget-view+json": {
       "model_id": "fdc7b976b1a7494f90222d70befeaa95",
       "version_major": 2,
       "version_minor": 0
      },
      "text/plain": [
       "[pred_fn]:   0%|          | 0/2 [00:00<?, ?it/s]"
      ]
     },
     "metadata": {},
     "output_type": "display_data"
    },
    {
     "data": {
      "application/vnd.jupyter.widget-view+json": {
       "model_id": "65ea352578ae4843b0d745b2b41b81c2",
       "version_major": 2,
       "version_minor": 0
      },
      "text/plain": [
       "[pred_fn]:   0%|          | 0/2 [00:00<?, ?it/s]"
      ]
     },
     "metadata": {},
     "output_type": "display_data"
    },
    {
     "data": {
      "application/vnd.jupyter.widget-view+json": {
       "model_id": "9b429851c4f343319c0aee5496644baf",
       "version_major": 2,
       "version_minor": 0
      },
      "text/plain": [
       "[pred_fn]:   0%|          | 0/2 [00:00<?, ?it/s]"
      ]
     },
     "metadata": {},
     "output_type": "display_data"
    },
    {
     "data": {
      "application/vnd.jupyter.widget-view+json": {
       "model_id": "6c255f0f492245afabce48e487bc612c",
       "version_major": 2,
       "version_minor": 0
      },
      "text/plain": [
       "[pred_fn]:   0%|          | 0/2 [00:00<?, ?it/s]"
      ]
     },
     "metadata": {},
     "output_type": "display_data"
    },
    {
     "data": {
      "application/vnd.jupyter.widget-view+json": {
       "model_id": "c3391978d0ab41eea8029605a6204063",
       "version_major": 2,
       "version_minor": 0
      },
      "text/plain": [
       "[pred_fn]:   0%|          | 0/2 [00:00<?, ?it/s]"
      ]
     },
     "metadata": {},
     "output_type": "display_data"
    },
    {
     "data": {
      "application/vnd.jupyter.widget-view+json": {
       "model_id": "a7162df2ad9846e1b8097d0677729b9b",
       "version_major": 2,
       "version_minor": 0
      },
      "text/plain": [
       "[pred_fn]:   0%|          | 0/2 [00:00<?, ?it/s]"
      ]
     },
     "metadata": {},
     "output_type": "display_data"
    },
    {
     "data": {
      "application/vnd.jupyter.widget-view+json": {
       "model_id": "482791c1840a4c07b944d58a74306158",
       "version_major": 2,
       "version_minor": 0
      },
      "text/plain": [
       "[pred_fn]:   0%|          | 0/2 [00:00<?, ?it/s]"
      ]
     },
     "metadata": {},
     "output_type": "display_data"
    },
    {
     "data": {
      "application/vnd.jupyter.widget-view+json": {
       "model_id": "2fa2b7706e794293a385a35bdc0d2252",
       "version_major": 2,
       "version_minor": 0
      },
      "text/plain": [
       "[pred_fn]:   0%|          | 0/2 [00:00<?, ?it/s]"
      ]
     },
     "metadata": {},
     "output_type": "display_data"
    },
    {
     "data": {
      "application/vnd.jupyter.widget-view+json": {
       "model_id": "ba0cbeab116942f397cd36cafe8e8852",
       "version_major": 2,
       "version_minor": 0
      },
      "text/plain": [
       "[pred_fn]:   0%|          | 0/2 [00:00<?, ?it/s]"
      ]
     },
     "metadata": {},
     "output_type": "display_data"
    },
    {
     "data": {
      "application/vnd.jupyter.widget-view+json": {
       "model_id": "dc18daa37d7c43ed93ffc82a06882835",
       "version_major": 2,
       "version_minor": 0
      },
      "text/plain": [
       "[pred_fn]:   0%|          | 0/2 [00:00<?, ?it/s]"
      ]
     },
     "metadata": {},
     "output_type": "display_data"
    },
    {
     "data": {
      "application/vnd.jupyter.widget-view+json": {
       "model_id": "64148037fe9640098d62410b7b9c5645",
       "version_major": 2,
       "version_minor": 0
      },
      "text/plain": [
       "[pred_fn]:   0%|          | 0/2 [00:00<?, ?it/s]"
      ]
     },
     "metadata": {},
     "output_type": "display_data"
    },
    {
     "data": {
      "application/vnd.jupyter.widget-view+json": {
       "model_id": "7fa6bd8bf2574080b70eccf69d744e8a",
       "version_major": 2,
       "version_minor": 0
      },
      "text/plain": [
       "[pred_fn]:   0%|          | 0/2 [00:00<?, ?it/s]"
      ]
     },
     "metadata": {},
     "output_type": "display_data"
    },
    {
     "data": {
      "application/vnd.jupyter.widget-view+json": {
       "model_id": "cf949981c1234e8fafc4e9865d24e96c",
       "version_major": 2,
       "version_minor": 0
      },
      "text/plain": [
       "[pred_fn]:   0%|          | 0/2 [00:00<?, ?it/s]"
      ]
     },
     "metadata": {},
     "output_type": "display_data"
    },
    {
     "data": {
      "application/vnd.jupyter.widget-view+json": {
       "model_id": "99946aebae7e4966b00784d44d847222",
       "version_major": 2,
       "version_minor": 0
      },
      "text/plain": [
       "[pred_fn]:   0%|          | 0/2 [00:00<?, ?it/s]"
      ]
     },
     "metadata": {},
     "output_type": "display_data"
    },
    {
     "data": {
      "application/vnd.jupyter.widget-view+json": {
       "model_id": "fbdda2afd12a4ff6aa791c19c4210994",
       "version_major": 2,
       "version_minor": 0
      },
      "text/plain": [
       "[pred_fn]:   0%|          | 0/2 [00:00<?, ?it/s]"
      ]
     },
     "metadata": {},
     "output_type": "display_data"
    },
    {
     "data": {
      "application/vnd.jupyter.widget-view+json": {
       "model_id": "9560ec2f35b8493f946edfba1c722d11",
       "version_major": 2,
       "version_minor": 0
      },
      "text/plain": [
       "[pred_fn]:   0%|          | 0/2 [00:00<?, ?it/s]"
      ]
     },
     "metadata": {},
     "output_type": "display_data"
    },
    {
     "data": {
      "application/vnd.jupyter.widget-view+json": {
       "model_id": "7ffbd61066ee40a7ba32d45162d5368b",
       "version_major": 2,
       "version_minor": 0
      },
      "text/plain": [
       "[pred_fn]:   0%|          | 0/2 [00:00<?, ?it/s]"
      ]
     },
     "metadata": {},
     "output_type": "display_data"
    },
    {
     "data": {
      "application/vnd.jupyter.widget-view+json": {
       "model_id": "82f56589377845f18c969ed4ce712cd0",
       "version_major": 2,
       "version_minor": 0
      },
      "text/plain": [
       "[pred_fn]:   0%|          | 0/2 [00:00<?, ?it/s]"
      ]
     },
     "metadata": {},
     "output_type": "display_data"
    },
    {
     "data": {
      "application/vnd.jupyter.widget-view+json": {
       "model_id": "ec8cf8b9cf6c45aa94a4ae43d8b5d3ac",
       "version_major": 2,
       "version_minor": 0
      },
      "text/plain": [
       "[pred_fn]:   0%|          | 0/2 [00:00<?, ?it/s]"
      ]
     },
     "metadata": {},
     "output_type": "display_data"
    },
    {
     "data": {
      "application/vnd.jupyter.widget-view+json": {
       "model_id": "af9563646f9b43cfb3e431bde8f3d53f",
       "version_major": 2,
       "version_minor": 0
      },
      "text/plain": [
       "[pred_fn]:   0%|          | 0/2 [00:00<?, ?it/s]"
      ]
     },
     "metadata": {},
     "output_type": "display_data"
    },
    {
     "data": {
      "application/vnd.jupyter.widget-view+json": {
       "model_id": "19919765cfbc4e84bb84508f72c6404e",
       "version_major": 2,
       "version_minor": 0
      },
      "text/plain": [
       "[pred_fn]:   0%|          | 0/2 [00:00<?, ?it/s]"
      ]
     },
     "metadata": {},
     "output_type": "display_data"
    },
    {
     "data": {
      "application/vnd.jupyter.widget-view+json": {
       "model_id": "2f93cc2ff103461780476e4f1f267477",
       "version_major": 2,
       "version_minor": 0
      },
      "text/plain": [
       "[pred_fn]:   0%|          | 0/2 [00:00<?, ?it/s]"
      ]
     },
     "metadata": {},
     "output_type": "display_data"
    },
    {
     "data": {
      "application/vnd.jupyter.widget-view+json": {
       "model_id": "79491d903b2e45be9026ed2b8775c41f",
       "version_major": 2,
       "version_minor": 0
      },
      "text/plain": [
       "[pred_fn]:   0%|          | 0/2 [00:00<?, ?it/s]"
      ]
     },
     "metadata": {},
     "output_type": "display_data"
    },
    {
     "data": {
      "application/vnd.jupyter.widget-view+json": {
       "model_id": "fc2398c4548746a5956ac7892ed56e1e",
       "version_major": 2,
       "version_minor": 0
      },
      "text/plain": [
       "[pred_fn]:   0%|          | 0/2 [00:00<?, ?it/s]"
      ]
     },
     "metadata": {},
     "output_type": "display_data"
    },
    {
     "data": {
      "application/vnd.jupyter.widget-view+json": {
       "model_id": "93d28dda2dfd4aaf8e457302ac8aba89",
       "version_major": 2,
       "version_minor": 0
      },
      "text/plain": [
       "[pred_fn]:   0%|          | 0/2 [00:00<?, ?it/s]"
      ]
     },
     "metadata": {},
     "output_type": "display_data"
    },
    {
     "data": {
      "application/vnd.jupyter.widget-view+json": {
       "model_id": "cc348ae193b444539f0001ce88a3f114",
       "version_major": 2,
       "version_minor": 0
      },
      "text/plain": [
       "[pred_fn]:   0%|          | 0/2 [00:00<?, ?it/s]"
      ]
     },
     "metadata": {},
     "output_type": "display_data"
    },
    {
     "data": {
      "application/vnd.jupyter.widget-view+json": {
       "model_id": "02c8e473e3a749c18436ecbe2b84b588",
       "version_major": 2,
       "version_minor": 0
      },
      "text/plain": [
       "[pred_fn]:   0%|          | 0/2 [00:00<?, ?it/s]"
      ]
     },
     "metadata": {},
     "output_type": "display_data"
    },
    {
     "data": {
      "application/vnd.jupyter.widget-view+json": {
       "model_id": "693bb4b1e25940c1950140ce7ef67279",
       "version_major": 2,
       "version_minor": 0
      },
      "text/plain": [
       "[pred_fn]:   0%|          | 0/2 [00:00<?, ?it/s]"
      ]
     },
     "metadata": {},
     "output_type": "display_data"
    },
    {
     "data": {
      "application/vnd.jupyter.widget-view+json": {
       "model_id": "23fbefb9af02477aa18dfc1c8fd31a9a",
       "version_major": 2,
       "version_minor": 0
      },
      "text/plain": [
       "[pred_fn]:   0%|          | 0/2 [00:00<?, ?it/s]"
      ]
     },
     "metadata": {},
     "output_type": "display_data"
    },
    {
     "data": {
      "application/vnd.jupyter.widget-view+json": {
       "model_id": "e33662690e65422d90c03db0c41f3cb9",
       "version_major": 2,
       "version_minor": 0
      },
      "text/plain": [
       "[pred_fn]:   0%|          | 0/2 [00:00<?, ?it/s]"
      ]
     },
     "metadata": {},
     "output_type": "display_data"
    },
    {
     "data": {
      "application/vnd.jupyter.widget-view+json": {
       "model_id": "dbfea36aa5f34bd6a7e203488637b3d0",
       "version_major": 2,
       "version_minor": 0
      },
      "text/plain": [
       "[pred_fn]:   0%|          | 0/2 [00:00<?, ?it/s]"
      ]
     },
     "metadata": {},
     "output_type": "display_data"
    },
    {
     "data": {
      "application/vnd.jupyter.widget-view+json": {
       "model_id": "0c7158702edf45dd809b394b6ac242a3",
       "version_major": 2,
       "version_minor": 0
      },
      "text/plain": [
       "[pred_fn]:   0%|          | 0/2 [00:00<?, ?it/s]"
      ]
     },
     "metadata": {},
     "output_type": "display_data"
    },
    {
     "data": {
      "application/vnd.jupyter.widget-view+json": {
       "model_id": "4b06181583de4e5a995ad7e58f6710d0",
       "version_major": 2,
       "version_minor": 0
      },
      "text/plain": [
       "[pred_fn]:   0%|          | 0/2 [00:00<?, ?it/s]"
      ]
     },
     "metadata": {},
     "output_type": "display_data"
    },
    {
     "data": {
      "application/vnd.jupyter.widget-view+json": {
       "model_id": "8859a20dbf8d4238bcc7b292e4ca7f35",
       "version_major": 2,
       "version_minor": 0
      },
      "text/plain": [
       "[pred_fn]:   0%|          | 0/2 [00:00<?, ?it/s]"
      ]
     },
     "metadata": {},
     "output_type": "display_data"
    },
    {
     "data": {
      "application/vnd.jupyter.widget-view+json": {
       "model_id": "3a9104f065bd4f12bd01a89f23ba3e5e",
       "version_major": 2,
       "version_minor": 0
      },
      "text/plain": [
       "[pred_fn]:   0%|          | 0/2 [00:00<?, ?it/s]"
      ]
     },
     "metadata": {},
     "output_type": "display_data"
    },
    {
     "data": {
      "application/vnd.jupyter.widget-view+json": {
       "model_id": "5875d84225e8476f912a31eeee02519c",
       "version_major": 2,
       "version_minor": 0
      },
      "text/plain": [
       "[pred_fn]:   0%|          | 0/2 [00:00<?, ?it/s]"
      ]
     },
     "metadata": {},
     "output_type": "display_data"
    },
    {
     "data": {
      "application/vnd.jupyter.widget-view+json": {
       "model_id": "4d18f162d2804e888e186811eb5e283c",
       "version_major": 2,
       "version_minor": 0
      },
      "text/plain": [
       "[pred_fn]:   0%|          | 0/2 [00:00<?, ?it/s]"
      ]
     },
     "metadata": {},
     "output_type": "display_data"
    },
    {
     "data": {
      "application/vnd.jupyter.widget-view+json": {
       "model_id": "5d75864b2d04485fb06f519b8865736a",
       "version_major": 2,
       "version_minor": 0
      },
      "text/plain": [
       "[pred_fn]:   0%|          | 0/2 [00:00<?, ?it/s]"
      ]
     },
     "metadata": {},
     "output_type": "display_data"
    },
    {
     "data": {
      "application/vnd.jupyter.widget-view+json": {
       "model_id": "69c65f1e9265453b864b3f2e44480689",
       "version_major": 2,
       "version_minor": 0
      },
      "text/plain": [
       "[pred_fn]:   0%|          | 0/2 [00:00<?, ?it/s]"
      ]
     },
     "metadata": {},
     "output_type": "display_data"
    },
    {
     "data": {
      "application/vnd.jupyter.widget-view+json": {
       "model_id": "1e99bc1355794acbb9ebdc00812523fb",
       "version_major": 2,
       "version_minor": 0
      },
      "text/plain": [
       "[pred_fn]:   0%|          | 0/2 [00:00<?, ?it/s]"
      ]
     },
     "metadata": {},
     "output_type": "display_data"
    },
    {
     "data": {
      "application/vnd.jupyter.widget-view+json": {
       "model_id": "1580e66f230245e7a2d3bcffb73c654f",
       "version_major": 2,
       "version_minor": 0
      },
      "text/plain": [
       "[pred_fn]:   0%|          | 0/2 [00:00<?, ?it/s]"
      ]
     },
     "metadata": {},
     "output_type": "display_data"
    },
    {
     "data": {
      "application/vnd.jupyter.widget-view+json": {
       "model_id": "579d5dfc682148328f5a43968e47b005",
       "version_major": 2,
       "version_minor": 0
      },
      "text/plain": [
       "[pred_fn]:   0%|          | 0/2 [00:00<?, ?it/s]"
      ]
     },
     "metadata": {},
     "output_type": "display_data"
    },
    {
     "data": {
      "application/vnd.jupyter.widget-view+json": {
       "model_id": "f748db8e82434d71acc370d7ce0b3884",
       "version_major": 2,
       "version_minor": 0
      },
      "text/plain": [
       "[pred_fn]:   0%|          | 0/2 [00:00<?, ?it/s]"
      ]
     },
     "metadata": {},
     "output_type": "display_data"
    },
    {
     "data": {
      "application/vnd.jupyter.widget-view+json": {
       "model_id": "42d16eac0c48422fba855187ab6be937",
       "version_major": 2,
       "version_minor": 0
      },
      "text/plain": [
       "[pred_fn]:   0%|          | 0/2 [00:00<?, ?it/s]"
      ]
     },
     "metadata": {},
     "output_type": "display_data"
    },
    {
     "data": {
      "application/vnd.jupyter.widget-view+json": {
       "model_id": "2be09479936f4be38f6278f2f054a81e",
       "version_major": 2,
       "version_minor": 0
      },
      "text/plain": [
       "[pred_fn]:   0%|          | 0/2 [00:00<?, ?it/s]"
      ]
     },
     "metadata": {},
     "output_type": "display_data"
    },
    {
     "data": {
      "application/vnd.jupyter.widget-view+json": {
       "model_id": "f5933ef01acc42cb94e4b9fe2d648679",
       "version_major": 2,
       "version_minor": 0
      },
      "text/plain": [
       "[pred_fn]:   0%|          | 0/2 [00:00<?, ?it/s]"
      ]
     },
     "metadata": {},
     "output_type": "display_data"
    },
    {
     "data": {
      "application/vnd.jupyter.widget-view+json": {
       "model_id": "ec07b99fd1af449685f06e0ba19a4a15",
       "version_major": 2,
       "version_minor": 0
      },
      "text/plain": [
       "[pred_fn]:   0%|          | 0/2 [00:00<?, ?it/s]"
      ]
     },
     "metadata": {},
     "output_type": "display_data"
    },
    {
     "data": {
      "application/vnd.jupyter.widget-view+json": {
       "model_id": "8a678fb6f89547c38c195f5f175453af",
       "version_major": 2,
       "version_minor": 0
      },
      "text/plain": [
       "[pred_fn]:   0%|          | 0/2 [00:00<?, ?it/s]"
      ]
     },
     "metadata": {},
     "output_type": "display_data"
    },
    {
     "data": {
      "application/vnd.jupyter.widget-view+json": {
       "model_id": "2df78a6959f54f33ac372f5567a16800",
       "version_major": 2,
       "version_minor": 0
      },
      "text/plain": [
       "[pred_fn]:   0%|          | 0/2 [00:00<?, ?it/s]"
      ]
     },
     "metadata": {},
     "output_type": "display_data"
    },
    {
     "data": {
      "application/vnd.jupyter.widget-view+json": {
       "model_id": "a3bf6c965dd942508e827a0919f0d35d",
       "version_major": 2,
       "version_minor": 0
      },
      "text/plain": [
       "[pred_fn]:   0%|          | 0/2 [00:00<?, ?it/s]"
      ]
     },
     "metadata": {},
     "output_type": "display_data"
    },
    {
     "data": {
      "application/vnd.jupyter.widget-view+json": {
       "model_id": "2e9515eb0d4345f2af1f874f9eee13c7",
       "version_major": 2,
       "version_minor": 0
      },
      "text/plain": [
       "[pred_fn]:   0%|          | 0/2 [00:00<?, ?it/s]"
      ]
     },
     "metadata": {},
     "output_type": "display_data"
    },
    {
     "data": {
      "application/vnd.jupyter.widget-view+json": {
       "model_id": "aa67da9416a74df896c39b0dced2d0e8",
       "version_major": 2,
       "version_minor": 0
      },
      "text/plain": [
       "[pred_fn]:   0%|          | 0/2 [00:00<?, ?it/s]"
      ]
     },
     "metadata": {},
     "output_type": "display_data"
    },
    {
     "data": {
      "application/vnd.jupyter.widget-view+json": {
       "model_id": "65af083b2a734a5e89d1f5613f34c518",
       "version_major": 2,
       "version_minor": 0
      },
      "text/plain": [
       "[pred_fn]:   0%|          | 0/2 [00:00<?, ?it/s]"
      ]
     },
     "metadata": {},
     "output_type": "display_data"
    },
    {
     "data": {
      "application/vnd.jupyter.widget-view+json": {
       "model_id": "9220d267cb454e8588a28528d72e2edb",
       "version_major": 2,
       "version_minor": 0
      },
      "text/plain": [
       "[pred_fn]:   0%|          | 0/2 [00:00<?, ?it/s]"
      ]
     },
     "metadata": {},
     "output_type": "display_data"
    },
    {
     "data": {
      "application/vnd.jupyter.widget-view+json": {
       "model_id": "bceb4e8f285d4701bf1d7c0f3731999e",
       "version_major": 2,
       "version_minor": 0
      },
      "text/plain": [
       "[pred_fn]:   0%|          | 0/2 [00:00<?, ?it/s]"
      ]
     },
     "metadata": {},
     "output_type": "display_data"
    },
    {
     "data": {
      "application/vnd.jupyter.widget-view+json": {
       "model_id": "0d7ba8d030a3452997d9cb99ea679ccd",
       "version_major": 2,
       "version_minor": 0
      },
      "text/plain": [
       "[pred_fn]:   0%|          | 0/2 [00:00<?, ?it/s]"
      ]
     },
     "metadata": {},
     "output_type": "display_data"
    },
    {
     "data": {
      "application/vnd.jupyter.widget-view+json": {
       "model_id": "9a5a3e3110624d658218ee1715c832c0",
       "version_major": 2,
       "version_minor": 0
      },
      "text/plain": [
       "[pred_fn]:   0%|          | 0/2 [00:00<?, ?it/s]"
      ]
     },
     "metadata": {},
     "output_type": "display_data"
    },
    {
     "data": {
      "application/vnd.jupyter.widget-view+json": {
       "model_id": "67150c15b8da4534a8b6d2a6a1034d44",
       "version_major": 2,
       "version_minor": 0
      },
      "text/plain": [
       "[pred_fn]:   0%|          | 0/2 [00:00<?, ?it/s]"
      ]
     },
     "metadata": {},
     "output_type": "display_data"
    },
    {
     "data": {
      "application/vnd.jupyter.widget-view+json": {
       "model_id": "5e8aab8c54e442a38d67b169f8570287",
       "version_major": 2,
       "version_minor": 0
      },
      "text/plain": [
       "[pred_fn]:   0%|          | 0/2 [00:00<?, ?it/s]"
      ]
     },
     "metadata": {},
     "output_type": "display_data"
    },
    {
     "data": {
      "application/vnd.jupyter.widget-view+json": {
       "model_id": "89138c626e044394a058abe77e09ff47",
       "version_major": 2,
       "version_minor": 0
      },
      "text/plain": [
       "[pred_fn]:   0%|          | 0/2 [00:00<?, ?it/s]"
      ]
     },
     "metadata": {},
     "output_type": "display_data"
    },
    {
     "data": {
      "application/vnd.jupyter.widget-view+json": {
       "model_id": "b60f2708c1654716bb2e2bee08084495",
       "version_major": 2,
       "version_minor": 0
      },
      "text/plain": [
       "[pred_fn]:   0%|          | 0/2 [00:00<?, ?it/s]"
      ]
     },
     "metadata": {},
     "output_type": "display_data"
    },
    {
     "data": {
      "application/vnd.jupyter.widget-view+json": {
       "model_id": "093fa6bce97c47e8af50322c4b49114a",
       "version_major": 2,
       "version_minor": 0
      },
      "text/plain": [
       "[pred_fn]:   0%|          | 0/2 [00:00<?, ?it/s]"
      ]
     },
     "metadata": {},
     "output_type": "display_data"
    },
    {
     "data": {
      "application/vnd.jupyter.widget-view+json": {
       "model_id": "f4cec527895542eea5e46f5c7d2e91d8",
       "version_major": 2,
       "version_minor": 0
      },
      "text/plain": [
       "[pred_fn]:   0%|          | 0/2 [00:00<?, ?it/s]"
      ]
     },
     "metadata": {},
     "output_type": "display_data"
    },
    {
     "data": {
      "application/vnd.jupyter.widget-view+json": {
       "model_id": "28317a3c217e4dbdbd3bef1a2c9d1899",
       "version_major": 2,
       "version_minor": 0
      },
      "text/plain": [
       "[pred_fn]:   0%|          | 0/2 [00:00<?, ?it/s]"
      ]
     },
     "metadata": {},
     "output_type": "display_data"
    },
    {
     "data": {
      "application/vnd.jupyter.widget-view+json": {
       "model_id": "a0ac9db7f3e5441cb686234144864eee",
       "version_major": 2,
       "version_minor": 0
      },
      "text/plain": [
       "[pred_fn]:   0%|          | 0/2 [00:00<?, ?it/s]"
      ]
     },
     "metadata": {},
     "output_type": "display_data"
    },
    {
     "data": {
      "application/vnd.jupyter.widget-view+json": {
       "model_id": "140d1c6e753c4d6fa772b403434d17a1",
       "version_major": 2,
       "version_minor": 0
      },
      "text/plain": [
       "[pred_fn]:   0%|          | 0/2 [00:00<?, ?it/s]"
      ]
     },
     "metadata": {},
     "output_type": "display_data"
    },
    {
     "data": {
      "application/vnd.jupyter.widget-view+json": {
       "model_id": "7908477b7db54609bc80698a0ee611dd",
       "version_major": 2,
       "version_minor": 0
      },
      "text/plain": [
       "[pred_fn]:   0%|          | 0/2 [00:00<?, ?it/s]"
      ]
     },
     "metadata": {},
     "output_type": "display_data"
    },
    {
     "data": {
      "application/vnd.jupyter.widget-view+json": {
       "model_id": "b32f85a96318420480a7b16de7a08c57",
       "version_major": 2,
       "version_minor": 0
      },
      "text/plain": [
       "[pred_fn]:   0%|          | 0/2 [00:00<?, ?it/s]"
      ]
     },
     "metadata": {},
     "output_type": "display_data"
    },
    {
     "data": {
      "application/vnd.jupyter.widget-view+json": {
       "model_id": "75013ed53e7a4e6e989de5d7d376c280",
       "version_major": 2,
       "version_minor": 0
      },
      "text/plain": [
       "[pred_fn]:   0%|          | 0/2 [00:00<?, ?it/s]"
      ]
     },
     "metadata": {},
     "output_type": "display_data"
    },
    {
     "data": {
      "application/vnd.jupyter.widget-view+json": {
       "model_id": "09f630ab438b4f99a3f886ab709de770",
       "version_major": 2,
       "version_minor": 0
      },
      "text/plain": [
       "[pred_fn]:   0%|          | 0/2 [00:00<?, ?it/s]"
      ]
     },
     "metadata": {},
     "output_type": "display_data"
    },
    {
     "data": {
      "application/vnd.jupyter.widget-view+json": {
       "model_id": "3512ab6fcab24210beefeae22f596b3a",
       "version_major": 2,
       "version_minor": 0
      },
      "text/plain": [
       "[pred_fn]:   0%|          | 0/2 [00:00<?, ?it/s]"
      ]
     },
     "metadata": {},
     "output_type": "display_data"
    },
    {
     "data": {
      "application/vnd.jupyter.widget-view+json": {
       "model_id": "bf9a1c56089648aeaa6a891fbe7f9d3d",
       "version_major": 2,
       "version_minor": 0
      },
      "text/plain": [
       "[pred_fn]:   0%|          | 0/2 [00:00<?, ?it/s]"
      ]
     },
     "metadata": {},
     "output_type": "display_data"
    },
    {
     "data": {
      "application/vnd.jupyter.widget-view+json": {
       "model_id": "d6e15ea573b5466195df9cbdbe4a366a",
       "version_major": 2,
       "version_minor": 0
      },
      "text/plain": [
       "[pred_fn]:   0%|          | 0/2 [00:00<?, ?it/s]"
      ]
     },
     "metadata": {},
     "output_type": "display_data"
    },
    {
     "data": {
      "application/vnd.jupyter.widget-view+json": {
       "model_id": "3a95e1b3122b45b1ae96220f8145f499",
       "version_major": 2,
       "version_minor": 0
      },
      "text/plain": [
       "[pred_fn]:   0%|          | 0/2 [00:00<?, ?it/s]"
      ]
     },
     "metadata": {},
     "output_type": "display_data"
    },
    {
     "data": {
      "application/vnd.jupyter.widget-view+json": {
       "model_id": "d5dc6b5b04db439bad0ff68f6fa962e9",
       "version_major": 2,
       "version_minor": 0
      },
      "text/plain": [
       "[pred_fn]:   0%|          | 0/2 [00:00<?, ?it/s]"
      ]
     },
     "metadata": {},
     "output_type": "display_data"
    },
    {
     "data": {
      "application/vnd.jupyter.widget-view+json": {
       "model_id": "adb6bd465e344b5b85a5613cf6fcc183",
       "version_major": 2,
       "version_minor": 0
      },
      "text/plain": [
       "[pred_fn]:   0%|          | 0/2 [00:00<?, ?it/s]"
      ]
     },
     "metadata": {},
     "output_type": "display_data"
    },
    {
     "data": {
      "application/vnd.jupyter.widget-view+json": {
       "model_id": "a6086925364d4bb69ca33a1460b5db6d",
       "version_major": 2,
       "version_minor": 0
      },
      "text/plain": [
       "[pred_fn]:   0%|          | 0/2 [00:00<?, ?it/s]"
      ]
     },
     "metadata": {},
     "output_type": "display_data"
    },
    {
     "data": {
      "application/vnd.jupyter.widget-view+json": {
       "model_id": "722076a1de464dc9bf78007a45d959c1",
       "version_major": 2,
       "version_minor": 0
      },
      "text/plain": [
       "[pred_fn]:   0%|          | 0/2 [00:00<?, ?it/s]"
      ]
     },
     "metadata": {},
     "output_type": "display_data"
    },
    {
     "data": {
      "application/vnd.jupyter.widget-view+json": {
       "model_id": "c1014afec1314c6e90923f3039e98c11",
       "version_major": 2,
       "version_minor": 0
      },
      "text/plain": [
       "[pred_fn]:   0%|          | 0/2 [00:00<?, ?it/s]"
      ]
     },
     "metadata": {},
     "output_type": "display_data"
    },
    {
     "data": {
      "application/vnd.jupyter.widget-view+json": {
       "model_id": "2b940e8350244012ad2f029bec883a35",
       "version_major": 2,
       "version_minor": 0
      },
      "text/plain": [
       "[pred_fn]:   0%|          | 0/2 [00:00<?, ?it/s]"
      ]
     },
     "metadata": {},
     "output_type": "display_data"
    },
    {
     "data": {
      "application/vnd.jupyter.widget-view+json": {
       "model_id": "322a90dddeb1434982b3612d58b5d5d8",
       "version_major": 2,
       "version_minor": 0
      },
      "text/plain": [
       "[pred_fn]:   0%|          | 0/2 [00:00<?, ?it/s]"
      ]
     },
     "metadata": {},
     "output_type": "display_data"
    },
    {
     "data": {
      "application/vnd.jupyter.widget-view+json": {
       "model_id": "1cf2de5c7b3940848aa3183ab047d28f",
       "version_major": 2,
       "version_minor": 0
      },
      "text/plain": [
       "[pred_fn]:   0%|          | 0/2 [00:00<?, ?it/s]"
      ]
     },
     "metadata": {},
     "output_type": "display_data"
    },
    {
     "data": {
      "application/vnd.jupyter.widget-view+json": {
       "model_id": "ba7d992449084694bb04a6da8c3653b7",
       "version_major": 2,
       "version_minor": 0
      },
      "text/plain": [
       "[pred_fn]:   0%|          | 0/2 [00:00<?, ?it/s]"
      ]
     },
     "metadata": {},
     "output_type": "display_data"
    },
    {
     "data": {
      "application/vnd.jupyter.widget-view+json": {
       "model_id": "2c9757f79e334abdbc3741200b3fbdd9",
       "version_major": 2,
       "version_minor": 0
      },
      "text/plain": [
       "[pred_fn]:   0%|          | 0/2 [00:00<?, ?it/s]"
      ]
     },
     "metadata": {},
     "output_type": "display_data"
    },
    {
     "data": {
      "application/vnd.jupyter.widget-view+json": {
       "model_id": "cfa558c0f62f4f3ca287e0d93bb46566",
       "version_major": 2,
       "version_minor": 0
      },
      "text/plain": [
       "[pred_fn]:   0%|          | 0/2 [00:00<?, ?it/s]"
      ]
     },
     "metadata": {},
     "output_type": "display_data"
    },
    {
     "data": {
      "application/vnd.jupyter.widget-view+json": {
       "model_id": "ab5a5946de7945b2893b9f1e5932ccb8",
       "version_major": 2,
       "version_minor": 0
      },
      "text/plain": [
       "[pred_fn]:   0%|          | 0/2 [00:00<?, ?it/s]"
      ]
     },
     "metadata": {},
     "output_type": "display_data"
    },
    {
     "data": {
      "application/vnd.jupyter.widget-view+json": {
       "model_id": "c72ef7eee9b4494bb49d9e3b68ffede1",
       "version_major": 2,
       "version_minor": 0
      },
      "text/plain": [
       "[pred_fn]:   0%|          | 0/2 [00:00<?, ?it/s]"
      ]
     },
     "metadata": {},
     "output_type": "display_data"
    },
    {
     "data": {
      "application/vnd.jupyter.widget-view+json": {
       "model_id": "293ee339e8284d8f857860a850e6dc10",
       "version_major": 2,
       "version_minor": 0
      },
      "text/plain": [
       "[pred_fn]:   0%|          | 0/2 [00:00<?, ?it/s]"
      ]
     },
     "metadata": {},
     "output_type": "display_data"
    },
    {
     "data": {
      "application/vnd.jupyter.widget-view+json": {
       "model_id": "9ff5741cfdf642489fa900de482a0cfa",
       "version_major": 2,
       "version_minor": 0
      },
      "text/plain": [
       "[pred_fn]:   0%|          | 0/2 [00:00<?, ?it/s]"
      ]
     },
     "metadata": {},
     "output_type": "display_data"
    },
    {
     "data": {
      "application/vnd.jupyter.widget-view+json": {
       "model_id": "f6c48e1171ca42ebae1299b57b3884d5",
       "version_major": 2,
       "version_minor": 0
      },
      "text/plain": [
       "[pred_fn]:   0%|          | 0/2 [00:00<?, ?it/s]"
      ]
     },
     "metadata": {},
     "output_type": "display_data"
    },
    {
     "data": {
      "application/vnd.jupyter.widget-view+json": {
       "model_id": "9fda8aa0da8f463f87f1f0ad62bf3efa",
       "version_major": 2,
       "version_minor": 0
      },
      "text/plain": [
       "[pred_fn]:   0%|          | 0/2 [00:00<?, ?it/s]"
      ]
     },
     "metadata": {},
     "output_type": "display_data"
    },
    {
     "data": {
      "application/vnd.jupyter.widget-view+json": {
       "model_id": "246cd2ef55574bff8b88541c4ba4b6f0",
       "version_major": 2,
       "version_minor": 0
      },
      "text/plain": [
       "[pred_fn]:   0%|          | 0/2 [00:00<?, ?it/s]"
      ]
     },
     "metadata": {},
     "output_type": "display_data"
    },
    {
     "data": {
      "application/vnd.jupyter.widget-view+json": {
       "model_id": "8cc2186c073b4c07892e3e9f1d1c2ba1",
       "version_major": 2,
       "version_minor": 0
      },
      "text/plain": [
       "[pred_fn]:   0%|          | 0/2 [00:00<?, ?it/s]"
      ]
     },
     "metadata": {},
     "output_type": "display_data"
    },
    {
     "data": {
      "application/vnd.jupyter.widget-view+json": {
       "model_id": "893c2382693a4760b679ffe4c66bfbfe",
       "version_major": 2,
       "version_minor": 0
      },
      "text/plain": [
       "[pred_fn]:   0%|          | 0/2 [00:00<?, ?it/s]"
      ]
     },
     "metadata": {},
     "output_type": "display_data"
    },
    {
     "data": {
      "application/vnd.jupyter.widget-view+json": {
       "model_id": "04ada4d7858c40d1817b5e650d342b64",
       "version_major": 2,
       "version_minor": 0
      },
      "text/plain": [
       "[pred_fn]:   0%|          | 0/2 [00:00<?, ?it/s]"
      ]
     },
     "metadata": {},
     "output_type": "display_data"
    },
    {
     "data": {
      "application/vnd.jupyter.widget-view+json": {
       "model_id": "9d93e8adf7c34e3d934116a7fcb448c6",
       "version_major": 2,
       "version_minor": 0
      },
      "text/plain": [
       "[pred_fn]:   0%|          | 0/2 [00:00<?, ?it/s]"
      ]
     },
     "metadata": {},
     "output_type": "display_data"
    },
    {
     "data": {
      "application/vnd.jupyter.widget-view+json": {
       "model_id": "57e346afde2246eeb4cf4efbcd1d7589",
       "version_major": 2,
       "version_minor": 0
      },
      "text/plain": [
       "[pred_fn]:   0%|          | 0/2 [00:00<?, ?it/s]"
      ]
     },
     "metadata": {},
     "output_type": "display_data"
    },
    {
     "data": {
      "application/vnd.jupyter.widget-view+json": {
       "model_id": "b41ef36d8bda450982268b313a004bfc",
       "version_major": 2,
       "version_minor": 0
      },
      "text/plain": [
       "[pred_fn]:   0%|          | 0/2 [00:00<?, ?it/s]"
      ]
     },
     "metadata": {},
     "output_type": "display_data"
    },
    {
     "data": {
      "application/vnd.jupyter.widget-view+json": {
       "model_id": "259e11bbd6be4081b3b8c2c75de34004",
       "version_major": 2,
       "version_minor": 0
      },
      "text/plain": [
       "[pred_fn]:   0%|          | 0/2 [00:00<?, ?it/s]"
      ]
     },
     "metadata": {},
     "output_type": "display_data"
    },
    {
     "data": {
      "application/vnd.jupyter.widget-view+json": {
       "model_id": "944c3660c59a4459a22b66a47c704787",
       "version_major": 2,
       "version_minor": 0
      },
      "text/plain": [
       "[pred_fn]:   0%|          | 0/2 [00:00<?, ?it/s]"
      ]
     },
     "metadata": {},
     "output_type": "display_data"
    },
    {
     "data": {
      "application/vnd.jupyter.widget-view+json": {
       "model_id": "e2700482bace4e8da6f5e859ab956af0",
       "version_major": 2,
       "version_minor": 0
      },
      "text/plain": [
       "[pred_fn]:   0%|          | 0/2 [00:00<?, ?it/s]"
      ]
     },
     "metadata": {},
     "output_type": "display_data"
    },
    {
     "data": {
      "application/vnd.jupyter.widget-view+json": {
       "model_id": "5a11cd432f164a16939b5ae3cf34d4c6",
       "version_major": 2,
       "version_minor": 0
      },
      "text/plain": [
       "[pred_fn]:   0%|          | 0/2 [00:00<?, ?it/s]"
      ]
     },
     "metadata": {},
     "output_type": "display_data"
    },
    {
     "data": {
      "application/vnd.jupyter.widget-view+json": {
       "model_id": "029ff84166494c139a07582de9cef298",
       "version_major": 2,
       "version_minor": 0
      },
      "text/plain": [
       "[pred_fn]:   0%|          | 0/2 [00:00<?, ?it/s]"
      ]
     },
     "metadata": {},
     "output_type": "display_data"
    },
    {
     "data": {
      "application/vnd.jupyter.widget-view+json": {
       "model_id": "5c055635eedd4547b616cb40d134ff57",
       "version_major": 2,
       "version_minor": 0
      },
      "text/plain": [
       "[pred_fn]:   0%|          | 0/2 [00:00<?, ?it/s]"
      ]
     },
     "metadata": {},
     "output_type": "display_data"
    },
    {
     "data": {
      "application/vnd.jupyter.widget-view+json": {
       "model_id": "4ccb7266535c4c038ea0dd2f371e37f8",
       "version_major": 2,
       "version_minor": 0
      },
      "text/plain": [
       "[pred_fn]:   0%|          | 0/2 [00:00<?, ?it/s]"
      ]
     },
     "metadata": {},
     "output_type": "display_data"
    },
    {
     "data": {
      "application/vnd.jupyter.widget-view+json": {
       "model_id": "ae824883e6c6426abbc6f426427a04d2",
       "version_major": 2,
       "version_minor": 0
      },
      "text/plain": [
       "[pred_fn]:   0%|          | 0/2 [00:00<?, ?it/s]"
      ]
     },
     "metadata": {},
     "output_type": "display_data"
    },
    {
     "data": {
      "application/vnd.jupyter.widget-view+json": {
       "model_id": "8c4065a4b49d4ae78358748b44a539c0",
       "version_major": 2,
       "version_minor": 0
      },
      "text/plain": [
       "[pred_fn]:   0%|          | 0/2 [00:00<?, ?it/s]"
      ]
     },
     "metadata": {},
     "output_type": "display_data"
    },
    {
     "data": {
      "application/vnd.jupyter.widget-view+json": {
       "model_id": "b9c524a8dfec450683fd573f0dccaad8",
       "version_major": 2,
       "version_minor": 0
      },
      "text/plain": [
       "[pred_fn]:   0%|          | 0/2 [00:00<?, ?it/s]"
      ]
     },
     "metadata": {},
     "output_type": "display_data"
    },
    {
     "data": {
      "application/vnd.jupyter.widget-view+json": {
       "model_id": "724ed7a6e5284d30bd186871354ed383",
       "version_major": 2,
       "version_minor": 0
      },
      "text/plain": [
       "[pred_fn]:   0%|          | 0/2 [00:00<?, ?it/s]"
      ]
     },
     "metadata": {},
     "output_type": "display_data"
    },
    {
     "data": {
      "application/vnd.jupyter.widget-view+json": {
       "model_id": "67732159d7da41a0a357e754bad9d67d",
       "version_major": 2,
       "version_minor": 0
      },
      "text/plain": [
       "[pred_fn]:   0%|          | 0/2 [00:00<?, ?it/s]"
      ]
     },
     "metadata": {},
     "output_type": "display_data"
    },
    {
     "data": {
      "application/vnd.jupyter.widget-view+json": {
       "model_id": "1aa24f7c3dce4c20ae0e92c074c1c9f7",
       "version_major": 2,
       "version_minor": 0
      },
      "text/plain": [
       "[pred_fn]:   0%|          | 0/2 [00:00<?, ?it/s]"
      ]
     },
     "metadata": {},
     "output_type": "display_data"
    },
    {
     "data": {
      "application/vnd.jupyter.widget-view+json": {
       "model_id": "a777faa49d794ed6b7181f99c2d259bd",
       "version_major": 2,
       "version_minor": 0
      },
      "text/plain": [
       "[pred_fn]:   0%|          | 0/2 [00:00<?, ?it/s]"
      ]
     },
     "metadata": {},
     "output_type": "display_data"
    },
    {
     "data": {
      "application/vnd.jupyter.widget-view+json": {
       "model_id": "3cdaa497eec7471686d56d8a7d14d40a",
       "version_major": 2,
       "version_minor": 0
      },
      "text/plain": [
       "[pred_fn]:   0%|          | 0/2 [00:00<?, ?it/s]"
      ]
     },
     "metadata": {},
     "output_type": "display_data"
    },
    {
     "data": {
      "application/vnd.jupyter.widget-view+json": {
       "model_id": "2ff1c3669b1343e3a4ce7ca7d2a7b694",
       "version_major": 2,
       "version_minor": 0
      },
      "text/plain": [
       "[pred_fn]:   0%|          | 0/2 [00:00<?, ?it/s]"
      ]
     },
     "metadata": {},
     "output_type": "display_data"
    },
    {
     "data": {
      "application/vnd.jupyter.widget-view+json": {
       "model_id": "e229a5d9fb694985aa68d0008f47aa87",
       "version_major": 2,
       "version_minor": 0
      },
      "text/plain": [
       "[pred_fn]:   0%|          | 0/2 [00:00<?, ?it/s]"
      ]
     },
     "metadata": {},
     "output_type": "display_data"
    },
    {
     "data": {
      "application/vnd.jupyter.widget-view+json": {
       "model_id": "2a22a359546542588d530ab12b7ba630",
       "version_major": 2,
       "version_minor": 0
      },
      "text/plain": [
       "[pred_fn]:   0%|          | 0/2 [00:00<?, ?it/s]"
      ]
     },
     "metadata": {},
     "output_type": "display_data"
    },
    {
     "data": {
      "application/vnd.jupyter.widget-view+json": {
       "model_id": "f02fb99df59e4df1b2d3874189924557",
       "version_major": 2,
       "version_minor": 0
      },
      "text/plain": [
       "[pred_fn]:   0%|          | 0/2 [00:00<?, ?it/s]"
      ]
     },
     "metadata": {},
     "output_type": "display_data"
    },
    {
     "data": {
      "application/vnd.jupyter.widget-view+json": {
       "model_id": "9a11d24438144205af3d00c41e81e763",
       "version_major": 2,
       "version_minor": 0
      },
      "text/plain": [
       "[pred_fn]:   0%|          | 0/2 [00:00<?, ?it/s]"
      ]
     },
     "metadata": {},
     "output_type": "display_data"
    },
    {
     "data": {
      "application/vnd.jupyter.widget-view+json": {
       "model_id": "48f76412d83b4b02822f8f9a7ed57489",
       "version_major": 2,
       "version_minor": 0
      },
      "text/plain": [
       "[pred_fn]:   0%|          | 0/2 [00:00<?, ?it/s]"
      ]
     },
     "metadata": {},
     "output_type": "display_data"
    },
    {
     "data": {
      "application/vnd.jupyter.widget-view+json": {
       "model_id": "7b4d96e1c99642d09276eb340269496c",
       "version_major": 2,
       "version_minor": 0
      },
      "text/plain": [
       "[pred_fn]:   0%|          | 0/2 [00:00<?, ?it/s]"
      ]
     },
     "metadata": {},
     "output_type": "display_data"
    },
    {
     "data": {
      "application/vnd.jupyter.widget-view+json": {
       "model_id": "7f2910a579f44b05a370c772d1f2c0d0",
       "version_major": 2,
       "version_minor": 0
      },
      "text/plain": [
       "[pred_fn]:   0%|          | 0/2 [00:00<?, ?it/s]"
      ]
     },
     "metadata": {},
     "output_type": "display_data"
    },
    {
     "data": {
      "application/vnd.jupyter.widget-view+json": {
       "model_id": "eb2e8962b5da4e32be51ced5e5c2855d",
       "version_major": 2,
       "version_minor": 0
      },
      "text/plain": [
       "[pred_fn]:   0%|          | 0/2 [00:00<?, ?it/s]"
      ]
     },
     "metadata": {},
     "output_type": "display_data"
    },
    {
     "data": {
      "application/vnd.jupyter.widget-view+json": {
       "model_id": "0fd53c475c1b4a0daf82e6a11884e6f3",
       "version_major": 2,
       "version_minor": 0
      },
      "text/plain": [
       "[pred_fn]:   0%|          | 0/2 [00:00<?, ?it/s]"
      ]
     },
     "metadata": {},
     "output_type": "display_data"
    },
    {
     "data": {
      "application/vnd.jupyter.widget-view+json": {
       "model_id": "bc07eef13c744de293bf343ab19fc811",
       "version_major": 2,
       "version_minor": 0
      },
      "text/plain": [
       "[pred_fn]:   0%|          | 0/2 [00:00<?, ?it/s]"
      ]
     },
     "metadata": {},
     "output_type": "display_data"
    },
    {
     "data": {
      "application/vnd.jupyter.widget-view+json": {
       "model_id": "ac776fca1f4c483c95d47c72920090ad",
       "version_major": 2,
       "version_minor": 0
      },
      "text/plain": [
       "[pred_fn]:   0%|          | 0/2 [00:00<?, ?it/s]"
      ]
     },
     "metadata": {},
     "output_type": "display_data"
    },
    {
     "data": {
      "application/vnd.jupyter.widget-view+json": {
       "model_id": "b6f08b8d5b2f474189116bef979d0cbd",
       "version_major": 2,
       "version_minor": 0
      },
      "text/plain": [
       "[pred_fn]:   0%|          | 0/2 [00:00<?, ?it/s]"
      ]
     },
     "metadata": {},
     "output_type": "display_data"
    },
    {
     "data": {
      "application/vnd.jupyter.widget-view+json": {
       "model_id": "e028cdae9a714f1b942c7d557e7f1665",
       "version_major": 2,
       "version_minor": 0
      },
      "text/plain": [
       "[pred_fn]:   0%|          | 0/2 [00:00<?, ?it/s]"
      ]
     },
     "metadata": {},
     "output_type": "display_data"
    },
    {
     "data": {
      "application/vnd.jupyter.widget-view+json": {
       "model_id": "396d16c5d6e34626bcdacc1b91a5a5c2",
       "version_major": 2,
       "version_minor": 0
      },
      "text/plain": [
       "[pred_fn]:   0%|          | 0/2 [00:00<?, ?it/s]"
      ]
     },
     "metadata": {},
     "output_type": "display_data"
    },
    {
     "data": {
      "application/vnd.jupyter.widget-view+json": {
       "model_id": "777db9efafac4c4b89629e9b65602fa6",
       "version_major": 2,
       "version_minor": 0
      },
      "text/plain": [
       "[pred_fn]:   0%|          | 0/2 [00:00<?, ?it/s]"
      ]
     },
     "metadata": {},
     "output_type": "display_data"
    },
    {
     "data": {
      "application/vnd.jupyter.widget-view+json": {
       "model_id": "b91dd02a78014332bf370da26a39a834",
       "version_major": 2,
       "version_minor": 0
      },
      "text/plain": [
       "[pred_fn]:   0%|          | 0/2 [00:00<?, ?it/s]"
      ]
     },
     "metadata": {},
     "output_type": "display_data"
    },
    {
     "data": {
      "application/vnd.jupyter.widget-view+json": {
       "model_id": "099b5186ae274958ad6e7731eccaa067",
       "version_major": 2,
       "version_minor": 0
      },
      "text/plain": [
       "[pred_fn]:   0%|          | 0/2 [00:00<?, ?it/s]"
      ]
     },
     "metadata": {},
     "output_type": "display_data"
    },
    {
     "data": {
      "application/vnd.jupyter.widget-view+json": {
       "model_id": "c65b21c3753c4fc88c8346e6595b5c97",
       "version_major": 2,
       "version_minor": 0
      },
      "text/plain": [
       "[pred_fn]:   0%|          | 0/2 [00:00<?, ?it/s]"
      ]
     },
     "metadata": {},
     "output_type": "display_data"
    },
    {
     "data": {
      "application/vnd.jupyter.widget-view+json": {
       "model_id": "a871ca88690343269dc0a9ce37f9df30",
       "version_major": 2,
       "version_minor": 0
      },
      "text/plain": [
       "[pred_fn]:   0%|          | 0/2 [00:00<?, ?it/s]"
      ]
     },
     "metadata": {},
     "output_type": "display_data"
    },
    {
     "data": {
      "application/vnd.jupyter.widget-view+json": {
       "model_id": "4a89785e662a42d28781a26e85f2b9cf",
       "version_major": 2,
       "version_minor": 0
      },
      "text/plain": [
       "[pred_fn]:   0%|          | 0/2 [00:00<?, ?it/s]"
      ]
     },
     "metadata": {},
     "output_type": "display_data"
    },
    {
     "data": {
      "application/vnd.jupyter.widget-view+json": {
       "model_id": "569913a7c5874cd29ac304c70d43faeb",
       "version_major": 2,
       "version_minor": 0
      },
      "text/plain": [
       "[pred_fn]:   0%|          | 0/2 [00:00<?, ?it/s]"
      ]
     },
     "metadata": {},
     "output_type": "display_data"
    },
    {
     "data": {
      "application/vnd.jupyter.widget-view+json": {
       "model_id": "67e92870c92d456e943fa53993fff054",
       "version_major": 2,
       "version_minor": 0
      },
      "text/plain": [
       "[pred_fn]:   0%|          | 0/2 [00:00<?, ?it/s]"
      ]
     },
     "metadata": {},
     "output_type": "display_data"
    },
    {
     "data": {
      "application/vnd.jupyter.widget-view+json": {
       "model_id": "fe61f2331cd647ae97d4368c0fd7bfd7",
       "version_major": 2,
       "version_minor": 0
      },
      "text/plain": [
       "[pred_fn]:   0%|          | 0/2 [00:00<?, ?it/s]"
      ]
     },
     "metadata": {},
     "output_type": "display_data"
    },
    {
     "data": {
      "application/vnd.jupyter.widget-view+json": {
       "model_id": "86841509ac624c9f86616a612ce61469",
       "version_major": 2,
       "version_minor": 0
      },
      "text/plain": [
       "[pred_fn]:   0%|          | 0/2 [00:00<?, ?it/s]"
      ]
     },
     "metadata": {},
     "output_type": "display_data"
    },
    {
     "data": {
      "application/vnd.jupyter.widget-view+json": {
       "model_id": "ba5df2e1d35f4070be34c92971c337d6",
       "version_major": 2,
       "version_minor": 0
      },
      "text/plain": [
       "[pred_fn]:   0%|          | 0/2 [00:00<?, ?it/s]"
      ]
     },
     "metadata": {},
     "output_type": "display_data"
    },
    {
     "data": {
      "application/vnd.jupyter.widget-view+json": {
       "model_id": "68e71f8e75724d928b22212ddf664a2c",
       "version_major": 2,
       "version_minor": 0
      },
      "text/plain": [
       "[pred_fn]:   0%|          | 0/2 [00:00<?, ?it/s]"
      ]
     },
     "metadata": {},
     "output_type": "display_data"
    },
    {
     "data": {
      "application/vnd.jupyter.widget-view+json": {
       "model_id": "59d5d8936f45457b96175f26d5dd4329",
       "version_major": 2,
       "version_minor": 0
      },
      "text/plain": [
       "  0%|          | 0/500 [00:00<?, ?it/s]"
      ]
     },
     "metadata": {},
     "output_type": "display_data"
    },
    {
     "data": {
      "application/vnd.jupyter.widget-view+json": {
       "model_id": "68d43a69685a44a3bbcd99aa35ca1fca",
       "version_major": 2,
       "version_minor": 0
      },
      "text/plain": [
       "  0%|          | 0/500 [00:00<?, ?it/s]"
      ]
     },
     "metadata": {},
     "output_type": "display_data"
    },
    {
     "data": {
      "application/vnd.jupyter.widget-view+json": {
       "model_id": "e0424c73e2c943d0b23cc14e0516b604",
       "version_major": 2,
       "version_minor": 0
      },
      "text/plain": [
       "  0%|          | 0/500 [00:00<?, ?it/s]"
      ]
     },
     "metadata": {},
     "output_type": "display_data"
    },
    {
     "data": {
      "application/vnd.jupyter.widget-view+json": {
       "model_id": "dc69263a672b4af6901e53764dace0ab",
       "version_major": 2,
       "version_minor": 0
      },
      "text/plain": [
       "  0%|          | 0/500 [00:00<?, ?it/s]"
      ]
     },
     "metadata": {},
     "output_type": "display_data"
    },
    {
     "data": {
      "application/vnd.jupyter.widget-view+json": {
       "model_id": "0bae0829a5f242fcaf03f9faeb39873c",
       "version_major": 2,
       "version_minor": 0
      },
      "text/plain": [
       "  0%|          | 0/500 [00:00<?, ?it/s]"
      ]
     },
     "metadata": {},
     "output_type": "display_data"
    },
    {
     "data": {
      "application/vnd.jupyter.widget-view+json": {
       "model_id": "2264613ab47f4682ac97e779d028a550",
       "version_major": 2,
       "version_minor": 0
      },
      "text/plain": [
       "  0%|          | 0/500 [00:00<?, ?it/s]"
      ]
     },
     "metadata": {},
     "output_type": "display_data"
    },
    {
     "data": {
      "application/vnd.jupyter.widget-view+json": {
       "model_id": "04491ea0efbb432cbeb35d53c8eb585c",
       "version_major": 2,
       "version_minor": 0
      },
      "text/plain": [
       "  0%|          | 0/500 [00:00<?, ?it/s]"
      ]
     },
     "metadata": {},
     "output_type": "display_data"
    },
    {
     "data": {
      "application/vnd.jupyter.widget-view+json": {
       "model_id": "f8cd72675f194874abe4bb4c44bcce4d",
       "version_major": 2,
       "version_minor": 0
      },
      "text/plain": [
       "  0%|          | 0/500 [00:00<?, ?it/s]"
      ]
     },
     "metadata": {},
     "output_type": "display_data"
    },
    {
     "data": {
      "application/vnd.jupyter.widget-view+json": {
       "model_id": "c43d54eb732b4f0fa24e17fcdee04e11",
       "version_major": 2,
       "version_minor": 0
      },
      "text/plain": [
       "  0%|          | 0/500 [00:00<?, ?it/s]"
      ]
     },
     "metadata": {},
     "output_type": "display_data"
    },
    {
     "data": {
      "application/vnd.jupyter.widget-view+json": {
       "model_id": "0846248c6cdd40eeabec2091d60867fd",
       "version_major": 2,
       "version_minor": 0
      },
      "text/plain": [
       "  0%|          | 0/500 [00:00<?, ?it/s]"
      ]
     },
     "metadata": {},
     "output_type": "display_data"
    },
    {
     "data": {
      "application/vnd.jupyter.widget-view+json": {
       "model_id": "2bf7c526713d4139b25d4e308c7e944e",
       "version_major": 2,
       "version_minor": 0
      },
      "text/plain": [
       "  0%|          | 0/500 [00:00<?, ?it/s]"
      ]
     },
     "metadata": {},
     "output_type": "display_data"
    },
    {
     "data": {
      "application/vnd.jupyter.widget-view+json": {
       "model_id": "48e8ebdd4d2c48f5ac395cb3ab5a4897",
       "version_major": 2,
       "version_minor": 0
      },
      "text/plain": [
       "  0%|          | 0/500 [00:00<?, ?it/s]"
      ]
     },
     "metadata": {},
     "output_type": "display_data"
    },
    {
     "data": {
      "application/vnd.jupyter.widget-view+json": {
       "model_id": "f18902ac8ff040e082e5bdbc4ae24cec",
       "version_major": 2,
       "version_minor": 0
      },
      "text/plain": [
       "  0%|          | 0/500 [00:00<?, ?it/s]"
      ]
     },
     "metadata": {},
     "output_type": "display_data"
    },
    {
     "data": {
      "application/vnd.jupyter.widget-view+json": {
       "model_id": "4fcd7800a7fe4000b57768d83c279124",
       "version_major": 2,
       "version_minor": 0
      },
      "text/plain": [
       "  0%|          | 0/500 [00:00<?, ?it/s]"
      ]
     },
     "metadata": {},
     "output_type": "display_data"
    },
    {
     "data": {
      "application/vnd.jupyter.widget-view+json": {
       "model_id": "fe16c63a3a3848ec864d87d97d830c14",
       "version_major": 2,
       "version_minor": 0
      },
      "text/plain": [
       "  0%|          | 0/500 [00:00<?, ?it/s]"
      ]
     },
     "metadata": {},
     "output_type": "display_data"
    },
    {
     "data": {
      "application/vnd.jupyter.widget-view+json": {
       "model_id": "164f3fac7ecc473683a1170d8c8b4dbf",
       "version_major": 2,
       "version_minor": 0
      },
      "text/plain": [
       "  0%|          | 0/500 [00:00<?, ?it/s]"
      ]
     },
     "metadata": {},
     "output_type": "display_data"
    },
    {
     "data": {
      "application/vnd.jupyter.widget-view+json": {
       "model_id": "3840edd359d3451ba49b0ead501963cf",
       "version_major": 2,
       "version_minor": 0
      },
      "text/plain": [
       "  0%|          | 0/500 [00:00<?, ?it/s]"
      ]
     },
     "metadata": {},
     "output_type": "display_data"
    },
    {
     "data": {
      "application/vnd.jupyter.widget-view+json": {
       "model_id": "77f33a633c0940c28aade24599810872",
       "version_major": 2,
       "version_minor": 0
      },
      "text/plain": [
       "  0%|          | 0/500 [00:00<?, ?it/s]"
      ]
     },
     "metadata": {},
     "output_type": "display_data"
    },
    {
     "data": {
      "application/vnd.jupyter.widget-view+json": {
       "model_id": "85b22b9daf85428aab55ca99352026c1",
       "version_major": 2,
       "version_minor": 0
      },
      "text/plain": [
       "  0%|          | 0/500 [00:00<?, ?it/s]"
      ]
     },
     "metadata": {},
     "output_type": "display_data"
    },
    {
     "data": {
      "application/vnd.jupyter.widget-view+json": {
       "model_id": "94ae4611572c4ccbadb003015aa59ce9",
       "version_major": 2,
       "version_minor": 0
      },
      "text/plain": [
       "  0%|          | 0/500 [00:00<?, ?it/s]"
      ]
     },
     "metadata": {},
     "output_type": "display_data"
    },
    {
     "data": {
      "application/vnd.jupyter.widget-view+json": {
       "model_id": "c8d40db517cc476f9d022cc55c4e284c",
       "version_major": 2,
       "version_minor": 0
      },
      "text/plain": [
       "  0%|          | 0/500 [00:00<?, ?it/s]"
      ]
     },
     "metadata": {},
     "output_type": "display_data"
    },
    {
     "data": {
      "application/vnd.jupyter.widget-view+json": {
       "model_id": "18d42d7ccc29438baf4863a0519985a0",
       "version_major": 2,
       "version_minor": 0
      },
      "text/plain": [
       "  0%|          | 0/500 [00:00<?, ?it/s]"
      ]
     },
     "metadata": {},
     "output_type": "display_data"
    },
    {
     "data": {
      "application/vnd.jupyter.widget-view+json": {
       "model_id": "8250407a45964e2294725890cc9c4f41",
       "version_major": 2,
       "version_minor": 0
      },
      "text/plain": [
       "  0%|          | 0/500 [00:00<?, ?it/s]"
      ]
     },
     "metadata": {},
     "output_type": "display_data"
    },
    {
     "data": {
      "application/vnd.jupyter.widget-view+json": {
       "model_id": "228b5fe8fad44b898647fe82d3539a32",
       "version_major": 2,
       "version_minor": 0
      },
      "text/plain": [
       "  0%|          | 0/500 [00:00<?, ?it/s]"
      ]
     },
     "metadata": {},
     "output_type": "display_data"
    },
    {
     "data": {
      "application/vnd.jupyter.widget-view+json": {
       "model_id": "5987b6fc6e574438b249c63e37fa350c",
       "version_major": 2,
       "version_minor": 0
      },
      "text/plain": [
       "  0%|          | 0/500 [00:00<?, ?it/s]"
      ]
     },
     "metadata": {},
     "output_type": "display_data"
    },
    {
     "data": {
      "application/vnd.jupyter.widget-view+json": {
       "model_id": "3f9933e83f2d4314897728d3d05e47a0",
       "version_major": 2,
       "version_minor": 0
      },
      "text/plain": [
       "  0%|          | 0/500 [00:00<?, ?it/s]"
      ]
     },
     "metadata": {},
     "output_type": "display_data"
    },
    {
     "data": {
      "application/vnd.jupyter.widget-view+json": {
       "model_id": "d016f2810d35494e807761d1b50ed0d4",
       "version_major": 2,
       "version_minor": 0
      },
      "text/plain": [
       "  0%|          | 0/500 [00:00<?, ?it/s]"
      ]
     },
     "metadata": {},
     "output_type": "display_data"
    },
    {
     "data": {
      "application/vnd.jupyter.widget-view+json": {
       "model_id": "44a94ba912bf45fd9a2c4cb30e25a909",
       "version_major": 2,
       "version_minor": 0
      },
      "text/plain": [
       "  0%|          | 0/500 [00:00<?, ?it/s]"
      ]
     },
     "metadata": {},
     "output_type": "display_data"
    },
    {
     "data": {
      "application/vnd.jupyter.widget-view+json": {
       "model_id": "2f4637fb7b244555b175ad56930dc4b0",
       "version_major": 2,
       "version_minor": 0
      },
      "text/plain": [
       "  0%|          | 0/500 [00:00<?, ?it/s]"
      ]
     },
     "metadata": {},
     "output_type": "display_data"
    },
    {
     "data": {
      "application/vnd.jupyter.widget-view+json": {
       "model_id": "7a8a38be1b8b45f98ef1bddefdf5d947",
       "version_major": 2,
       "version_minor": 0
      },
      "text/plain": [
       "  0%|          | 0/500 [00:00<?, ?it/s]"
      ]
     },
     "metadata": {},
     "output_type": "display_data"
    },
    {
     "data": {
      "application/vnd.jupyter.widget-view+json": {
       "model_id": "dfec5c602207415e9e72b655e56eec18",
       "version_major": 2,
       "version_minor": 0
      },
      "text/plain": [
       "  0%|          | 0/500 [00:00<?, ?it/s]"
      ]
     },
     "metadata": {},
     "output_type": "display_data"
    },
    {
     "data": {
      "application/vnd.jupyter.widget-view+json": {
       "model_id": "0465d6f68fde4fa0bbcfbd7c076e1794",
       "version_major": 2,
       "version_minor": 0
      },
      "text/plain": [
       "  0%|          | 0/500 [00:00<?, ?it/s]"
      ]
     },
     "metadata": {},
     "output_type": "display_data"
    },
    {
     "data": {
      "application/vnd.jupyter.widget-view+json": {
       "model_id": "eb84f0f9b7f840c589f2bf42e9f7b143",
       "version_major": 2,
       "version_minor": 0
      },
      "text/plain": [
       "  0%|          | 0/500 [00:00<?, ?it/s]"
      ]
     },
     "metadata": {},
     "output_type": "display_data"
    },
    {
     "data": {
      "application/vnd.jupyter.widget-view+json": {
       "model_id": "a0bc8af0315c4d2b8d8ffb022b539da4",
       "version_major": 2,
       "version_minor": 0
      },
      "text/plain": [
       "  0%|          | 0/500 [00:00<?, ?it/s]"
      ]
     },
     "metadata": {},
     "output_type": "display_data"
    },
    {
     "data": {
      "application/vnd.jupyter.widget-view+json": {
       "model_id": "3b720e6d6b6342d5af75bd87180950e8",
       "version_major": 2,
       "version_minor": 0
      },
      "text/plain": [
       "  0%|          | 0/500 [00:00<?, ?it/s]"
      ]
     },
     "metadata": {},
     "output_type": "display_data"
    },
    {
     "data": {
      "application/vnd.jupyter.widget-view+json": {
       "model_id": "0c9321c07e6040feb2fdc6542a6930b7",
       "version_major": 2,
       "version_minor": 0
      },
      "text/plain": [
       "  0%|          | 0/500 [00:00<?, ?it/s]"
      ]
     },
     "metadata": {},
     "output_type": "display_data"
    },
    {
     "data": {
      "application/vnd.jupyter.widget-view+json": {
       "model_id": "1e573cf0e9df42e6aad3243e22fd0f24",
       "version_major": 2,
       "version_minor": 0
      },
      "text/plain": [
       "  0%|          | 0/500 [00:00<?, ?it/s]"
      ]
     },
     "metadata": {},
     "output_type": "display_data"
    },
    {
     "data": {
      "application/vnd.jupyter.widget-view+json": {
       "model_id": "5476f57bf16e4c25a35d40d6846280af",
       "version_major": 2,
       "version_minor": 0
      },
      "text/plain": [
       "  0%|          | 0/500 [00:00<?, ?it/s]"
      ]
     },
     "metadata": {},
     "output_type": "display_data"
    },
    {
     "data": {
      "application/vnd.jupyter.widget-view+json": {
       "model_id": "c2c8a4dd19f548eba2395c2fe8e127d5",
       "version_major": 2,
       "version_minor": 0
      },
      "text/plain": [
       "  0%|          | 0/500 [00:00<?, ?it/s]"
      ]
     },
     "metadata": {},
     "output_type": "display_data"
    },
    {
     "data": {
      "application/vnd.jupyter.widget-view+json": {
       "model_id": "7876817e3a224e69bbf495eee5652774",
       "version_major": 2,
       "version_minor": 0
      },
      "text/plain": [
       "  0%|          | 0/500 [00:00<?, ?it/s]"
      ]
     },
     "metadata": {},
     "output_type": "display_data"
    },
    {
     "data": {
      "application/vnd.jupyter.widget-view+json": {
       "model_id": "cc9b0d2277ea4c249edb951d4bb65b5b",
       "version_major": 2,
       "version_minor": 0
      },
      "text/plain": [
       "  0%|          | 0/500 [00:00<?, ?it/s]"
      ]
     },
     "metadata": {},
     "output_type": "display_data"
    },
    {
     "data": {
      "application/vnd.jupyter.widget-view+json": {
       "model_id": "35e18533945c4b73ad0f02c30edddd7b",
       "version_major": 2,
       "version_minor": 0
      },
      "text/plain": [
       "  0%|          | 0/500 [00:00<?, ?it/s]"
      ]
     },
     "metadata": {},
     "output_type": "display_data"
    },
    {
     "data": {
      "application/vnd.jupyter.widget-view+json": {
       "model_id": "d18c9d95cf1547e894ed5f39ea1cf38f",
       "version_major": 2,
       "version_minor": 0
      },
      "text/plain": [
       "  0%|          | 0/500 [00:00<?, ?it/s]"
      ]
     },
     "metadata": {},
     "output_type": "display_data"
    },
    {
     "data": {
      "application/vnd.jupyter.widget-view+json": {
       "model_id": "750dcd1151b54782b6d2561b5e3ef7b2",
       "version_major": 2,
       "version_minor": 0
      },
      "text/plain": [
       "  0%|          | 0/500 [00:00<?, ?it/s]"
      ]
     },
     "metadata": {},
     "output_type": "display_data"
    },
    {
     "data": {
      "application/vnd.jupyter.widget-view+json": {
       "model_id": "f78a24c7aa7449dd859b4cf6e84536ac",
       "version_major": 2,
       "version_minor": 0
      },
      "text/plain": [
       "  0%|          | 0/500 [00:00<?, ?it/s]"
      ]
     },
     "metadata": {},
     "output_type": "display_data"
    },
    {
     "data": {
      "application/vnd.jupyter.widget-view+json": {
       "model_id": "76e8dc24adc44c8c821aa6f29e10cd51",
       "version_major": 2,
       "version_minor": 0
      },
      "text/plain": [
       "  0%|          | 0/500 [00:00<?, ?it/s]"
      ]
     },
     "metadata": {},
     "output_type": "display_data"
    },
    {
     "data": {
      "application/vnd.jupyter.widget-view+json": {
       "model_id": "40e4866637d7424bb42336e71263f58e",
       "version_major": 2,
       "version_minor": 0
      },
      "text/plain": [
       "  0%|          | 0/500 [00:00<?, ?it/s]"
      ]
     },
     "metadata": {},
     "output_type": "display_data"
    },
    {
     "data": {
      "application/vnd.jupyter.widget-view+json": {
       "model_id": "f7e5ca0f6e4547909e05397d6077c43f",
       "version_major": 2,
       "version_minor": 0
      },
      "text/plain": [
       "  0%|          | 0/500 [00:00<?, ?it/s]"
      ]
     },
     "metadata": {},
     "output_type": "display_data"
    },
    {
     "data": {
      "application/vnd.jupyter.widget-view+json": {
       "model_id": "d650370302cb422eb3de6dc609b39dcc",
       "version_major": 2,
       "version_minor": 0
      },
      "text/plain": [
       "  0%|          | 0/500 [00:00<?, ?it/s]"
      ]
     },
     "metadata": {},
     "output_type": "display_data"
    },
    {
     "data": {
      "application/vnd.jupyter.widget-view+json": {
       "model_id": "11be76851e044a45948616df0ab8591c",
       "version_major": 2,
       "version_minor": 0
      },
      "text/plain": [
       "[pred_fn]:   0%|          | 0/4 [00:00<?, ?it/s]"
      ]
     },
     "metadata": {},
     "output_type": "display_data"
    },
    {
     "data": {
      "application/vnd.jupyter.widget-view+json": {
       "model_id": "38dd905b75114742aedf98da44a7f948",
       "version_major": 2,
       "version_minor": 0
      },
      "text/plain": [
       "[pred_fn]:   0%|          | 0/4 [00:00<?, ?it/s]"
      ]
     },
     "metadata": {},
     "output_type": "display_data"
    },
    {
     "data": {
      "application/vnd.jupyter.widget-view+json": {
       "model_id": "3e8733d622274a35a9202ea81a1d4d3a",
       "version_major": 2,
       "version_minor": 0
      },
      "text/plain": [
       "[pred_fn]:   0%|          | 0/4 [00:00<?, ?it/s]"
      ]
     },
     "metadata": {},
     "output_type": "display_data"
    },
    {
     "data": {
      "application/vnd.jupyter.widget-view+json": {
       "model_id": "4fbb8482204e48578ab676bd92a56a78",
       "version_major": 2,
       "version_minor": 0
      },
      "text/plain": [
       "[pred_fn]:   0%|          | 0/4 [00:00<?, ?it/s]"
      ]
     },
     "metadata": {},
     "output_type": "display_data"
    },
    {
     "data": {
      "application/vnd.jupyter.widget-view+json": {
       "model_id": "a89e69d52b674d52a09a174489404ed5",
       "version_major": 2,
       "version_minor": 0
      },
      "text/plain": [
       "[pred_fn]:   0%|          | 0/4 [00:00<?, ?it/s]"
      ]
     },
     "metadata": {},
     "output_type": "display_data"
    },
    {
     "data": {
      "application/vnd.jupyter.widget-view+json": {
       "model_id": "d65455d55a28431f8c8fc45e82572b4a",
       "version_major": 2,
       "version_minor": 0
      },
      "text/plain": [
       "[pred_fn]:   0%|          | 0/4 [00:00<?, ?it/s]"
      ]
     },
     "metadata": {},
     "output_type": "display_data"
    },
    {
     "data": {
      "application/vnd.jupyter.widget-view+json": {
       "model_id": "39676b27ff724a2699eb3b1b2c95c0cd",
       "version_major": 2,
       "version_minor": 0
      },
      "text/plain": [
       "[pred_fn]:   0%|          | 0/4 [00:00<?, ?it/s]"
      ]
     },
     "metadata": {},
     "output_type": "display_data"
    },
    {
     "data": {
      "application/vnd.jupyter.widget-view+json": {
       "model_id": "83663979f3c545239fdaf56b5f92a61a",
       "version_major": 2,
       "version_minor": 0
      },
      "text/plain": [
       "[pred_fn]:   0%|          | 0/4 [00:00<?, ?it/s]"
      ]
     },
     "metadata": {},
     "output_type": "display_data"
    },
    {
     "data": {
      "application/vnd.jupyter.widget-view+json": {
       "model_id": "0ea7de522c1742d1a1791c3e02fe7315",
       "version_major": 2,
       "version_minor": 0
      },
      "text/plain": [
       "[pred_fn]:   0%|          | 0/4 [00:00<?, ?it/s]"
      ]
     },
     "metadata": {},
     "output_type": "display_data"
    },
    {
     "data": {
      "application/vnd.jupyter.widget-view+json": {
       "model_id": "93358ed864234a4e9c992be5baca824e",
       "version_major": 2,
       "version_minor": 0
      },
      "text/plain": [
       "[pred_fn]:   0%|          | 0/4 [00:00<?, ?it/s]"
      ]
     },
     "metadata": {},
     "output_type": "display_data"
    },
    {
     "data": {
      "application/vnd.jupyter.widget-view+json": {
       "model_id": "a63788c80abd45ec9a7774dd86d106d5",
       "version_major": 2,
       "version_minor": 0
      },
      "text/plain": [
       "[pred_fn]:   0%|          | 0/4 [00:00<?, ?it/s]"
      ]
     },
     "metadata": {},
     "output_type": "display_data"
    },
    {
     "data": {
      "application/vnd.jupyter.widget-view+json": {
       "model_id": "4f649f11b4394dc4a422d9e56fc54e93",
       "version_major": 2,
       "version_minor": 0
      },
      "text/plain": [
       "[pred_fn]:   0%|          | 0/4 [00:00<?, ?it/s]"
      ]
     },
     "metadata": {},
     "output_type": "display_data"
    },
    {
     "data": {
      "application/vnd.jupyter.widget-view+json": {
       "model_id": "89a1800e9e904fa9ac7111ee747dc68a",
       "version_major": 2,
       "version_minor": 0
      },
      "text/plain": [
       "[pred_fn]:   0%|          | 0/4 [00:00<?, ?it/s]"
      ]
     },
     "metadata": {},
     "output_type": "display_data"
    },
    {
     "data": {
      "application/vnd.jupyter.widget-view+json": {
       "model_id": "1e031ee8e65d4152ae6595e701aae4a7",
       "version_major": 2,
       "version_minor": 0
      },
      "text/plain": [
       "[pred_fn]:   0%|          | 0/4 [00:00<?, ?it/s]"
      ]
     },
     "metadata": {},
     "output_type": "display_data"
    },
    {
     "data": {
      "application/vnd.jupyter.widget-view+json": {
       "model_id": "639214403d0549f9bdf35db7cc23e13a",
       "version_major": 2,
       "version_minor": 0
      },
      "text/plain": [
       "[pred_fn]:   0%|          | 0/4 [00:00<?, ?it/s]"
      ]
     },
     "metadata": {},
     "output_type": "display_data"
    },
    {
     "data": {
      "application/vnd.jupyter.widget-view+json": {
       "model_id": "6dfdb512c075454fb186fdf2a2bdf5bb",
       "version_major": 2,
       "version_minor": 0
      },
      "text/plain": [
       "[pred_fn]:   0%|          | 0/4 [00:00<?, ?it/s]"
      ]
     },
     "metadata": {},
     "output_type": "display_data"
    },
    {
     "data": {
      "application/vnd.jupyter.widget-view+json": {
       "model_id": "a2508ddf18ac4cb5b29843c3f62f7a64",
       "version_major": 2,
       "version_minor": 0
      },
      "text/plain": [
       "[pred_fn]:   0%|          | 0/4 [00:00<?, ?it/s]"
      ]
     },
     "metadata": {},
     "output_type": "display_data"
    },
    {
     "data": {
      "application/vnd.jupyter.widget-view+json": {
       "model_id": "284932fb8f1b4f8a8342a0c7e2c0b92e",
       "version_major": 2,
       "version_minor": 0
      },
      "text/plain": [
       "[pred_fn]:   0%|          | 0/4 [00:00<?, ?it/s]"
      ]
     },
     "metadata": {},
     "output_type": "display_data"
    },
    {
     "data": {
      "application/vnd.jupyter.widget-view+json": {
       "model_id": "79efd3430c4f4ce2833d320c01ae08e0",
       "version_major": 2,
       "version_minor": 0
      },
      "text/plain": [
       "[pred_fn]:   0%|          | 0/4 [00:00<?, ?it/s]"
      ]
     },
     "metadata": {},
     "output_type": "display_data"
    },
    {
     "data": {
      "application/vnd.jupyter.widget-view+json": {
       "model_id": "537944909d3c48478dc4783ca65526ea",
       "version_major": 2,
       "version_minor": 0
      },
      "text/plain": [
       "[pred_fn]:   0%|          | 0/4 [00:00<?, ?it/s]"
      ]
     },
     "metadata": {},
     "output_type": "display_data"
    },
    {
     "data": {
      "application/vnd.jupyter.widget-view+json": {
       "model_id": "33d9c15ed8f24ef2b3ef8e6161d5a3e8",
       "version_major": 2,
       "version_minor": 0
      },
      "text/plain": [
       "[pred_fn]:   0%|          | 0/4 [00:00<?, ?it/s]"
      ]
     },
     "metadata": {},
     "output_type": "display_data"
    },
    {
     "data": {
      "application/vnd.jupyter.widget-view+json": {
       "model_id": "221c4bfcc0524670aaa4ca7b12f72c13",
       "version_major": 2,
       "version_minor": 0
      },
      "text/plain": [
       "[pred_fn]:   0%|          | 0/4 [00:00<?, ?it/s]"
      ]
     },
     "metadata": {},
     "output_type": "display_data"
    },
    {
     "data": {
      "application/vnd.jupyter.widget-view+json": {
       "model_id": "d994cabf789a4a8fb63fb105018fff59",
       "version_major": 2,
       "version_minor": 0
      },
      "text/plain": [
       "[pred_fn]:   0%|          | 0/4 [00:00<?, ?it/s]"
      ]
     },
     "metadata": {},
     "output_type": "display_data"
    },
    {
     "data": {
      "application/vnd.jupyter.widget-view+json": {
       "model_id": "fff86a6193d3401b834dad8969d11e4a",
       "version_major": 2,
       "version_minor": 0
      },
      "text/plain": [
       "[pred_fn]:   0%|          | 0/4 [00:00<?, ?it/s]"
      ]
     },
     "metadata": {},
     "output_type": "display_data"
    },
    {
     "data": {
      "application/vnd.jupyter.widget-view+json": {
       "model_id": "7e0d41c6b4c34a3ab7b16d1acebf59a5",
       "version_major": 2,
       "version_minor": 0
      },
      "text/plain": [
       "[pred_fn]:   0%|          | 0/4 [00:00<?, ?it/s]"
      ]
     },
     "metadata": {},
     "output_type": "display_data"
    },
    {
     "data": {
      "application/vnd.jupyter.widget-view+json": {
       "model_id": "74a396d8dbfb48388c818e3503561c24",
       "version_major": 2,
       "version_minor": 0
      },
      "text/plain": [
       "[pred_fn]:   0%|          | 0/4 [00:00<?, ?it/s]"
      ]
     },
     "metadata": {},
     "output_type": "display_data"
    },
    {
     "data": {
      "application/vnd.jupyter.widget-view+json": {
       "model_id": "de038abced13457d8fba37055a54712d",
       "version_major": 2,
       "version_minor": 0
      },
      "text/plain": [
       "[pred_fn]:   0%|          | 0/4 [00:00<?, ?it/s]"
      ]
     },
     "metadata": {},
     "output_type": "display_data"
    },
    {
     "data": {
      "application/vnd.jupyter.widget-view+json": {
       "model_id": "dd43e4ea28fb4b6b8cc53825df6ebdab",
       "version_major": 2,
       "version_minor": 0
      },
      "text/plain": [
       "[pred_fn]:   0%|          | 0/4 [00:00<?, ?it/s]"
      ]
     },
     "metadata": {},
     "output_type": "display_data"
    },
    {
     "data": {
      "application/vnd.jupyter.widget-view+json": {
       "model_id": "5b73e24d25544e308bf72b4f406c1548",
       "version_major": 2,
       "version_minor": 0
      },
      "text/plain": [
       "[pred_fn]:   0%|          | 0/4 [00:00<?, ?it/s]"
      ]
     },
     "metadata": {},
     "output_type": "display_data"
    },
    {
     "data": {
      "application/vnd.jupyter.widget-view+json": {
       "model_id": "2afe15bb0d9d400db8db17782daa3b26",
       "version_major": 2,
       "version_minor": 0
      },
      "text/plain": [
       "[pred_fn]:   0%|          | 0/4 [00:00<?, ?it/s]"
      ]
     },
     "metadata": {},
     "output_type": "display_data"
    },
    {
     "data": {
      "application/vnd.jupyter.widget-view+json": {
       "model_id": "a346c0711f1a4a519cdadea4ceb68483",
       "version_major": 2,
       "version_minor": 0
      },
      "text/plain": [
       "[pred_fn]:   0%|          | 0/4 [00:00<?, ?it/s]"
      ]
     },
     "metadata": {},
     "output_type": "display_data"
    },
    {
     "data": {
      "application/vnd.jupyter.widget-view+json": {
       "model_id": "79cc4fcd956d479f9075cb09fa60b18f",
       "version_major": 2,
       "version_minor": 0
      },
      "text/plain": [
       "[pred_fn]:   0%|          | 0/4 [00:00<?, ?it/s]"
      ]
     },
     "metadata": {},
     "output_type": "display_data"
    },
    {
     "data": {
      "application/vnd.jupyter.widget-view+json": {
       "model_id": "464de36218e646028d2bf5f007b7a1ad",
       "version_major": 2,
       "version_minor": 0
      },
      "text/plain": [
       "[pred_fn]:   0%|          | 0/4 [00:00<?, ?it/s]"
      ]
     },
     "metadata": {},
     "output_type": "display_data"
    },
    {
     "data": {
      "application/vnd.jupyter.widget-view+json": {
       "model_id": "9f62ee1a9f714ee58a63eaceabe9bbbf",
       "version_major": 2,
       "version_minor": 0
      },
      "text/plain": [
       "[pred_fn]:   0%|          | 0/4 [00:00<?, ?it/s]"
      ]
     },
     "metadata": {},
     "output_type": "display_data"
    },
    {
     "data": {
      "application/vnd.jupyter.widget-view+json": {
       "model_id": "ec2adcfaf3cf4262ab912f19950849ea",
       "version_major": 2,
       "version_minor": 0
      },
      "text/plain": [
       "[pred_fn]:   0%|          | 0/4 [00:00<?, ?it/s]"
      ]
     },
     "metadata": {},
     "output_type": "display_data"
    },
    {
     "data": {
      "application/vnd.jupyter.widget-view+json": {
       "model_id": "29289de0d72f4defbd815b7410c5dcfd",
       "version_major": 2,
       "version_minor": 0
      },
      "text/plain": [
       "[pred_fn]:   0%|          | 0/4 [00:00<?, ?it/s]"
      ]
     },
     "metadata": {},
     "output_type": "display_data"
    },
    {
     "data": {
      "application/vnd.jupyter.widget-view+json": {
       "model_id": "7985d1d708dc4114956e6c2cee3977db",
       "version_major": 2,
       "version_minor": 0
      },
      "text/plain": [
       "[pred_fn]:   0%|          | 0/4 [00:00<?, ?it/s]"
      ]
     },
     "metadata": {},
     "output_type": "display_data"
    },
    {
     "data": {
      "application/vnd.jupyter.widget-view+json": {
       "model_id": "7ad35e1b311249c7816b23f92a45beab",
       "version_major": 2,
       "version_minor": 0
      },
      "text/plain": [
       "[pred_fn]:   0%|          | 0/4 [00:00<?, ?it/s]"
      ]
     },
     "metadata": {},
     "output_type": "display_data"
    },
    {
     "data": {
      "application/vnd.jupyter.widget-view+json": {
       "model_id": "066aedaf15024b71af095e76cc4f3100",
       "version_major": 2,
       "version_minor": 0
      },
      "text/plain": [
       "[pred_fn]:   0%|          | 0/4 [00:00<?, ?it/s]"
      ]
     },
     "metadata": {},
     "output_type": "display_data"
    },
    {
     "data": {
      "application/vnd.jupyter.widget-view+json": {
       "model_id": "8d0739b4309d4fa5b8c3c4d472f0238c",
       "version_major": 2,
       "version_minor": 0
      },
      "text/plain": [
       "[pred_fn]:   0%|          | 0/4 [00:00<?, ?it/s]"
      ]
     },
     "metadata": {},
     "output_type": "display_data"
    },
    {
     "data": {
      "application/vnd.jupyter.widget-view+json": {
       "model_id": "3470400f5be9447294668d5b9236a113",
       "version_major": 2,
       "version_minor": 0
      },
      "text/plain": [
       "[pred_fn]:   0%|          | 0/4 [00:00<?, ?it/s]"
      ]
     },
     "metadata": {},
     "output_type": "display_data"
    },
    {
     "data": {
      "application/vnd.jupyter.widget-view+json": {
       "model_id": "d03ed75f3ec1499da772f10bf7f93bba",
       "version_major": 2,
       "version_minor": 0
      },
      "text/plain": [
       "[pred_fn]:   0%|          | 0/4 [00:00<?, ?it/s]"
      ]
     },
     "metadata": {},
     "output_type": "display_data"
    },
    {
     "data": {
      "application/vnd.jupyter.widget-view+json": {
       "model_id": "a921052f852249d29787f4b5e37a0e2c",
       "version_major": 2,
       "version_minor": 0
      },
      "text/plain": [
       "[pred_fn]:   0%|          | 0/4 [00:00<?, ?it/s]"
      ]
     },
     "metadata": {},
     "output_type": "display_data"
    },
    {
     "data": {
      "application/vnd.jupyter.widget-view+json": {
       "model_id": "70895ead118941fcae583212ccf95182",
       "version_major": 2,
       "version_minor": 0
      },
      "text/plain": [
       "[pred_fn]:   0%|          | 0/4 [00:00<?, ?it/s]"
      ]
     },
     "metadata": {},
     "output_type": "display_data"
    },
    {
     "data": {
      "application/vnd.jupyter.widget-view+json": {
       "model_id": "e6e073ee7cac4973aa8d4895dc1d0a91",
       "version_major": 2,
       "version_minor": 0
      },
      "text/plain": [
       "[pred_fn]:   0%|          | 0/4 [00:00<?, ?it/s]"
      ]
     },
     "metadata": {},
     "output_type": "display_data"
    },
    {
     "data": {
      "application/vnd.jupyter.widget-view+json": {
       "model_id": "3cdf65f449274f839348864fea0daf06",
       "version_major": 2,
       "version_minor": 0
      },
      "text/plain": [
       "[pred_fn]:   0%|          | 0/4 [00:00<?, ?it/s]"
      ]
     },
     "metadata": {},
     "output_type": "display_data"
    },
    {
     "data": {
      "application/vnd.jupyter.widget-view+json": {
       "model_id": "9dd7011812304b94a5c0d1b85ede307d",
       "version_major": 2,
       "version_minor": 0
      },
      "text/plain": [
       "[pred_fn]:   0%|          | 0/4 [00:00<?, ?it/s]"
      ]
     },
     "metadata": {},
     "output_type": "display_data"
    },
    {
     "data": {
      "application/vnd.jupyter.widget-view+json": {
       "model_id": "2768c10b7c6d416da49e0de0f1c91c5d",
       "version_major": 2,
       "version_minor": 0
      },
      "text/plain": [
       "[pred_fn]:   0%|          | 0/4 [00:00<?, ?it/s]"
      ]
     },
     "metadata": {},
     "output_type": "display_data"
    },
    {
     "data": {
      "application/vnd.jupyter.widget-view+json": {
       "model_id": "07a2ef86c611440e871b6b85bb58764e",
       "version_major": 2,
       "version_minor": 0
      },
      "text/plain": [
       "[pred_fn]:   0%|          | 0/4 [00:00<?, ?it/s]"
      ]
     },
     "metadata": {},
     "output_type": "display_data"
    },
    {
     "data": {
      "application/vnd.jupyter.widget-view+json": {
       "model_id": "e428fcf7cfb74a1aa0f72b8d4745b7b0",
       "version_major": 2,
       "version_minor": 0
      },
      "text/plain": [
       "[pred_fn]:   0%|          | 0/4 [00:00<?, ?it/s]"
      ]
     },
     "metadata": {},
     "output_type": "display_data"
    },
    {
     "data": {
      "application/vnd.jupyter.widget-view+json": {
       "model_id": "a48dbba13e76426ca699b51b9b83cb7d",
       "version_major": 2,
       "version_minor": 0
      },
      "text/plain": [
       "[pred_fn]:   0%|          | 0/4 [00:00<?, ?it/s]"
      ]
     },
     "metadata": {},
     "output_type": "display_data"
    },
    {
     "data": {
      "application/vnd.jupyter.widget-view+json": {
       "model_id": "601f9210f8184b469ebdca3b86018ea3",
       "version_major": 2,
       "version_minor": 0
      },
      "text/plain": [
       "[pred_fn]:   0%|          | 0/4 [00:00<?, ?it/s]"
      ]
     },
     "metadata": {},
     "output_type": "display_data"
    },
    {
     "data": {
      "application/vnd.jupyter.widget-view+json": {
       "model_id": "1bb07357daa44cc4bbd32d10e30d53c3",
       "version_major": 2,
       "version_minor": 0
      },
      "text/plain": [
       "[pred_fn]:   0%|          | 0/4 [00:00<?, ?it/s]"
      ]
     },
     "metadata": {},
     "output_type": "display_data"
    },
    {
     "data": {
      "application/vnd.jupyter.widget-view+json": {
       "model_id": "6de6c249bd08484e967b3e2814633020",
       "version_major": 2,
       "version_minor": 0
      },
      "text/plain": [
       "[pred_fn]:   0%|          | 0/4 [00:00<?, ?it/s]"
      ]
     },
     "metadata": {},
     "output_type": "display_data"
    },
    {
     "data": {
      "application/vnd.jupyter.widget-view+json": {
       "model_id": "6b7a3278c858467096905c7ab5892daa",
       "version_major": 2,
       "version_minor": 0
      },
      "text/plain": [
       "[pred_fn]:   0%|          | 0/4 [00:00<?, ?it/s]"
      ]
     },
     "metadata": {},
     "output_type": "display_data"
    },
    {
     "data": {
      "application/vnd.jupyter.widget-view+json": {
       "model_id": "19e4b5bca7c94b8f83df1ed19e20ed17",
       "version_major": 2,
       "version_minor": 0
      },
      "text/plain": [
       "[pred_fn]:   0%|          | 0/4 [00:00<?, ?it/s]"
      ]
     },
     "metadata": {},
     "output_type": "display_data"
    },
    {
     "data": {
      "application/vnd.jupyter.widget-view+json": {
       "model_id": "856c154f583d4d5fb9ddae7821a0dd80",
       "version_major": 2,
       "version_minor": 0
      },
      "text/plain": [
       "[pred_fn]:   0%|          | 0/4 [00:00<?, ?it/s]"
      ]
     },
     "metadata": {},
     "output_type": "display_data"
    },
    {
     "data": {
      "application/vnd.jupyter.widget-view+json": {
       "model_id": "45f7cfe2f12b4b8db74b1cc948e724ea",
       "version_major": 2,
       "version_minor": 0
      },
      "text/plain": [
       "[pred_fn]:   0%|          | 0/4 [00:00<?, ?it/s]"
      ]
     },
     "metadata": {},
     "output_type": "display_data"
    },
    {
     "data": {
      "application/vnd.jupyter.widget-view+json": {
       "model_id": "17dce393ffbe49c2937236dddb76dc9b",
       "version_major": 2,
       "version_minor": 0
      },
      "text/plain": [
       "[pred_fn]:   0%|          | 0/4 [00:00<?, ?it/s]"
      ]
     },
     "metadata": {},
     "output_type": "display_data"
    },
    {
     "data": {
      "application/vnd.jupyter.widget-view+json": {
       "model_id": "6ae2b7907e4149d48ce5ac4fe715ebf0",
       "version_major": 2,
       "version_minor": 0
      },
      "text/plain": [
       "[pred_fn]:   0%|          | 0/4 [00:00<?, ?it/s]"
      ]
     },
     "metadata": {},
     "output_type": "display_data"
    },
    {
     "data": {
      "application/vnd.jupyter.widget-view+json": {
       "model_id": "139ba48db4b94b23a3adf6b7e599c1f0",
       "version_major": 2,
       "version_minor": 0
      },
      "text/plain": [
       "[pred_fn]:   0%|          | 0/4 [00:00<?, ?it/s]"
      ]
     },
     "metadata": {},
     "output_type": "display_data"
    },
    {
     "data": {
      "application/vnd.jupyter.widget-view+json": {
       "model_id": "43646469818243d6b7d86e9e3053cc90",
       "version_major": 2,
       "version_minor": 0
      },
      "text/plain": [
       "[pred_fn]:   0%|          | 0/4 [00:00<?, ?it/s]"
      ]
     },
     "metadata": {},
     "output_type": "display_data"
    },
    {
     "data": {
      "application/vnd.jupyter.widget-view+json": {
       "model_id": "a10ace3fd4fe4b1f86b28a3effdaca1f",
       "version_major": 2,
       "version_minor": 0
      },
      "text/plain": [
       "[pred_fn]:   0%|          | 0/4 [00:00<?, ?it/s]"
      ]
     },
     "metadata": {},
     "output_type": "display_data"
    },
    {
     "data": {
      "application/vnd.jupyter.widget-view+json": {
       "model_id": "11195a2c32d64ea7be22f2ad3569d773",
       "version_major": 2,
       "version_minor": 0
      },
      "text/plain": [
       "[pred_fn]:   0%|          | 0/4 [00:00<?, ?it/s]"
      ]
     },
     "metadata": {},
     "output_type": "display_data"
    },
    {
     "data": {
      "application/vnd.jupyter.widget-view+json": {
       "model_id": "70975cbe45bb40c8bf8dde929fd72181",
       "version_major": 2,
       "version_minor": 0
      },
      "text/plain": [
       "[pred_fn]:   0%|          | 0/4 [00:00<?, ?it/s]"
      ]
     },
     "metadata": {},
     "output_type": "display_data"
    },
    {
     "data": {
      "application/vnd.jupyter.widget-view+json": {
       "model_id": "351a7040d32241d2a121b7939de672b7",
       "version_major": 2,
       "version_minor": 0
      },
      "text/plain": [
       "[pred_fn]:   0%|          | 0/4 [00:00<?, ?it/s]"
      ]
     },
     "metadata": {},
     "output_type": "display_data"
    },
    {
     "data": {
      "application/vnd.jupyter.widget-view+json": {
       "model_id": "5b6428ff8ae5432c93862d97e1adb26d",
       "version_major": 2,
       "version_minor": 0
      },
      "text/plain": [
       "[pred_fn]:   0%|          | 0/4 [00:00<?, ?it/s]"
      ]
     },
     "metadata": {},
     "output_type": "display_data"
    },
    {
     "data": {
      "application/vnd.jupyter.widget-view+json": {
       "model_id": "be0513a661e64922a53fa424e075846d",
       "version_major": 2,
       "version_minor": 0
      },
      "text/plain": [
       "[pred_fn]:   0%|          | 0/4 [00:00<?, ?it/s]"
      ]
     },
     "metadata": {},
     "output_type": "display_data"
    },
    {
     "data": {
      "application/vnd.jupyter.widget-view+json": {
       "model_id": "7efdbee5dfed453a8786047492279138",
       "version_major": 2,
       "version_minor": 0
      },
      "text/plain": [
       "[pred_fn]:   0%|          | 0/4 [00:00<?, ?it/s]"
      ]
     },
     "metadata": {},
     "output_type": "display_data"
    },
    {
     "data": {
      "application/vnd.jupyter.widget-view+json": {
       "model_id": "f9158a45bbbf4e2296f740875950cfc0",
       "version_major": 2,
       "version_minor": 0
      },
      "text/plain": [
       "[pred_fn]:   0%|          | 0/4 [00:00<?, ?it/s]"
      ]
     },
     "metadata": {},
     "output_type": "display_data"
    },
    {
     "data": {
      "application/vnd.jupyter.widget-view+json": {
       "model_id": "aed6576ffd144330a20546bb05b18bf0",
       "version_major": 2,
       "version_minor": 0
      },
      "text/plain": [
       "[pred_fn]:   0%|          | 0/4 [00:00<?, ?it/s]"
      ]
     },
     "metadata": {},
     "output_type": "display_data"
    },
    {
     "data": {
      "application/vnd.jupyter.widget-view+json": {
       "model_id": "68f41fb6590e461b9fdd29d7010b9237",
       "version_major": 2,
       "version_minor": 0
      },
      "text/plain": [
       "[pred_fn]:   0%|          | 0/4 [00:00<?, ?it/s]"
      ]
     },
     "metadata": {},
     "output_type": "display_data"
    },
    {
     "data": {
      "application/vnd.jupyter.widget-view+json": {
       "model_id": "b29b9ae4b75e46249d9900cdde4863e6",
       "version_major": 2,
       "version_minor": 0
      },
      "text/plain": [
       "[pred_fn]:   0%|          | 0/4 [00:00<?, ?it/s]"
      ]
     },
     "metadata": {},
     "output_type": "display_data"
    },
    {
     "data": {
      "application/vnd.jupyter.widget-view+json": {
       "model_id": "0e6300618a68486dbeab1b3d8e7864e0",
       "version_major": 2,
       "version_minor": 0
      },
      "text/plain": [
       "[pred_fn]:   0%|          | 0/4 [00:00<?, ?it/s]"
      ]
     },
     "metadata": {},
     "output_type": "display_data"
    },
    {
     "data": {
      "application/vnd.jupyter.widget-view+json": {
       "model_id": "a61e21ce68f24b7db94a6897aa325259",
       "version_major": 2,
       "version_minor": 0
      },
      "text/plain": [
       "[pred_fn]:   0%|          | 0/4 [00:00<?, ?it/s]"
      ]
     },
     "metadata": {},
     "output_type": "display_data"
    },
    {
     "data": {
      "application/vnd.jupyter.widget-view+json": {
       "model_id": "66b6fc1fb04c44649671b748ea17bf46",
       "version_major": 2,
       "version_minor": 0
      },
      "text/plain": [
       "[pred_fn]:   0%|          | 0/4 [00:00<?, ?it/s]"
      ]
     },
     "metadata": {},
     "output_type": "display_data"
    },
    {
     "data": {
      "application/vnd.jupyter.widget-view+json": {
       "model_id": "48de1419ea4149d99819ae21de4dd459",
       "version_major": 2,
       "version_minor": 0
      },
      "text/plain": [
       "[pred_fn]:   0%|          | 0/4 [00:00<?, ?it/s]"
      ]
     },
     "metadata": {},
     "output_type": "display_data"
    },
    {
     "data": {
      "application/vnd.jupyter.widget-view+json": {
       "model_id": "9c11fa85a3194e88818a99b66a694ce8",
       "version_major": 2,
       "version_minor": 0
      },
      "text/plain": [
       "[pred_fn]:   0%|          | 0/4 [00:00<?, ?it/s]"
      ]
     },
     "metadata": {},
     "output_type": "display_data"
    },
    {
     "data": {
      "application/vnd.jupyter.widget-view+json": {
       "model_id": "9450089f42ac4cd39111b041de5db5a7",
       "version_major": 2,
       "version_minor": 0
      },
      "text/plain": [
       "[pred_fn]:   0%|          | 0/4 [00:00<?, ?it/s]"
      ]
     },
     "metadata": {},
     "output_type": "display_data"
    },
    {
     "data": {
      "application/vnd.jupyter.widget-view+json": {
       "model_id": "bdd36279a8a0488e9157c78d2a870b14",
       "version_major": 2,
       "version_minor": 0
      },
      "text/plain": [
       "[pred_fn]:   0%|          | 0/4 [00:00<?, ?it/s]"
      ]
     },
     "metadata": {},
     "output_type": "display_data"
    },
    {
     "data": {
      "application/vnd.jupyter.widget-view+json": {
       "model_id": "02d29b51951340fa953ac11f05f0fc64",
       "version_major": 2,
       "version_minor": 0
      },
      "text/plain": [
       "[pred_fn]:   0%|          | 0/4 [00:00<?, ?it/s]"
      ]
     },
     "metadata": {},
     "output_type": "display_data"
    },
    {
     "data": {
      "application/vnd.jupyter.widget-view+json": {
       "model_id": "f1a1b4b2251c42b68e76a39e3967d2be",
       "version_major": 2,
       "version_minor": 0
      },
      "text/plain": [
       "[pred_fn]:   0%|          | 0/4 [00:00<?, ?it/s]"
      ]
     },
     "metadata": {},
     "output_type": "display_data"
    },
    {
     "data": {
      "application/vnd.jupyter.widget-view+json": {
       "model_id": "d7c49109cd7549ceb089147e477582f7",
       "version_major": 2,
       "version_minor": 0
      },
      "text/plain": [
       "[pred_fn]:   0%|          | 0/4 [00:00<?, ?it/s]"
      ]
     },
     "metadata": {},
     "output_type": "display_data"
    },
    {
     "data": {
      "application/vnd.jupyter.widget-view+json": {
       "model_id": "165d68708f274a51aeac46c7a8381bd7",
       "version_major": 2,
       "version_minor": 0
      },
      "text/plain": [
       "[pred_fn]:   0%|          | 0/4 [00:00<?, ?it/s]"
      ]
     },
     "metadata": {},
     "output_type": "display_data"
    },
    {
     "data": {
      "application/vnd.jupyter.widget-view+json": {
       "model_id": "67889d181d9b4491829d6cdf3c87e4c2",
       "version_major": 2,
       "version_minor": 0
      },
      "text/plain": [
       "[pred_fn]:   0%|          | 0/4 [00:00<?, ?it/s]"
      ]
     },
     "metadata": {},
     "output_type": "display_data"
    },
    {
     "data": {
      "application/vnd.jupyter.widget-view+json": {
       "model_id": "a3123a6e9a6947359a8ca94007e1ab2c",
       "version_major": 2,
       "version_minor": 0
      },
      "text/plain": [
       "[pred_fn]:   0%|          | 0/4 [00:00<?, ?it/s]"
      ]
     },
     "metadata": {},
     "output_type": "display_data"
    },
    {
     "data": {
      "application/vnd.jupyter.widget-view+json": {
       "model_id": "91756b8ec50741e2bc5132d929119c70",
       "version_major": 2,
       "version_minor": 0
      },
      "text/plain": [
       "[pred_fn]:   0%|          | 0/4 [00:00<?, ?it/s]"
      ]
     },
     "metadata": {},
     "output_type": "display_data"
    },
    {
     "data": {
      "application/vnd.jupyter.widget-view+json": {
       "model_id": "20497ae345b542cbada7de62ef6437cc",
       "version_major": 2,
       "version_minor": 0
      },
      "text/plain": [
       "[pred_fn]:   0%|          | 0/4 [00:00<?, ?it/s]"
      ]
     },
     "metadata": {},
     "output_type": "display_data"
    },
    {
     "data": {
      "application/vnd.jupyter.widget-view+json": {
       "model_id": "dc4308ffe7ad4c819da80ef8abbe4a6b",
       "version_major": 2,
       "version_minor": 0
      },
      "text/plain": [
       "[pred_fn]:   0%|          | 0/4 [00:00<?, ?it/s]"
      ]
     },
     "metadata": {},
     "output_type": "display_data"
    },
    {
     "data": {
      "application/vnd.jupyter.widget-view+json": {
       "model_id": "e1a4d978e4944e0c8cd17c7ac79b291d",
       "version_major": 2,
       "version_minor": 0
      },
      "text/plain": [
       "[pred_fn]:   0%|          | 0/4 [00:00<?, ?it/s]"
      ]
     },
     "metadata": {},
     "output_type": "display_data"
    },
    {
     "data": {
      "application/vnd.jupyter.widget-view+json": {
       "model_id": "c39678aa0ae44aca893b720c0591f16d",
       "version_major": 2,
       "version_minor": 0
      },
      "text/plain": [
       "[pred_fn]:   0%|          | 0/4 [00:00<?, ?it/s]"
      ]
     },
     "metadata": {},
     "output_type": "display_data"
    },
    {
     "data": {
      "application/vnd.jupyter.widget-view+json": {
       "model_id": "d2759042d58d495eb18c35de93b0c070",
       "version_major": 2,
       "version_minor": 0
      },
      "text/plain": [
       "[pred_fn]:   0%|          | 0/4 [00:00<?, ?it/s]"
      ]
     },
     "metadata": {},
     "output_type": "display_data"
    },
    {
     "data": {
      "application/vnd.jupyter.widget-view+json": {
       "model_id": "5a894ae17fb643f695904764717f9601",
       "version_major": 2,
       "version_minor": 0
      },
      "text/plain": [
       "[pred_fn]:   0%|          | 0/4 [00:00<?, ?it/s]"
      ]
     },
     "metadata": {},
     "output_type": "display_data"
    },
    {
     "data": {
      "application/vnd.jupyter.widget-view+json": {
       "model_id": "9eee897f879e48cca6e97db9d4e5ff8b",
       "version_major": 2,
       "version_minor": 0
      },
      "text/plain": [
       "[pred_fn]:   0%|          | 0/4 [00:00<?, ?it/s]"
      ]
     },
     "metadata": {},
     "output_type": "display_data"
    },
    {
     "data": {
      "application/vnd.jupyter.widget-view+json": {
       "model_id": "39213ce0c0804792930dae2ed4268d1e",
       "version_major": 2,
       "version_minor": 0
      },
      "text/plain": [
       "[pred_fn]:   0%|          | 0/4 [00:00<?, ?it/s]"
      ]
     },
     "metadata": {},
     "output_type": "display_data"
    },
    {
     "data": {
      "application/vnd.jupyter.widget-view+json": {
       "model_id": "cb67c6da59b443b6a2ccbec048a0e3b0",
       "version_major": 2,
       "version_minor": 0
      },
      "text/plain": [
       "[pred_fn]:   0%|          | 0/4 [00:00<?, ?it/s]"
      ]
     },
     "metadata": {},
     "output_type": "display_data"
    },
    {
     "data": {
      "application/vnd.jupyter.widget-view+json": {
       "model_id": "8a277b5f25f94f1898ad8738d37068f8",
       "version_major": 2,
       "version_minor": 0
      },
      "text/plain": [
       "[pred_fn]:   0%|          | 0/4 [00:00<?, ?it/s]"
      ]
     },
     "metadata": {},
     "output_type": "display_data"
    },
    {
     "data": {
      "application/vnd.jupyter.widget-view+json": {
       "model_id": "ff1b7e8efb954d4eaec20dae6f5be5be",
       "version_major": 2,
       "version_minor": 0
      },
      "text/plain": [
       "[pred_fn]:   0%|          | 0/4 [00:00<?, ?it/s]"
      ]
     },
     "metadata": {},
     "output_type": "display_data"
    },
    {
     "data": {
      "application/vnd.jupyter.widget-view+json": {
       "model_id": "71d345d353084371a1a431f1a350be24",
       "version_major": 2,
       "version_minor": 0
      },
      "text/plain": [
       "[pred_fn]:   0%|          | 0/4 [00:00<?, ?it/s]"
      ]
     },
     "metadata": {},
     "output_type": "display_data"
    },
    {
     "data": {
      "application/vnd.jupyter.widget-view+json": {
       "model_id": "909b2e2fee3843319ad222a1c0c1c23b",
       "version_major": 2,
       "version_minor": 0
      },
      "text/plain": [
       "[pred_fn]:   0%|          | 0/4 [00:00<?, ?it/s]"
      ]
     },
     "metadata": {},
     "output_type": "display_data"
    },
    {
     "data": {
      "application/vnd.jupyter.widget-view+json": {
       "model_id": "b461cf11a56f4c32bde7d844e9625dd7",
       "version_major": 2,
       "version_minor": 0
      },
      "text/plain": [
       "[pred_fn]:   0%|          | 0/4 [00:00<?, ?it/s]"
      ]
     },
     "metadata": {},
     "output_type": "display_data"
    },
    {
     "data": {
      "application/vnd.jupyter.widget-view+json": {
       "model_id": "2882740abee241e2ba77315930bab4f2",
       "version_major": 2,
       "version_minor": 0
      },
      "text/plain": [
       "[pred_fn]:   0%|          | 0/4 [00:00<?, ?it/s]"
      ]
     },
     "metadata": {},
     "output_type": "display_data"
    },
    {
     "data": {
      "application/vnd.jupyter.widget-view+json": {
       "model_id": "be6ed44f2a8e48768b55447d8cdf8d4b",
       "version_major": 2,
       "version_minor": 0
      },
      "text/plain": [
       "[pred_fn]:   0%|          | 0/4 [00:00<?, ?it/s]"
      ]
     },
     "metadata": {},
     "output_type": "display_data"
    },
    {
     "data": {
      "application/vnd.jupyter.widget-view+json": {
       "model_id": "05f950c4867649d78fe42d37850a95da",
       "version_major": 2,
       "version_minor": 0
      },
      "text/plain": [
       "[pred_fn]:   0%|          | 0/4 [00:00<?, ?it/s]"
      ]
     },
     "metadata": {},
     "output_type": "display_data"
    },
    {
     "data": {
      "application/vnd.jupyter.widget-view+json": {
       "model_id": "e509e2660d20468088a9f0bc9832c2d2",
       "version_major": 2,
       "version_minor": 0
      },
      "text/plain": [
       "[pred_fn]:   0%|          | 0/4 [00:00<?, ?it/s]"
      ]
     },
     "metadata": {},
     "output_type": "display_data"
    },
    {
     "data": {
      "application/vnd.jupyter.widget-view+json": {
       "model_id": "b8c128532bce4e03b96960164475893b",
       "version_major": 2,
       "version_minor": 0
      },
      "text/plain": [
       "[pred_fn]:   0%|          | 0/4 [00:00<?, ?it/s]"
      ]
     },
     "metadata": {},
     "output_type": "display_data"
    },
    {
     "data": {
      "application/vnd.jupyter.widget-view+json": {
       "model_id": "f8f85512e5dd4a37b84c3ae552290e88",
       "version_major": 2,
       "version_minor": 0
      },
      "text/plain": [
       "[pred_fn]:   0%|          | 0/4 [00:00<?, ?it/s]"
      ]
     },
     "metadata": {},
     "output_type": "display_data"
    },
    {
     "data": {
      "application/vnd.jupyter.widget-view+json": {
       "model_id": "ed1dc036289d43ed8b9b522f49ed7a3d",
       "version_major": 2,
       "version_minor": 0
      },
      "text/plain": [
       "[pred_fn]:   0%|          | 0/4 [00:00<?, ?it/s]"
      ]
     },
     "metadata": {},
     "output_type": "display_data"
    },
    {
     "data": {
      "application/vnd.jupyter.widget-view+json": {
       "model_id": "1dd8b31a8c384e8db65b0531269d4aab",
       "version_major": 2,
       "version_minor": 0
      },
      "text/plain": [
       "[pred_fn]:   0%|          | 0/4 [00:00<?, ?it/s]"
      ]
     },
     "metadata": {},
     "output_type": "display_data"
    },
    {
     "data": {
      "application/vnd.jupyter.widget-view+json": {
       "model_id": "c46562fc48c94580a2ab07f9b8ea0523",
       "version_major": 2,
       "version_minor": 0
      },
      "text/plain": [
       "[pred_fn]:   0%|          | 0/4 [00:00<?, ?it/s]"
      ]
     },
     "metadata": {},
     "output_type": "display_data"
    },
    {
     "data": {
      "application/vnd.jupyter.widget-view+json": {
       "model_id": "3f00aaf6b4d34ca5869ab21f7af44637",
       "version_major": 2,
       "version_minor": 0
      },
      "text/plain": [
       "[pred_fn]:   0%|          | 0/4 [00:00<?, ?it/s]"
      ]
     },
     "metadata": {},
     "output_type": "display_data"
    },
    {
     "data": {
      "application/vnd.jupyter.widget-view+json": {
       "model_id": "1b6cad443531429fa9ef5986350dbe8e",
       "version_major": 2,
       "version_minor": 0
      },
      "text/plain": [
       "[pred_fn]:   0%|          | 0/4 [00:00<?, ?it/s]"
      ]
     },
     "metadata": {},
     "output_type": "display_data"
    },
    {
     "data": {
      "application/vnd.jupyter.widget-view+json": {
       "model_id": "2e97f4faad2842768fc6c1667d7b082d",
       "version_major": 2,
       "version_minor": 0
      },
      "text/plain": [
       "[pred_fn]:   0%|          | 0/4 [00:00<?, ?it/s]"
      ]
     },
     "metadata": {},
     "output_type": "display_data"
    },
    {
     "data": {
      "application/vnd.jupyter.widget-view+json": {
       "model_id": "26d85f47faa747d3bd92d1162d71807c",
       "version_major": 2,
       "version_minor": 0
      },
      "text/plain": [
       "[pred_fn]:   0%|          | 0/4 [00:00<?, ?it/s]"
      ]
     },
     "metadata": {},
     "output_type": "display_data"
    },
    {
     "data": {
      "application/vnd.jupyter.widget-view+json": {
       "model_id": "2bdb546c24e141a1ab4c95cefc1b22f6",
       "version_major": 2,
       "version_minor": 0
      },
      "text/plain": [
       "[pred_fn]:   0%|          | 0/4 [00:00<?, ?it/s]"
      ]
     },
     "metadata": {},
     "output_type": "display_data"
    },
    {
     "data": {
      "application/vnd.jupyter.widget-view+json": {
       "model_id": "4973a436c08d4423b6ea7b219b6350c0",
       "version_major": 2,
       "version_minor": 0
      },
      "text/plain": [
       "[pred_fn]:   0%|          | 0/4 [00:00<?, ?it/s]"
      ]
     },
     "metadata": {},
     "output_type": "display_data"
    },
    {
     "data": {
      "application/vnd.jupyter.widget-view+json": {
       "model_id": "c8739890e2214cf8bdcd5960ce56ecbd",
       "version_major": 2,
       "version_minor": 0
      },
      "text/plain": [
       "[pred_fn]:   0%|          | 0/4 [00:00<?, ?it/s]"
      ]
     },
     "metadata": {},
     "output_type": "display_data"
    },
    {
     "data": {
      "application/vnd.jupyter.widget-view+json": {
       "model_id": "f8548ae3d694423e98dfc72781c9a28d",
       "version_major": 2,
       "version_minor": 0
      },
      "text/plain": [
       "[pred_fn]:   0%|          | 0/4 [00:00<?, ?it/s]"
      ]
     },
     "metadata": {},
     "output_type": "display_data"
    },
    {
     "data": {
      "application/vnd.jupyter.widget-view+json": {
       "model_id": "99669bda81ab4c22abf17da34608d159",
       "version_major": 2,
       "version_minor": 0
      },
      "text/plain": [
       "[pred_fn]:   0%|          | 0/4 [00:00<?, ?it/s]"
      ]
     },
     "metadata": {},
     "output_type": "display_data"
    },
    {
     "data": {
      "application/vnd.jupyter.widget-view+json": {
       "model_id": "6d52eae31c0840bbb48c0a56ece3dc2d",
       "version_major": 2,
       "version_minor": 0
      },
      "text/plain": [
       "[pred_fn]:   0%|          | 0/4 [00:00<?, ?it/s]"
      ]
     },
     "metadata": {},
     "output_type": "display_data"
    },
    {
     "data": {
      "application/vnd.jupyter.widget-view+json": {
       "model_id": "3122dff73cc7428d8a41b70219d540ae",
       "version_major": 2,
       "version_minor": 0
      },
      "text/plain": [
       "[pred_fn]:   0%|          | 0/4 [00:00<?, ?it/s]"
      ]
     },
     "metadata": {},
     "output_type": "display_data"
    },
    {
     "data": {
      "application/vnd.jupyter.widget-view+json": {
       "model_id": "bd199240fb2a4536b083c1966d9cc77e",
       "version_major": 2,
       "version_minor": 0
      },
      "text/plain": [
       "[pred_fn]:   0%|          | 0/4 [00:00<?, ?it/s]"
      ]
     },
     "metadata": {},
     "output_type": "display_data"
    },
    {
     "data": {
      "application/vnd.jupyter.widget-view+json": {
       "model_id": "94fa667a1b024d2991839d1d022fcb8f",
       "version_major": 2,
       "version_minor": 0
      },
      "text/plain": [
       "[pred_fn]:   0%|          | 0/4 [00:00<?, ?it/s]"
      ]
     },
     "metadata": {},
     "output_type": "display_data"
    },
    {
     "data": {
      "application/vnd.jupyter.widget-view+json": {
       "model_id": "247d4d7c4aa74242a879c87ef8c9678e",
       "version_major": 2,
       "version_minor": 0
      },
      "text/plain": [
       "[pred_fn]:   0%|          | 0/4 [00:00<?, ?it/s]"
      ]
     },
     "metadata": {},
     "output_type": "display_data"
    },
    {
     "data": {
      "application/vnd.jupyter.widget-view+json": {
       "model_id": "7e6b41e553ae4a5e841cbc4c171a3346",
       "version_major": 2,
       "version_minor": 0
      },
      "text/plain": [
       "[pred_fn]:   0%|          | 0/4 [00:00<?, ?it/s]"
      ]
     },
     "metadata": {},
     "output_type": "display_data"
    },
    {
     "data": {
      "application/vnd.jupyter.widget-view+json": {
       "model_id": "987f9a512c9c42cdb98d182ab49e45c8",
       "version_major": 2,
       "version_minor": 0
      },
      "text/plain": [
       "[pred_fn]:   0%|          | 0/4 [00:00<?, ?it/s]"
      ]
     },
     "metadata": {},
     "output_type": "display_data"
    },
    {
     "data": {
      "application/vnd.jupyter.widget-view+json": {
       "model_id": "3185cfa81a6a495eb8120c2633fc07b4",
       "version_major": 2,
       "version_minor": 0
      },
      "text/plain": [
       "[pred_fn]:   0%|          | 0/4 [00:00<?, ?it/s]"
      ]
     },
     "metadata": {},
     "output_type": "display_data"
    },
    {
     "data": {
      "application/vnd.jupyter.widget-view+json": {
       "model_id": "e18d7789997149cdbcd4df88af5c6a48",
       "version_major": 2,
       "version_minor": 0
      },
      "text/plain": [
       "[pred_fn]:   0%|          | 0/4 [00:00<?, ?it/s]"
      ]
     },
     "metadata": {},
     "output_type": "display_data"
    },
    {
     "data": {
      "application/vnd.jupyter.widget-view+json": {
       "model_id": "ad546af35775415482c674ca5e334cfd",
       "version_major": 2,
       "version_minor": 0
      },
      "text/plain": [
       "[pred_fn]:   0%|          | 0/4 [00:00<?, ?it/s]"
      ]
     },
     "metadata": {},
     "output_type": "display_data"
    },
    {
     "data": {
      "application/vnd.jupyter.widget-view+json": {
       "model_id": "659bea4775314b7a8299400e972c2850",
       "version_major": 2,
       "version_minor": 0
      },
      "text/plain": [
       "[pred_fn]:   0%|          | 0/4 [00:00<?, ?it/s]"
      ]
     },
     "metadata": {},
     "output_type": "display_data"
    },
    {
     "data": {
      "application/vnd.jupyter.widget-view+json": {
       "model_id": "661e722c12794bd0b26eb3312c461108",
       "version_major": 2,
       "version_minor": 0
      },
      "text/plain": [
       "[pred_fn]:   0%|          | 0/4 [00:00<?, ?it/s]"
      ]
     },
     "metadata": {},
     "output_type": "display_data"
    },
    {
     "data": {
      "application/vnd.jupyter.widget-view+json": {
       "model_id": "eba39bf4c3f54229af7aba5f83b9dd68",
       "version_major": 2,
       "version_minor": 0
      },
      "text/plain": [
       "[pred_fn]:   0%|          | 0/4 [00:00<?, ?it/s]"
      ]
     },
     "metadata": {},
     "output_type": "display_data"
    },
    {
     "data": {
      "application/vnd.jupyter.widget-view+json": {
       "model_id": "9c4e9cd16ecf469e957df0db9b4010bf",
       "version_major": 2,
       "version_minor": 0
      },
      "text/plain": [
       "[pred_fn]:   0%|          | 0/4 [00:00<?, ?it/s]"
      ]
     },
     "metadata": {},
     "output_type": "display_data"
    },
    {
     "data": {
      "application/vnd.jupyter.widget-view+json": {
       "model_id": "747f0811922242ca90344d5afba3fd52",
       "version_major": 2,
       "version_minor": 0
      },
      "text/plain": [
       "[pred_fn]:   0%|          | 0/4 [00:00<?, ?it/s]"
      ]
     },
     "metadata": {},
     "output_type": "display_data"
    },
    {
     "data": {
      "application/vnd.jupyter.widget-view+json": {
       "model_id": "432c97786f7748dfb1a25758798bc10a",
       "version_major": 2,
       "version_minor": 0
      },
      "text/plain": [
       "[pred_fn]:   0%|          | 0/4 [00:00<?, ?it/s]"
      ]
     },
     "metadata": {},
     "output_type": "display_data"
    },
    {
     "data": {
      "application/vnd.jupyter.widget-view+json": {
       "model_id": "9a9956b5eded4c3c88ffb149ad71adf3",
       "version_major": 2,
       "version_minor": 0
      },
      "text/plain": [
       "[pred_fn]:   0%|          | 0/4 [00:00<?, ?it/s]"
      ]
     },
     "metadata": {},
     "output_type": "display_data"
    },
    {
     "data": {
      "application/vnd.jupyter.widget-view+json": {
       "model_id": "9f4279814882453cabe92e17057c0004",
       "version_major": 2,
       "version_minor": 0
      },
      "text/plain": [
       "[pred_fn]:   0%|          | 0/4 [00:00<?, ?it/s]"
      ]
     },
     "metadata": {},
     "output_type": "display_data"
    },
    {
     "data": {
      "application/vnd.jupyter.widget-view+json": {
       "model_id": "b2e37df991b44f4d9efc9c388a9bf4bd",
       "version_major": 2,
       "version_minor": 0
      },
      "text/plain": [
       "[pred_fn]:   0%|          | 0/4 [00:00<?, ?it/s]"
      ]
     },
     "metadata": {},
     "output_type": "display_data"
    },
    {
     "data": {
      "application/vnd.jupyter.widget-view+json": {
       "model_id": "9df4a7a128ea4062b2a25d5207f3b40a",
       "version_major": 2,
       "version_minor": 0
      },
      "text/plain": [
       "[pred_fn]:   0%|          | 0/4 [00:00<?, ?it/s]"
      ]
     },
     "metadata": {},
     "output_type": "display_data"
    },
    {
     "data": {
      "application/vnd.jupyter.widget-view+json": {
       "model_id": "0687e9666ff9439fbd753d9747318161",
       "version_major": 2,
       "version_minor": 0
      },
      "text/plain": [
       "[pred_fn]:   0%|          | 0/4 [00:00<?, ?it/s]"
      ]
     },
     "metadata": {},
     "output_type": "display_data"
    },
    {
     "data": {
      "application/vnd.jupyter.widget-view+json": {
       "model_id": "091344f0c3174b0fba8a9dd7b5a64c83",
       "version_major": 2,
       "version_minor": 0
      },
      "text/plain": [
       "[pred_fn]:   0%|          | 0/4 [00:00<?, ?it/s]"
      ]
     },
     "metadata": {},
     "output_type": "display_data"
    },
    {
     "data": {
      "application/vnd.jupyter.widget-view+json": {
       "model_id": "6034842bf0464a91a98d2c4a375c46d7",
       "version_major": 2,
       "version_minor": 0
      },
      "text/plain": [
       "[pred_fn]:   0%|          | 0/4 [00:00<?, ?it/s]"
      ]
     },
     "metadata": {},
     "output_type": "display_data"
    },
    {
     "data": {
      "application/vnd.jupyter.widget-view+json": {
       "model_id": "18ac2f7d96a44565af3a4fb72e46d6e4",
       "version_major": 2,
       "version_minor": 0
      },
      "text/plain": [
       "[pred_fn]:   0%|          | 0/4 [00:00<?, ?it/s]"
      ]
     },
     "metadata": {},
     "output_type": "display_data"
    },
    {
     "data": {
      "application/vnd.jupyter.widget-view+json": {
       "model_id": "17e38a9402cd404dae0bb91c8d00bb3a",
       "version_major": 2,
       "version_minor": 0
      },
      "text/plain": [
       "[pred_fn]:   0%|          | 0/4 [00:00<?, ?it/s]"
      ]
     },
     "metadata": {},
     "output_type": "display_data"
    },
    {
     "data": {
      "application/vnd.jupyter.widget-view+json": {
       "model_id": "c32004df7d574bf59a85078b27aa5140",
       "version_major": 2,
       "version_minor": 0
      },
      "text/plain": [
       "[pred_fn]:   0%|          | 0/4 [00:00<?, ?it/s]"
      ]
     },
     "metadata": {},
     "output_type": "display_data"
    },
    {
     "data": {
      "application/vnd.jupyter.widget-view+json": {
       "model_id": "98fae82f1aef48d391c89316280d9fcd",
       "version_major": 2,
       "version_minor": 0
      },
      "text/plain": [
       "[pred_fn]:   0%|          | 0/4 [00:00<?, ?it/s]"
      ]
     },
     "metadata": {},
     "output_type": "display_data"
    },
    {
     "data": {
      "application/vnd.jupyter.widget-view+json": {
       "model_id": "60ed5e6a13f140158bc465098eef3c2c",
       "version_major": 2,
       "version_minor": 0
      },
      "text/plain": [
       "[pred_fn]:   0%|          | 0/4 [00:00<?, ?it/s]"
      ]
     },
     "metadata": {},
     "output_type": "display_data"
    },
    {
     "data": {
      "application/vnd.jupyter.widget-view+json": {
       "model_id": "7808d6240d73479e844b9dd67623f66c",
       "version_major": 2,
       "version_minor": 0
      },
      "text/plain": [
       "[pred_fn]:   0%|          | 0/4 [00:00<?, ?it/s]"
      ]
     },
     "metadata": {},
     "output_type": "display_data"
    },
    {
     "data": {
      "application/vnd.jupyter.widget-view+json": {
       "model_id": "5e3f46f40fac466ea22751510c90a391",
       "version_major": 2,
       "version_minor": 0
      },
      "text/plain": [
       "[pred_fn]:   0%|          | 0/4 [00:00<?, ?it/s]"
      ]
     },
     "metadata": {},
     "output_type": "display_data"
    },
    {
     "data": {
      "application/vnd.jupyter.widget-view+json": {
       "model_id": "59f19954a50a41e2bedaa1746135aa7f",
       "version_major": 2,
       "version_minor": 0
      },
      "text/plain": [
       "[pred_fn]:   0%|          | 0/4 [00:00<?, ?it/s]"
      ]
     },
     "metadata": {},
     "output_type": "display_data"
    },
    {
     "data": {
      "application/vnd.jupyter.widget-view+json": {
       "model_id": "ab3fb2bd0665427c977fea94051f055e",
       "version_major": 2,
       "version_minor": 0
      },
      "text/plain": [
       "[pred_fn]:   0%|          | 0/4 [00:00<?, ?it/s]"
      ]
     },
     "metadata": {},
     "output_type": "display_data"
    },
    {
     "data": {
      "application/vnd.jupyter.widget-view+json": {
       "model_id": "b38c0a00fc8f45028e2506365de2d6ae",
       "version_major": 2,
       "version_minor": 0
      },
      "text/plain": [
       "[pred_fn]:   0%|          | 0/4 [00:00<?, ?it/s]"
      ]
     },
     "metadata": {},
     "output_type": "display_data"
    },
    {
     "data": {
      "application/vnd.jupyter.widget-view+json": {
       "model_id": "bb0d8e84f02d4731a3c28ea45d60a7ae",
       "version_major": 2,
       "version_minor": 0
      },
      "text/plain": [
       "[pred_fn]:   0%|          | 0/4 [00:00<?, ?it/s]"
      ]
     },
     "metadata": {},
     "output_type": "display_data"
    },
    {
     "data": {
      "application/vnd.jupyter.widget-view+json": {
       "model_id": "bd862a85b83740eab73c830c14490131",
       "version_major": 2,
       "version_minor": 0
      },
      "text/plain": [
       "[pred_fn]:   0%|          | 0/4 [00:00<?, ?it/s]"
      ]
     },
     "metadata": {},
     "output_type": "display_data"
    },
    {
     "data": {
      "application/vnd.jupyter.widget-view+json": {
       "model_id": "ce038b7403b141788fb2dfed4cdf4532",
       "version_major": 2,
       "version_minor": 0
      },
      "text/plain": [
       "[pred_fn]:   0%|          | 0/4 [00:00<?, ?it/s]"
      ]
     },
     "metadata": {},
     "output_type": "display_data"
    },
    {
     "data": {
      "application/vnd.jupyter.widget-view+json": {
       "model_id": "006b805714744f99bce092cf56dee652",
       "version_major": 2,
       "version_minor": 0
      },
      "text/plain": [
       "[pred_fn]:   0%|          | 0/4 [00:00<?, ?it/s]"
      ]
     },
     "metadata": {},
     "output_type": "display_data"
    },
    {
     "data": {
      "application/vnd.jupyter.widget-view+json": {
       "model_id": "ee38072a39e7468788339da309bc1dbc",
       "version_major": 2,
       "version_minor": 0
      },
      "text/plain": [
       "[pred_fn]:   0%|          | 0/4 [00:00<?, ?it/s]"
      ]
     },
     "metadata": {},
     "output_type": "display_data"
    },
    {
     "data": {
      "application/vnd.jupyter.widget-view+json": {
       "model_id": "3cd6cedc119342b4b1a41ebca13bce88",
       "version_major": 2,
       "version_minor": 0
      },
      "text/plain": [
       "[pred_fn]:   0%|          | 0/4 [00:00<?, ?it/s]"
      ]
     },
     "metadata": {},
     "output_type": "display_data"
    },
    {
     "data": {
      "application/vnd.jupyter.widget-view+json": {
       "model_id": "bf4dc43345ac428fb83f91610da3ab7f",
       "version_major": 2,
       "version_minor": 0
      },
      "text/plain": [
       "[pred_fn]:   0%|          | 0/4 [00:00<?, ?it/s]"
      ]
     },
     "metadata": {},
     "output_type": "display_data"
    },
    {
     "data": {
      "application/vnd.jupyter.widget-view+json": {
       "model_id": "010f631df362495e9ba7622c2f877554",
       "version_major": 2,
       "version_minor": 0
      },
      "text/plain": [
       "[pred_fn]:   0%|          | 0/4 [00:00<?, ?it/s]"
      ]
     },
     "metadata": {},
     "output_type": "display_data"
    },
    {
     "data": {
      "application/vnd.jupyter.widget-view+json": {
       "model_id": "2ab111a429e14ce8ae0ea399e44312fe",
       "version_major": 2,
       "version_minor": 0
      },
      "text/plain": [
       "[pred_fn]:   0%|          | 0/4 [00:00<?, ?it/s]"
      ]
     },
     "metadata": {},
     "output_type": "display_data"
    },
    {
     "data": {
      "application/vnd.jupyter.widget-view+json": {
       "model_id": "99f80b51f31941bb95dc73a46cedbba4",
       "version_major": 2,
       "version_minor": 0
      },
      "text/plain": [
       "[pred_fn]:   0%|          | 0/4 [00:00<?, ?it/s]"
      ]
     },
     "metadata": {},
     "output_type": "display_data"
    },
    {
     "data": {
      "application/vnd.jupyter.widget-view+json": {
       "model_id": "87ebe9b6c0ff4735ad2e76f5cd843adb",
       "version_major": 2,
       "version_minor": 0
      },
      "text/plain": [
       "[pred_fn]:   0%|          | 0/4 [00:00<?, ?it/s]"
      ]
     },
     "metadata": {},
     "output_type": "display_data"
    },
    {
     "data": {
      "application/vnd.jupyter.widget-view+json": {
       "model_id": "a3a2235c187c48cc84c1794a6001f8a1",
       "version_major": 2,
       "version_minor": 0
      },
      "text/plain": [
       "[pred_fn]:   0%|          | 0/4 [00:00<?, ?it/s]"
      ]
     },
     "metadata": {},
     "output_type": "display_data"
    },
    {
     "data": {
      "application/vnd.jupyter.widget-view+json": {
       "model_id": "9a3839073d5f4b62ac970ce033cb6418",
       "version_major": 2,
       "version_minor": 0
      },
      "text/plain": [
       "[pred_fn]:   0%|          | 0/4 [00:00<?, ?it/s]"
      ]
     },
     "metadata": {},
     "output_type": "display_data"
    },
    {
     "data": {
      "application/vnd.jupyter.widget-view+json": {
       "model_id": "1cf9983be11d468988f65511b7009f88",
       "version_major": 2,
       "version_minor": 0
      },
      "text/plain": [
       "[pred_fn]:   0%|          | 0/4 [00:00<?, ?it/s]"
      ]
     },
     "metadata": {},
     "output_type": "display_data"
    },
    {
     "data": {
      "application/vnd.jupyter.widget-view+json": {
       "model_id": "a0c02d433d3b45f79dd8c5333109c434",
       "version_major": 2,
       "version_minor": 0
      },
      "text/plain": [
       "[pred_fn]:   0%|          | 0/4 [00:00<?, ?it/s]"
      ]
     },
     "metadata": {},
     "output_type": "display_data"
    },
    {
     "data": {
      "application/vnd.jupyter.widget-view+json": {
       "model_id": "40ebbaf621d64aaebf51ffe62a4a110a",
       "version_major": 2,
       "version_minor": 0
      },
      "text/plain": [
       "[pred_fn]:   0%|          | 0/4 [00:00<?, ?it/s]"
      ]
     },
     "metadata": {},
     "output_type": "display_data"
    },
    {
     "data": {
      "application/vnd.jupyter.widget-view+json": {
       "model_id": "6eb7206308c340909496f75a93847bad",
       "version_major": 2,
       "version_minor": 0
      },
      "text/plain": [
       "[pred_fn]:   0%|          | 0/4 [00:00<?, ?it/s]"
      ]
     },
     "metadata": {},
     "output_type": "display_data"
    },
    {
     "data": {
      "application/vnd.jupyter.widget-view+json": {
       "model_id": "7805e65170ad49849715e94e9e34a01e",
       "version_major": 2,
       "version_minor": 0
      },
      "text/plain": [
       "[pred_fn]:   0%|          | 0/4 [00:00<?, ?it/s]"
      ]
     },
     "metadata": {},
     "output_type": "display_data"
    },
    {
     "data": {
      "application/vnd.jupyter.widget-view+json": {
       "model_id": "6360089bc48245bfb31210ee935cbf22",
       "version_major": 2,
       "version_minor": 0
      },
      "text/plain": [
       "[pred_fn]:   0%|          | 0/4 [00:00<?, ?it/s]"
      ]
     },
     "metadata": {},
     "output_type": "display_data"
    },
    {
     "data": {
      "application/vnd.jupyter.widget-view+json": {
       "model_id": "2b1277718bea47068093d22a7a48b248",
       "version_major": 2,
       "version_minor": 0
      },
      "text/plain": [
       "[pred_fn]:   0%|          | 0/4 [00:00<?, ?it/s]"
      ]
     },
     "metadata": {},
     "output_type": "display_data"
    },
    {
     "data": {
      "application/vnd.jupyter.widget-view+json": {
       "model_id": "3f3bfb3fc07d4f879b01d78a30a5a137",
       "version_major": 2,
       "version_minor": 0
      },
      "text/plain": [
       "[pred_fn]:   0%|          | 0/4 [00:00<?, ?it/s]"
      ]
     },
     "metadata": {},
     "output_type": "display_data"
    },
    {
     "data": {
      "application/vnd.jupyter.widget-view+json": {
       "model_id": "9a63a6b0992142dd80ff46eea5ea954c",
       "version_major": 2,
       "version_minor": 0
      },
      "text/plain": [
       "[pred_fn]:   0%|          | 0/4 [00:00<?, ?it/s]"
      ]
     },
     "metadata": {},
     "output_type": "display_data"
    },
    {
     "data": {
      "application/vnd.jupyter.widget-view+json": {
       "model_id": "4de9ef9adbc84967bfdab5ebbe02606b",
       "version_major": 2,
       "version_minor": 0
      },
      "text/plain": [
       "[pred_fn]:   0%|          | 0/4 [00:00<?, ?it/s]"
      ]
     },
     "metadata": {},
     "output_type": "display_data"
    },
    {
     "data": {
      "application/vnd.jupyter.widget-view+json": {
       "model_id": "1d94910589154d238d21b4eab576a801",
       "version_major": 2,
       "version_minor": 0
      },
      "text/plain": [
       "[pred_fn]:   0%|          | 0/4 [00:00<?, ?it/s]"
      ]
     },
     "metadata": {},
     "output_type": "display_data"
    },
    {
     "data": {
      "application/vnd.jupyter.widget-view+json": {
       "model_id": "82b0848ae2d9487fa0797379417af5f6",
       "version_major": 2,
       "version_minor": 0
      },
      "text/plain": [
       "[pred_fn]:   0%|          | 0/4 [00:00<?, ?it/s]"
      ]
     },
     "metadata": {},
     "output_type": "display_data"
    },
    {
     "data": {
      "application/vnd.jupyter.widget-view+json": {
       "model_id": "d37fff1db5eb45a98c9895f1db2dcdc6",
       "version_major": 2,
       "version_minor": 0
      },
      "text/plain": [
       "[pred_fn]:   0%|          | 0/4 [00:00<?, ?it/s]"
      ]
     },
     "metadata": {},
     "output_type": "display_data"
    },
    {
     "data": {
      "application/vnd.jupyter.widget-view+json": {
       "model_id": "85830748d29f495aa79dd180758dd426",
       "version_major": 2,
       "version_minor": 0
      },
      "text/plain": [
       "[pred_fn]:   0%|          | 0/4 [00:00<?, ?it/s]"
      ]
     },
     "metadata": {},
     "output_type": "display_data"
    },
    {
     "data": {
      "application/vnd.jupyter.widget-view+json": {
       "model_id": "5b8fafcabf0d47a8b198c9323e3e4a1d",
       "version_major": 2,
       "version_minor": 0
      },
      "text/plain": [
       "[pred_fn]:   0%|          | 0/4 [00:00<?, ?it/s]"
      ]
     },
     "metadata": {},
     "output_type": "display_data"
    },
    {
     "data": {
      "application/vnd.jupyter.widget-view+json": {
       "model_id": "be8ed6ddbc2b49429bc471cd1e4731ca",
       "version_major": 2,
       "version_minor": 0
      },
      "text/plain": [
       "[pred_fn]:   0%|          | 0/4 [00:00<?, ?it/s]"
      ]
     },
     "metadata": {},
     "output_type": "display_data"
    },
    {
     "data": {
      "application/vnd.jupyter.widget-view+json": {
       "model_id": "bef1c479f0bc4ce2adb1967e08514f58",
       "version_major": 2,
       "version_minor": 0
      },
      "text/plain": [
       "[pred_fn]:   0%|          | 0/4 [00:00<?, ?it/s]"
      ]
     },
     "metadata": {},
     "output_type": "display_data"
    },
    {
     "data": {
      "application/vnd.jupyter.widget-view+json": {
       "model_id": "fb278f4e50b4460c8b5d215570f13a1a",
       "version_major": 2,
       "version_minor": 0
      },
      "text/plain": [
       "[pred_fn]:   0%|          | 0/4 [00:00<?, ?it/s]"
      ]
     },
     "metadata": {},
     "output_type": "display_data"
    },
    {
     "data": {
      "application/vnd.jupyter.widget-view+json": {
       "model_id": "4ad55c1b6e724396946e09cf72bc4b0b",
       "version_major": 2,
       "version_minor": 0
      },
      "text/plain": [
       "[pred_fn]:   0%|          | 0/4 [00:00<?, ?it/s]"
      ]
     },
     "metadata": {},
     "output_type": "display_data"
    },
    {
     "data": {
      "application/vnd.jupyter.widget-view+json": {
       "model_id": "6e49bbd6d8a140828fb3daff4b1e9db1",
       "version_major": 2,
       "version_minor": 0
      },
      "text/plain": [
       "[pred_fn]:   0%|          | 0/4 [00:00<?, ?it/s]"
      ]
     },
     "metadata": {},
     "output_type": "display_data"
    },
    {
     "data": {
      "application/vnd.jupyter.widget-view+json": {
       "model_id": "5f4577ca4c164db18f22b58814515e71",
       "version_major": 2,
       "version_minor": 0
      },
      "text/plain": [
       "[pred_fn]:   0%|          | 0/4 [00:00<?, ?it/s]"
      ]
     },
     "metadata": {},
     "output_type": "display_data"
    },
    {
     "data": {
      "application/vnd.jupyter.widget-view+json": {
       "model_id": "84bfea7baeda4fbd809a01880fb62d9f",
       "version_major": 2,
       "version_minor": 0
      },
      "text/plain": [
       "[pred_fn]:   0%|          | 0/4 [00:00<?, ?it/s]"
      ]
     },
     "metadata": {},
     "output_type": "display_data"
    },
    {
     "data": {
      "application/vnd.jupyter.widget-view+json": {
       "model_id": "afff50ec303f46eaaa415368ebd3a729",
       "version_major": 2,
       "version_minor": 0
      },
      "text/plain": [
       "[pred_fn]:   0%|          | 0/4 [00:00<?, ?it/s]"
      ]
     },
     "metadata": {},
     "output_type": "display_data"
    },
    {
     "data": {
      "application/vnd.jupyter.widget-view+json": {
       "model_id": "a49430a2f4c3490ca552e793981610d1",
       "version_major": 2,
       "version_minor": 0
      },
      "text/plain": [
       "[pred_fn]:   0%|          | 0/4 [00:00<?, ?it/s]"
      ]
     },
     "metadata": {},
     "output_type": "display_data"
    },
    {
     "data": {
      "application/vnd.jupyter.widget-view+json": {
       "model_id": "0a3af15818414d88bd1668fd2f2f6c7b",
       "version_major": 2,
       "version_minor": 0
      },
      "text/plain": [
       "[pred_fn]:   0%|          | 0/4 [00:00<?, ?it/s]"
      ]
     },
     "metadata": {},
     "output_type": "display_data"
    },
    {
     "data": {
      "application/vnd.jupyter.widget-view+json": {
       "model_id": "d330cf007703404dadfe692fb7cc3228",
       "version_major": 2,
       "version_minor": 0
      },
      "text/plain": [
       "[pred_fn]:   0%|          | 0/4 [00:00<?, ?it/s]"
      ]
     },
     "metadata": {},
     "output_type": "display_data"
    },
    {
     "data": {
      "application/vnd.jupyter.widget-view+json": {
       "model_id": "b96072d3a9df45d1b5fac89388677ca9",
       "version_major": 2,
       "version_minor": 0
      },
      "text/plain": [
       "[pred_fn]:   0%|          | 0/4 [00:00<?, ?it/s]"
      ]
     },
     "metadata": {},
     "output_type": "display_data"
    },
    {
     "data": {
      "application/vnd.jupyter.widget-view+json": {
       "model_id": "09ecda375ead42a5b4e5303b7e3b1bb7",
       "version_major": 2,
       "version_minor": 0
      },
      "text/plain": [
       "[pred_fn]:   0%|          | 0/4 [00:00<?, ?it/s]"
      ]
     },
     "metadata": {},
     "output_type": "display_data"
    },
    {
     "data": {
      "application/vnd.jupyter.widget-view+json": {
       "model_id": "5cf30c599fc74d99ba76e04eed1d2ebf",
       "version_major": 2,
       "version_minor": 0
      },
      "text/plain": [
       "[pred_fn]:   0%|          | 0/4 [00:00<?, ?it/s]"
      ]
     },
     "metadata": {},
     "output_type": "display_data"
    },
    {
     "data": {
      "application/vnd.jupyter.widget-view+json": {
       "model_id": "93465e7cdec649deb3e40a1e4199346d",
       "version_major": 2,
       "version_minor": 0
      },
      "text/plain": [
       "[pred_fn]:   0%|          | 0/4 [00:00<?, ?it/s]"
      ]
     },
     "metadata": {},
     "output_type": "display_data"
    },
    {
     "data": {
      "application/vnd.jupyter.widget-view+json": {
       "model_id": "ce43caf2df244f1aa3ba2003eb30c252",
       "version_major": 2,
       "version_minor": 0
      },
      "text/plain": [
       "[pred_fn]:   0%|          | 0/4 [00:00<?, ?it/s]"
      ]
     },
     "metadata": {},
     "output_type": "display_data"
    },
    {
     "data": {
      "application/vnd.jupyter.widget-view+json": {
       "model_id": "95e35c78bdea40c0b4fc8a6346fbde93",
       "version_major": 2,
       "version_minor": 0
      },
      "text/plain": [
       "[pred_fn]:   0%|          | 0/4 [00:00<?, ?it/s]"
      ]
     },
     "metadata": {},
     "output_type": "display_data"
    },
    {
     "data": {
      "application/vnd.jupyter.widget-view+json": {
       "model_id": "f62fb532c6e44dfbb2621d04b869c1bd",
       "version_major": 2,
       "version_minor": 0
      },
      "text/plain": [
       "[pred_fn]:   0%|          | 0/4 [00:00<?, ?it/s]"
      ]
     },
     "metadata": {},
     "output_type": "display_data"
    },
    {
     "data": {
      "application/vnd.jupyter.widget-view+json": {
       "model_id": "1452f47fcb854edd9bb8e4d35be101f9",
       "version_major": 2,
       "version_minor": 0
      },
      "text/plain": [
       "[pred_fn]:   0%|          | 0/4 [00:00<?, ?it/s]"
      ]
     },
     "metadata": {},
     "output_type": "display_data"
    },
    {
     "data": {
      "application/vnd.jupyter.widget-view+json": {
       "model_id": "1c52fc5d4955453286286df78cc0063f",
       "version_major": 2,
       "version_minor": 0
      },
      "text/plain": [
       "[pred_fn]:   0%|          | 0/4 [00:00<?, ?it/s]"
      ]
     },
     "metadata": {},
     "output_type": "display_data"
    },
    {
     "data": {
      "application/vnd.jupyter.widget-view+json": {
       "model_id": "de63beb0e09f4890b6dc52c1c2b86251",
       "version_major": 2,
       "version_minor": 0
      },
      "text/plain": [
       "[pred_fn]:   0%|          | 0/4 [00:00<?, ?it/s]"
      ]
     },
     "metadata": {},
     "output_type": "display_data"
    },
    {
     "data": {
      "application/vnd.jupyter.widget-view+json": {
       "model_id": "0748a9cc402641118f2f76d63f1c0bc4",
       "version_major": 2,
       "version_minor": 0
      },
      "text/plain": [
       "[pred_fn]:   0%|          | 0/4 [00:00<?, ?it/s]"
      ]
     },
     "metadata": {},
     "output_type": "display_data"
    },
    {
     "data": {
      "application/vnd.jupyter.widget-view+json": {
       "model_id": "40b3bfb48f4e40b2b0c495d5bff95c71",
       "version_major": 2,
       "version_minor": 0
      },
      "text/plain": [
       "[pred_fn]:   0%|          | 0/4 [00:00<?, ?it/s]"
      ]
     },
     "metadata": {},
     "output_type": "display_data"
    },
    {
     "data": {
      "application/vnd.jupyter.widget-view+json": {
       "model_id": "d7c6021ad3d64098b3b50f1acc53dd3f",
       "version_major": 2,
       "version_minor": 0
      },
      "text/plain": [
       "[pred_fn]:   0%|          | 0/4 [00:00<?, ?it/s]"
      ]
     },
     "metadata": {},
     "output_type": "display_data"
    }
   ],
   "source": [
    "n_samples = 500\n",
    "\n",
    "results = {}\n",
    "for ds_name, ds_params in params.items():\n",
    "    trnX, trny, tstX, tsty, spurious_ind = auto_var.get_var_with_argument(\"dataset\", ds_name)\n",
    "    n_classes = len(np.unique(trny))\n",
    "    n_channels = trnX.shape[-1]\n",
    "\n",
    "    ind = np.random.RandomState(0).choice(np.arange(len(trny)), size=n_samples, replace=False)\n",
    "    occuluded_Xs = []\n",
    "    for p in range(51):\n",
    "        occuluded_Xs.append(occlude_X(trnX[ind], p/50, np.random.RandomState(0)))\n",
    "        \n",
    "    for arch_name, arch_shown_name, model_path in ds_params:\n",
    "        model = getattr(archs, arch_name)(n_features=(np.prod(trnX.shape[1:]), ), n_channels=n_channels, n_classes=n_classes)\n",
    "        model.load_state_dict(torch.load(model_path)['model_state_dict'])\n",
    "    \n",
    "        preds = []\n",
    "        for p in range(51):\n",
    "            occ_trnX = occuluded_Xs[p]\n",
    "            if \"MLP\" in arch_name:\n",
    "                pred = mlp_pred_fn(occ_trnX, model, )[None, :, :]\n",
    "            else:\n",
    "                pred = cnn_pred_fn(occ_trnX, model, )[None, :, :]\n",
    "            preds.append(pred)\n",
    "        preds = scipy.special.softmax(np.concatenate(preds), axis=2)\n",
    "        \n",
    "        ttt = []\n",
    "        for i in range(n_samples):\n",
    "            ttt.append(preds[:, i, trny[ind[i]]])\n",
    "        results[(ds_name, arch_name)] = (np.mean(ttt), )\n",
    "        plt.plot(np.arange(51)/50, np.mean(ttt, axis=0), label=arch_shown_name)\n",
    "    plt.ylabel(\"Probability\", fontsize=fontsize)\n",
    "    plt.xlabel(\"Portion of pixels removed\", fontsize=fontsize)\n",
    "    plt.xticks(xaxis[::10], labels=xaxis[::10], fontsize=fontsize)\n",
    "    plt.yticks(fontsize=fontsize)\n",
    "    plt.legend(fontsize=fontsize)\n",
    "    plt.tight_layout()\n",
    "    plt.savefig(f\"./figs/pixel_removal/{ds_name}.png\")\n",
    "    plt.close()\n"
   ]
  },
  {
   "cell_type": "code",
   "execution_count": 13,
   "id": "6b0a7c5c-d424-4478-ae8a-d4a516959f47",
   "metadata": {},
   "outputs": [],
   "source": [
    "data = {}\n",
    "for ds_name, ds_params in params.items():\n",
    "    trnX, trny, tstX, tsty, spurious_ind = auto_var.get_var_with_argument(\"dataset\", ds_name)\n",
    "    n_classes = len(np.unique(trny))\n",
    "    n_channels = trnX.shape[-1]\n",
    "\n",
    "    for arch_name, arch_shown_name, model_path in ds_params:\n",
    "        if arch_shown_name in data:\n",
    "            continue\n",
    "        model = getattr(archs, arch_name)(n_features=(np.prod(trnX.shape[1:]), ), n_channels=n_channels, n_classes=n_classes)\n",
    "        \n",
    "        model_parameters = filter(lambda p: p.requires_grad, model.parameters())\n",
    "        data[arch_shown_name] = sum([np.prod(p.size()) for p in model_parameters])"
   ]
  },
  {
   "cell_type": "code",
   "execution_count": 14,
   "id": "363ee4ea-8157-4853-b266-f8210c65e59b",
   "metadata": {},
   "outputs": [
    {
     "data": {
      "text/plain": [
       "{'CNN': 312202,\n",
       " 'small MLP': 203530,\n",
       " 'MLP': 335114,\n",
       " 'large MLP': 932362,\n",
       " 'ResNet20': 269722,\n",
       " 'ResNet32': 464154,\n",
       " 'ResNet110': 1727962,\n",
       " 'Vgg16': 134301514}"
      ]
     },
     "execution_count": 14,
     "metadata": {},
     "output_type": "execute_result"
    }
   ],
   "source": [
    "data"
   ]
  },
  {
   "cell_type": "code",
   "execution_count": 122,
   "id": "67b9c7c7-6f9e-4feb-ae40-1aa97877b5de",
   "metadata": {},
   "outputs": [
    {
     "data": {
      "text/plain": [
       "<matplotlib.image.AxesImage at 0x7f0d5f669910>"
      ]
     },
     "execution_count": 122,
     "metadata": {},
     "output_type": "execute_result"
    },
    {
     "data": {
      "image/png": "[encoded data removed]",
      "text/plain": [
       "<Figure size 432x288 with 1 Axes>"
      ]
     },
     "metadata": {
      "needs_background": "light"
     },
     "output_type": "display_data"
    }
   ],
   "source": [
    "plt.imshow(occ_trnX[0])"
   ]
  }
 ],
 "metadata": {
  "kernelspec": {
   "display_name": "Python 3 (ipykernel)",
   "language": "python",
   "name": "python3"
  },
  "language_info": {
   "codemirror_mode": {
    "name": "ipython",
    "version": 3
   },
   "file_extension": ".py",
   "mimetype": "text/x-python",
   "name": "python",
   "nbconvert_exporter": "python",
   "pygments_lexer": "ipython3",
   "version": "3.8.12"
  }
 },
 "nbformat": 4,
 "nbformat_minor": 5
}
