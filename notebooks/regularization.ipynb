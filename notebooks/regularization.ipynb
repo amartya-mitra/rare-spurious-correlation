{
 "cells": [
  {
   "cell_type": "code",
   "execution_count": 1,
   "id": "fd7f894a-23de-4175-822b-3d33a100a763",
   "metadata": {},
   "outputs": [],
   "source": [
    "%load_ext autoreload\n",
    "%autoreload 2\n",
    "\n",
    "from functools import lru_cache\n",
    "import sys\n",
    "sys.path.append(\"../\")\n",
    "from os.path import join\n",
    "from IPython.display import display\n",
    "from functools import partial\n",
    "\n",
    "import matplotlib\n",
    "matplotlib.rcParams['pdf.fonttype'] = 42\n",
    "matplotlib.rcParams['ps.fonttype'] = 42\n",
    "matplotlib.rc('text', usetex=True)\n",
    "\n",
    "import matplotlib.pyplot as plt\n",
    "plt.rcParams['text.usetex'] = True #Let TeX do the typsetting\n",
    "plt.rcParams['text.latex.preamble'] = r\"\"\"\n",
    "\\usepackage{sansmath}\n",
    "\\sansmath\n",
    "\"\"\" #Force sans-serif math mode (for axes labels)\n",
    "plt.rcParams['font.family'] = 'sans-serif' # ... for regular text\n",
    "plt.rcParams['font.sans-serif'] = 'Helvetica, Avant Garde, Computer Modern Sans serif' # Choose a nice font here\n",
    "\n",
    "from scipy.stats import ttest_ind, sem\n",
    "from scipy.fft import fft2\n",
    "import scipy\n",
    "import joblib\n",
    "import numpy as np\n",
    "import torch\n",
    "from torch import nn\n",
    "from torch.utils.data import Dataset, DataLoader\n",
    "from tqdm.notebook import tqdm\n",
    "from skimage.segmentation import mark_boundaries\n",
    "from scipy.stats import pearsonr\n",
    "import seaborn as sns\n",
    "import pandas as pd\n",
    "pd.options.display.float_format = '{:,.3f}'.format\n",
    "pd.set_option('display.max_rows', 128)\n",
    "\n",
    "\n",
    "from spurious_ml.datasets import add_spurious_correlation, add_colored_spurious_correlation\n",
    "from spurious_ml.models.torch_utils import archs\n",
    "from spurious_ml.variables import auto_var\n",
    "from params import *\n",
    "from utils import params_to_dataframe\n",
    "\n",
    "fontsize=16"
   ]
  },
  {
   "cell_type": "code",
   "execution_count": 2,
   "id": "224102d7-49dd-46a8-a487-501694933d46",
   "metadata": {},
   "outputs": [],
   "source": [
    "def mlp_pred_fn(X, model, device=\"cuda\"):\n",
    "    dset = torch.utils.data.TensorDataset(torch.from_numpy(X.reshape(len(X), -1)).float())\n",
    "    loader = torch.utils.data.DataLoader(dset, batch_size=256)\n",
    "    \n",
    "    model.to(device).eval()\n",
    "    fetX = []\n",
    "    for (x, ) in tqdm(loader, desc=\"[pred_fn]\"):\n",
    "        fetX.append(model(x.to(device)).cpu().detach().numpy())\n",
    "    fetX = np.concatenate(fetX, axis=0)\n",
    "    return fetX\n",
    "\n",
    "def cnn_pred_fn(X, model, device=\"cuda\"):\n",
    "    if len(X.shape) == 4:\n",
    "        X = X.transpose(0, 3, 1, 2)\n",
    "        \n",
    "    dset = torch.utils.data.TensorDataset(torch.from_numpy(X).float())\n",
    "    loader = torch.utils.data.DataLoader(dset, batch_size=128)\n",
    "    \n",
    "    model.to(device).eval()\n",
    "    fetX = []\n",
    "    #for (x, ) in loader:\n",
    "    for (x, ) in tqdm(loader, desc=\"[pred_fn]\"):\n",
    "        fetX.append(model(x.to(device)).cpu().detach().numpy())\n",
    "        #fetX.append(model.feature_extractor(x.to(device)).cpu().detach().flatten(1).numpy())\n",
    "    fetX = np.concatenate(fetX, axis=0)\n",
    "    return fetX\n",
    "\n",
    "class CLF():\n",
    "    def __init__(self, model):\n",
    "        self.model = model\n",
    "        \n",
    "    def predict(self, X, device=\"cuda\"):\n",
    "        return pred_fn(X, self.model, device=device)"
   ]
  },
  {
   "cell_type": "code",
   "execution_count": 3,
   "id": "55993496-d82f-4379-a81f-daebd7e40361",
   "metadata": {},
   "outputs": [],
   "source": [
    "@lru_cache(maxsize=None)\n",
    "def evaluate(ds_name, model_path, arch, spurious_version, seed):\n",
    "    trnX, trny, tstX, tsty, spurious_ind = auto_var.get_var_with_argument(\"dataset\", ds_name)\n",
    "    n_classes = len(np.unique(trny))\n",
    "    n_channels = trnX.shape[-1]\n",
    "    res = torch.load(model_path)\n",
    "    model = getattr(archs, arch)(n_features=(np.prod(trnX.shape[1:]), ), n_channels=n_channels, n_classes=n_classes)\n",
    "    model.load_state_dict(res['model_state_dict'])\n",
    "    \n",
    "    if 'MLP' in arch:\n",
    "        pred_fn = mlp_pred_fn\n",
    "    else:\n",
    "        pred_fn = cnn_pred_fn\n",
    "    \n",
    "    tst_preds = pred_fn(tstX, model)\n",
    "    tst_preds = scipy.special.softmax(tst_preds, axis=1)\n",
    "    modified_tstX = np.copy(tstX)\n",
    "    if n_channels == 3:\n",
    "        modified_tstX = add_colored_spurious_correlation(modified_tstX, spurious_version, seed)\n",
    "    else:\n",
    "        modified_tstX = add_spurious_correlation(modified_tstX, spurious_version, seed)\n",
    "    mod_tst_preds = pred_fn(modified_tstX, model)\n",
    "    mod_tst_preds = scipy.special.softmax(mod_tst_preds, axis=1)\n",
    "    return mod_tst_preds, tst_preds, tsty"
   ]
  },
  {
   "cell_type": "code",
   "execution_count": 4,
   "id": "0135aa2a-2f15-49a2-bc15-4207cd5b47b4",
   "metadata": {},
   "outputs": [],
   "source": [
    "def get_model_path(base_dset, spurious_version, i, tar_cls, seed, arch, momentum, optimizer, lr, model_seed,\n",
    "                   bs=None, wd=0.0, gi=None, depth=None, noise_level=None, noise_multiplier=None, grad_clip=None, folder=\"train_classifier\"):\n",
    "    ds_name = f\"{base_dset}{spurious_version}-{i}-{tar_cls}-{seed}\"\n",
    "    if folder == \"train_classifier\":\n",
    "        if base_dset in ['mnist', 'fashion']:\n",
    "            bs = 128 if bs is None else bs\n",
    "            if grad_clip is not None:\n",
    "                 model_path = f\"../models/{folder}/{bs}-{ds_name}-70-{grad_clip}-{lr}-ce-tor-{arch}-{momentum}-{optimizer}-{model_seed}-{wd}.pt\"\n",
    "            elif noise_multiplier is not None:\n",
    "                 model_path = f\"../models/{folder}/{bs}-{ds_name}-70-{lr}-ce-tor-{arch}-{momentum}-{noise_multiplier}-noisy{optimizer}-{model_seed}-{wd}.pt\"\n",
    "            else:\n",
    "                 model_path = f\"../models/{folder}/{bs}-{ds_name}-70-{lr}-ce-tor-{arch}-{momentum}-{optimizer}-{model_seed}-{wd}.pt\"\n",
    "        else:\n",
    "            bs = 64 if bs is None else bs\n",
    "            if grad_clip is not None:\n",
    "                model_path = f\"../models/{folder}/128-{ds_name}-70-{grad_clip}-{lr}-aug01-ce-tor-{arch}-{momentum}-{optimizer}-{model_seed}-{wd}.pt\"\n",
    "            elif noise_multiplier is not None:\n",
    "                model_path = f\"../models/{folder}/128-{ds_name}-70-{lr}-aug01-ce-tor-{arch}-{momentum}-{noise_multiplier}-noisy{optimizer}-{model_seed}-{wd}.pt\"\n",
    "            else:\n",
    "                model_path = f\"../models/{folder}/128-{ds_name}-70-{lr}-aug01-ce-tor-{arch}-{momentum}-{optimizer}-{model_seed}-{wd}.pt\"\n",
    "    elif folder == \"incremental_retraining\":\n",
    "        if \"cifar10\" == base_dset:\n",
    "            model_path = f\"../models/{folder}/128-{ds_name}-140-{lr}-aug01-ce-tor-{arch}-128-{ds_name}-70-{lr}-aug01-ce-tor-{arch}-{momentum}-{optimizer}-0-{wd}.pt-{momentum}-{optimizer}-0-{wd}.pt\"\n",
    "        else:\n",
    "            model_path = f\"../models/{folder}/128-{ds_name}-140-{lr}-ce-tor-{arch}-128-{ds_name}-70-{lr}-ce-tor-{arch}-{momentum}-{optimizer}-0-0.0.pt-{momentum}-{optimizer}-0-0.0.pt\"\n",
    "    elif folder == \"forget_retrain\":\n",
    "        if \"cifar10\" == base_dset:\n",
    "            if 'adam' in optimizer:\n",
    "                old_lr = 0.01\n",
    "            else:\n",
    "                old_lr = 0.1\n",
    "            model_path = f\"../models/{folder}/128-{ds_name}-140-all_normal-{lr}-aug01-ce-tor-{arch}-128-{ds_name}-70-{old_lr}-aug01-ce-tor-{arch}-{momentum}-{optimizer}-0-{wd}.pt-{momentum}-{noise_level}-{optimizer}-0-{wd}.pt\"\n",
    "        else:\n",
    "            model_path = f\"../models/{folder}/128-{ds_name}-140-all_normal-{lr}-ce-tor-{arch}-128-{ds_name}-70-0.01-ce-tor-{arch}-{momentum}-{optimizer}-0-0.0.pt-{momentum}-{noise_level}-{optimizer}-0-0.0.pt\"\n",
    "    elif folder == \"group_influence\":\n",
    "        if \"cifar10\" == base_dset:\n",
    "            if gi is not None and depth is None:\n",
    "                model_path = f\"../models/{folder}/128-{ds_name}-{gi}-aug01-ce-tor-altResNet20Norm02-128-{ds_name}-70-{lr}-aug01-ce-tor-altResNet20Norm02-{momentum}-{optimizer}-0-0.0001.pt-sgd-0.pt\"\n",
    "            elif gi is not None and depth is not None:\n",
    "                model_path = f\"../models/{folder}/128-{ds_name}-{depth}-{gi}-aug01-ce-tor-altResNet20Norm02-128-{ds_name}-70-{lr}-aug01-ce-tor-altResNet20Norm02-{momentum}-{optimizer}-0-0.0001.pt-sgd-0.pt\"\n",
    "            else:\n",
    "                model_path = f\"../models/{folder}/128-{ds_name}-aug01-ce-tor-altResNet20Norm02-128-{ds_name}-70-{lr}-aug01-ce-tor-altResNet20Norm02-{momentum}-{optimizer}-0-0.0001.pt-sgd-0.pt\"\n",
    "        else:\n",
    "            if gi is not None and depth is None:\n",
    "                model_path = f\"../models/{folder}/128-{ds_name}-{gi}-ce-tor-{arch}-128-{ds_name}-70-{lr}-ce-tor-{arch}-{momentum}-{optimizer}-0-0.0.pt-sgd-0.pt\"\n",
    "            elif gi is not None and depth is not None:\n",
    "                model_path = f\"../models/{folder}/128-{ds_name}-{depth}-{gi}-ce-tor-{arch}-128-{ds_name}-70-{lr}-ce-tor-{arch}-{momentum}-{optimizer}-0-0.0.pt-sgd-0.pt\"\n",
    "            else:\n",
    "                model_path = f\"../models/{folder}/128-{ds_name}-ce-tor-{arch}-128-{ds_name}-70-{lr}-ce-tor-{arch}-{momentum}-{optimizer}-0-0.0.pt-sgd-0.pt\"\n",
    "    return ds_name, model_path"
   ]
  },
  {
   "cell_type": "markdown",
   "id": "b007f57e-0068-43a5-8958-994f02633fc6",
   "metadata": {},
   "source": [
    "# MNIST/Fashion"
   ]
  },
  {
   "cell_type": "code",
   "execution_count": 12,
   "id": "c0b901d2-7b3b-4a96-8d7d-79f3c73a0b14",
   "metadata": {
    "scrolled": true
   },
   "outputs": [
    {
     "data": {
      "application/vnd.jupyter.widget-view+json": {
       "model_id": "f7f904bb42444f689975a60f00a84a8c",
       "version_major": 2,
       "version_minor": 0
      },
      "text/plain": [
       "[pred_fn]:   0%|          | 0/79 [00:00<?, ?it/s]"
      ]
     },
     "metadata": {},
     "output_type": "display_data"
    },
    {
     "data": {
      "application/vnd.jupyter.widget-view+json": {
       "model_id": "87333df9c50a4b92b87c5923e89f3806",
       "version_major": 2,
       "version_minor": 0
      },
      "text/plain": [
       "[pred_fn]:   0%|          | 0/79 [00:00<?, ?it/s]"
      ]
     },
     "metadata": {},
     "output_type": "display_data"
    },
    {
     "data": {
      "application/vnd.jupyter.widget-view+json": {
       "model_id": "a92a7abe9a1e46cc94625266b5df34ae",
       "version_major": 2,
       "version_minor": 0
      },
      "text/plain": [
       "[pred_fn]:   0%|          | 0/79 [00:00<?, ?it/s]"
      ]
     },
     "metadata": {},
     "output_type": "display_data"
    },
    {
     "data": {
      "application/vnd.jupyter.widget-view+json": {
       "model_id": "3ba47fdc55a1497e9eb2354eb9fb5b4a",
       "version_major": 2,
       "version_minor": 0
      },
      "text/plain": [
       "[pred_fn]:   0%|          | 0/79 [00:00<?, ?it/s]"
      ]
     },
     "metadata": {},
     "output_type": "display_data"
    },
    {
     "data": {
      "application/vnd.jupyter.widget-view+json": {
       "model_id": "4a2a2909847346eebdb7932761ab0767",
       "version_major": 2,
       "version_minor": 0
      },
      "text/plain": [
       "[pred_fn]:   0%|          | 0/79 [00:00<?, ?it/s]"
      ]
     },
     "metadata": {},
     "output_type": "display_data"
    },
    {
     "data": {
      "application/vnd.jupyter.widget-view+json": {
       "model_id": "26a0a56e018745b281b70d3ce928d715",
       "version_major": 2,
       "version_minor": 0
      },
      "text/plain": [
       "[pred_fn]:   0%|          | 0/79 [00:00<?, ?it/s]"
      ]
     },
     "metadata": {},
     "output_type": "display_data"
    },
    {
     "data": {
      "application/vnd.jupyter.widget-view+json": {
       "model_id": "5d53afd32eb44501b06f36af9898df84",
       "version_major": 2,
       "version_minor": 0
      },
      "text/plain": [
       "[pred_fn]:   0%|          | 0/79 [00:00<?, ?it/s]"
      ]
     },
     "metadata": {},
     "output_type": "display_data"
    },
    {
     "data": {
      "application/vnd.jupyter.widget-view+json": {
       "model_id": "c28e49b5705a495280f7e656bb90978d",
       "version_major": 2,
       "version_minor": 0
      },
      "text/plain": [
       "[pred_fn]:   0%|          | 0/79 [00:00<?, ?it/s]"
      ]
     },
     "metadata": {},
     "output_type": "display_data"
    },
    {
     "data": {
      "application/vnd.jupyter.widget-view+json": {
       "model_id": "358e8c52c911481798f251044079471f",
       "version_major": 2,
       "version_minor": 0
      },
      "text/plain": [
       "[pred_fn]:   0%|          | 0/79 [00:00<?, ?it/s]"
      ]
     },
     "metadata": {},
     "output_type": "display_data"
    },
    {
     "data": {
      "application/vnd.jupyter.widget-view+json": {
       "model_id": "451dcd670ec045f3a9ef53827173a6cc",
       "version_major": 2,
       "version_minor": 0
      },
      "text/plain": [
       "[pred_fn]:   0%|          | 0/79 [00:00<?, ?it/s]"
      ]
     },
     "metadata": {},
     "output_type": "display_data"
    },
    {
     "data": {
      "application/vnd.jupyter.widget-view+json": {
       "model_id": "e2bacef223844391a7cb5780fbab93fb",
       "version_major": 2,
       "version_minor": 0
      },
      "text/plain": [
       "[pred_fn]:   0%|          | 0/79 [00:00<?, ?it/s]"
      ]
     },
     "metadata": {},
     "output_type": "display_data"
    },
    {
     "data": {
      "application/vnd.jupyter.widget-view+json": {
       "model_id": "00fa132fac5445cba173aa9dc8a02b5b",
       "version_major": 2,
       "version_minor": 0
      },
      "text/plain": [
       "[pred_fn]:   0%|          | 0/79 [00:00<?, ?it/s]"
      ]
     },
     "metadata": {},
     "output_type": "display_data"
    },
    {
     "data": {
      "application/vnd.jupyter.widget-view+json": {
       "model_id": "526ca354c3c64bab9d82c290ca452ba2",
       "version_major": 2,
       "version_minor": 0
      },
      "text/plain": [
       "[pred_fn]:   0%|          | 0/79 [00:00<?, ?it/s]"
      ]
     },
     "metadata": {},
     "output_type": "display_data"
    },
    {
     "data": {
      "application/vnd.jupyter.widget-view+json": {
       "model_id": "277ac0397bb2412db442f9e6571e7cc5",
       "version_major": 2,
       "version_minor": 0
      },
      "text/plain": [
       "[pred_fn]:   0%|          | 0/79 [00:00<?, ?it/s]"
      ]
     },
     "metadata": {},
     "output_type": "display_data"
    },
    {
     "data": {
      "application/vnd.jupyter.widget-view+json": {
       "model_id": "1af2e930194f47fe9c1e7daa7666a8dd",
       "version_major": 2,
       "version_minor": 0
      },
      "text/plain": [
       "[pred_fn]:   0%|          | 0/79 [00:00<?, ?it/s]"
      ]
     },
     "metadata": {},
     "output_type": "display_data"
    },
    {
     "data": {
      "application/vnd.jupyter.widget-view+json": {
       "model_id": "4cb00850bf0f41d9b8db517815db4de7",
       "version_major": 2,
       "version_minor": 0
      },
      "text/plain": [
       "[pred_fn]:   0%|          | 0/79 [00:00<?, ?it/s]"
      ]
     },
     "metadata": {},
     "output_type": "display_data"
    },
    {
     "data": {
      "application/vnd.jupyter.widget-view+json": {
       "model_id": "b8af01ab4d3d40ce977c2f20275d3183",
       "version_major": 2,
       "version_minor": 0
      },
      "text/plain": [
       "[pred_fn]:   0%|          | 0/79 [00:00<?, ?it/s]"
      ]
     },
     "metadata": {},
     "output_type": "display_data"
    },
    {
     "data": {
      "application/vnd.jupyter.widget-view+json": {
       "model_id": "76de0d14e1644f9bab77ffcca92d11a9",
       "version_major": 2,
       "version_minor": 0
      },
      "text/plain": [
       "[pred_fn]:   0%|          | 0/79 [00:00<?, ?it/s]"
      ]
     },
     "metadata": {},
     "output_type": "display_data"
    },
    {
     "data": {
      "application/vnd.jupyter.widget-view+json": {
       "model_id": "0c2f1970575d4d638e9ad75746ec05aa",
       "version_major": 2,
       "version_minor": 0
      },
      "text/plain": [
       "[pred_fn]:   0%|          | 0/79 [00:00<?, ?it/s]"
      ]
     },
     "metadata": {},
     "output_type": "display_data"
    },
    {
     "data": {
      "application/vnd.jupyter.widget-view+json": {
       "model_id": "859f4d1ddd1a461fbc156f24792475f3",
       "version_major": 2,
       "version_minor": 0
      },
      "text/plain": [
       "[pred_fn]:   0%|          | 0/79 [00:00<?, ?it/s]"
      ]
     },
     "metadata": {},
     "output_type": "display_data"
    },
    {
     "data": {
      "application/vnd.jupyter.widget-view+json": {
       "model_id": "43617d64c1354d23b4e7a2bc93a837ae",
       "version_major": 2,
       "version_minor": 0
      },
      "text/plain": [
       "[pred_fn]:   0%|          | 0/79 [00:00<?, ?it/s]"
      ]
     },
     "metadata": {},
     "output_type": "display_data"
    },
    {
     "data": {
      "application/vnd.jupyter.widget-view+json": {
       "model_id": "fc2b813118ff4b38954bd5e3b4607af0",
       "version_major": 2,
       "version_minor": 0
      },
      "text/plain": [
       "[pred_fn]:   0%|          | 0/79 [00:00<?, ?it/s]"
      ]
     },
     "metadata": {},
     "output_type": "display_data"
    },
    {
     "data": {
      "application/vnd.jupyter.widget-view+json": {
       "model_id": "217e74d31e7548d69022fe19a0eccb9e",
       "version_major": 2,
       "version_minor": 0
      },
      "text/plain": [
       "[pred_fn]:   0%|          | 0/79 [00:00<?, ?it/s]"
      ]
     },
     "metadata": {},
     "output_type": "display_data"
    },
    {
     "data": {
      "application/vnd.jupyter.widget-view+json": {
       "model_id": "fc2b33ca1c3d4f4f88d9e67b9d66d17b",
       "version_major": 2,
       "version_minor": 0
      },
      "text/plain": [
       "[pred_fn]:   0%|          | 0/79 [00:00<?, ?it/s]"
      ]
     },
     "metadata": {},
     "output_type": "display_data"
    },
    {
     "data": {
      "application/vnd.jupyter.widget-view+json": {
       "model_id": "78efeeda41fc4d4ca3f298fa8b4abcb9",
       "version_major": 2,
       "version_minor": 0
      },
      "text/plain": [
       "[pred_fn]:   0%|          | 0/79 [00:00<?, ?it/s]"
      ]
     },
     "metadata": {},
     "output_type": "display_data"
    },
    {
     "data": {
      "application/vnd.jupyter.widget-view+json": {
       "model_id": "bce1cdc5b6654b25af1db1862213d5bf",
       "version_major": 2,
       "version_minor": 0
      },
      "text/plain": [
       "[pred_fn]:   0%|          | 0/79 [00:00<?, ?it/s]"
      ]
     },
     "metadata": {},
     "output_type": "display_data"
    },
    {
     "data": {
      "application/vnd.jupyter.widget-view+json": {
       "model_id": "d8a3928dafc24eb4b6cbbe59b6383fd8",
       "version_major": 2,
       "version_minor": 0
      },
      "text/plain": [
       "[pred_fn]:   0%|          | 0/79 [00:00<?, ?it/s]"
      ]
     },
     "metadata": {},
     "output_type": "display_data"
    },
    {
     "data": {
      "application/vnd.jupyter.widget-view+json": {
       "model_id": "d5805add307942e8bfd36233954da7e4",
       "version_major": 2,
       "version_minor": 0
      },
      "text/plain": [
       "[pred_fn]:   0%|          | 0/79 [00:00<?, ?it/s]"
      ]
     },
     "metadata": {},
     "output_type": "display_data"
    },
    {
     "data": {
      "application/vnd.jupyter.widget-view+json": {
       "model_id": "39089b7fb1cd40e8bf6d963b2e53260b",
       "version_major": 2,
       "version_minor": 0
      },
      "text/plain": [
       "[pred_fn]:   0%|          | 0/79 [00:00<?, ?it/s]"
      ]
     },
     "metadata": {},
     "output_type": "display_data"
    },
    {
     "data": {
      "application/vnd.jupyter.widget-view+json": {
       "model_id": "1a900b5a14c44382abab2478b43d3da4",
       "version_major": 2,
       "version_minor": 0
      },
      "text/plain": [
       "[pred_fn]:   0%|          | 0/79 [00:00<?, ?it/s]"
      ]
     },
     "metadata": {},
     "output_type": "display_data"
    },
    {
     "data": {
      "application/vnd.jupyter.widget-view+json": {
       "model_id": "8c79070d41fd4274b25f297a4b80200a",
       "version_major": 2,
       "version_minor": 0
      },
      "text/plain": [
       "[pred_fn]:   0%|          | 0/79 [00:00<?, ?it/s]"
      ]
     },
     "metadata": {},
     "output_type": "display_data"
    },
    {
     "data": {
      "application/vnd.jupyter.widget-view+json": {
       "model_id": "92b5dbb3f3304d0fa7af6e3daec83514",
       "version_major": 2,
       "version_minor": 0
      },
      "text/plain": [
       "[pred_fn]:   0%|          | 0/79 [00:00<?, ?it/s]"
      ]
     },
     "metadata": {},
     "output_type": "display_data"
    },
    {
     "data": {
      "application/vnd.jupyter.widget-view+json": {
       "model_id": "9cec913d9ebf459ebf443e9f960b532b",
       "version_major": 2,
       "version_minor": 0
      },
      "text/plain": [
       "[pred_fn]:   0%|          | 0/79 [00:00<?, ?it/s]"
      ]
     },
     "metadata": {},
     "output_type": "display_data"
    },
    {
     "data": {
      "application/vnd.jupyter.widget-view+json": {
       "model_id": "489945b91d53493ab244e3aef5175139",
       "version_major": 2,
       "version_minor": 0
      },
      "text/plain": [
       "[pred_fn]:   0%|          | 0/79 [00:00<?, ?it/s]"
      ]
     },
     "metadata": {},
     "output_type": "display_data"
    },
    {
     "data": {
      "application/vnd.jupyter.widget-view+json": {
       "model_id": "81849a44607c4c7b94ff4c3ebbdf8c47",
       "version_major": 2,
       "version_minor": 0
      },
      "text/plain": [
       "[pred_fn]:   0%|          | 0/79 [00:00<?, ?it/s]"
      ]
     },
     "metadata": {},
     "output_type": "display_data"
    },
    {
     "data": {
      "application/vnd.jupyter.widget-view+json": {
       "model_id": "3222984f4e7348949754da8946fb3bfb",
       "version_major": 2,
       "version_minor": 0
      },
      "text/plain": [
       "[pred_fn]:   0%|          | 0/79 [00:00<?, ?it/s]"
      ]
     },
     "metadata": {},
     "output_type": "display_data"
    },
    {
     "data": {
      "application/vnd.jupyter.widget-view+json": {
       "model_id": "09ba9088703d4894a3a160c37b82f1ed",
       "version_major": 2,
       "version_minor": 0
      },
      "text/plain": [
       "[pred_fn]:   0%|          | 0/79 [00:00<?, ?it/s]"
      ]
     },
     "metadata": {},
     "output_type": "display_data"
    },
    {
     "data": {
      "application/vnd.jupyter.widget-view+json": {
       "model_id": "6147cc508f164356ac10a823f52bc907",
       "version_major": 2,
       "version_minor": 0
      },
      "text/plain": [
       "[pred_fn]:   0%|          | 0/79 [00:00<?, ?it/s]"
      ]
     },
     "metadata": {},
     "output_type": "display_data"
    },
    {
     "data": {
      "application/vnd.jupyter.widget-view+json": {
       "model_id": "664069d3a5c347ed96d8b5ae6c939a1d",
       "version_major": 2,
       "version_minor": 0
      },
      "text/plain": [
       "[pred_fn]:   0%|          | 0/79 [00:00<?, ?it/s]"
      ]
     },
     "metadata": {},
     "output_type": "display_data"
    },
    {
     "data": {
      "application/vnd.jupyter.widget-view+json": {
       "model_id": "ca892bd47bbb40af841bfe76f79ccfc0",
       "version_major": 2,
       "version_minor": 0
      },
      "text/plain": [
       "[pred_fn]:   0%|          | 0/79 [00:00<?, ?it/s]"
      ]
     },
     "metadata": {},
     "output_type": "display_data"
    },
    {
     "data": {
      "application/vnd.jupyter.widget-view+json": {
       "model_id": "a88b5fefd9274fe48b6a1c0a2a86bde1",
       "version_major": 2,
       "version_minor": 0
      },
      "text/plain": [
       "[pred_fn]:   0%|          | 0/79 [00:00<?, ?it/s]"
      ]
     },
     "metadata": {},
     "output_type": "display_data"
    },
    {
     "data": {
      "application/vnd.jupyter.widget-view+json": {
       "model_id": "01c45328db4544ebaa532e5661b2b0b1",
       "version_major": 2,
       "version_minor": 0
      },
      "text/plain": [
       "[pred_fn]:   0%|          | 0/79 [00:00<?, ?it/s]"
      ]
     },
     "metadata": {},
     "output_type": "display_data"
    },
    {
     "data": {
      "application/vnd.jupyter.widget-view+json": {
       "model_id": "2ad932ffb6da4e4884dcaf128e2f027c",
       "version_major": 2,
       "version_minor": 0
      },
      "text/plain": [
       "[pred_fn]:   0%|          | 0/79 [00:00<?, ?it/s]"
      ]
     },
     "metadata": {},
     "output_type": "display_data"
    },
    {
     "data": {
      "application/vnd.jupyter.widget-view+json": {
       "model_id": "e34b4627c4164ec8a3bb2557a7bb2314",
       "version_major": 2,
       "version_minor": 0
      },
      "text/plain": [
       "[pred_fn]:   0%|          | 0/79 [00:00<?, ?it/s]"
      ]
     },
     "metadata": {},
     "output_type": "display_data"
    },
    {
     "data": {
      "application/vnd.jupyter.widget-view+json": {
       "model_id": "cda114014aad401aa21f8a95db0832ad",
       "version_major": 2,
       "version_minor": 0
      },
      "text/plain": [
       "[pred_fn]:   0%|          | 0/79 [00:00<?, ?it/s]"
      ]
     },
     "metadata": {},
     "output_type": "display_data"
    },
    {
     "data": {
      "application/vnd.jupyter.widget-view+json": {
       "model_id": "dd0c8d12ee934013993d3fbc004608ba",
       "version_major": 2,
       "version_minor": 0
      },
      "text/plain": [
       "[pred_fn]:   0%|          | 0/79 [00:00<?, ?it/s]"
      ]
     },
     "metadata": {},
     "output_type": "display_data"
    },
    {
     "data": {
      "application/vnd.jupyter.widget-view+json": {
       "model_id": "d7d328b3a2d343649c1f254d542bd42a",
       "version_major": 2,
       "version_minor": 0
      },
      "text/plain": [
       "[pred_fn]:   0%|          | 0/79 [00:00<?, ?it/s]"
      ]
     },
     "metadata": {},
     "output_type": "display_data"
    },
    {
     "data": {
      "application/vnd.jupyter.widget-view+json": {
       "model_id": "01b2b5b27486485bad0de9ea2615cbc6",
       "version_major": 2,
       "version_minor": 0
      },
      "text/plain": [
       "[pred_fn]:   0%|          | 0/79 [00:00<?, ?it/s]"
      ]
     },
     "metadata": {},
     "output_type": "display_data"
    },
    {
     "data": {
      "application/vnd.jupyter.widget-view+json": {
       "model_id": "ecf7438ae77d4647a0c3714be2abcfb6",
       "version_major": 2,
       "version_minor": 0
      },
      "text/plain": [
       "[pred_fn]:   0%|          | 0/79 [00:00<?, ?it/s]"
      ]
     },
     "metadata": {},
     "output_type": "display_data"
    },
    {
     "data": {
      "application/vnd.jupyter.widget-view+json": {
       "model_id": "febded8c8b1745e286a8c13e535f774c",
       "version_major": 2,
       "version_minor": 0
      },
      "text/plain": [
       "[pred_fn]:   0%|          | 0/79 [00:00<?, ?it/s]"
      ]
     },
     "metadata": {},
     "output_type": "display_data"
    },
    {
     "data": {
      "application/vnd.jupyter.widget-view+json": {
       "model_id": "7f5191fa46fd44048e31c7d459cb4b63",
       "version_major": 2,
       "version_minor": 0
      },
      "text/plain": [
       "[pred_fn]:   0%|          | 0/79 [00:00<?, ?it/s]"
      ]
     },
     "metadata": {},
     "output_type": "display_data"
    },
    {
     "data": {
      "application/vnd.jupyter.widget-view+json": {
       "model_id": "2064cd042b104e03816ef9d9647186fb",
       "version_major": 2,
       "version_minor": 0
      },
      "text/plain": [
       "[pred_fn]:   0%|          | 0/79 [00:00<?, ?it/s]"
      ]
     },
     "metadata": {},
     "output_type": "display_data"
    },
    {
     "data": {
      "application/vnd.jupyter.widget-view+json": {
       "model_id": "713d5746d615423c8dcaa32f585fff9f",
       "version_major": 2,
       "version_minor": 0
      },
      "text/plain": [
       "[pred_fn]:   0%|          | 0/79 [00:00<?, ?it/s]"
      ]
     },
     "metadata": {},
     "output_type": "display_data"
    },
    {
     "data": {
      "application/vnd.jupyter.widget-view+json": {
       "model_id": "ebdf1c0def144299933b0136f996a9a4",
       "version_major": 2,
       "version_minor": 0
      },
      "text/plain": [
       "[pred_fn]:   0%|          | 0/79 [00:00<?, ?it/s]"
      ]
     },
     "metadata": {},
     "output_type": "display_data"
    },
    {
     "data": {
      "application/vnd.jupyter.widget-view+json": {
       "model_id": "bc4978fc0301437d9d19449bb932564d",
       "version_major": 2,
       "version_minor": 0
      },
      "text/plain": [
       "[pred_fn]:   0%|          | 0/79 [00:00<?, ?it/s]"
      ]
     },
     "metadata": {},
     "output_type": "display_data"
    },
    {
     "data": {
      "application/vnd.jupyter.widget-view+json": {
       "model_id": "d3a7252ed1234f3984f726d45c970178",
       "version_major": 2,
       "version_minor": 0
      },
      "text/plain": [
       "[pred_fn]:   0%|          | 0/79 [00:00<?, ?it/s]"
      ]
     },
     "metadata": {},
     "output_type": "display_data"
    },
    {
     "data": {
      "application/vnd.jupyter.widget-view+json": {
       "model_id": "b642d68c729c48ceaa7e78e29571a659",
       "version_major": 2,
       "version_minor": 0
      },
      "text/plain": [
       "[pred_fn]:   0%|          | 0/79 [00:00<?, ?it/s]"
      ]
     },
     "metadata": {},
     "output_type": "display_data"
    },
    {
     "data": {
      "application/vnd.jupyter.widget-view+json": {
       "model_id": "7b9bdd8de2af4bc8a3fc5c3396103454",
       "version_major": 2,
       "version_minor": 0
      },
      "text/plain": [
       "[pred_fn]:   0%|          | 0/79 [00:00<?, ?it/s]"
      ]
     },
     "metadata": {},
     "output_type": "display_data"
    },
    {
     "data": {
      "application/vnd.jupyter.widget-view+json": {
       "model_id": "efd6326e1989403c96914affb968384a",
       "version_major": 2,
       "version_minor": 0
      },
      "text/plain": [
       "[pred_fn]:   0%|          | 0/79 [00:00<?, ?it/s]"
      ]
     },
     "metadata": {},
     "output_type": "display_data"
    },
    {
     "data": {
      "application/vnd.jupyter.widget-view+json": {
       "model_id": "ff8018c5bc164ea9a344087ac6558de4",
       "version_major": 2,
       "version_minor": 0
      },
      "text/plain": [
       "[pred_fn]:   0%|          | 0/79 [00:00<?, ?it/s]"
      ]
     },
     "metadata": {},
     "output_type": "display_data"
    },
    {
     "data": {
      "application/vnd.jupyter.widget-view+json": {
       "model_id": "0d366cf78c48445abb45f147ad5eaf3d",
       "version_major": 2,
       "version_minor": 0
      },
      "text/plain": [
       "[pred_fn]:   0%|          | 0/79 [00:00<?, ?it/s]"
      ]
     },
     "metadata": {},
     "output_type": "display_data"
    },
    {
     "data": {
      "application/vnd.jupyter.widget-view+json": {
       "model_id": "b72be2832bbe49038aeb528bd1015251",
       "version_major": 2,
       "version_minor": 0
      },
      "text/plain": [
       "[pred_fn]:   0%|          | 0/79 [00:00<?, ?it/s]"
      ]
     },
     "metadata": {},
     "output_type": "display_data"
    },
    {
     "data": {
      "application/vnd.jupyter.widget-view+json": {
       "model_id": "8112ede72a254c2f97610ab2bdb30a05",
       "version_major": 2,
       "version_minor": 0
      },
      "text/plain": [
       "[pred_fn]:   0%|          | 0/79 [00:00<?, ?it/s]"
      ]
     },
     "metadata": {},
     "output_type": "display_data"
    },
    {
     "data": {
      "application/vnd.jupyter.widget-view+json": {
       "model_id": "422f80b18808438bbbf614f04c848c1c",
       "version_major": 2,
       "version_minor": 0
      },
      "text/plain": [
       "[pred_fn]:   0%|          | 0/79 [00:00<?, ?it/s]"
      ]
     },
     "metadata": {},
     "output_type": "display_data"
    },
    {
     "data": {
      "application/vnd.jupyter.widget-view+json": {
       "model_id": "9d1a60d71c57436f942e83c0a13360c6",
       "version_major": 2,
       "version_minor": 0
      },
      "text/plain": [
       "[pred_fn]:   0%|          | 0/79 [00:00<?, ?it/s]"
      ]
     },
     "metadata": {},
     "output_type": "display_data"
    },
    {
     "data": {
      "application/vnd.jupyter.widget-view+json": {
       "model_id": "4e9dfd5377244d41a9431cfd9a1a1b82",
       "version_major": 2,
       "version_minor": 0
      },
      "text/plain": [
       "[pred_fn]:   0%|          | 0/79 [00:00<?, ?it/s]"
      ]
     },
     "metadata": {},
     "output_type": "display_data"
    },
    {
     "data": {
      "application/vnd.jupyter.widget-view+json": {
       "model_id": "1f8a858f7b8d4d93889e3f5c5de4d171",
       "version_major": 2,
       "version_minor": 0
      },
      "text/plain": [
       "[pred_fn]:   0%|          | 0/79 [00:00<?, ?it/s]"
      ]
     },
     "metadata": {},
     "output_type": "display_data"
    },
    {
     "data": {
      "application/vnd.jupyter.widget-view+json": {
       "model_id": "f6ffa57f286a4ae7b5e9b12f9a41e5f5",
       "version_major": 2,
       "version_minor": 0
      },
      "text/plain": [
       "[pred_fn]:   0%|          | 0/79 [00:00<?, ?it/s]"
      ]
     },
     "metadata": {},
     "output_type": "display_data"
    },
    {
     "data": {
      "application/vnd.jupyter.widget-view+json": {
       "model_id": "ae8231a478104c17b0e31807669a1f21",
       "version_major": 2,
       "version_minor": 0
      },
      "text/plain": [
       "[pred_fn]:   0%|          | 0/79 [00:00<?, ?it/s]"
      ]
     },
     "metadata": {},
     "output_type": "display_data"
    },
    {
     "data": {
      "application/vnd.jupyter.widget-view+json": {
       "model_id": "4b33d79efe21426584c3961f8b5e4369",
       "version_major": 2,
       "version_minor": 0
      },
      "text/plain": [
       "[pred_fn]:   0%|          | 0/79 [00:00<?, ?it/s]"
      ]
     },
     "metadata": {},
     "output_type": "display_data"
    },
    {
     "data": {
      "application/vnd.jupyter.widget-view+json": {
       "model_id": "fdeb07cca4bc4791812fb98a2b53666d",
       "version_major": 2,
       "version_minor": 0
      },
      "text/plain": [
       "[pred_fn]:   0%|          | 0/79 [00:00<?, ?it/s]"
      ]
     },
     "metadata": {},
     "output_type": "display_data"
    },
    {
     "data": {
      "application/vnd.jupyter.widget-view+json": {
       "model_id": "e0ce0844a25342f9a9c70fa2ac9c2476",
       "version_major": 2,
       "version_minor": 0
      },
      "text/plain": [
       "[pred_fn]:   0%|          | 0/79 [00:00<?, ?it/s]"
      ]
     },
     "metadata": {},
     "output_type": "display_data"
    },
    {
     "data": {
      "application/vnd.jupyter.widget-view+json": {
       "model_id": "0baaa6add83e4176b893f6d64ec99fa6",
       "version_major": 2,
       "version_minor": 0
      },
      "text/plain": [
       "[pred_fn]:   0%|          | 0/79 [00:00<?, ?it/s]"
      ]
     },
     "metadata": {},
     "output_type": "display_data"
    },
    {
     "data": {
      "application/vnd.jupyter.widget-view+json": {
       "model_id": "fdf2c964fe31478abea719412eef88a5",
       "version_major": 2,
       "version_minor": 0
      },
      "text/plain": [
       "[pred_fn]:   0%|          | 0/79 [00:00<?, ?it/s]"
      ]
     },
     "metadata": {},
     "output_type": "display_data"
    },
    {
     "data": {
      "application/vnd.jupyter.widget-view+json": {
       "model_id": "1070d3f2a7ec4bcab0df913b7655d015",
       "version_major": 2,
       "version_minor": 0
      },
      "text/plain": [
       "[pred_fn]:   0%|          | 0/79 [00:00<?, ?it/s]"
      ]
     },
     "metadata": {},
     "output_type": "display_data"
    },
    {
     "data": {
      "application/vnd.jupyter.widget-view+json": {
       "model_id": "42b2e896910345148763326c84284603",
       "version_major": 2,
       "version_minor": 0
      },
      "text/plain": [
       "[pred_fn]:   0%|          | 0/79 [00:00<?, ?it/s]"
      ]
     },
     "metadata": {},
     "output_type": "display_data"
    },
    {
     "data": {
      "application/vnd.jupyter.widget-view+json": {
       "model_id": "353cddd842854e25afa5dd5ac7631d74",
       "version_major": 2,
       "version_minor": 0
      },
      "text/plain": [
       "[pred_fn]:   0%|          | 0/79 [00:00<?, ?it/s]"
      ]
     },
     "metadata": {},
     "output_type": "display_data"
    },
    {
     "data": {
      "application/vnd.jupyter.widget-view+json": {
       "model_id": "c8bcca7491a64afb92185812314c2bfe",
       "version_major": 2,
       "version_minor": 0
      },
      "text/plain": [
       "[pred_fn]:   0%|          | 0/79 [00:00<?, ?it/s]"
      ]
     },
     "metadata": {},
     "output_type": "display_data"
    },
    {
     "data": {
      "application/vnd.jupyter.widget-view+json": {
       "model_id": "eef893e0440c4343a989e50cf0e395e7",
       "version_major": 2,
       "version_minor": 0
      },
      "text/plain": [
       "[pred_fn]:   0%|          | 0/79 [00:00<?, ?it/s]"
      ]
     },
     "metadata": {},
     "output_type": "display_data"
    },
    {
     "data": {
      "application/vnd.jupyter.widget-view+json": {
       "model_id": "b223ae1ff94b42f08b64474ef4a3c875",
       "version_major": 2,
       "version_minor": 0
      },
      "text/plain": [
       "[pred_fn]:   0%|          | 0/79 [00:00<?, ?it/s]"
      ]
     },
     "metadata": {},
     "output_type": "display_data"
    },
    {
     "data": {
      "application/vnd.jupyter.widget-view+json": {
       "model_id": "1b27b5d769f84e1e8bac9af071176350",
       "version_major": 2,
       "version_minor": 0
      },
      "text/plain": [
       "[pred_fn]:   0%|          | 0/79 [00:00<?, ?it/s]"
      ]
     },
     "metadata": {},
     "output_type": "display_data"
    },
    {
     "data": {
      "application/vnd.jupyter.widget-view+json": {
       "model_id": "a7f6378d456d4888819f45f6ba493546",
       "version_major": 2,
       "version_minor": 0
      },
      "text/plain": [
       "[pred_fn]:   0%|          | 0/79 [00:00<?, ?it/s]"
      ]
     },
     "metadata": {},
     "output_type": "display_data"
    },
    {
     "data": {
      "application/vnd.jupyter.widget-view+json": {
       "model_id": "d47f30cbabda4912bbe82f4cd5025b05",
       "version_major": 2,
       "version_minor": 0
      },
      "text/plain": [
       "[pred_fn]:   0%|          | 0/79 [00:00<?, ?it/s]"
      ]
     },
     "metadata": {},
     "output_type": "display_data"
    },
    {
     "data": {
      "application/vnd.jupyter.widget-view+json": {
       "model_id": "b60d8f82d6d547038fa562cdb07ff563",
       "version_major": 2,
       "version_minor": 0
      },
      "text/plain": [
       "[pred_fn]:   0%|          | 0/79 [00:00<?, ?it/s]"
      ]
     },
     "metadata": {},
     "output_type": "display_data"
    },
    {
     "data": {
      "application/vnd.jupyter.widget-view+json": {
       "model_id": "02d3a4b311e447a5b7e4b991c0be9462",
       "version_major": 2,
       "version_minor": 0
      },
      "text/plain": [
       "[pred_fn]:   0%|          | 0/79 [00:00<?, ?it/s]"
      ]
     },
     "metadata": {},
     "output_type": "display_data"
    },
    {
     "data": {
      "application/vnd.jupyter.widget-view+json": {
       "model_id": "225afa792b554df5a84f9914187f9364",
       "version_major": 2,
       "version_minor": 0
      },
      "text/plain": [
       "[pred_fn]:   0%|          | 0/79 [00:00<?, ?it/s]"
      ]
     },
     "metadata": {},
     "output_type": "display_data"
    },
    {
     "data": {
      "application/vnd.jupyter.widget-view+json": {
       "model_id": "3e2c9f51d9854630bdf0bc3fa5c79970",
       "version_major": 2,
       "version_minor": 0
      },
      "text/plain": [
       "[pred_fn]:   0%|          | 0/79 [00:00<?, ?it/s]"
      ]
     },
     "metadata": {},
     "output_type": "display_data"
    },
    {
     "data": {
      "application/vnd.jupyter.widget-view+json": {
       "model_id": "b71a54a09963427286d3c39302210d48",
       "version_major": 2,
       "version_minor": 0
      },
      "text/plain": [
       "[pred_fn]:   0%|          | 0/79 [00:00<?, ?it/s]"
      ]
     },
     "metadata": {},
     "output_type": "display_data"
    },
    {
     "data": {
      "application/vnd.jupyter.widget-view+json": {
       "model_id": "f462e7007392421c9ef1177e45ede0e7",
       "version_major": 2,
       "version_minor": 0
      },
      "text/plain": [
       "[pred_fn]:   0%|          | 0/79 [00:00<?, ?it/s]"
      ]
     },
     "metadata": {},
     "output_type": "display_data"
    },
    {
     "data": {
      "application/vnd.jupyter.widget-view+json": {
       "model_id": "53cce6785cba4db7b2f12b41d87837c0",
       "version_major": 2,
       "version_minor": 0
      },
      "text/plain": [
       "[pred_fn]:   0%|          | 0/79 [00:00<?, ?it/s]"
      ]
     },
     "metadata": {},
     "output_type": "display_data"
    },
    {
     "data": {
      "application/vnd.jupyter.widget-view+json": {
       "model_id": "778c84ae47384dc5822da7b388f91393",
       "version_major": 2,
       "version_minor": 0
      },
      "text/plain": [
       "[pred_fn]:   0%|          | 0/79 [00:00<?, ?it/s]"
      ]
     },
     "metadata": {},
     "output_type": "display_data"
    },
    {
     "data": {
      "application/vnd.jupyter.widget-view+json": {
       "model_id": "0d9ef030195e4860985ae00442305e27",
       "version_major": 2,
       "version_minor": 0
      },
      "text/plain": [
       "[pred_fn]:   0%|          | 0/79 [00:00<?, ?it/s]"
      ]
     },
     "metadata": {},
     "output_type": "display_data"
    },
    {
     "data": {
      "application/vnd.jupyter.widget-view+json": {
       "model_id": "d84f7e19c0484cb183e0bca50f2093f8",
       "version_major": 2,
       "version_minor": 0
      },
      "text/plain": [
       "[pred_fn]:   0%|          | 0/79 [00:00<?, ?it/s]"
      ]
     },
     "metadata": {},
     "output_type": "display_data"
    },
    {
     "data": {
      "application/vnd.jupyter.widget-view+json": {
       "model_id": "db9382be0b234c59b67da5df064b81b1",
       "version_major": 2,
       "version_minor": 0
      },
      "text/plain": [
       "[pred_fn]:   0%|          | 0/79 [00:00<?, ?it/s]"
      ]
     },
     "metadata": {},
     "output_type": "display_data"
    },
    {
     "data": {
      "application/vnd.jupyter.widget-view+json": {
       "model_id": "28b77a3a97d54ad98ed8e2b18ad4dbca",
       "version_major": 2,
       "version_minor": 0
      },
      "text/plain": [
       "[pred_fn]:   0%|          | 0/79 [00:00<?, ?it/s]"
      ]
     },
     "metadata": {},
     "output_type": "display_data"
    },
    {
     "data": {
      "application/vnd.jupyter.widget-view+json": {
       "model_id": "85d3bb3f25274874b628092d05d9c159",
       "version_major": 2,
       "version_minor": 0
      },
      "text/plain": [
       "[pred_fn]:   0%|          | 0/79 [00:00<?, ?it/s]"
      ]
     },
     "metadata": {},
     "output_type": "display_data"
    },
    {
     "data": {
      "application/vnd.jupyter.widget-view+json": {
       "model_id": "9a884ade6bb34d91ae15c513f05f355f",
       "version_major": 2,
       "version_minor": 0
      },
      "text/plain": [
       "[pred_fn]:   0%|          | 0/79 [00:00<?, ?it/s]"
      ]
     },
     "metadata": {},
     "output_type": "display_data"
    },
    {
     "data": {
      "application/vnd.jupyter.widget-view+json": {
       "model_id": "676e321b1824471daa7b3b2d31a19568",
       "version_major": 2,
       "version_minor": 0
      },
      "text/plain": [
       "[pred_fn]:   0%|          | 0/79 [00:00<?, ?it/s]"
      ]
     },
     "metadata": {},
     "output_type": "display_data"
    },
    {
     "data": {
      "application/vnd.jupyter.widget-view+json": {
       "model_id": "cace2cd4ef9646419ee922d128c5b457",
       "version_major": 2,
       "version_minor": 0
      },
      "text/plain": [
       "[pred_fn]:   0%|          | 0/79 [00:00<?, ?it/s]"
      ]
     },
     "metadata": {},
     "output_type": "display_data"
    },
    {
     "data": {
      "application/vnd.jupyter.widget-view+json": {
       "model_id": "e15315a5a2b24efcad38817fd9608adb",
       "version_major": 2,
       "version_minor": 0
      },
      "text/plain": [
       "[pred_fn]:   0%|          | 0/79 [00:00<?, ?it/s]"
      ]
     },
     "metadata": {},
     "output_type": "display_data"
    },
    {
     "data": {
      "application/vnd.jupyter.widget-view+json": {
       "model_id": "60ac9c10c7d34489a794d4b1a1f1101d",
       "version_major": 2,
       "version_minor": 0
      },
      "text/plain": [
       "[pred_fn]:   0%|          | 0/79 [00:00<?, ?it/s]"
      ]
     },
     "metadata": {},
     "output_type": "display_data"
    },
    {
     "data": {
      "application/vnd.jupyter.widget-view+json": {
       "model_id": "071bd65b50ad47e3b16868b3fbc12ae4",
       "version_major": 2,
       "version_minor": 0
      },
      "text/plain": [
       "[pred_fn]:   0%|          | 0/79 [00:00<?, ?it/s]"
      ]
     },
     "metadata": {},
     "output_type": "display_data"
    },
    {
     "data": {
      "application/vnd.jupyter.widget-view+json": {
       "model_id": "99af413212d04484b98ada3f9fb6d99a",
       "version_major": 2,
       "version_minor": 0
      },
      "text/plain": [
       "[pred_fn]:   0%|          | 0/79 [00:00<?, ?it/s]"
      ]
     },
     "metadata": {},
     "output_type": "display_data"
    },
    {
     "data": {
      "application/vnd.jupyter.widget-view+json": {
       "model_id": "3a394d12d5d24d0a9e2c723527613f44",
       "version_major": 2,
       "version_minor": 0
      },
      "text/plain": [
       "[pred_fn]:   0%|          | 0/79 [00:00<?, ?it/s]"
      ]
     },
     "metadata": {},
     "output_type": "display_data"
    },
    {
     "data": {
      "application/vnd.jupyter.widget-view+json": {
       "model_id": "ab48fd04f741478ca22eec02e90618c3",
       "version_major": 2,
       "version_minor": 0
      },
      "text/plain": [
       "[pred_fn]:   0%|          | 0/79 [00:00<?, ?it/s]"
      ]
     },
     "metadata": {},
     "output_type": "display_data"
    },
    {
     "data": {
      "application/vnd.jupyter.widget-view+json": {
       "model_id": "842d0211c6e143749090e0e8fe3ac42b",
       "version_major": 2,
       "version_minor": 0
      },
      "text/plain": [
       "[pred_fn]:   0%|          | 0/79 [00:00<?, ?it/s]"
      ]
     },
     "metadata": {},
     "output_type": "display_data"
    },
    {
     "data": {
      "application/vnd.jupyter.widget-view+json": {
       "model_id": "38284afb668b4795af7da8a882ea592d",
       "version_major": 2,
       "version_minor": 0
      },
      "text/plain": [
       "[pred_fn]:   0%|          | 0/79 [00:00<?, ?it/s]"
      ]
     },
     "metadata": {},
     "output_type": "display_data"
    },
    {
     "data": {
      "application/vnd.jupyter.widget-view+json": {
       "model_id": "ed5bf11610374915812c26c84b43eedf",
       "version_major": 2,
       "version_minor": 0
      },
      "text/plain": [
       "[pred_fn]:   0%|          | 0/79 [00:00<?, ?it/s]"
      ]
     },
     "metadata": {},
     "output_type": "display_data"
    },
    {
     "data": {
      "application/vnd.jupyter.widget-view+json": {
       "model_id": "3c36508d574a459e9871b4a70dfc068d",
       "version_major": 2,
       "version_minor": 0
      },
      "text/plain": [
       "[pred_fn]:   0%|          | 0/79 [00:00<?, ?it/s]"
      ]
     },
     "metadata": {},
     "output_type": "display_data"
    },
    {
     "data": {
      "application/vnd.jupyter.widget-view+json": {
       "model_id": "48c97a400cdd4b228a00943955028a5c",
       "version_major": 2,
       "version_minor": 0
      },
      "text/plain": [
       "[pred_fn]:   0%|          | 0/79 [00:00<?, ?it/s]"
      ]
     },
     "metadata": {},
     "output_type": "display_data"
    },
    {
     "data": {
      "application/vnd.jupyter.widget-view+json": {
       "model_id": "9dc979ec9c74474396b89a553f22601a",
       "version_major": 2,
       "version_minor": 0
      },
      "text/plain": [
       "[pred_fn]:   0%|          | 0/79 [00:00<?, ?it/s]"
      ]
     },
     "metadata": {},
     "output_type": "display_data"
    },
    {
     "data": {
      "application/vnd.jupyter.widget-view+json": {
       "model_id": "ad0e2b4ba0b64cb38d09f0c261c5ed61",
       "version_major": 2,
       "version_minor": 0
      },
      "text/plain": [
       "[pred_fn]:   0%|          | 0/79 [00:00<?, ?it/s]"
      ]
     },
     "metadata": {},
     "output_type": "display_data"
    },
    {
     "data": {
      "application/vnd.jupyter.widget-view+json": {
       "model_id": "89308fd344e143f6997004a4aff0fbfd",
       "version_major": 2,
       "version_minor": 0
      },
      "text/plain": [
       "[pred_fn]:   0%|          | 0/79 [00:00<?, ?it/s]"
      ]
     },
     "metadata": {},
     "output_type": "display_data"
    },
    {
     "data": {
      "application/vnd.jupyter.widget-view+json": {
       "model_id": "9dd7e30121204ca6bfd951b870f6cc1d",
       "version_major": 2,
       "version_minor": 0
      },
      "text/plain": [
       "[pred_fn]:   0%|          | 0/79 [00:00<?, ?it/s]"
      ]
     },
     "metadata": {},
     "output_type": "display_data"
    },
    {
     "data": {
      "application/vnd.jupyter.widget-view+json": {
       "model_id": "8b2d357dea40425fa8936d51d1e96e29",
       "version_major": 2,
       "version_minor": 0
      },
      "text/plain": [
       "[pred_fn]:   0%|          | 0/79 [00:00<?, ?it/s]"
      ]
     },
     "metadata": {},
     "output_type": "display_data"
    },
    {
     "data": {
      "application/vnd.jupyter.widget-view+json": {
       "model_id": "8bb444428d7a4bd0914925f854ee45fb",
       "version_major": 2,
       "version_minor": 0
      },
      "text/plain": [
       "[pred_fn]:   0%|          | 0/79 [00:00<?, ?it/s]"
      ]
     },
     "metadata": {},
     "output_type": "display_data"
    },
    {
     "data": {
      "application/vnd.jupyter.widget-view+json": {
       "model_id": "d5206fefcaa5470aad8dda826578fb2e",
       "version_major": 2,
       "version_minor": 0
      },
      "text/plain": [
       "[pred_fn]:   0%|          | 0/79 [00:00<?, ?it/s]"
      ]
     },
     "metadata": {},
     "output_type": "display_data"
    },
    {
     "data": {
      "application/vnd.jupyter.widget-view+json": {
       "model_id": "9d014587b59e439baaa8f66fc1f97625",
       "version_major": 2,
       "version_minor": 0
      },
      "text/plain": [
       "[pred_fn]:   0%|          | 0/79 [00:00<?, ?it/s]"
      ]
     },
     "metadata": {},
     "output_type": "display_data"
    },
    {
     "data": {
      "application/vnd.jupyter.widget-view+json": {
       "model_id": "7a3d4b1e4d9b4a79ba578150729ec83c",
       "version_major": 2,
       "version_minor": 0
      },
      "text/plain": [
       "[pred_fn]:   0%|          | 0/79 [00:00<?, ?it/s]"
      ]
     },
     "metadata": {},
     "output_type": "display_data"
    },
    {
     "data": {
      "application/vnd.jupyter.widget-view+json": {
       "model_id": "6783cb223505444cb482d8c0b69148df",
       "version_major": 2,
       "version_minor": 0
      },
      "text/plain": [
       "[pred_fn]:   0%|          | 0/79 [00:00<?, ?it/s]"
      ]
     },
     "metadata": {},
     "output_type": "display_data"
    },
    {
     "data": {
      "application/vnd.jupyter.widget-view+json": {
       "model_id": "620eb8cbcf8049ef99a056dc937342d9",
       "version_major": 2,
       "version_minor": 0
      },
      "text/plain": [
       "[pred_fn]:   0%|          | 0/79 [00:00<?, ?it/s]"
      ]
     },
     "metadata": {},
     "output_type": "display_data"
    },
    {
     "data": {
      "application/vnd.jupyter.widget-view+json": {
       "model_id": "c39e247a52494ae5bbc02d5f3378e73a",
       "version_major": 2,
       "version_minor": 0
      },
      "text/plain": [
       "[pred_fn]:   0%|          | 0/79 [00:00<?, ?it/s]"
      ]
     },
     "metadata": {},
     "output_type": "display_data"
    },
    {
     "data": {
      "application/vnd.jupyter.widget-view+json": {
       "model_id": "5224638ba57b479d8d4d0ffe782f2b63",
       "version_major": 2,
       "version_minor": 0
      },
      "text/plain": [
       "[pred_fn]:   0%|          | 0/79 [00:00<?, ?it/s]"
      ]
     },
     "metadata": {},
     "output_type": "display_data"
    },
    {
     "data": {
      "application/vnd.jupyter.widget-view+json": {
       "model_id": "cb7fdc22164b4eccbe4b6861c62d161e",
       "version_major": 2,
       "version_minor": 0
      },
      "text/plain": [
       "[pred_fn]:   0%|          | 0/79 [00:00<?, ?it/s]"
      ]
     },
     "metadata": {},
     "output_type": "display_data"
    },
    {
     "data": {
      "application/vnd.jupyter.widget-view+json": {
       "model_id": "f06421fd64424a08894a0d12e125a168",
       "version_major": 2,
       "version_minor": 0
      },
      "text/plain": [
       "[pred_fn]:   0%|          | 0/79 [00:00<?, ?it/s]"
      ]
     },
     "metadata": {},
     "output_type": "display_data"
    },
    {
     "data": {
      "application/vnd.jupyter.widget-view+json": {
       "model_id": "e7bd26e67ef84789b1b1ed919bded215",
       "version_major": 2,
       "version_minor": 0
      },
      "text/plain": [
       "[pred_fn]:   0%|          | 0/79 [00:00<?, ?it/s]"
      ]
     },
     "metadata": {},
     "output_type": "display_data"
    },
    {
     "data": {
      "application/vnd.jupyter.widget-view+json": {
       "model_id": "d022854b7b8745ae8737123366eb431e",
       "version_major": 2,
       "version_minor": 0
      },
      "text/plain": [
       "[pred_fn]:   0%|          | 0/79 [00:00<?, ?it/s]"
      ]
     },
     "metadata": {},
     "output_type": "display_data"
    },
    {
     "data": {
      "application/vnd.jupyter.widget-view+json": {
       "model_id": "fe96061da60b4dc8b52f24ba3ba5fe1c",
       "version_major": 2,
       "version_minor": 0
      },
      "text/plain": [
       "[pred_fn]:   0%|          | 0/79 [00:00<?, ?it/s]"
      ]
     },
     "metadata": {},
     "output_type": "display_data"
    },
    {
     "data": {
      "application/vnd.jupyter.widget-view+json": {
       "model_id": "eeb2225203a549a8b4d9faed0ed5e49f",
       "version_major": 2,
       "version_minor": 0
      },
      "text/plain": [
       "[pred_fn]:   0%|          | 0/79 [00:00<?, ?it/s]"
      ]
     },
     "metadata": {},
     "output_type": "display_data"
    },
    {
     "data": {
      "application/vnd.jupyter.widget-view+json": {
       "model_id": "9d16807c1f594bb480ac056e88bf3699",
       "version_major": 2,
       "version_minor": 0
      },
      "text/plain": [
       "[pred_fn]:   0%|          | 0/79 [00:00<?, ?it/s]"
      ]
     },
     "metadata": {},
     "output_type": "display_data"
    },
    {
     "data": {
      "application/vnd.jupyter.widget-view+json": {
       "model_id": "660e6890dfb34ef488a239e012d05163",
       "version_major": 2,
       "version_minor": 0
      },
      "text/plain": [
       "[pred_fn]:   0%|          | 0/79 [00:00<?, ?it/s]"
      ]
     },
     "metadata": {},
     "output_type": "display_data"
    },
    {
     "data": {
      "application/vnd.jupyter.widget-view+json": {
       "model_id": "aab29b4750e04798afcb5809bb603d8f",
       "version_major": 2,
       "version_minor": 0
      },
      "text/plain": [
       "[pred_fn]:   0%|          | 0/79 [00:00<?, ?it/s]"
      ]
     },
     "metadata": {},
     "output_type": "display_data"
    },
    {
     "data": {
      "application/vnd.jupyter.widget-view+json": {
       "model_id": "51915c4607ac4e00bb0cb5a693db6eb6",
       "version_major": 2,
       "version_minor": 0
      },
      "text/plain": [
       "[pred_fn]:   0%|          | 0/79 [00:00<?, ?it/s]"
      ]
     },
     "metadata": {},
     "output_type": "display_data"
    },
    {
     "data": {
      "application/vnd.jupyter.widget-view+json": {
       "model_id": "469a3c72b313449c9e7f6b4e76626181",
       "version_major": 2,
       "version_minor": 0
      },
      "text/plain": [
       "[pred_fn]:   0%|          | 0/79 [00:00<?, ?it/s]"
      ]
     },
     "metadata": {},
     "output_type": "display_data"
    },
    {
     "data": {
      "application/vnd.jupyter.widget-view+json": {
       "model_id": "dec167115c374b6e887ce6edafc424b6",
       "version_major": 2,
       "version_minor": 0
      },
      "text/plain": [
       "[pred_fn]:   0%|          | 0/79 [00:00<?, ?it/s]"
      ]
     },
     "metadata": {},
     "output_type": "display_data"
    },
    {
     "data": {
      "application/vnd.jupyter.widget-view+json": {
       "model_id": "8aa3bf5a57fe4afa8c67cbc97692842b",
       "version_major": 2,
       "version_minor": 0
      },
      "text/plain": [
       "[pred_fn]:   0%|          | 0/79 [00:00<?, ?it/s]"
      ]
     },
     "metadata": {},
     "output_type": "display_data"
    },
    {
     "data": {
      "application/vnd.jupyter.widget-view+json": {
       "model_id": "bb168a9b69044573a8bbf81c7cc40641",
       "version_major": 2,
       "version_minor": 0
      },
      "text/plain": [
       "[pred_fn]:   0%|          | 0/79 [00:00<?, ?it/s]"
      ]
     },
     "metadata": {},
     "output_type": "display_data"
    },
    {
     "data": {
      "application/vnd.jupyter.widget-view+json": {
       "model_id": "ed037f2eae854c0bb55a75d27df0f849",
       "version_major": 2,
       "version_minor": 0
      },
      "text/plain": [
       "[pred_fn]:   0%|          | 0/79 [00:00<?, ?it/s]"
      ]
     },
     "metadata": {},
     "output_type": "display_data"
    },
    {
     "data": {
      "application/vnd.jupyter.widget-view+json": {
       "model_id": "476178408c34442fa55370a43e132ee9",
       "version_major": 2,
       "version_minor": 0
      },
      "text/plain": [
       "[pred_fn]:   0%|          | 0/79 [00:00<?, ?it/s]"
      ]
     },
     "metadata": {},
     "output_type": "display_data"
    },
    {
     "data": {
      "application/vnd.jupyter.widget-view+json": {
       "model_id": "2400acfdb5094e1f9dcbcc9af8da7ded",
       "version_major": 2,
       "version_minor": 0
      },
      "text/plain": [
       "[pred_fn]:   0%|          | 0/79 [00:00<?, ?it/s]"
      ]
     },
     "metadata": {},
     "output_type": "display_data"
    },
    {
     "data": {
      "application/vnd.jupyter.widget-view+json": {
       "model_id": "7d6ad4f860df40de83eee7f5f005b2a6",
       "version_major": 2,
       "version_minor": 0
      },
      "text/plain": [
       "[pred_fn]:   0%|          | 0/79 [00:00<?, ?it/s]"
      ]
     },
     "metadata": {},
     "output_type": "display_data"
    },
    {
     "data": {
      "application/vnd.jupyter.widget-view+json": {
       "model_id": "8f17c75416d3432ea901e4155bc98ee9",
       "version_major": 2,
       "version_minor": 0
      },
      "text/plain": [
       "[pred_fn]:   0%|          | 0/79 [00:00<?, ?it/s]"
      ]
     },
     "metadata": {},
     "output_type": "display_data"
    },
    {
     "data": {
      "application/vnd.jupyter.widget-view+json": {
       "model_id": "3f4d9b041e6b46a2bc5f1d7046fd19fe",
       "version_major": 2,
       "version_minor": 0
      },
      "text/plain": [
       "[pred_fn]:   0%|          | 0/79 [00:00<?, ?it/s]"
      ]
     },
     "metadata": {},
     "output_type": "display_data"
    },
    {
     "data": {
      "application/vnd.jupyter.widget-view+json": {
       "model_id": "0a7156f27289481b956da36467f08023",
       "version_major": 2,
       "version_minor": 0
      },
      "text/plain": [
       "[pred_fn]:   0%|          | 0/79 [00:00<?, ?it/s]"
      ]
     },
     "metadata": {},
     "output_type": "display_data"
    },
    {
     "data": {
      "application/vnd.jupyter.widget-view+json": {
       "model_id": "261c0baa85b648c49a645dd09543d2fc",
       "version_major": 2,
       "version_minor": 0
      },
      "text/plain": [
       "[pred_fn]:   0%|          | 0/79 [00:00<?, ?it/s]"
      ]
     },
     "metadata": {},
     "output_type": "display_data"
    },
    {
     "data": {
      "application/vnd.jupyter.widget-view+json": {
       "model_id": "50390751ffe0409c8497ce07a07f0aad",
       "version_major": 2,
       "version_minor": 0
      },
      "text/plain": [
       "[pred_fn]:   0%|          | 0/79 [00:00<?, ?it/s]"
      ]
     },
     "metadata": {},
     "output_type": "display_data"
    },
    {
     "data": {
      "application/vnd.jupyter.widget-view+json": {
       "model_id": "87d56a9a97c54da7b0028d38c89683d9",
       "version_major": 2,
       "version_minor": 0
      },
      "text/plain": [
       "[pred_fn]:   0%|          | 0/79 [00:00<?, ?it/s]"
      ]
     },
     "metadata": {},
     "output_type": "display_data"
    },
    {
     "data": {
      "application/vnd.jupyter.widget-view+json": {
       "model_id": "0ff2b4e569dd4d87824617a2c49874ef",
       "version_major": 2,
       "version_minor": 0
      },
      "text/plain": [
       "[pred_fn]:   0%|          | 0/79 [00:00<?, ?it/s]"
      ]
     },
     "metadata": {},
     "output_type": "display_data"
    },
    {
     "data": {
      "application/vnd.jupyter.widget-view+json": {
       "model_id": "e3695bfc89f5447b996435ae989b23d3",
       "version_major": 2,
       "version_minor": 0
      },
      "text/plain": [
       "[pred_fn]:   0%|          | 0/79 [00:00<?, ?it/s]"
      ]
     },
     "metadata": {},
     "output_type": "display_data"
    },
    {
     "data": {
      "application/vnd.jupyter.widget-view+json": {
       "model_id": "d75ea1518b304478a7d0695fc5b94b4f",
       "version_major": 2,
       "version_minor": 0
      },
      "text/plain": [
       "[pred_fn]:   0%|          | 0/79 [00:00<?, ?it/s]"
      ]
     },
     "metadata": {},
     "output_type": "display_data"
    },
    {
     "data": {
      "application/vnd.jupyter.widget-view+json": {
       "model_id": "543c33644dcd46a282380454e2313bbf",
       "version_major": 2,
       "version_minor": 0
      },
      "text/plain": [
       "[pred_fn]:   0%|          | 0/79 [00:00<?, ?it/s]"
      ]
     },
     "metadata": {},
     "output_type": "display_data"
    },
    {
     "data": {
      "application/vnd.jupyter.widget-view+json": {
       "model_id": "6ce3790c22da41ab98d237d87150b9c2",
       "version_major": 2,
       "version_minor": 0
      },
      "text/plain": [
       "[pred_fn]:   0%|          | 0/79 [00:00<?, ?it/s]"
      ]
     },
     "metadata": {},
     "output_type": "display_data"
    },
    {
     "data": {
      "application/vnd.jupyter.widget-view+json": {
       "model_id": "01d57c47d7214fe2acdd15575225a36f",
       "version_major": 2,
       "version_minor": 0
      },
      "text/plain": [
       "[pred_fn]:   0%|          | 0/79 [00:00<?, ?it/s]"
      ]
     },
     "metadata": {},
     "output_type": "display_data"
    },
    {
     "data": {
      "application/vnd.jupyter.widget-view+json": {
       "model_id": "cde24cabdcb14a9197268472f11317ab",
       "version_major": 2,
       "version_minor": 0
      },
      "text/plain": [
       "[pred_fn]:   0%|          | 0/79 [00:00<?, ?it/s]"
      ]
     },
     "metadata": {},
     "output_type": "display_data"
    },
    {
     "data": {
      "application/vnd.jupyter.widget-view+json": {
       "model_id": "e150eb9e72e04bf99d399dff9814ebd8",
       "version_major": 2,
       "version_minor": 0
      },
      "text/plain": [
       "[pred_fn]:   0%|          | 0/79 [00:00<?, ?it/s]"
      ]
     },
     "metadata": {},
     "output_type": "display_data"
    },
    {
     "data": {
      "application/vnd.jupyter.widget-view+json": {
       "model_id": "609ff30596394e2589db063805f3cb88",
       "version_major": 2,
       "version_minor": 0
      },
      "text/plain": [
       "[pred_fn]:   0%|          | 0/79 [00:00<?, ?it/s]"
      ]
     },
     "metadata": {},
     "output_type": "display_data"
    },
    {
     "data": {
      "application/vnd.jupyter.widget-view+json": {
       "model_id": "d48db50b39d940bc9edbc5b869b61aaa",
       "version_major": 2,
       "version_minor": 0
      },
      "text/plain": [
       "[pred_fn]:   0%|          | 0/79 [00:00<?, ?it/s]"
      ]
     },
     "metadata": {},
     "output_type": "display_data"
    },
    {
     "data": {
      "application/vnd.jupyter.widget-view+json": {
       "model_id": "9f52652be55141d7a6fc5bc88df44804",
       "version_major": 2,
       "version_minor": 0
      },
      "text/plain": [
       "[pred_fn]:   0%|          | 0/79 [00:00<?, ?it/s]"
      ]
     },
     "metadata": {},
     "output_type": "display_data"
    },
    {
     "data": {
      "application/vnd.jupyter.widget-view+json": {
       "model_id": "3b44024177b2458e82a5382ace538887",
       "version_major": 2,
       "version_minor": 0
      },
      "text/plain": [
       "[pred_fn]:   0%|          | 0/79 [00:00<?, ?it/s]"
      ]
     },
     "metadata": {},
     "output_type": "display_data"
    },
    {
     "data": {
      "application/vnd.jupyter.widget-view+json": {
       "model_id": "874fb49f81e544c28d931d1d09e4dd72",
       "version_major": 2,
       "version_minor": 0
      },
      "text/plain": [
       "[pred_fn]:   0%|          | 0/79 [00:00<?, ?it/s]"
      ]
     },
     "metadata": {},
     "output_type": "display_data"
    },
    {
     "data": {
      "application/vnd.jupyter.widget-view+json": {
       "model_id": "62656416991b401e841df05498c69754",
       "version_major": 2,
       "version_minor": 0
      },
      "text/plain": [
       "[pred_fn]:   0%|          | 0/79 [00:00<?, ?it/s]"
      ]
     },
     "metadata": {},
     "output_type": "display_data"
    },
    {
     "data": {
      "application/vnd.jupyter.widget-view+json": {
       "model_id": "be874f43f6c74d1386edff6a8db4c3e2",
       "version_major": 2,
       "version_minor": 0
      },
      "text/plain": [
       "[pred_fn]:   0%|          | 0/79 [00:00<?, ?it/s]"
      ]
     },
     "metadata": {},
     "output_type": "display_data"
    },
    {
     "data": {
      "application/vnd.jupyter.widget-view+json": {
       "model_id": "c901f8a1674f4458b6530a65dce21223",
       "version_major": 2,
       "version_minor": 0
      },
      "text/plain": [
       "[pred_fn]:   0%|          | 0/79 [00:00<?, ?it/s]"
      ]
     },
     "metadata": {},
     "output_type": "display_data"
    },
    {
     "data": {
      "application/vnd.jupyter.widget-view+json": {
       "model_id": "b915353683ad46bfab2c9e1b73e3af99",
       "version_major": 2,
       "version_minor": 0
      },
      "text/plain": [
       "[pred_fn]:   0%|          | 0/79 [00:00<?, ?it/s]"
      ]
     },
     "metadata": {},
     "output_type": "display_data"
    },
    {
     "data": {
      "application/vnd.jupyter.widget-view+json": {
       "model_id": "f99d179af8e04af6be25bdaeec04321c",
       "version_major": 2,
       "version_minor": 0
      },
      "text/plain": [
       "[pred_fn]:   0%|          | 0/79 [00:00<?, ?it/s]"
      ]
     },
     "metadata": {},
     "output_type": "display_data"
    },
    {
     "data": {
      "application/vnd.jupyter.widget-view+json": {
       "model_id": "25a672d467f2437490dbff8b914a9b84",
       "version_major": 2,
       "version_minor": 0
      },
      "text/plain": [
       "[pred_fn]:   0%|          | 0/79 [00:00<?, ?it/s]"
      ]
     },
     "metadata": {},
     "output_type": "display_data"
    },
    {
     "data": {
      "application/vnd.jupyter.widget-view+json": {
       "model_id": "131f0e83ed8a4efab27a7b6ebf228be4",
       "version_major": 2,
       "version_minor": 0
      },
      "text/plain": [
       "[pred_fn]:   0%|          | 0/79 [00:00<?, ?it/s]"
      ]
     },
     "metadata": {},
     "output_type": "display_data"
    },
    {
     "data": {
      "application/vnd.jupyter.widget-view+json": {
       "model_id": "38ed60beef16453594c64b9579932f16",
       "version_major": 2,
       "version_minor": 0
      },
      "text/plain": [
       "[pred_fn]:   0%|          | 0/79 [00:00<?, ?it/s]"
      ]
     },
     "metadata": {},
     "output_type": "display_data"
    },
    {
     "data": {
      "application/vnd.jupyter.widget-view+json": {
       "model_id": "3750c467237346cba87fe90f3614abb9",
       "version_major": 2,
       "version_minor": 0
      },
      "text/plain": [
       "[pred_fn]:   0%|          | 0/79 [00:00<?, ?it/s]"
      ]
     },
     "metadata": {},
     "output_type": "display_data"
    },
    {
     "data": {
      "application/vnd.jupyter.widget-view+json": {
       "model_id": "c633490d2d294331b48139e8565092a3",
       "version_major": 2,
       "version_minor": 0
      },
      "text/plain": [
       "[pred_fn]:   0%|          | 0/79 [00:00<?, ?it/s]"
      ]
     },
     "metadata": {},
     "output_type": "display_data"
    },
    {
     "data": {
      "application/vnd.jupyter.widget-view+json": {
       "model_id": "7737a88a2e8f407e808cd31f071ad867",
       "version_major": 2,
       "version_minor": 0
      },
      "text/plain": [
       "[pred_fn]:   0%|          | 0/79 [00:00<?, ?it/s]"
      ]
     },
     "metadata": {},
     "output_type": "display_data"
    },
    {
     "data": {
      "application/vnd.jupyter.widget-view+json": {
       "model_id": "c8ff3517f76b4835ae4516ebeb8e84f9",
       "version_major": 2,
       "version_minor": 0
      },
      "text/plain": [
       "[pred_fn]:   0%|          | 0/79 [00:00<?, ?it/s]"
      ]
     },
     "metadata": {},
     "output_type": "display_data"
    },
    {
     "data": {
      "application/vnd.jupyter.widget-view+json": {
       "model_id": "7cb97aeec2ee48c4ab3ebd0b0617d74a",
       "version_major": 2,
       "version_minor": 0
      },
      "text/plain": [
       "[pred_fn]:   0%|          | 0/79 [00:00<?, ?it/s]"
      ]
     },
     "metadata": {},
     "output_type": "display_data"
    },
    {
     "data": {
      "application/vnd.jupyter.widget-view+json": {
       "model_id": "1fd9ab02253846dd9ec1b1a6abffda0b",
       "version_major": 2,
       "version_minor": 0
      },
      "text/plain": [
       "[pred_fn]:   0%|          | 0/79 [00:00<?, ?it/s]"
      ]
     },
     "metadata": {},
     "output_type": "display_data"
    },
    {
     "data": {
      "application/vnd.jupyter.widget-view+json": {
       "model_id": "c5ddf2d8ab8943dabe26156f76427c8d",
       "version_major": 2,
       "version_minor": 0
      },
      "text/plain": [
       "[pred_fn]:   0%|          | 0/79 [00:00<?, ?it/s]"
      ]
     },
     "metadata": {},
     "output_type": "display_data"
    },
    {
     "data": {
      "application/vnd.jupyter.widget-view+json": {
       "model_id": "a9d9af903a0345e28152378b5457ea35",
       "version_major": 2,
       "version_minor": 0
      },
      "text/plain": [
       "[pred_fn]:   0%|          | 0/79 [00:00<?, ?it/s]"
      ]
     },
     "metadata": {},
     "output_type": "display_data"
    },
    {
     "data": {
      "application/vnd.jupyter.widget-view+json": {
       "model_id": "15d4a19cc3124964b8208325605971eb",
       "version_major": 2,
       "version_minor": 0
      },
      "text/plain": [
       "[pred_fn]:   0%|          | 0/79 [00:00<?, ?it/s]"
      ]
     },
     "metadata": {},
     "output_type": "display_data"
    },
    {
     "data": {
      "application/vnd.jupyter.widget-view+json": {
       "model_id": "b0a6f327e7a24517a1dee19a9b902495",
       "version_major": 2,
       "version_minor": 0
      },
      "text/plain": [
       "[pred_fn]:   0%|          | 0/79 [00:00<?, ?it/s]"
      ]
     },
     "metadata": {},
     "output_type": "display_data"
    },
    {
     "data": {
      "application/vnd.jupyter.widget-view+json": {
       "model_id": "dc2218e86ddc4ddc8481650870caad6c",
       "version_major": 2,
       "version_minor": 0
      },
      "text/plain": [
       "[pred_fn]:   0%|          | 0/79 [00:00<?, ?it/s]"
      ]
     },
     "metadata": {},
     "output_type": "display_data"
    },
    {
     "data": {
      "application/vnd.jupyter.widget-view+json": {
       "model_id": "ee7d7fd01df04ee4ab4644c71c0c9d06",
       "version_major": 2,
       "version_minor": 0
      },
      "text/plain": [
       "[pred_fn]:   0%|          | 0/79 [00:00<?, ?it/s]"
      ]
     },
     "metadata": {},
     "output_type": "display_data"
    },
    {
     "data": {
      "application/vnd.jupyter.widget-view+json": {
       "model_id": "fb93e55b1a884752bef8423c66393e66",
       "version_major": 2,
       "version_minor": 0
      },
      "text/plain": [
       "[pred_fn]:   0%|          | 0/79 [00:00<?, ?it/s]"
      ]
     },
     "metadata": {},
     "output_type": "display_data"
    },
    {
     "data": {
      "application/vnd.jupyter.widget-view+json": {
       "model_id": "1ac90f90e7a44fae986e3e82aea31793",
       "version_major": 2,
       "version_minor": 0
      },
      "text/plain": [
       "[pred_fn]:   0%|          | 0/79 [00:00<?, ?it/s]"
      ]
     },
     "metadata": {},
     "output_type": "display_data"
    },
    {
     "data": {
      "application/vnd.jupyter.widget-view+json": {
       "model_id": "6709e789b8e144adbbe42560a98f87df",
       "version_major": 2,
       "version_minor": 0
      },
      "text/plain": [
       "[pred_fn]:   0%|          | 0/79 [00:00<?, ?it/s]"
      ]
     },
     "metadata": {},
     "output_type": "display_data"
    },
    {
     "data": {
      "application/vnd.jupyter.widget-view+json": {
       "model_id": "e05886cb181849b0ae6f0b84838dff30",
       "version_major": 2,
       "version_minor": 0
      },
      "text/plain": [
       "[pred_fn]:   0%|          | 0/79 [00:00<?, ?it/s]"
      ]
     },
     "metadata": {},
     "output_type": "display_data"
    },
    {
     "data": {
      "application/vnd.jupyter.widget-view+json": {
       "model_id": "43bfc8e74ed6405e98d67e0990e31b0b",
       "version_major": 2,
       "version_minor": 0
      },
      "text/plain": [
       "[pred_fn]:   0%|          | 0/79 [00:00<?, ?it/s]"
      ]
     },
     "metadata": {},
     "output_type": "display_data"
    },
    {
     "data": {
      "application/vnd.jupyter.widget-view+json": {
       "model_id": "f5ec3dbfb17b4ce38ffebf04f1800f8e",
       "version_major": 2,
       "version_minor": 0
      },
      "text/plain": [
       "[pred_fn]:   0%|          | 0/79 [00:00<?, ?it/s]"
      ]
     },
     "metadata": {},
     "output_type": "display_data"
    },
    {
     "data": {
      "application/vnd.jupyter.widget-view+json": {
       "model_id": "638ec0dd3ac14cd8a4c082fdf03efa56",
       "version_major": 2,
       "version_minor": 0
      },
      "text/plain": [
       "[pred_fn]:   0%|          | 0/79 [00:00<?, ?it/s]"
      ]
     },
     "metadata": {},
     "output_type": "display_data"
    },
    {
     "data": {
      "application/vnd.jupyter.widget-view+json": {
       "model_id": "8ec8564b94694bef82b5408ef8d78419",
       "version_major": 2,
       "version_minor": 0
      },
      "text/plain": [
       "[pred_fn]:   0%|          | 0/79 [00:00<?, ?it/s]"
      ]
     },
     "metadata": {},
     "output_type": "display_data"
    },
    {
     "data": {
      "application/vnd.jupyter.widget-view+json": {
       "model_id": "b5d34b43afe54d63aeb7a4f68a5ed36d",
       "version_major": 2,
       "version_minor": 0
      },
      "text/plain": [
       "[pred_fn]:   0%|          | 0/79 [00:00<?, ?it/s]"
      ]
     },
     "metadata": {},
     "output_type": "display_data"
    },
    {
     "data": {
      "application/vnd.jupyter.widget-view+json": {
       "model_id": "9c9655b3595247d9b3ebf18ff55b17d1",
       "version_major": 2,
       "version_minor": 0
      },
      "text/plain": [
       "[pred_fn]:   0%|          | 0/79 [00:00<?, ?it/s]"
      ]
     },
     "metadata": {},
     "output_type": "display_data"
    },
    {
     "data": {
      "application/vnd.jupyter.widget-view+json": {
       "model_id": "6f02900c4dd74078a18173da59b86366",
       "version_major": 2,
       "version_minor": 0
      },
      "text/plain": [
       "[pred_fn]:   0%|          | 0/79 [00:00<?, ?it/s]"
      ]
     },
     "metadata": {},
     "output_type": "display_data"
    },
    {
     "data": {
      "application/vnd.jupyter.widget-view+json": {
       "model_id": "649dc32415794140bf37b6370ec8fc9f",
       "version_major": 2,
       "version_minor": 0
      },
      "text/plain": [
       "[pred_fn]:   0%|          | 0/79 [00:00<?, ?it/s]"
      ]
     },
     "metadata": {},
     "output_type": "display_data"
    },
    {
     "data": {
      "application/vnd.jupyter.widget-view+json": {
       "model_id": "8ddf5fb629dc4017892e3dd940a007bc",
       "version_major": 2,
       "version_minor": 0
      },
      "text/plain": [
       "[pred_fn]:   0%|          | 0/79 [00:00<?, ?it/s]"
      ]
     },
     "metadata": {},
     "output_type": "display_data"
    },
    {
     "data": {
      "application/vnd.jupyter.widget-view+json": {
       "model_id": "862e801dc7fe4a7698e9d23d79e9ca20",
       "version_major": 2,
       "version_minor": 0
      },
      "text/plain": [
       "[pred_fn]:   0%|          | 0/79 [00:00<?, ?it/s]"
      ]
     },
     "metadata": {},
     "output_type": "display_data"
    },
    {
     "data": {
      "application/vnd.jupyter.widget-view+json": {
       "model_id": "3a702f5ff79f4dad99d21e210a03bc4f",
       "version_major": 2,
       "version_minor": 0
      },
      "text/plain": [
       "[pred_fn]:   0%|          | 0/79 [00:00<?, ?it/s]"
      ]
     },
     "metadata": {},
     "output_type": "display_data"
    },
    {
     "data": {
      "application/vnd.jupyter.widget-view+json": {
       "model_id": "fd7a2b2f465046a0993b0daae4803672",
       "version_major": 2,
       "version_minor": 0
      },
      "text/plain": [
       "[pred_fn]:   0%|          | 0/79 [00:00<?, ?it/s]"
      ]
     },
     "metadata": {},
     "output_type": "display_data"
    },
    {
     "data": {
      "application/vnd.jupyter.widget-view+json": {
       "model_id": "a937602b8f8c440b8f41f0448379968f",
       "version_major": 2,
       "version_minor": 0
      },
      "text/plain": [
       "[pred_fn]:   0%|          | 0/79 [00:00<?, ?it/s]"
      ]
     },
     "metadata": {},
     "output_type": "display_data"
    },
    {
     "data": {
      "application/vnd.jupyter.widget-view+json": {
       "model_id": "ce9c2e4e2ee047cc9eb54ef3309fc187",
       "version_major": 2,
       "version_minor": 0
      },
      "text/plain": [
       "[pred_fn]:   0%|          | 0/79 [00:00<?, ?it/s]"
      ]
     },
     "metadata": {},
     "output_type": "display_data"
    },
    {
     "data": {
      "application/vnd.jupyter.widget-view+json": {
       "model_id": "4f7c23847367417a98ec30ea174a95a2",
       "version_major": 2,
       "version_minor": 0
      },
      "text/plain": [
       "[pred_fn]:   0%|          | 0/79 [00:00<?, ?it/s]"
      ]
     },
     "metadata": {},
     "output_type": "display_data"
    },
    {
     "data": {
      "application/vnd.jupyter.widget-view+json": {
       "model_id": "116a2df9bd1e485fada16a78f8cbfb85",
       "version_major": 2,
       "version_minor": 0
      },
      "text/plain": [
       "[pred_fn]:   0%|          | 0/79 [00:00<?, ?it/s]"
      ]
     },
     "metadata": {},
     "output_type": "display_data"
    },
    {
     "data": {
      "application/vnd.jupyter.widget-view+json": {
       "model_id": "f6e1518245464e7d8950657a87fc2d74",
       "version_major": 2,
       "version_minor": 0
      },
      "text/plain": [
       "[pred_fn]:   0%|          | 0/79 [00:00<?, ?it/s]"
      ]
     },
     "metadata": {},
     "output_type": "display_data"
    },
    {
     "data": {
      "application/vnd.jupyter.widget-view+json": {
       "model_id": "4f01752f93864df987a5a896b51a873a",
       "version_major": 2,
       "version_minor": 0
      },
      "text/plain": [
       "[pred_fn]:   0%|          | 0/79 [00:00<?, ?it/s]"
      ]
     },
     "metadata": {},
     "output_type": "display_data"
    },
    {
     "data": {
      "application/vnd.jupyter.widget-view+json": {
       "model_id": "80f2969b17044f1d908e40421c843950",
       "version_major": 2,
       "version_minor": 0
      },
      "text/plain": [
       "[pred_fn]:   0%|          | 0/79 [00:00<?, ?it/s]"
      ]
     },
     "metadata": {},
     "output_type": "display_data"
    },
    {
     "data": {
      "application/vnd.jupyter.widget-view+json": {
       "model_id": "854de6a792354e8ab6a947ea36933295",
       "version_major": 2,
       "version_minor": 0
      },
      "text/plain": [
       "[pred_fn]:   0%|          | 0/79 [00:00<?, ?it/s]"
      ]
     },
     "metadata": {},
     "output_type": "display_data"
    },
    {
     "data": {
      "application/vnd.jupyter.widget-view+json": {
       "model_id": "18e886e6524542d2bc1ca269f180717c",
       "version_major": 2,
       "version_minor": 0
      },
      "text/plain": [
       "[pred_fn]:   0%|          | 0/79 [00:00<?, ?it/s]"
      ]
     },
     "metadata": {},
     "output_type": "display_data"
    },
    {
     "data": {
      "application/vnd.jupyter.widget-view+json": {
       "model_id": "9bbb5ab7d7574ea08ce0f79d5737b86d",
       "version_major": 2,
       "version_minor": 0
      },
      "text/plain": [
       "[pred_fn]:   0%|          | 0/79 [00:00<?, ?it/s]"
      ]
     },
     "metadata": {},
     "output_type": "display_data"
    },
    {
     "data": {
      "application/vnd.jupyter.widget-view+json": {
       "model_id": "2bcdb9a92d5d40bba1195a555010fe26",
       "version_major": 2,
       "version_minor": 0
      },
      "text/plain": [
       "[pred_fn]:   0%|          | 0/79 [00:00<?, ?it/s]"
      ]
     },
     "metadata": {},
     "output_type": "display_data"
    },
    {
     "data": {
      "application/vnd.jupyter.widget-view+json": {
       "model_id": "53c60b431f5948699886eb3aa6f24f3b",
       "version_major": 2,
       "version_minor": 0
      },
      "text/plain": [
       "[pred_fn]:   0%|          | 0/79 [00:00<?, ?it/s]"
      ]
     },
     "metadata": {},
     "output_type": "display_data"
    },
    {
     "data": {
      "application/vnd.jupyter.widget-view+json": {
       "model_id": "1e0c995cb71f4b8aac45dd2d18c351bb",
       "version_major": 2,
       "version_minor": 0
      },
      "text/plain": [
       "[pred_fn]:   0%|          | 0/79 [00:00<?, ?it/s]"
      ]
     },
     "metadata": {},
     "output_type": "display_data"
    },
    {
     "data": {
      "application/vnd.jupyter.widget-view+json": {
       "model_id": "ac49cf63d6a34c6e8f8192c1654125c8",
       "version_major": 2,
       "version_minor": 0
      },
      "text/plain": [
       "[pred_fn]:   0%|          | 0/79 [00:00<?, ?it/s]"
      ]
     },
     "metadata": {},
     "output_type": "display_data"
    },
    {
     "data": {
      "application/vnd.jupyter.widget-view+json": {
       "model_id": "61c7e6c4663d4f63b563352c9acb908a",
       "version_major": 2,
       "version_minor": 0
      },
      "text/plain": [
       "[pred_fn]:   0%|          | 0/79 [00:00<?, ?it/s]"
      ]
     },
     "metadata": {},
     "output_type": "display_data"
    },
    {
     "data": {
      "application/vnd.jupyter.widget-view+json": {
       "model_id": "67866888f25748a3b9adba758a57af15",
       "version_major": 2,
       "version_minor": 0
      },
      "text/plain": [
       "[pred_fn]:   0%|          | 0/79 [00:00<?, ?it/s]"
      ]
     },
     "metadata": {},
     "output_type": "display_data"
    },
    {
     "data": {
      "application/vnd.jupyter.widget-view+json": {
       "model_id": "9f77a67af29e464cafc6698d76a735f1",
       "version_major": 2,
       "version_minor": 0
      },
      "text/plain": [
       "[pred_fn]:   0%|          | 0/79 [00:00<?, ?it/s]"
      ]
     },
     "metadata": {},
     "output_type": "display_data"
    },
    {
     "data": {
      "application/vnd.jupyter.widget-view+json": {
       "model_id": "5c7adeceb6f24f55aa2a8c7a1f96a7e4",
       "version_major": 2,
       "version_minor": 0
      },
      "text/plain": [
       "[pred_fn]:   0%|          | 0/79 [00:00<?, ?it/s]"
      ]
     },
     "metadata": {},
     "output_type": "display_data"
    },
    {
     "data": {
      "application/vnd.jupyter.widget-view+json": {
       "model_id": "994592aaefad4e5cb49a50b1d1ebeccc",
       "version_major": 2,
       "version_minor": 0
      },
      "text/plain": [
       "[pred_fn]:   0%|          | 0/79 [00:00<?, ?it/s]"
      ]
     },
     "metadata": {},
     "output_type": "display_data"
    },
    {
     "data": {
      "application/vnd.jupyter.widget-view+json": {
       "model_id": "a244ece0fc31431987b15288390ace13",
       "version_major": 2,
       "version_minor": 0
      },
      "text/plain": [
       "[pred_fn]:   0%|          | 0/79 [00:00<?, ?it/s]"
      ]
     },
     "metadata": {},
     "output_type": "display_data"
    },
    {
     "data": {
      "application/vnd.jupyter.widget-view+json": {
       "model_id": "0401538cd6884a689cabcff67d89683b",
       "version_major": 2,
       "version_minor": 0
      },
      "text/plain": [
       "[pred_fn]:   0%|          | 0/79 [00:00<?, ?it/s]"
      ]
     },
     "metadata": {},
     "output_type": "display_data"
    },
    {
     "data": {
      "application/vnd.jupyter.widget-view+json": {
       "model_id": "0b9bf64e40f544a991d4e1d324cd7b1a",
       "version_major": 2,
       "version_minor": 0
      },
      "text/plain": [
       "[pred_fn]:   0%|          | 0/79 [00:00<?, ?it/s]"
      ]
     },
     "metadata": {},
     "output_type": "display_data"
    },
    {
     "data": {
      "application/vnd.jupyter.widget-view+json": {
       "model_id": "649ad87df6fe46d28a15b35081f17dcc",
       "version_major": 2,
       "version_minor": 0
      },
      "text/plain": [
       "[pred_fn]:   0%|          | 0/79 [00:00<?, ?it/s]"
      ]
     },
     "metadata": {},
     "output_type": "display_data"
    },
    {
     "data": {
      "application/vnd.jupyter.widget-view+json": {
       "model_id": "a74d4f9067334ed199c6eb74d2870e2e",
       "version_major": 2,
       "version_minor": 0
      },
      "text/plain": [
       "[pred_fn]:   0%|          | 0/79 [00:00<?, ?it/s]"
      ]
     },
     "metadata": {},
     "output_type": "display_data"
    },
    {
     "data": {
      "application/vnd.jupyter.widget-view+json": {
       "model_id": "7845131f7c614e2b93687fa0ab897847",
       "version_major": 2,
       "version_minor": 0
      },
      "text/plain": [
       "[pred_fn]:   0%|          | 0/79 [00:00<?, ?it/s]"
      ]
     },
     "metadata": {},
     "output_type": "display_data"
    },
    {
     "data": {
      "application/vnd.jupyter.widget-view+json": {
       "model_id": "83ccc6feb2ca4648a6f0d588f2d6f20b",
       "version_major": 2,
       "version_minor": 0
      },
      "text/plain": [
       "[pred_fn]:   0%|          | 0/79 [00:00<?, ?it/s]"
      ]
     },
     "metadata": {},
     "output_type": "display_data"
    },
    {
     "data": {
      "application/vnd.jupyter.widget-view+json": {
       "model_id": "ad91b175799d49b6a2e8422f864b3e46",
       "version_major": 2,
       "version_minor": 0
      },
      "text/plain": [
       "[pred_fn]:   0%|          | 0/79 [00:00<?, ?it/s]"
      ]
     },
     "metadata": {},
     "output_type": "display_data"
    },
    {
     "data": {
      "application/vnd.jupyter.widget-view+json": {
       "model_id": "75618ed81b00402f935eadd49fab5d74",
       "version_major": 2,
       "version_minor": 0
      },
      "text/plain": [
       "[pred_fn]:   0%|          | 0/79 [00:00<?, ?it/s]"
      ]
     },
     "metadata": {},
     "output_type": "display_data"
    },
    {
     "data": {
      "application/vnd.jupyter.widget-view+json": {
       "model_id": "c94f937b988647a184330b03f6a79d81",
       "version_major": 2,
       "version_minor": 0
      },
      "text/plain": [
       "[pred_fn]:   0%|          | 0/79 [00:00<?, ?it/s]"
      ]
     },
     "metadata": {},
     "output_type": "display_data"
    },
    {
     "data": {
      "application/vnd.jupyter.widget-view+json": {
       "model_id": "3f86c4d00aed4a73af2a8307b0cafaec",
       "version_major": 2,
       "version_minor": 0
      },
      "text/plain": [
       "[pred_fn]:   0%|          | 0/79 [00:00<?, ?it/s]"
      ]
     },
     "metadata": {},
     "output_type": "display_data"
    },
    {
     "data": {
      "application/vnd.jupyter.widget-view+json": {
       "model_id": "7d386689072a47b491b4a717dde37aab",
       "version_major": 2,
       "version_minor": 0
      },
      "text/plain": [
       "[pred_fn]:   0%|          | 0/79 [00:00<?, ?it/s]"
      ]
     },
     "metadata": {},
     "output_type": "display_data"
    },
    {
     "data": {
      "application/vnd.jupyter.widget-view+json": {
       "model_id": "b0aa3c1f9bfb4d5a852629fec9a024cc",
       "version_major": 2,
       "version_minor": 0
      },
      "text/plain": [
       "[pred_fn]:   0%|          | 0/79 [00:00<?, ?it/s]"
      ]
     },
     "metadata": {},
     "output_type": "display_data"
    },
    {
     "data": {
      "application/vnd.jupyter.widget-view+json": {
       "model_id": "15eb579fd0bf4ed388116cffb01c516b",
       "version_major": 2,
       "version_minor": 0
      },
      "text/plain": [
       "[pred_fn]:   0%|          | 0/79 [00:00<?, ?it/s]"
      ]
     },
     "metadata": {},
     "output_type": "display_data"
    },
    {
     "data": {
      "application/vnd.jupyter.widget-view+json": {
       "model_id": "1604d1cb8719413189a2e5828870770e",
       "version_major": 2,
       "version_minor": 0
      },
      "text/plain": [
       "[pred_fn]:   0%|          | 0/79 [00:00<?, ?it/s]"
      ]
     },
     "metadata": {},
     "output_type": "display_data"
    },
    {
     "data": {
      "application/vnd.jupyter.widget-view+json": {
       "model_id": "8d0258973bba470b84006303477cd8d5",
       "version_major": 2,
       "version_minor": 0
      },
      "text/plain": [
       "[pred_fn]:   0%|          | 0/79 [00:00<?, ?it/s]"
      ]
     },
     "metadata": {},
     "output_type": "display_data"
    },
    {
     "data": {
      "application/vnd.jupyter.widget-view+json": {
       "model_id": "9da0a8025e0e429aa4478b56e0db8521",
       "version_major": 2,
       "version_minor": 0
      },
      "text/plain": [
       "[pred_fn]:   0%|          | 0/79 [00:00<?, ?it/s]"
      ]
     },
     "metadata": {},
     "output_type": "display_data"
    },
    {
     "data": {
      "application/vnd.jupyter.widget-view+json": {
       "model_id": "c3aeb61e68bd4c2d95ecfbbc7ebfee8b",
       "version_major": 2,
       "version_minor": 0
      },
      "text/plain": [
       "[pred_fn]:   0%|          | 0/79 [00:00<?, ?it/s]"
      ]
     },
     "metadata": {},
     "output_type": "display_data"
    },
    {
     "data": {
      "application/vnd.jupyter.widget-view+json": {
       "model_id": "5c5d57935c2d4632bd7346bb1cb08119",
       "version_major": 2,
       "version_minor": 0
      },
      "text/plain": [
       "[pred_fn]:   0%|          | 0/79 [00:00<?, ?it/s]"
      ]
     },
     "metadata": {},
     "output_type": "display_data"
    },
    {
     "data": {
      "application/vnd.jupyter.widget-view+json": {
       "model_id": "3fa873dbf97b40f18b8f5be57fa25dcd",
       "version_major": 2,
       "version_minor": 0
      },
      "text/plain": [
       "[pred_fn]:   0%|          | 0/79 [00:00<?, ?it/s]"
      ]
     },
     "metadata": {},
     "output_type": "display_data"
    },
    {
     "data": {
      "application/vnd.jupyter.widget-view+json": {
       "model_id": "bdb94eda50fa4b71ad0eb084f4742200",
       "version_major": 2,
       "version_minor": 0
      },
      "text/plain": [
       "[pred_fn]:   0%|          | 0/79 [00:00<?, ?it/s]"
      ]
     },
     "metadata": {},
     "output_type": "display_data"
    },
    {
     "data": {
      "application/vnd.jupyter.widget-view+json": {
       "model_id": "4a752ce827d345a4bf3aba2cbd737d63",
       "version_major": 2,
       "version_minor": 0
      },
      "text/plain": [
       "[pred_fn]:   0%|          | 0/79 [00:00<?, ?it/s]"
      ]
     },
     "metadata": {},
     "output_type": "display_data"
    },
    {
     "data": {
      "application/vnd.jupyter.widget-view+json": {
       "model_id": "3051e40014984825892d4e8751c98681",
       "version_major": 2,
       "version_minor": 0
      },
      "text/plain": [
       "[pred_fn]:   0%|          | 0/79 [00:00<?, ?it/s]"
      ]
     },
     "metadata": {},
     "output_type": "display_data"
    },
    {
     "data": {
      "application/vnd.jupyter.widget-view+json": {
       "model_id": "35fdcbaea2ce4d44b7e5640fcd140801",
       "version_major": 2,
       "version_minor": 0
      },
      "text/plain": [
       "[pred_fn]:   0%|          | 0/79 [00:00<?, ?it/s]"
      ]
     },
     "metadata": {},
     "output_type": "display_data"
    },
    {
     "data": {
      "application/vnd.jupyter.widget-view+json": {
       "model_id": "9dd747dde0984f05a017a9d9f095caff",
       "version_major": 2,
       "version_minor": 0
      },
      "text/plain": [
       "[pred_fn]:   0%|          | 0/79 [00:00<?, ?it/s]"
      ]
     },
     "metadata": {},
     "output_type": "display_data"
    },
    {
     "data": {
      "application/vnd.jupyter.widget-view+json": {
       "model_id": "9641874fc2ba4d4397e868b778bfd151",
       "version_major": 2,
       "version_minor": 0
      },
      "text/plain": [
       "[pred_fn]:   0%|          | 0/79 [00:00<?, ?it/s]"
      ]
     },
     "metadata": {},
     "output_type": "display_data"
    },
    {
     "data": {
      "application/vnd.jupyter.widget-view+json": {
       "model_id": "38fbc84c4e844f97930b3da348b99a5e",
       "version_major": 2,
       "version_minor": 0
      },
      "text/plain": [
       "[pred_fn]:   0%|          | 0/79 [00:00<?, ?it/s]"
      ]
     },
     "metadata": {},
     "output_type": "display_data"
    },
    {
     "data": {
      "application/vnd.jupyter.widget-view+json": {
       "model_id": "5ce5d0848b10434594555a2016d9235a",
       "version_major": 2,
       "version_minor": 0
      },
      "text/plain": [
       "[pred_fn]:   0%|          | 0/79 [00:00<?, ?it/s]"
      ]
     },
     "metadata": {},
     "output_type": "display_data"
    },
    {
     "data": {
      "application/vnd.jupyter.widget-view+json": {
       "model_id": "1b3de22e80cd4d92aca973a527c9e6ed",
       "version_major": 2,
       "version_minor": 0
      },
      "text/plain": [
       "[pred_fn]:   0%|          | 0/79 [00:00<?, ?it/s]"
      ]
     },
     "metadata": {},
     "output_type": "display_data"
    },
    {
     "data": {
      "application/vnd.jupyter.widget-view+json": {
       "model_id": "8cf86fb2eaee4b959a0ef3771bb58b13",
       "version_major": 2,
       "version_minor": 0
      },
      "text/plain": [
       "[pred_fn]:   0%|          | 0/79 [00:00<?, ?it/s]"
      ]
     },
     "metadata": {},
     "output_type": "display_data"
    },
    {
     "data": {
      "application/vnd.jupyter.widget-view+json": {
       "model_id": "d9566494c673478f86be3d3ee0887cc6",
       "version_major": 2,
       "version_minor": 0
      },
      "text/plain": [
       "[pred_fn]:   0%|          | 0/79 [00:00<?, ?it/s]"
      ]
     },
     "metadata": {},
     "output_type": "display_data"
    },
    {
     "data": {
      "application/vnd.jupyter.widget-view+json": {
       "model_id": "7892f9a21bf046668c1545ad9af395b2",
       "version_major": 2,
       "version_minor": 0
      },
      "text/plain": [
       "[pred_fn]:   0%|          | 0/79 [00:00<?, ?it/s]"
      ]
     },
     "metadata": {},
     "output_type": "display_data"
    },
    {
     "data": {
      "application/vnd.jupyter.widget-view+json": {
       "model_id": "29f63808f46141e39aafe4613f76217f",
       "version_major": 2,
       "version_minor": 0
      },
      "text/plain": [
       "[pred_fn]:   0%|          | 0/79 [00:00<?, ?it/s]"
      ]
     },
     "metadata": {},
     "output_type": "display_data"
    },
    {
     "data": {
      "application/vnd.jupyter.widget-view+json": {
       "model_id": "4e228ebddf5944ee97c466a78f0b5995",
       "version_major": 2,
       "version_minor": 0
      },
      "text/plain": [
       "[pred_fn]:   0%|          | 0/79 [00:00<?, ?it/s]"
      ]
     },
     "metadata": {},
     "output_type": "display_data"
    },
    {
     "data": {
      "application/vnd.jupyter.widget-view+json": {
       "model_id": "3cfd58b79fd04e958392840532d334e1",
       "version_major": 2,
       "version_minor": 0
      },
      "text/plain": [
       "[pred_fn]:   0%|          | 0/79 [00:00<?, ?it/s]"
      ]
     },
     "metadata": {},
     "output_type": "display_data"
    },
    {
     "data": {
      "application/vnd.jupyter.widget-view+json": {
       "model_id": "5f71d19ce84a410e97d7b6b14f2a1517",
       "version_major": 2,
       "version_minor": 0
      },
      "text/plain": [
       "[pred_fn]:   0%|          | 0/79 [00:00<?, ?it/s]"
      ]
     },
     "metadata": {},
     "output_type": "display_data"
    },
    {
     "data": {
      "application/vnd.jupyter.widget-view+json": {
       "model_id": "f826c92a47f044d6903f1ae231e01f50",
       "version_major": 2,
       "version_minor": 0
      },
      "text/plain": [
       "[pred_fn]:   0%|          | 0/79 [00:00<?, ?it/s]"
      ]
     },
     "metadata": {},
     "output_type": "display_data"
    },
    {
     "data": {
      "application/vnd.jupyter.widget-view+json": {
       "model_id": "cbb970ee4ddf49eab4864a66b7c4f9cc",
       "version_major": 2,
       "version_minor": 0
      },
      "text/plain": [
       "[pred_fn]:   0%|          | 0/79 [00:00<?, ?it/s]"
      ]
     },
     "metadata": {},
     "output_type": "display_data"
    },
    {
     "data": {
      "application/vnd.jupyter.widget-view+json": {
       "model_id": "40dc0caa0e4e4e2081214509e180564f",
       "version_major": 2,
       "version_minor": 0
      },
      "text/plain": [
       "[pred_fn]:   0%|          | 0/79 [00:00<?, ?it/s]"
      ]
     },
     "metadata": {},
     "output_type": "display_data"
    },
    {
     "data": {
      "application/vnd.jupyter.widget-view+json": {
       "model_id": "f119e67da54540f99371fe7cae0209fe",
       "version_major": 2,
       "version_minor": 0
      },
      "text/plain": [
       "[pred_fn]:   0%|          | 0/79 [00:00<?, ?it/s]"
      ]
     },
     "metadata": {},
     "output_type": "display_data"
    },
    {
     "data": {
      "application/vnd.jupyter.widget-view+json": {
       "model_id": "f7cc015c5733490091b1bc140e85489c",
       "version_major": 2,
       "version_minor": 0
      },
      "text/plain": [
       "[pred_fn]:   0%|          | 0/79 [00:00<?, ?it/s]"
      ]
     },
     "metadata": {},
     "output_type": "display_data"
    },
    {
     "data": {
      "application/vnd.jupyter.widget-view+json": {
       "model_id": "e854c36e2a1f43558f1acb3a1fbf23fd",
       "version_major": 2,
       "version_minor": 0
      },
      "text/plain": [
       "[pred_fn]:   0%|          | 0/79 [00:00<?, ?it/s]"
      ]
     },
     "metadata": {},
     "output_type": "display_data"
    },
    {
     "data": {
      "application/vnd.jupyter.widget-view+json": {
       "model_id": "7e83be23f55a419d8f3dcae64cbe2972",
       "version_major": 2,
       "version_minor": 0
      },
      "text/plain": [
       "[pred_fn]:   0%|          | 0/79 [00:00<?, ?it/s]"
      ]
     },
     "metadata": {},
     "output_type": "display_data"
    },
    {
     "data": {
      "application/vnd.jupyter.widget-view+json": {
       "model_id": "f791461b1f624d2d894e653d08a8b459",
       "version_major": 2,
       "version_minor": 0
      },
      "text/plain": [
       "[pred_fn]:   0%|          | 0/79 [00:00<?, ?it/s]"
      ]
     },
     "metadata": {},
     "output_type": "display_data"
    },
    {
     "data": {
      "application/vnd.jupyter.widget-view+json": {
       "model_id": "2d065efda73944eeb71b7b7b8e43e085",
       "version_major": 2,
       "version_minor": 0
      },
      "text/plain": [
       "[pred_fn]:   0%|          | 0/79 [00:00<?, ?it/s]"
      ]
     },
     "metadata": {},
     "output_type": "display_data"
    },
    {
     "data": {
      "application/vnd.jupyter.widget-view+json": {
       "model_id": "e507c26c034648db9b4387721ed60687",
       "version_major": 2,
       "version_minor": 0
      },
      "text/plain": [
       "[pred_fn]:   0%|          | 0/79 [00:00<?, ?it/s]"
      ]
     },
     "metadata": {},
     "output_type": "display_data"
    },
    {
     "data": {
      "application/vnd.jupyter.widget-view+json": {
       "model_id": "04cb30fa54ac4383bf7f487d97c39a89",
       "version_major": 2,
       "version_minor": 0
      },
      "text/plain": [
       "[pred_fn]:   0%|          | 0/79 [00:00<?, ?it/s]"
      ]
     },
     "metadata": {},
     "output_type": "display_data"
    },
    {
     "data": {
      "application/vnd.jupyter.widget-view+json": {
       "model_id": "4a225e82caec4450b5770802e9a12a19",
       "version_major": 2,
       "version_minor": 0
      },
      "text/plain": [
       "[pred_fn]:   0%|          | 0/79 [00:00<?, ?it/s]"
      ]
     },
     "metadata": {},
     "output_type": "display_data"
    },
    {
     "data": {
      "application/vnd.jupyter.widget-view+json": {
       "model_id": "3349610898ca4b50bcae9d58a41e9232",
       "version_major": 2,
       "version_minor": 0
      },
      "text/plain": [
       "[pred_fn]:   0%|          | 0/79 [00:00<?, ?it/s]"
      ]
     },
     "metadata": {},
     "output_type": "display_data"
    },
    {
     "data": {
      "application/vnd.jupyter.widget-view+json": {
       "model_id": "384e17c05040450180d7e1dcd18bb271",
       "version_major": 2,
       "version_minor": 0
      },
      "text/plain": [
       "[pred_fn]:   0%|          | 0/79 [00:00<?, ?it/s]"
      ]
     },
     "metadata": {},
     "output_type": "display_data"
    },
    {
     "data": {
      "application/vnd.jupyter.widget-view+json": {
       "model_id": "b2e281404dac40c79602b2f03c36b877",
       "version_major": 2,
       "version_minor": 0
      },
      "text/plain": [
       "[pred_fn]:   0%|          | 0/79 [00:00<?, ?it/s]"
      ]
     },
     "metadata": {},
     "output_type": "display_data"
    },
    {
     "data": {
      "application/vnd.jupyter.widget-view+json": {
       "model_id": "254533ffb1484395befc3b8f02db4584",
       "version_major": 2,
       "version_minor": 0
      },
      "text/plain": [
       "[pred_fn]:   0%|          | 0/79 [00:00<?, ?it/s]"
      ]
     },
     "metadata": {},
     "output_type": "display_data"
    },
    {
     "data": {
      "application/vnd.jupyter.widget-view+json": {
       "model_id": "2052a33a34254326af6e912f0443d314",
       "version_major": 2,
       "version_minor": 0
      },
      "text/plain": [
       "[pred_fn]:   0%|          | 0/79 [00:00<?, ?it/s]"
      ]
     },
     "metadata": {},
     "output_type": "display_data"
    },
    {
     "data": {
      "application/vnd.jupyter.widget-view+json": {
       "model_id": "2a2205d6dca947bc8fbb68ce2593c5a7",
       "version_major": 2,
       "version_minor": 0
      },
      "text/plain": [
       "[pred_fn]:   0%|          | 0/79 [00:00<?, ?it/s]"
      ]
     },
     "metadata": {},
     "output_type": "display_data"
    },
    {
     "data": {
      "application/vnd.jupyter.widget-view+json": {
       "model_id": "64302d9a32194c0ea3ee7a397ce3056a",
       "version_major": 2,
       "version_minor": 0
      },
      "text/plain": [
       "[pred_fn]:   0%|          | 0/79 [00:00<?, ?it/s]"
      ]
     },
     "metadata": {},
     "output_type": "display_data"
    },
    {
     "data": {
      "application/vnd.jupyter.widget-view+json": {
       "model_id": "3b831bf51236467e86140281757962cc",
       "version_major": 2,
       "version_minor": 0
      },
      "text/plain": [
       "[pred_fn]:   0%|          | 0/79 [00:00<?, ?it/s]"
      ]
     },
     "metadata": {},
     "output_type": "display_data"
    },
    {
     "data": {
      "application/vnd.jupyter.widget-view+json": {
       "model_id": "30cad38f649b4b4f8bab2b527d1280da",
       "version_major": 2,
       "version_minor": 0
      },
      "text/plain": [
       "[pred_fn]:   0%|          | 0/79 [00:00<?, ?it/s]"
      ]
     },
     "metadata": {},
     "output_type": "display_data"
    },
    {
     "data": {
      "application/vnd.jupyter.widget-view+json": {
       "model_id": "8c3a19578a6d4aafb355060fe5e47a42",
       "version_major": 2,
       "version_minor": 0
      },
      "text/plain": [
       "[pred_fn]:   0%|          | 0/79 [00:00<?, ?it/s]"
      ]
     },
     "metadata": {},
     "output_type": "display_data"
    },
    {
     "data": {
      "application/vnd.jupyter.widget-view+json": {
       "model_id": "64280a31e4ab469a9be4ed2b5989cbfc",
       "version_major": 2,
       "version_minor": 0
      },
      "text/plain": [
       "[pred_fn]:   0%|          | 0/79 [00:00<?, ?it/s]"
      ]
     },
     "metadata": {},
     "output_type": "display_data"
    },
    {
     "data": {
      "application/vnd.jupyter.widget-view+json": {
       "model_id": "5c97545e455d46a08ca6e4857cc4e8ce",
       "version_major": 2,
       "version_minor": 0
      },
      "text/plain": [
       "[pred_fn]:   0%|          | 0/79 [00:00<?, ?it/s]"
      ]
     },
     "metadata": {},
     "output_type": "display_data"
    },
    {
     "data": {
      "application/vnd.jupyter.widget-view+json": {
       "model_id": "a5a74a818e8747fc8b1be26c6c86d895",
       "version_major": 2,
       "version_minor": 0
      },
      "text/plain": [
       "[pred_fn]:   0%|          | 0/79 [00:00<?, ?it/s]"
      ]
     },
     "metadata": {},
     "output_type": "display_data"
    },
    {
     "data": {
      "application/vnd.jupyter.widget-view+json": {
       "model_id": "334a6a1ff11942d39fcc22fb807172b6",
       "version_major": 2,
       "version_minor": 0
      },
      "text/plain": [
       "[pred_fn]:   0%|          | 0/79 [00:00<?, ?it/s]"
      ]
     },
     "metadata": {},
     "output_type": "display_data"
    },
    {
     "data": {
      "application/vnd.jupyter.widget-view+json": {
       "model_id": "6e7076456ab94392a6baa5d2ccac6f19",
       "version_major": 2,
       "version_minor": 0
      },
      "text/plain": [
       "[pred_fn]:   0%|          | 0/79 [00:00<?, ?it/s]"
      ]
     },
     "metadata": {},
     "output_type": "display_data"
    },
    {
     "data": {
      "application/vnd.jupyter.widget-view+json": {
       "model_id": "b457d482ff1b4236af38bb07a2483bc1",
       "version_major": 2,
       "version_minor": 0
      },
      "text/plain": [
       "[pred_fn]:   0%|          | 0/79 [00:00<?, ?it/s]"
      ]
     },
     "metadata": {},
     "output_type": "display_data"
    },
    {
     "data": {
      "application/vnd.jupyter.widget-view+json": {
       "model_id": "d49fc7091f3b4c3d8f5a5680dbc84881",
       "version_major": 2,
       "version_minor": 0
      },
      "text/plain": [
       "[pred_fn]:   0%|          | 0/79 [00:00<?, ?it/s]"
      ]
     },
     "metadata": {},
     "output_type": "display_data"
    },
    {
     "data": {
      "application/vnd.jupyter.widget-view+json": {
       "model_id": "a07510dbbd494d96951cd8247dc785c2",
       "version_major": 2,
       "version_minor": 0
      },
      "text/plain": [
       "[pred_fn]:   0%|          | 0/79 [00:00<?, ?it/s]"
      ]
     },
     "metadata": {},
     "output_type": "display_data"
    },
    {
     "data": {
      "application/vnd.jupyter.widget-view+json": {
       "model_id": "11a5982f111249b9b1fa3dea1a4d0d1a",
       "version_major": 2,
       "version_minor": 0
      },
      "text/plain": [
       "[pred_fn]:   0%|          | 0/79 [00:00<?, ?it/s]"
      ]
     },
     "metadata": {},
     "output_type": "display_data"
    },
    {
     "data": {
      "application/vnd.jupyter.widget-view+json": {
       "model_id": "f9308a4648834d74a85ac3a8efacaaaf",
       "version_major": 2,
       "version_minor": 0
      },
      "text/plain": [
       "[pred_fn]:   0%|          | 0/79 [00:00<?, ?it/s]"
      ]
     },
     "metadata": {},
     "output_type": "display_data"
    },
    {
     "data": {
      "application/vnd.jupyter.widget-view+json": {
       "model_id": "acd48baad7b84180b4e62049c8160101",
       "version_major": 2,
       "version_minor": 0
      },
      "text/plain": [
       "[pred_fn]:   0%|          | 0/79 [00:00<?, ?it/s]"
      ]
     },
     "metadata": {},
     "output_type": "display_data"
    },
    {
     "data": {
      "application/vnd.jupyter.widget-view+json": {
       "model_id": "9d5c8439fe914832938243a78c7cf45c",
       "version_major": 2,
       "version_minor": 0
      },
      "text/plain": [
       "[pred_fn]:   0%|          | 0/79 [00:00<?, ?it/s]"
      ]
     },
     "metadata": {},
     "output_type": "display_data"
    },
    {
     "data": {
      "application/vnd.jupyter.widget-view+json": {
       "model_id": "22a40bfb50404413a12a92a8c8407db2",
       "version_major": 2,
       "version_minor": 0
      },
      "text/plain": [
       "[pred_fn]:   0%|          | 0/79 [00:00<?, ?it/s]"
      ]
     },
     "metadata": {},
     "output_type": "display_data"
    },
    {
     "data": {
      "application/vnd.jupyter.widget-view+json": {
       "model_id": "9e20faf3e4c443e8a745265f014333e2",
       "version_major": 2,
       "version_minor": 0
      },
      "text/plain": [
       "[pred_fn]:   0%|          | 0/79 [00:00<?, ?it/s]"
      ]
     },
     "metadata": {},
     "output_type": "display_data"
    },
    {
     "data": {
      "application/vnd.jupyter.widget-view+json": {
       "model_id": "fbb24599a2f24a0484c336c97a617651",
       "version_major": 2,
       "version_minor": 0
      },
      "text/plain": [
       "[pred_fn]:   0%|          | 0/79 [00:00<?, ?it/s]"
      ]
     },
     "metadata": {},
     "output_type": "display_data"
    },
    {
     "data": {
      "application/vnd.jupyter.widget-view+json": {
       "model_id": "f5c9d30e153845b889e2262b4d49e4eb",
       "version_major": 2,
       "version_minor": 0
      },
      "text/plain": [
       "[pred_fn]:   0%|          | 0/79 [00:00<?, ?it/s]"
      ]
     },
     "metadata": {},
     "output_type": "display_data"
    },
    {
     "data": {
      "application/vnd.jupyter.widget-view+json": {
       "model_id": "97f8d7c1dd1740c2a8ea956d550349d3",
       "version_major": 2,
       "version_minor": 0
      },
      "text/plain": [
       "[pred_fn]:   0%|          | 0/79 [00:00<?, ?it/s]"
      ]
     },
     "metadata": {},
     "output_type": "display_data"
    },
    {
     "data": {
      "application/vnd.jupyter.widget-view+json": {
       "model_id": "c61fe5b1015b4621b99a53c4ec4f0cec",
       "version_major": 2,
       "version_minor": 0
      },
      "text/plain": [
       "[pred_fn]:   0%|          | 0/79 [00:00<?, ?it/s]"
      ]
     },
     "metadata": {},
     "output_type": "display_data"
    },
    {
     "data": {
      "application/vnd.jupyter.widget-view+json": {
       "model_id": "ef138d2c0ffd4fc8910c4b3e2c144cd1",
       "version_major": 2,
       "version_minor": 0
      },
      "text/plain": [
       "[pred_fn]:   0%|          | 0/79 [00:00<?, ?it/s]"
      ]
     },
     "metadata": {},
     "output_type": "display_data"
    },
    {
     "data": {
      "application/vnd.jupyter.widget-view+json": {
       "model_id": "d32fa255cf8647a1a00178df66d71ac9",
       "version_major": 2,
       "version_minor": 0
      },
      "text/plain": [
       "[pred_fn]:   0%|          | 0/79 [00:00<?, ?it/s]"
      ]
     },
     "metadata": {},
     "output_type": "display_data"
    },
    {
     "data": {
      "application/vnd.jupyter.widget-view+json": {
       "model_id": "5f39e20c5cf94a8999fb4b6705df1ab7",
       "version_major": 2,
       "version_minor": 0
      },
      "text/plain": [
       "[pred_fn]:   0%|          | 0/79 [00:00<?, ?it/s]"
      ]
     },
     "metadata": {},
     "output_type": "display_data"
    },
    {
     "data": {
      "application/vnd.jupyter.widget-view+json": {
       "model_id": "c67090424b3046669e952082164fc105",
       "version_major": 2,
       "version_minor": 0
      },
      "text/plain": [
       "[pred_fn]:   0%|          | 0/79 [00:00<?, ?it/s]"
      ]
     },
     "metadata": {},
     "output_type": "display_data"
    },
    {
     "data": {
      "application/vnd.jupyter.widget-view+json": {
       "model_id": "46af5be5dc734b11ae5297c238e6579c",
       "version_major": 2,
       "version_minor": 0
      },
      "text/plain": [
       "[pred_fn]:   0%|          | 0/79 [00:00<?, ?it/s]"
      ]
     },
     "metadata": {},
     "output_type": "display_data"
    },
    {
     "data": {
      "application/vnd.jupyter.widget-view+json": {
       "model_id": "344dbe1e1d3c41649ec71eefb3521a9f",
       "version_major": 2,
       "version_minor": 0
      },
      "text/plain": [
       "[pred_fn]:   0%|          | 0/79 [00:00<?, ?it/s]"
      ]
     },
     "metadata": {},
     "output_type": "display_data"
    },
    {
     "data": {
      "application/vnd.jupyter.widget-view+json": {
       "model_id": "7fcb0481a28045128f77b0cdb1af755d",
       "version_major": 2,
       "version_minor": 0
      },
      "text/plain": [
       "[pred_fn]:   0%|          | 0/79 [00:00<?, ?it/s]"
      ]
     },
     "metadata": {},
     "output_type": "display_data"
    },
    {
     "data": {
      "application/vnd.jupyter.widget-view+json": {
       "model_id": "c1bcaff4cd884694b35f40c1451609af",
       "version_major": 2,
       "version_minor": 0
      },
      "text/plain": [
       "[pred_fn]:   0%|          | 0/79 [00:00<?, ?it/s]"
      ]
     },
     "metadata": {},
     "output_type": "display_data"
    },
    {
     "data": {
      "application/vnd.jupyter.widget-view+json": {
       "model_id": "c01deb6473f14c1782a797e5e84bf398",
       "version_major": 2,
       "version_minor": 0
      },
      "text/plain": [
       "[pred_fn]:   0%|          | 0/79 [00:00<?, ?it/s]"
      ]
     },
     "metadata": {},
     "output_type": "display_data"
    },
    {
     "data": {
      "application/vnd.jupyter.widget-view+json": {
       "model_id": "52d8dd0ad5974eb3b74100ddf769e2ab",
       "version_major": 2,
       "version_minor": 0
      },
      "text/plain": [
       "[pred_fn]:   0%|          | 0/79 [00:00<?, ?it/s]"
      ]
     },
     "metadata": {},
     "output_type": "display_data"
    },
    {
     "data": {
      "application/vnd.jupyter.widget-view+json": {
       "model_id": "3bf1c7aef9dc405c8034ab73e372c71b",
       "version_major": 2,
       "version_minor": 0
      },
      "text/plain": [
       "[pred_fn]:   0%|          | 0/79 [00:00<?, ?it/s]"
      ]
     },
     "metadata": {},
     "output_type": "display_data"
    },
    {
     "data": {
      "application/vnd.jupyter.widget-view+json": {
       "model_id": "ba0c66a0cafd48d99c1f06cb8132dd79",
       "version_major": 2,
       "version_minor": 0
      },
      "text/plain": [
       "[pred_fn]:   0%|          | 0/79 [00:00<?, ?it/s]"
      ]
     },
     "metadata": {},
     "output_type": "display_data"
    },
    {
     "data": {
      "application/vnd.jupyter.widget-view+json": {
       "model_id": "7f9c39867f9d4960a5c2f03d87ff55de",
       "version_major": 2,
       "version_minor": 0
      },
      "text/plain": [
       "[pred_fn]:   0%|          | 0/79 [00:00<?, ?it/s]"
      ]
     },
     "metadata": {},
     "output_type": "display_data"
    },
    {
     "data": {
      "application/vnd.jupyter.widget-view+json": {
       "model_id": "cbf0f3493ce148a899dfeb80084e2bf2",
       "version_major": 2,
       "version_minor": 0
      },
      "text/plain": [
       "[pred_fn]:   0%|          | 0/79 [00:00<?, ?it/s]"
      ]
     },
     "metadata": {},
     "output_type": "display_data"
    },
    {
     "data": {
      "application/vnd.jupyter.widget-view+json": {
       "model_id": "3c855c239ad64711846f63d31d540d33",
       "version_major": 2,
       "version_minor": 0
      },
      "text/plain": [
       "[pred_fn]:   0%|          | 0/79 [00:00<?, ?it/s]"
      ]
     },
     "metadata": {},
     "output_type": "display_data"
    },
    {
     "data": {
      "application/vnd.jupyter.widget-view+json": {
       "model_id": "302448d1efb74d6d9b609af5fc584f0c",
       "version_major": 2,
       "version_minor": 0
      },
      "text/plain": [
       "[pred_fn]:   0%|          | 0/79 [00:00<?, ?it/s]"
      ]
     },
     "metadata": {},
     "output_type": "display_data"
    },
    {
     "data": {
      "application/vnd.jupyter.widget-view+json": {
       "model_id": "14981fcc80d7496e9c7891fe74eecddc",
       "version_major": 2,
       "version_minor": 0
      },
      "text/plain": [
       "[pred_fn]:   0%|          | 0/79 [00:00<?, ?it/s]"
      ]
     },
     "metadata": {},
     "output_type": "display_data"
    },
    {
     "data": {
      "application/vnd.jupyter.widget-view+json": {
       "model_id": "6f3f4997c97b475fbffe1ad0a3da5aec",
       "version_major": 2,
       "version_minor": 0
      },
      "text/plain": [
       "[pred_fn]:   0%|          | 0/79 [00:00<?, ?it/s]"
      ]
     },
     "metadata": {},
     "output_type": "display_data"
    },
    {
     "data": {
      "application/vnd.jupyter.widget-view+json": {
       "model_id": "51f2a1ece51d445695a15b7d88f8d5ff",
       "version_major": 2,
       "version_minor": 0
      },
      "text/plain": [
       "[pred_fn]:   0%|          | 0/79 [00:00<?, ?it/s]"
      ]
     },
     "metadata": {},
     "output_type": "display_data"
    },
    {
     "data": {
      "application/vnd.jupyter.widget-view+json": {
       "model_id": "05cfea4da8bc4ce482b731633223e21a",
       "version_major": 2,
       "version_minor": 0
      },
      "text/plain": [
       "[pred_fn]:   0%|          | 0/79 [00:00<?, ?it/s]"
      ]
     },
     "metadata": {},
     "output_type": "display_data"
    },
    {
     "data": {
      "application/vnd.jupyter.widget-view+json": {
       "model_id": "50eeb98377f140cfadaa106e927e0372",
       "version_major": 2,
       "version_minor": 0
      },
      "text/plain": [
       "[pred_fn]:   0%|          | 0/79 [00:00<?, ?it/s]"
      ]
     },
     "metadata": {},
     "output_type": "display_data"
    },
    {
     "data": {
      "application/vnd.jupyter.widget-view+json": {
       "model_id": "ce415f63aa92454e8cabab4e3eba94d5",
       "version_major": 2,
       "version_minor": 0
      },
      "text/plain": [
       "[pred_fn]:   0%|          | 0/79 [00:00<?, ?it/s]"
      ]
     },
     "metadata": {},
     "output_type": "display_data"
    },
    {
     "data": {
      "application/vnd.jupyter.widget-view+json": {
       "model_id": "78d15a7423f34bc5a38bde72bebad584",
       "version_major": 2,
       "version_minor": 0
      },
      "text/plain": [
       "[pred_fn]:   0%|          | 0/79 [00:00<?, ?it/s]"
      ]
     },
     "metadata": {},
     "output_type": "display_data"
    },
    {
     "data": {
      "application/vnd.jupyter.widget-view+json": {
       "model_id": "66943fe5ab284dcba841f07d810fbe17",
       "version_major": 2,
       "version_minor": 0
      },
      "text/plain": [
       "[pred_fn]:   0%|          | 0/79 [00:00<?, ?it/s]"
      ]
     },
     "metadata": {},
     "output_type": "display_data"
    },
    {
     "data": {
      "application/vnd.jupyter.widget-view+json": {
       "model_id": "16c53a5c4ce04ed08219c6b7737e048e",
       "version_major": 2,
       "version_minor": 0
      },
      "text/plain": [
       "[pred_fn]:   0%|          | 0/79 [00:00<?, ?it/s]"
      ]
     },
     "metadata": {},
     "output_type": "display_data"
    },
    {
     "data": {
      "application/vnd.jupyter.widget-view+json": {
       "model_id": "5797f639499b48698aac9ae4ef1a22a1",
       "version_major": 2,
       "version_minor": 0
      },
      "text/plain": [
       "[pred_fn]:   0%|          | 0/79 [00:00<?, ?it/s]"
      ]
     },
     "metadata": {},
     "output_type": "display_data"
    },
    {
     "data": {
      "application/vnd.jupyter.widget-view+json": {
       "model_id": "fc67f122267c43b1adcaea08a32003f4",
       "version_major": 2,
       "version_minor": 0
      },
      "text/plain": [
       "[pred_fn]:   0%|          | 0/79 [00:00<?, ?it/s]"
      ]
     },
     "metadata": {},
     "output_type": "display_data"
    },
    {
     "data": {
      "application/vnd.jupyter.widget-view+json": {
       "model_id": "ec377f813cd846378d56556439812735",
       "version_major": 2,
       "version_minor": 0
      },
      "text/plain": [
       "[pred_fn]:   0%|          | 0/79 [00:00<?, ?it/s]"
      ]
     },
     "metadata": {},
     "output_type": "display_data"
    },
    {
     "data": {
      "application/vnd.jupyter.widget-view+json": {
       "model_id": "fb30827efe1c4ca38d4d61886d89720a",
       "version_major": 2,
       "version_minor": 0
      },
      "text/plain": [
       "[pred_fn]:   0%|          | 0/79 [00:00<?, ?it/s]"
      ]
     },
     "metadata": {},
     "output_type": "display_data"
    },
    {
     "data": {
      "application/vnd.jupyter.widget-view+json": {
       "model_id": "40de956816dd413680e83c6f1a653a7c",
       "version_major": 2,
       "version_minor": 0
      },
      "text/plain": [
       "[pred_fn]:   0%|          | 0/79 [00:00<?, ?it/s]"
      ]
     },
     "metadata": {},
     "output_type": "display_data"
    },
    {
     "data": {
      "application/vnd.jupyter.widget-view+json": {
       "model_id": "23ff6a512de644d29279dda3faf2bea8",
       "version_major": 2,
       "version_minor": 0
      },
      "text/plain": [
       "[pred_fn]:   0%|          | 0/79 [00:00<?, ?it/s]"
      ]
     },
     "metadata": {},
     "output_type": "display_data"
    },
    {
     "data": {
      "application/vnd.jupyter.widget-view+json": {
       "model_id": "fc019467bc204ffca712be2558efb65d",
       "version_major": 2,
       "version_minor": 0
      },
      "text/plain": [
       "[pred_fn]:   0%|          | 0/79 [00:00<?, ?it/s]"
      ]
     },
     "metadata": {},
     "output_type": "display_data"
    },
    {
     "data": {
      "application/vnd.jupyter.widget-view+json": {
       "model_id": "bc58484c4e7f4bbc861e0783d4ef9d06",
       "version_major": 2,
       "version_minor": 0
      },
      "text/plain": [
       "[pred_fn]:   0%|          | 0/79 [00:00<?, ?it/s]"
      ]
     },
     "metadata": {},
     "output_type": "display_data"
    },
    {
     "data": {
      "application/vnd.jupyter.widget-view+json": {
       "model_id": "9771c0881d1a4f6eb83889485f47186b",
       "version_major": 2,
       "version_minor": 0
      },
      "text/plain": [
       "[pred_fn]:   0%|          | 0/79 [00:00<?, ?it/s]"
      ]
     },
     "metadata": {},
     "output_type": "display_data"
    },
    {
     "data": {
      "application/vnd.jupyter.widget-view+json": {
       "model_id": "2752f2cf9c6b4beca4d95a0e80ce1876",
       "version_major": 2,
       "version_minor": 0
      },
      "text/plain": [
       "[pred_fn]:   0%|          | 0/79 [00:00<?, ?it/s]"
      ]
     },
     "metadata": {},
     "output_type": "display_data"
    },
    {
     "data": {
      "application/vnd.jupyter.widget-view+json": {
       "model_id": "e840a04a550044deadc22322c7a5e597",
       "version_major": 2,
       "version_minor": 0
      },
      "text/plain": [
       "[pred_fn]:   0%|          | 0/79 [00:00<?, ?it/s]"
      ]
     },
     "metadata": {},
     "output_type": "display_data"
    },
    {
     "data": {
      "application/vnd.jupyter.widget-view+json": {
       "model_id": "6fb9fca4236241f8bc597b9dae0ecf75",
       "version_major": 2,
       "version_minor": 0
      },
      "text/plain": [
       "[pred_fn]:   0%|          | 0/79 [00:00<?, ?it/s]"
      ]
     },
     "metadata": {},
     "output_type": "display_data"
    },
    {
     "data": {
      "application/vnd.jupyter.widget-view+json": {
       "model_id": "6fa2e1acf1d54d4099ce786a8b1b11d4",
       "version_major": 2,
       "version_minor": 0
      },
      "text/plain": [
       "[pred_fn]:   0%|          | 0/79 [00:00<?, ?it/s]"
      ]
     },
     "metadata": {},
     "output_type": "display_data"
    },
    {
     "data": {
      "application/vnd.jupyter.widget-view+json": {
       "model_id": "6329a2ce76424953bfacaba7693a970e",
       "version_major": 2,
       "version_minor": 0
      },
      "text/plain": [
       "[pred_fn]:   0%|          | 0/79 [00:00<?, ?it/s]"
      ]
     },
     "metadata": {},
     "output_type": "display_data"
    },
    {
     "data": {
      "application/vnd.jupyter.widget-view+json": {
       "model_id": "d6f3cc0b6e5449a982e8affa35650219",
       "version_major": 2,
       "version_minor": 0
      },
      "text/plain": [
       "[pred_fn]:   0%|          | 0/79 [00:00<?, ?it/s]"
      ]
     },
     "metadata": {},
     "output_type": "display_data"
    },
    {
     "data": {
      "application/vnd.jupyter.widget-view+json": {
       "model_id": "c80e4bfde2304414a215490d7fa8c632",
       "version_major": 2,
       "version_minor": 0
      },
      "text/plain": [
       "[pred_fn]:   0%|          | 0/79 [00:00<?, ?it/s]"
      ]
     },
     "metadata": {},
     "output_type": "display_data"
    },
    {
     "data": {
      "application/vnd.jupyter.widget-view+json": {
       "model_id": "cdb0e517b1064e99ab17cc49a1af0170",
       "version_major": 2,
       "version_minor": 0
      },
      "text/plain": [
       "[pred_fn]:   0%|          | 0/79 [00:00<?, ?it/s]"
      ]
     },
     "metadata": {},
     "output_type": "display_data"
    },
    {
     "data": {
      "application/vnd.jupyter.widget-view+json": {
       "model_id": "d01fa924d9434ebba31fe65a228624e2",
       "version_major": 2,
       "version_minor": 0
      },
      "text/plain": [
       "[pred_fn]:   0%|          | 0/79 [00:00<?, ?it/s]"
      ]
     },
     "metadata": {},
     "output_type": "display_data"
    },
    {
     "data": {
      "application/vnd.jupyter.widget-view+json": {
       "model_id": "0e2be948866c4ad6aa426b34a792843e",
       "version_major": 2,
       "version_minor": 0
      },
      "text/plain": [
       "[pred_fn]:   0%|          | 0/79 [00:00<?, ?it/s]"
      ]
     },
     "metadata": {},
     "output_type": "display_data"
    },
    {
     "data": {
      "application/vnd.jupyter.widget-view+json": {
       "model_id": "5bfb60ee5d9047ceba73c76ee56160aa",
       "version_major": 2,
       "version_minor": 0
      },
      "text/plain": [
       "[pred_fn]:   0%|          | 0/79 [00:00<?, ?it/s]"
      ]
     },
     "metadata": {},
     "output_type": "display_data"
    },
    {
     "data": {
      "application/vnd.jupyter.widget-view+json": {
       "model_id": "989b7872f6084b38ba1d25b88cd7ab88",
       "version_major": 2,
       "version_minor": 0
      },
      "text/plain": [
       "[pred_fn]:   0%|          | 0/79 [00:00<?, ?it/s]"
      ]
     },
     "metadata": {},
     "output_type": "display_data"
    },
    {
     "data": {
      "application/vnd.jupyter.widget-view+json": {
       "model_id": "eb9ff8b64e764abfb9526ad50c6e096d",
       "version_major": 2,
       "version_minor": 0
      },
      "text/plain": [
       "[pred_fn]:   0%|          | 0/79 [00:00<?, ?it/s]"
      ]
     },
     "metadata": {},
     "output_type": "display_data"
    },
    {
     "data": {
      "application/vnd.jupyter.widget-view+json": {
       "model_id": "c1c4014c92344dbe8b088c36d6e88937",
       "version_major": 2,
       "version_minor": 0
      },
      "text/plain": [
       "[pred_fn]:   0%|          | 0/79 [00:00<?, ?it/s]"
      ]
     },
     "metadata": {},
     "output_type": "display_data"
    },
    {
     "data": {
      "application/vnd.jupyter.widget-view+json": {
       "model_id": "bdd767c9cd8344c686f57d2e7275a778",
       "version_major": 2,
       "version_minor": 0
      },
      "text/plain": [
       "[pred_fn]:   0%|          | 0/79 [00:00<?, ?it/s]"
      ]
     },
     "metadata": {},
     "output_type": "display_data"
    },
    {
     "data": {
      "application/vnd.jupyter.widget-view+json": {
       "model_id": "116435a7f7f84f43983b0dff0222d53b",
       "version_major": 2,
       "version_minor": 0
      },
      "text/plain": [
       "[pred_fn]:   0%|          | 0/79 [00:00<?, ?it/s]"
      ]
     },
     "metadata": {},
     "output_type": "display_data"
    },
    {
     "data": {
      "application/vnd.jupyter.widget-view+json": {
       "model_id": "b5ef93f48aaa4bd0b8173dfb74ef1386",
       "version_major": 2,
       "version_minor": 0
      },
      "text/plain": [
       "[pred_fn]:   0%|          | 0/79 [00:00<?, ?it/s]"
      ]
     },
     "metadata": {},
     "output_type": "display_data"
    },
    {
     "data": {
      "application/vnd.jupyter.widget-view+json": {
       "model_id": "f00d58af1b5644f28799b9799b7a3462",
       "version_major": 2,
       "version_minor": 0
      },
      "text/plain": [
       "[pred_fn]:   0%|          | 0/79 [00:00<?, ?it/s]"
      ]
     },
     "metadata": {},
     "output_type": "display_data"
    },
    {
     "data": {
      "application/vnd.jupyter.widget-view+json": {
       "model_id": "8aedb7c240e34dcb96c5106f8dd4512b",
       "version_major": 2,
       "version_minor": 0
      },
      "text/plain": [
       "[pred_fn]:   0%|          | 0/79 [00:00<?, ?it/s]"
      ]
     },
     "metadata": {},
     "output_type": "display_data"
    },
    {
     "data": {
      "application/vnd.jupyter.widget-view+json": {
       "model_id": "a62dec57e6a04a4091ad51937a4c1bab",
       "version_major": 2,
       "version_minor": 0
      },
      "text/plain": [
       "[pred_fn]:   0%|          | 0/79 [00:00<?, ?it/s]"
      ]
     },
     "metadata": {},
     "output_type": "display_data"
    },
    {
     "data": {
      "application/vnd.jupyter.widget-view+json": {
       "model_id": "641c18589fd44a58bb3a678985ddecde",
       "version_major": 2,
       "version_minor": 0
      },
      "text/plain": [
       "[pred_fn]:   0%|          | 0/79 [00:00<?, ?it/s]"
      ]
     },
     "metadata": {},
     "output_type": "display_data"
    },
    {
     "data": {
      "application/vnd.jupyter.widget-view+json": {
       "model_id": "1b5605db67e242d096f07e443a3676ac",
       "version_major": 2,
       "version_minor": 0
      },
      "text/plain": [
       "[pred_fn]:   0%|          | 0/79 [00:00<?, ?it/s]"
      ]
     },
     "metadata": {},
     "output_type": "display_data"
    },
    {
     "data": {
      "application/vnd.jupyter.widget-view+json": {
       "model_id": "978445f74b90482580979a964313d4c7",
       "version_major": 2,
       "version_minor": 0
      },
      "text/plain": [
       "[pred_fn]:   0%|          | 0/79 [00:00<?, ?it/s]"
      ]
     },
     "metadata": {},
     "output_type": "display_data"
    },
    {
     "data": {
      "application/vnd.jupyter.widget-view+json": {
       "model_id": "6c8aff3ef99c494e86dd00b5a241faa0",
       "version_major": 2,
       "version_minor": 0
      },
      "text/plain": [
       "[pred_fn]:   0%|          | 0/79 [00:00<?, ?it/s]"
      ]
     },
     "metadata": {},
     "output_type": "display_data"
    },
    {
     "data": {
      "application/vnd.jupyter.widget-view+json": {
       "model_id": "8fbe2445d0f04fd8ba5a11e2d7012a47",
       "version_major": 2,
       "version_minor": 0
      },
      "text/plain": [
       "[pred_fn]:   0%|          | 0/79 [00:00<?, ?it/s]"
      ]
     },
     "metadata": {},
     "output_type": "display_data"
    },
    {
     "data": {
      "application/vnd.jupyter.widget-view+json": {
       "model_id": "94ee2aebe5da4eab851dd3a832290ed9",
       "version_major": 2,
       "version_minor": 0
      },
      "text/plain": [
       "[pred_fn]:   0%|          | 0/79 [00:00<?, ?it/s]"
      ]
     },
     "metadata": {},
     "output_type": "display_data"
    },
    {
     "data": {
      "application/vnd.jupyter.widget-view+json": {
       "model_id": "36a8c0d9f5c44ff18b0fbe58608a7b56",
       "version_major": 2,
       "version_minor": 0
      },
      "text/plain": [
       "[pred_fn]:   0%|          | 0/79 [00:00<?, ?it/s]"
      ]
     },
     "metadata": {},
     "output_type": "display_data"
    },
    {
     "data": {
      "application/vnd.jupyter.widget-view+json": {
       "model_id": "1f68d234ae4649a8933ef57bb7b10f29",
       "version_major": 2,
       "version_minor": 0
      },
      "text/plain": [
       "[pred_fn]:   0%|          | 0/79 [00:00<?, ?it/s]"
      ]
     },
     "metadata": {},
     "output_type": "display_data"
    },
    {
     "data": {
      "application/vnd.jupyter.widget-view+json": {
       "model_id": "a239367481b141728dfdabbcca780753",
       "version_major": 2,
       "version_minor": 0
      },
      "text/plain": [
       "[pred_fn]:   0%|          | 0/79 [00:00<?, ?it/s]"
      ]
     },
     "metadata": {},
     "output_type": "display_data"
    },
    {
     "data": {
      "application/vnd.jupyter.widget-view+json": {
       "model_id": "8901dddfdb3640e09570a09d4caea854",
       "version_major": 2,
       "version_minor": 0
      },
      "text/plain": [
       "[pred_fn]:   0%|          | 0/79 [00:00<?, ?it/s]"
      ]
     },
     "metadata": {},
     "output_type": "display_data"
    },
    {
     "data": {
      "application/vnd.jupyter.widget-view+json": {
       "model_id": "54ec0536a2a94f9ba7b0974fa41f5261",
       "version_major": 2,
       "version_minor": 0
      },
      "text/plain": [
       "[pred_fn]:   0%|          | 0/79 [00:00<?, ?it/s]"
      ]
     },
     "metadata": {},
     "output_type": "display_data"
    },
    {
     "data": {
      "application/vnd.jupyter.widget-view+json": {
       "model_id": "6bc65ee7823645d79a5f0a5a212be76b",
       "version_major": 2,
       "version_minor": 0
      },
      "text/plain": [
       "[pred_fn]:   0%|          | 0/79 [00:00<?, ?it/s]"
      ]
     },
     "metadata": {},
     "output_type": "display_data"
    },
    {
     "data": {
      "application/vnd.jupyter.widget-view+json": {
       "model_id": "ada46ed68b5844f7bc189a044f61e8d4",
       "version_major": 2,
       "version_minor": 0
      },
      "text/plain": [
       "[pred_fn]:   0%|          | 0/79 [00:00<?, ?it/s]"
      ]
     },
     "metadata": {},
     "output_type": "display_data"
    },
    {
     "data": {
      "application/vnd.jupyter.widget-view+json": {
       "model_id": "294efc88cd0a49159aafbc95ddb5d83a",
       "version_major": 2,
       "version_minor": 0
      },
      "text/plain": [
       "[pred_fn]:   0%|          | 0/79 [00:00<?, ?it/s]"
      ]
     },
     "metadata": {},
     "output_type": "display_data"
    },
    {
     "data": {
      "application/vnd.jupyter.widget-view+json": {
       "model_id": "e7623ec2120d4ca9a0c5d6aeaded1bec",
       "version_major": 2,
       "version_minor": 0
      },
      "text/plain": [
       "[pred_fn]:   0%|          | 0/79 [00:00<?, ?it/s]"
      ]
     },
     "metadata": {},
     "output_type": "display_data"
    },
    {
     "data": {
      "application/vnd.jupyter.widget-view+json": {
       "model_id": "9e527f9a79bd4a1290c41526634350bd",
       "version_major": 2,
       "version_minor": 0
      },
      "text/plain": [
       "[pred_fn]:   0%|          | 0/79 [00:00<?, ?it/s]"
      ]
     },
     "metadata": {},
     "output_type": "display_data"
    },
    {
     "data": {
      "application/vnd.jupyter.widget-view+json": {
       "model_id": "1f1086e3b9ca495d99226e28ea08cf14",
       "version_major": 2,
       "version_minor": 0
      },
      "text/plain": [
       "[pred_fn]:   0%|          | 0/79 [00:00<?, ?it/s]"
      ]
     },
     "metadata": {},
     "output_type": "display_data"
    },
    {
     "data": {
      "application/vnd.jupyter.widget-view+json": {
       "model_id": "dcd2418271bf4be5b5b475f9e4ee34d0",
       "version_major": 2,
       "version_minor": 0
      },
      "text/plain": [
       "[pred_fn]:   0%|          | 0/79 [00:00<?, ?it/s]"
      ]
     },
     "metadata": {},
     "output_type": "display_data"
    },
    {
     "data": {
      "application/vnd.jupyter.widget-view+json": {
       "model_id": "16ef3d7d12db4d468b692a61dff10bc3",
       "version_major": 2,
       "version_minor": 0
      },
      "text/plain": [
       "[pred_fn]:   0%|          | 0/79 [00:00<?, ?it/s]"
      ]
     },
     "metadata": {},
     "output_type": "display_data"
    },
    {
     "data": {
      "application/vnd.jupyter.widget-view+json": {
       "model_id": "0b55af594d1340cc89d3f94d69e8f570",
       "version_major": 2,
       "version_minor": 0
      },
      "text/plain": [
       "[pred_fn]:   0%|          | 0/79 [00:00<?, ?it/s]"
      ]
     },
     "metadata": {},
     "output_type": "display_data"
    },
    {
     "data": {
      "application/vnd.jupyter.widget-view+json": {
       "model_id": "01976534bdcd4f869c50adc42214760b",
       "version_major": 2,
       "version_minor": 0
      },
      "text/plain": [
       "[pred_fn]:   0%|          | 0/79 [00:00<?, ?it/s]"
      ]
     },
     "metadata": {},
     "output_type": "display_data"
    },
    {
     "data": {
      "application/vnd.jupyter.widget-view+json": {
       "model_id": "a5d87288d8224e3d848c67c11902eb20",
       "version_major": 2,
       "version_minor": 0
      },
      "text/plain": [
       "[pred_fn]:   0%|          | 0/79 [00:00<?, ?it/s]"
      ]
     },
     "metadata": {},
     "output_type": "display_data"
    },
    {
     "data": {
      "application/vnd.jupyter.widget-view+json": {
       "model_id": "76bcdbe8cda54b20adaf3b6ea3c9b9fd",
       "version_major": 2,
       "version_minor": 0
      },
      "text/plain": [
       "[pred_fn]:   0%|          | 0/79 [00:00<?, ?it/s]"
      ]
     },
     "metadata": {},
     "output_type": "display_data"
    },
    {
     "data": {
      "application/vnd.jupyter.widget-view+json": {
       "model_id": "1db48a1fa0de4f6890b0023441be6edd",
       "version_major": 2,
       "version_minor": 0
      },
      "text/plain": [
       "[pred_fn]:   0%|          | 0/79 [00:00<?, ?it/s]"
      ]
     },
     "metadata": {},
     "output_type": "display_data"
    },
    {
     "data": {
      "application/vnd.jupyter.widget-view+json": {
       "model_id": "b41a672786c9459a82f4e3ee84acd029",
       "version_major": 2,
       "version_minor": 0
      },
      "text/plain": [
       "[pred_fn]:   0%|          | 0/79 [00:00<?, ?it/s]"
      ]
     },
     "metadata": {},
     "output_type": "display_data"
    },
    {
     "data": {
      "application/vnd.jupyter.widget-view+json": {
       "model_id": "78fb131c30854213b336425550034774",
       "version_major": 2,
       "version_minor": 0
      },
      "text/plain": [
       "[pred_fn]:   0%|          | 0/79 [00:00<?, ?it/s]"
      ]
     },
     "metadata": {},
     "output_type": "display_data"
    },
    {
     "data": {
      "application/vnd.jupyter.widget-view+json": {
       "model_id": "c0aebbb8c00543f5a1eeb757f47f5761",
       "version_major": 2,
       "version_minor": 0
      },
      "text/plain": [
       "[pred_fn]:   0%|          | 0/79 [00:00<?, ?it/s]"
      ]
     },
     "metadata": {},
     "output_type": "display_data"
    },
    {
     "data": {
      "application/vnd.jupyter.widget-view+json": {
       "model_id": "fe2c9b602c9846169f6cb9c96de86b40",
       "version_major": 2,
       "version_minor": 0
      },
      "text/plain": [
       "[pred_fn]:   0%|          | 0/79 [00:00<?, ?it/s]"
      ]
     },
     "metadata": {},
     "output_type": "display_data"
    },
    {
     "data": {
      "application/vnd.jupyter.widget-view+json": {
       "model_id": "80282a597af34efb93cf686a5f24f801",
       "version_major": 2,
       "version_minor": 0
      },
      "text/plain": [
       "[pred_fn]:   0%|          | 0/79 [00:00<?, ?it/s]"
      ]
     },
     "metadata": {},
     "output_type": "display_data"
    },
    {
     "data": {
      "application/vnd.jupyter.widget-view+json": {
       "model_id": "6b0a5f429423437c94307e1ea65378a3",
       "version_major": 2,
       "version_minor": 0
      },
      "text/plain": [
       "[pred_fn]:   0%|          | 0/79 [00:00<?, ?it/s]"
      ]
     },
     "metadata": {},
     "output_type": "display_data"
    },
    {
     "data": {
      "application/vnd.jupyter.widget-view+json": {
       "model_id": "4ee112d6e5064041a910052229e2940e",
       "version_major": 2,
       "version_minor": 0
      },
      "text/plain": [
       "[pred_fn]:   0%|          | 0/79 [00:00<?, ?it/s]"
      ]
     },
     "metadata": {},
     "output_type": "display_data"
    },
    {
     "data": {
      "application/vnd.jupyter.widget-view+json": {
       "model_id": "3be13600391a47848d7755ac5ffb7fe4",
       "version_major": 2,
       "version_minor": 0
      },
      "text/plain": [
       "[pred_fn]:   0%|          | 0/79 [00:00<?, ?it/s]"
      ]
     },
     "metadata": {},
     "output_type": "display_data"
    },
    {
     "data": {
      "application/vnd.jupyter.widget-view+json": {
       "model_id": "31a6660d52ff443aae41062032fd6e24",
       "version_major": 2,
       "version_minor": 0
      },
      "text/plain": [
       "[pred_fn]:   0%|          | 0/79 [00:00<?, ?it/s]"
      ]
     },
     "metadata": {},
     "output_type": "display_data"
    },
    {
     "data": {
      "application/vnd.jupyter.widget-view+json": {
       "model_id": "b2521a20c40d45f1acdd7bed8eb29c94",
       "version_major": 2,
       "version_minor": 0
      },
      "text/plain": [
       "[pred_fn]:   0%|          | 0/79 [00:00<?, ?it/s]"
      ]
     },
     "metadata": {},
     "output_type": "display_data"
    },
    {
     "data": {
      "application/vnd.jupyter.widget-view+json": {
       "model_id": "bbdc72f2e8644068a9d5ed88455bb499",
       "version_major": 2,
       "version_minor": 0
      },
      "text/plain": [
       "[pred_fn]:   0%|          | 0/79 [00:00<?, ?it/s]"
      ]
     },
     "metadata": {},
     "output_type": "display_data"
    },
    {
     "data": {
      "application/vnd.jupyter.widget-view+json": {
       "model_id": "0c528f15b8c5485ebe4d10346d1a1a1c",
       "version_major": 2,
       "version_minor": 0
      },
      "text/plain": [
       "[pred_fn]:   0%|          | 0/79 [00:00<?, ?it/s]"
      ]
     },
     "metadata": {},
     "output_type": "display_data"
    },
    {
     "data": {
      "application/vnd.jupyter.widget-view+json": {
       "model_id": "feb706e9e5eb4623a5e01182ec72e3b9",
       "version_major": 2,
       "version_minor": 0
      },
      "text/plain": [
       "[pred_fn]:   0%|          | 0/79 [00:00<?, ?it/s]"
      ]
     },
     "metadata": {},
     "output_type": "display_data"
    },
    {
     "data": {
      "application/vnd.jupyter.widget-view+json": {
       "model_id": "d7e332375d4145d588f14bd47075fbaf",
       "version_major": 2,
       "version_minor": 0
      },
      "text/plain": [
       "[pred_fn]:   0%|          | 0/79 [00:00<?, ?it/s]"
      ]
     },
     "metadata": {},
     "output_type": "display_data"
    },
    {
     "data": {
      "application/vnd.jupyter.widget-view+json": {
       "model_id": "208931a899284e92865951414b951cc6",
       "version_major": 2,
       "version_minor": 0
      },
      "text/plain": [
       "[pred_fn]:   0%|          | 0/79 [00:00<?, ?it/s]"
      ]
     },
     "metadata": {},
     "output_type": "display_data"
    },
    {
     "data": {
      "application/vnd.jupyter.widget-view+json": {
       "model_id": "2d534174fbcf488fab9ff4559f6a388a",
       "version_major": 2,
       "version_minor": 0
      },
      "text/plain": [
       "[pred_fn]:   0%|          | 0/79 [00:00<?, ?it/s]"
      ]
     },
     "metadata": {},
     "output_type": "display_data"
    },
    {
     "data": {
      "application/vnd.jupyter.widget-view+json": {
       "model_id": "1d8fd864fa3546b882b2a3d092b19157",
       "version_major": 2,
       "version_minor": 0
      },
      "text/plain": [
       "[pred_fn]:   0%|          | 0/79 [00:00<?, ?it/s]"
      ]
     },
     "metadata": {},
     "output_type": "display_data"
    },
    {
     "data": {
      "application/vnd.jupyter.widget-view+json": {
       "model_id": "ce9c84f077714377888c447f7fe685f0",
       "version_major": 2,
       "version_minor": 0
      },
      "text/plain": [
       "[pred_fn]:   0%|          | 0/79 [00:00<?, ?it/s]"
      ]
     },
     "metadata": {},
     "output_type": "display_data"
    },
    {
     "data": {
      "application/vnd.jupyter.widget-view+json": {
       "model_id": "11e3c2d07bcd4bf18fd0df6dd04f202d",
       "version_major": 2,
       "version_minor": 0
      },
      "text/plain": [
       "[pred_fn]:   0%|          | 0/79 [00:00<?, ?it/s]"
      ]
     },
     "metadata": {},
     "output_type": "display_data"
    },
    {
     "data": {
      "application/vnd.jupyter.widget-view+json": {
       "model_id": "49cfe6ce24d24185b3041fb18ba008ea",
       "version_major": 2,
       "version_minor": 0
      },
      "text/plain": [
       "[pred_fn]:   0%|          | 0/79 [00:00<?, ?it/s]"
      ]
     },
     "metadata": {},
     "output_type": "display_data"
    },
    {
     "data": {
      "application/vnd.jupyter.widget-view+json": {
       "model_id": "ea5fc145140c4c2787a31d117750f86f",
       "version_major": 2,
       "version_minor": 0
      },
      "text/plain": [
       "[pred_fn]:   0%|          | 0/79 [00:00<?, ?it/s]"
      ]
     },
     "metadata": {},
     "output_type": "display_data"
    },
    {
     "data": {
      "application/vnd.jupyter.widget-view+json": {
       "model_id": "f9776e18896a48b2bb6eec67f42dbb9b",
       "version_major": 2,
       "version_minor": 0
      },
      "text/plain": [
       "[pred_fn]:   0%|          | 0/79 [00:00<?, ?it/s]"
      ]
     },
     "metadata": {},
     "output_type": "display_data"
    },
    {
     "data": {
      "application/vnd.jupyter.widget-view+json": {
       "model_id": "7f6c6d5a839041189b754b5b0e450207",
       "version_major": 2,
       "version_minor": 0
      },
      "text/plain": [
       "[pred_fn]:   0%|          | 0/79 [00:00<?, ?it/s]"
      ]
     },
     "metadata": {},
     "output_type": "display_data"
    },
    {
     "data": {
      "application/vnd.jupyter.widget-view+json": {
       "model_id": "01b4a76e85304a14b689010bbf04efe9",
       "version_major": 2,
       "version_minor": 0
      },
      "text/plain": [
       "[pred_fn]:   0%|          | 0/79 [00:00<?, ?it/s]"
      ]
     },
     "metadata": {},
     "output_type": "display_data"
    },
    {
     "data": {
      "application/vnd.jupyter.widget-view+json": {
       "model_id": "c0473d09e16b438ca9680546160d360b",
       "version_major": 2,
       "version_minor": 0
      },
      "text/plain": [
       "[pred_fn]:   0%|          | 0/79 [00:00<?, ?it/s]"
      ]
     },
     "metadata": {},
     "output_type": "display_data"
    },
    {
     "data": {
      "application/vnd.jupyter.widget-view+json": {
       "model_id": "fff1e62768184461b8171055b2fafdab",
       "version_major": 2,
       "version_minor": 0
      },
      "text/plain": [
       "[pred_fn]:   0%|          | 0/79 [00:00<?, ?it/s]"
      ]
     },
     "metadata": {},
     "output_type": "display_data"
    },
    {
     "data": {
      "application/vnd.jupyter.widget-view+json": {
       "model_id": "36e44f6c37e1435bbb8b297ed589d6dd",
       "version_major": 2,
       "version_minor": 0
      },
      "text/plain": [
       "[pred_fn]:   0%|          | 0/79 [00:00<?, ?it/s]"
      ]
     },
     "metadata": {},
     "output_type": "display_data"
    },
    {
     "data": {
      "application/vnd.jupyter.widget-view+json": {
       "model_id": "5684c60f0aee434abef06e6107418095",
       "version_major": 2,
       "version_minor": 0
      },
      "text/plain": [
       "[pred_fn]:   0%|          | 0/79 [00:00<?, ?it/s]"
      ]
     },
     "metadata": {},
     "output_type": "display_data"
    },
    {
     "data": {
      "application/vnd.jupyter.widget-view+json": {
       "model_id": "4103c3165b0c4e06bd85496fdb21a4b9",
       "version_major": 2,
       "version_minor": 0
      },
      "text/plain": [
       "[pred_fn]:   0%|          | 0/79 [00:00<?, ?it/s]"
      ]
     },
     "metadata": {},
     "output_type": "display_data"
    },
    {
     "data": {
      "application/vnd.jupyter.widget-view+json": {
       "model_id": "bf1578de08be4ce6a1699faf47c7ad3b",
       "version_major": 2,
       "version_minor": 0
      },
      "text/plain": [
       "[pred_fn]:   0%|          | 0/79 [00:00<?, ?it/s]"
      ]
     },
     "metadata": {},
     "output_type": "display_data"
    },
    {
     "data": {
      "application/vnd.jupyter.widget-view+json": {
       "model_id": "47428a55413e45bc9c51d536d41b3164",
       "version_major": 2,
       "version_minor": 0
      },
      "text/plain": [
       "[pred_fn]:   0%|          | 0/79 [00:00<?, ?it/s]"
      ]
     },
     "metadata": {},
     "output_type": "display_data"
    },
    {
     "data": {
      "application/vnd.jupyter.widget-view+json": {
       "model_id": "14860dbede7442a1a5a42a57db7fda61",
       "version_major": 2,
       "version_minor": 0
      },
      "text/plain": [
       "[pred_fn]:   0%|          | 0/79 [00:00<?, ?it/s]"
      ]
     },
     "metadata": {},
     "output_type": "display_data"
    },
    {
     "data": {
      "application/vnd.jupyter.widget-view+json": {
       "model_id": "95a4a72946e84dcb8ae21475a2835a0c",
       "version_major": 2,
       "version_minor": 0
      },
      "text/plain": [
       "[pred_fn]:   0%|          | 0/79 [00:00<?, ?it/s]"
      ]
     },
     "metadata": {},
     "output_type": "display_data"
    },
    {
     "data": {
      "application/vnd.jupyter.widget-view+json": {
       "model_id": "a49fa896214049a8be9599e6549ca761",
       "version_major": 2,
       "version_minor": 0
      },
      "text/plain": [
       "[pred_fn]:   0%|          | 0/79 [00:00<?, ?it/s]"
      ]
     },
     "metadata": {},
     "output_type": "display_data"
    },
    {
     "data": {
      "application/vnd.jupyter.widget-view+json": {
       "model_id": "6ce4fada59074849a9d6fa99f9c10665",
       "version_major": 2,
       "version_minor": 0
      },
      "text/plain": [
       "[pred_fn]:   0%|          | 0/79 [00:00<?, ?it/s]"
      ]
     },
     "metadata": {},
     "output_type": "display_data"
    },
    {
     "data": {
      "application/vnd.jupyter.widget-view+json": {
       "model_id": "7be704c81aff4a4aa9aabb4d1c51ff3c",
       "version_major": 2,
       "version_minor": 0
      },
      "text/plain": [
       "[pred_fn]:   0%|          | 0/79 [00:00<?, ?it/s]"
      ]
     },
     "metadata": {},
     "output_type": "display_data"
    },
    {
     "data": {
      "application/vnd.jupyter.widget-view+json": {
       "model_id": "a80a9829dc954065a1b19d1d48dc155b",
       "version_major": 2,
       "version_minor": 0
      },
      "text/plain": [
       "[pred_fn]:   0%|          | 0/79 [00:00<?, ?it/s]"
      ]
     },
     "metadata": {},
     "output_type": "display_data"
    },
    {
     "data": {
      "application/vnd.jupyter.widget-view+json": {
       "model_id": "974cc9f890604a6ba5d48d3621ef5f28",
       "version_major": 2,
       "version_minor": 0
      },
      "text/plain": [
       "[pred_fn]:   0%|          | 0/79 [00:00<?, ?it/s]"
      ]
     },
     "metadata": {},
     "output_type": "display_data"
    },
    {
     "data": {
      "application/vnd.jupyter.widget-view+json": {
       "model_id": "217c633756e848d9be672ece57d52680",
       "version_major": 2,
       "version_minor": 0
      },
      "text/plain": [
       "[pred_fn]:   0%|          | 0/79 [00:00<?, ?it/s]"
      ]
     },
     "metadata": {},
     "output_type": "display_data"
    },
    {
     "data": {
      "application/vnd.jupyter.widget-view+json": {
       "model_id": "0614957ca1124266b877ea2335eb2854",
       "version_major": 2,
       "version_minor": 0
      },
      "text/plain": [
       "[pred_fn]:   0%|          | 0/79 [00:00<?, ?it/s]"
      ]
     },
     "metadata": {},
     "output_type": "display_data"
    },
    {
     "data": {
      "application/vnd.jupyter.widget-view+json": {
       "model_id": "312a8c657aea45aaae093edd67e85f5a",
       "version_major": 2,
       "version_minor": 0
      },
      "text/plain": [
       "[pred_fn]:   0%|          | 0/79 [00:00<?, ?it/s]"
      ]
     },
     "metadata": {},
     "output_type": "display_data"
    },
    {
     "data": {
      "application/vnd.jupyter.widget-view+json": {
       "model_id": "9978ccd73ecd4f698a33702465ecb181",
       "version_major": 2,
       "version_minor": 0
      },
      "text/plain": [
       "[pred_fn]:   0%|          | 0/79 [00:00<?, ?it/s]"
      ]
     },
     "metadata": {},
     "output_type": "display_data"
    },
    {
     "data": {
      "application/vnd.jupyter.widget-view+json": {
       "model_id": "6757da4e47a14706ad2b1f1875e53e48",
       "version_major": 2,
       "version_minor": 0
      },
      "text/plain": [
       "[pred_fn]:   0%|          | 0/79 [00:00<?, ?it/s]"
      ]
     },
     "metadata": {},
     "output_type": "display_data"
    },
    {
     "data": {
      "application/vnd.jupyter.widget-view+json": {
       "model_id": "59c8136caa214cb3b0fb3bb6e6d652cb",
       "version_major": 2,
       "version_minor": 0
      },
      "text/plain": [
       "[pred_fn]:   0%|          | 0/79 [00:00<?, ?it/s]"
      ]
     },
     "metadata": {},
     "output_type": "display_data"
    },
    {
     "data": {
      "application/vnd.jupyter.widget-view+json": {
       "model_id": "d48c3383b00440f0ae858ed6d41171a9",
       "version_major": 2,
       "version_minor": 0
      },
      "text/plain": [
       "[pred_fn]:   0%|          | 0/79 [00:00<?, ?it/s]"
      ]
     },
     "metadata": {},
     "output_type": "display_data"
    },
    {
     "data": {
      "application/vnd.jupyter.widget-view+json": {
       "model_id": "73d162af1ae842b9855dc5f08c214d26",
       "version_major": 2,
       "version_minor": 0
      },
      "text/plain": [
       "[pred_fn]:   0%|          | 0/79 [00:00<?, ?it/s]"
      ]
     },
     "metadata": {},
     "output_type": "display_data"
    },
    {
     "data": {
      "application/vnd.jupyter.widget-view+json": {
       "model_id": "196069c3f0ab4f5a89e8e80fc80cd532",
       "version_major": 2,
       "version_minor": 0
      },
      "text/plain": [
       "[pred_fn]:   0%|          | 0/79 [00:00<?, ?it/s]"
      ]
     },
     "metadata": {},
     "output_type": "display_data"
    },
    {
     "data": {
      "application/vnd.jupyter.widget-view+json": {
       "model_id": "62e6735fe63a478aaceba16c2621b83a",
       "version_major": 2,
       "version_minor": 0
      },
      "text/plain": [
       "[pred_fn]:   0%|          | 0/79 [00:00<?, ?it/s]"
      ]
     },
     "metadata": {},
     "output_type": "display_data"
    },
    {
     "data": {
      "application/vnd.jupyter.widget-view+json": {
       "model_id": "bf24bd0ab7eb441d9c41b6bfb797d922",
       "version_major": 2,
       "version_minor": 0
      },
      "text/plain": [
       "[pred_fn]:   0%|          | 0/79 [00:00<?, ?it/s]"
      ]
     },
     "metadata": {},
     "output_type": "display_data"
    },
    {
     "data": {
      "application/vnd.jupyter.widget-view+json": {
       "model_id": "30f13609303a4068be473ebb6b6e82b4",
       "version_major": 2,
       "version_minor": 0
      },
      "text/plain": [
       "[pred_fn]:   0%|          | 0/79 [00:00<?, ?it/s]"
      ]
     },
     "metadata": {},
     "output_type": "display_data"
    },
    {
     "data": {
      "application/vnd.jupyter.widget-view+json": {
       "model_id": "7312ea6d0ad945bfa6e7c6b64d71051f",
       "version_major": 2,
       "version_minor": 0
      },
      "text/plain": [
       "[pred_fn]:   0%|          | 0/79 [00:00<?, ?it/s]"
      ]
     },
     "metadata": {},
     "output_type": "display_data"
    },
    {
     "data": {
      "application/vnd.jupyter.widget-view+json": {
       "model_id": "ee8cde0124144a05b3a36f3093a5c1c7",
       "version_major": 2,
       "version_minor": 0
      },
      "text/plain": [
       "[pred_fn]:   0%|          | 0/79 [00:00<?, ?it/s]"
      ]
     },
     "metadata": {},
     "output_type": "display_data"
    },
    {
     "data": {
      "application/vnd.jupyter.widget-view+json": {
       "model_id": "e4f193c2fd194214b0c2dc2014be84dd",
       "version_major": 2,
       "version_minor": 0
      },
      "text/plain": [
       "[pred_fn]:   0%|          | 0/79 [00:00<?, ?it/s]"
      ]
     },
     "metadata": {},
     "output_type": "display_data"
    },
    {
     "data": {
      "application/vnd.jupyter.widget-view+json": {
       "model_id": "bd179137c91046b3ad687a6421d151c2",
       "version_major": 2,
       "version_minor": 0
      },
      "text/plain": [
       "[pred_fn]:   0%|          | 0/79 [00:00<?, ?it/s]"
      ]
     },
     "metadata": {},
     "output_type": "display_data"
    },
    {
     "data": {
      "application/vnd.jupyter.widget-view+json": {
       "model_id": "f74960d984d64ba08de1e5afd39ddcf1",
       "version_major": 2,
       "version_minor": 0
      },
      "text/plain": [
       "[pred_fn]:   0%|          | 0/79 [00:00<?, ?it/s]"
      ]
     },
     "metadata": {},
     "output_type": "display_data"
    },
    {
     "data": {
      "application/vnd.jupyter.widget-view+json": {
       "model_id": "f1ef88d7ca1e4b5ebc3f84e389108428",
       "version_major": 2,
       "version_minor": 0
      },
      "text/plain": [
       "[pred_fn]:   0%|          | 0/79 [00:00<?, ?it/s]"
      ]
     },
     "metadata": {},
     "output_type": "display_data"
    },
    {
     "data": {
      "application/vnd.jupyter.widget-view+json": {
       "model_id": "f4bd5f71fd8d40cd9ee79b57ddb402ff",
       "version_major": 2,
       "version_minor": 0
      },
      "text/plain": [
       "[pred_fn]:   0%|          | 0/79 [00:00<?, ?it/s]"
      ]
     },
     "metadata": {},
     "output_type": "display_data"
    },
    {
     "data": {
      "application/vnd.jupyter.widget-view+json": {
       "model_id": "7b6d8c0aae9440ff9037f3e5591d5594",
       "version_major": 2,
       "version_minor": 0
      },
      "text/plain": [
       "[pred_fn]:   0%|          | 0/79 [00:00<?, ?it/s]"
      ]
     },
     "metadata": {},
     "output_type": "display_data"
    },
    {
     "data": {
      "application/vnd.jupyter.widget-view+json": {
       "model_id": "21dc12639f7e426993b685f8016a5593",
       "version_major": 2,
       "version_minor": 0
      },
      "text/plain": [
       "[pred_fn]:   0%|          | 0/79 [00:00<?, ?it/s]"
      ]
     },
     "metadata": {},
     "output_type": "display_data"
    },
    {
     "data": {
      "application/vnd.jupyter.widget-view+json": {
       "model_id": "027117a112f644f792a11c84b980b8f0",
       "version_major": 2,
       "version_minor": 0
      },
      "text/plain": [
       "[pred_fn]:   0%|          | 0/79 [00:00<?, ?it/s]"
      ]
     },
     "metadata": {},
     "output_type": "display_data"
    },
    {
     "data": {
      "application/vnd.jupyter.widget-view+json": {
       "model_id": "cc99a472638e47719f7d45b85ead35d4",
       "version_major": 2,
       "version_minor": 0
      },
      "text/plain": [
       "[pred_fn]:   0%|          | 0/79 [00:00<?, ?it/s]"
      ]
     },
     "metadata": {},
     "output_type": "display_data"
    },
    {
     "data": {
      "application/vnd.jupyter.widget-view+json": {
       "model_id": "3e65b961bd0b48ee8316b077c704588a",
       "version_major": 2,
       "version_minor": 0
      },
      "text/plain": [
       "[pred_fn]:   0%|          | 0/79 [00:00<?, ?it/s]"
      ]
     },
     "metadata": {},
     "output_type": "display_data"
    },
    {
     "data": {
      "application/vnd.jupyter.widget-view+json": {
       "model_id": "ed32d9c1af604252be0886b3be790351",
       "version_major": 2,
       "version_minor": 0
      },
      "text/plain": [
       "[pred_fn]:   0%|          | 0/79 [00:00<?, ?it/s]"
      ]
     },
     "metadata": {},
     "output_type": "display_data"
    },
    {
     "data": {
      "application/vnd.jupyter.widget-view+json": {
       "model_id": "ed3b78f269b34973bb703c9e5ba4ea82",
       "version_major": 2,
       "version_minor": 0
      },
      "text/plain": [
       "[pred_fn]:   0%|          | 0/79 [00:00<?, ?it/s]"
      ]
     },
     "metadata": {},
     "output_type": "display_data"
    },
    {
     "data": {
      "application/vnd.jupyter.widget-view+json": {
       "model_id": "7ab7fec6780f4f14b2762dd1905022a6",
       "version_major": 2,
       "version_minor": 0
      },
      "text/plain": [
       "[pred_fn]:   0%|          | 0/79 [00:00<?, ?it/s]"
      ]
     },
     "metadata": {},
     "output_type": "display_data"
    },
    {
     "data": {
      "application/vnd.jupyter.widget-view+json": {
       "model_id": "7436c534184348738b3bde99ce47a2a5",
       "version_major": 2,
       "version_minor": 0
      },
      "text/plain": [
       "[pred_fn]:   0%|          | 0/79 [00:00<?, ?it/s]"
      ]
     },
     "metadata": {},
     "output_type": "display_data"
    },
    {
     "data": {
      "application/vnd.jupyter.widget-view+json": {
       "model_id": "1bb8c69482274b3cabb7c69f2e93f272",
       "version_major": 2,
       "version_minor": 0
      },
      "text/plain": [
       "[pred_fn]:   0%|          | 0/79 [00:00<?, ?it/s]"
      ]
     },
     "metadata": {},
     "output_type": "display_data"
    },
    {
     "data": {
      "application/vnd.jupyter.widget-view+json": {
       "model_id": "68f8a7a046ed432c9132b4060c2eb242",
       "version_major": 2,
       "version_minor": 0
      },
      "text/plain": [
       "[pred_fn]:   0%|          | 0/79 [00:00<?, ?it/s]"
      ]
     },
     "metadata": {},
     "output_type": "display_data"
    },
    {
     "data": {
      "application/vnd.jupyter.widget-view+json": {
       "model_id": "d97d8644283f447aa1eb3c3edb5f0921",
       "version_major": 2,
       "version_minor": 0
      },
      "text/plain": [
       "[pred_fn]:   0%|          | 0/79 [00:00<?, ?it/s]"
      ]
     },
     "metadata": {},
     "output_type": "display_data"
    },
    {
     "data": {
      "application/vnd.jupyter.widget-view+json": {
       "model_id": "1dd9ea0b035d4b00925932dd428de37d",
       "version_major": 2,
       "version_minor": 0
      },
      "text/plain": [
       "[pred_fn]:   0%|          | 0/79 [00:00<?, ?it/s]"
      ]
     },
     "metadata": {},
     "output_type": "display_data"
    },
    {
     "data": {
      "application/vnd.jupyter.widget-view+json": {
       "model_id": "272f7f5f817a4bd39ae9e880588d9cd7",
       "version_major": 2,
       "version_minor": 0
      },
      "text/plain": [
       "[pred_fn]:   0%|          | 0/79 [00:00<?, ?it/s]"
      ]
     },
     "metadata": {},
     "output_type": "display_data"
    },
    {
     "data": {
      "application/vnd.jupyter.widget-view+json": {
       "model_id": "bf9271ae2d3c48e98e196a4e58fe5209",
       "version_major": 2,
       "version_minor": 0
      },
      "text/plain": [
       "[pred_fn]:   0%|          | 0/79 [00:00<?, ?it/s]"
      ]
     },
     "metadata": {},
     "output_type": "display_data"
    },
    {
     "data": {
      "application/vnd.jupyter.widget-view+json": {
       "model_id": "8be5c9bbd9ef4d90bb80104875e1525e",
       "version_major": 2,
       "version_minor": 0
      },
      "text/plain": [
       "[pred_fn]:   0%|          | 0/79 [00:00<?, ?it/s]"
      ]
     },
     "metadata": {},
     "output_type": "display_data"
    },
    {
     "data": {
      "application/vnd.jupyter.widget-view+json": {
       "model_id": "821a26a1ddf04429827cd87dd5b1870d",
       "version_major": 2,
       "version_minor": 0
      },
      "text/plain": [
       "[pred_fn]:   0%|          | 0/79 [00:00<?, ?it/s]"
      ]
     },
     "metadata": {},
     "output_type": "display_data"
    },
    {
     "data": {
      "application/vnd.jupyter.widget-view+json": {
       "model_id": "d2f9a7e89ea94a928bb2c7a386373a23",
       "version_major": 2,
       "version_minor": 0
      },
      "text/plain": [
       "[pred_fn]:   0%|          | 0/79 [00:00<?, ?it/s]"
      ]
     },
     "metadata": {},
     "output_type": "display_data"
    },
    {
     "data": {
      "application/vnd.jupyter.widget-view+json": {
       "model_id": "f47b3e7ed7724cd2a4b4da9901861730",
       "version_major": 2,
       "version_minor": 0
      },
      "text/plain": [
       "[pred_fn]:   0%|          | 0/79 [00:00<?, ?it/s]"
      ]
     },
     "metadata": {},
     "output_type": "display_data"
    },
    {
     "data": {
      "application/vnd.jupyter.widget-view+json": {
       "model_id": "1e5f0a11c6244c0ea271e16fd4907551",
       "version_major": 2,
       "version_minor": 0
      },
      "text/plain": [
       "[pred_fn]:   0%|          | 0/79 [00:00<?, ?it/s]"
      ]
     },
     "metadata": {},
     "output_type": "display_data"
    },
    {
     "data": {
      "application/vnd.jupyter.widget-view+json": {
       "model_id": "c568abec84cb40b993e8a2d5d8e38628",
       "version_major": 2,
       "version_minor": 0
      },
      "text/plain": [
       "[pred_fn]:   0%|          | 0/79 [00:00<?, ?it/s]"
      ]
     },
     "metadata": {},
     "output_type": "display_data"
    },
    {
     "data": {
      "application/vnd.jupyter.widget-view+json": {
       "model_id": "21b9167eb3c742fa98fd3d5b2e9823ce",
       "version_major": 2,
       "version_minor": 0
      },
      "text/plain": [
       "[pred_fn]:   0%|          | 0/79 [00:00<?, ?it/s]"
      ]
     },
     "metadata": {},
     "output_type": "display_data"
    },
    {
     "data": {
      "application/vnd.jupyter.widget-view+json": {
       "model_id": "6eb970df77f749948fabfe711a12ea13",
       "version_major": 2,
       "version_minor": 0
      },
      "text/plain": [
       "[pred_fn]:   0%|          | 0/79 [00:00<?, ?it/s]"
      ]
     },
     "metadata": {},
     "output_type": "display_data"
    },
    {
     "data": {
      "application/vnd.jupyter.widget-view+json": {
       "model_id": "df2111ac8f364366b17f55a599443e1b",
       "version_major": 2,
       "version_minor": 0
      },
      "text/plain": [
       "[pred_fn]:   0%|          | 0/79 [00:00<?, ?it/s]"
      ]
     },
     "metadata": {},
     "output_type": "display_data"
    },
    {
     "data": {
      "application/vnd.jupyter.widget-view+json": {
       "model_id": "dd7cb59487a44a16b5f590184b36f2c2",
       "version_major": 2,
       "version_minor": 0
      },
      "text/plain": [
       "[pred_fn]:   0%|          | 0/79 [00:00<?, ?it/s]"
      ]
     },
     "metadata": {},
     "output_type": "display_data"
    },
    {
     "data": {
      "application/vnd.jupyter.widget-view+json": {
       "model_id": "a7e4bbea3895409a9a61ff9f6ceac821",
       "version_major": 2,
       "version_minor": 0
      },
      "text/plain": [
       "[pred_fn]:   0%|          | 0/79 [00:00<?, ?it/s]"
      ]
     },
     "metadata": {},
     "output_type": "display_data"
    },
    {
     "data": {
      "application/vnd.jupyter.widget-view+json": {
       "model_id": "b9a232b6380347558264b223b7af0850",
       "version_major": 2,
       "version_minor": 0
      },
      "text/plain": [
       "[pred_fn]:   0%|          | 0/79 [00:00<?, ?it/s]"
      ]
     },
     "metadata": {},
     "output_type": "display_data"
    },
    {
     "data": {
      "application/vnd.jupyter.widget-view+json": {
       "model_id": "144ae80398b14fac82da3bd3684444cf",
       "version_major": 2,
       "version_minor": 0
      },
      "text/plain": [
       "[pred_fn]:   0%|          | 0/79 [00:00<?, ?it/s]"
      ]
     },
     "metadata": {},
     "output_type": "display_data"
    },
    {
     "data": {
      "application/vnd.jupyter.widget-view+json": {
       "model_id": "b14fccf5db014b0fb376f8351274239f",
       "version_major": 2,
       "version_minor": 0
      },
      "text/plain": [
       "[pred_fn]:   0%|          | 0/79 [00:00<?, ?it/s]"
      ]
     },
     "metadata": {},
     "output_type": "display_data"
    },
    {
     "data": {
      "application/vnd.jupyter.widget-view+json": {
       "model_id": "2acd22e584eb48d298bac4b8e648fe7b",
       "version_major": 2,
       "version_minor": 0
      },
      "text/plain": [
       "[pred_fn]:   0%|          | 0/79 [00:00<?, ?it/s]"
      ]
     },
     "metadata": {},
     "output_type": "display_data"
    },
    {
     "data": {
      "application/vnd.jupyter.widget-view+json": {
       "model_id": "292b66c72a384a959eb806a812c72974",
       "version_major": 2,
       "version_minor": 0
      },
      "text/plain": [
       "[pred_fn]:   0%|          | 0/79 [00:00<?, ?it/s]"
      ]
     },
     "metadata": {},
     "output_type": "display_data"
    },
    {
     "data": {
      "application/vnd.jupyter.widget-view+json": {
       "model_id": "8cf8940b34434668b067323bd0c7af1a",
       "version_major": 2,
       "version_minor": 0
      },
      "text/plain": [
       "[pred_fn]:   0%|          | 0/79 [00:00<?, ?it/s]"
      ]
     },
     "metadata": {},
     "output_type": "display_data"
    },
    {
     "data": {
      "application/vnd.jupyter.widget-view+json": {
       "model_id": "16aae12275ad41b5974d5c7da6e063dd",
       "version_major": 2,
       "version_minor": 0
      },
      "text/plain": [
       "[pred_fn]:   0%|          | 0/79 [00:00<?, ?it/s]"
      ]
     },
     "metadata": {},
     "output_type": "display_data"
    },
    {
     "data": {
      "application/vnd.jupyter.widget-view+json": {
       "model_id": "a2303c82950f445998701bcc1384c702",
       "version_major": 2,
       "version_minor": 0
      },
      "text/plain": [
       "[pred_fn]:   0%|          | 0/79 [00:00<?, ?it/s]"
      ]
     },
     "metadata": {},
     "output_type": "display_data"
    },
    {
     "data": {
      "application/vnd.jupyter.widget-view+json": {
       "model_id": "645193553ece4fa2a11d6da263a3d1ed",
       "version_major": 2,
       "version_minor": 0
      },
      "text/plain": [
       "[pred_fn]:   0%|          | 0/79 [00:00<?, ?it/s]"
      ]
     },
     "metadata": {},
     "output_type": "display_data"
    },
    {
     "data": {
      "application/vnd.jupyter.widget-view+json": {
       "model_id": "27f97a3884d744a29445dc97f0ff4a7b",
       "version_major": 2,
       "version_minor": 0
      },
      "text/plain": [
       "[pred_fn]:   0%|          | 0/79 [00:00<?, ?it/s]"
      ]
     },
     "metadata": {},
     "output_type": "display_data"
    },
    {
     "data": {
      "application/vnd.jupyter.widget-view+json": {
       "model_id": "b43ccc68a1e94194b738d07a91afec67",
       "version_major": 2,
       "version_minor": 0
      },
      "text/plain": [
       "[pred_fn]:   0%|          | 0/79 [00:00<?, ?it/s]"
      ]
     },
     "metadata": {},
     "output_type": "display_data"
    },
    {
     "data": {
      "application/vnd.jupyter.widget-view+json": {
       "model_id": "b2d4f925474344deb4ceb680e774fc81",
       "version_major": 2,
       "version_minor": 0
      },
      "text/plain": [
       "[pred_fn]:   0%|          | 0/79 [00:00<?, ?it/s]"
      ]
     },
     "metadata": {},
     "output_type": "display_data"
    },
    {
     "data": {
      "application/vnd.jupyter.widget-view+json": {
       "model_id": "6ba7796364da440fa7ecec34f7ea7c30",
       "version_major": 2,
       "version_minor": 0
      },
      "text/plain": [
       "[pred_fn]:   0%|          | 0/79 [00:00<?, ?it/s]"
      ]
     },
     "metadata": {},
     "output_type": "display_data"
    },
    {
     "data": {
      "application/vnd.jupyter.widget-view+json": {
       "model_id": "4bd093a4f1864f499a2e637c352cc4be",
       "version_major": 2,
       "version_minor": 0
      },
      "text/plain": [
       "[pred_fn]:   0%|          | 0/79 [00:00<?, ?it/s]"
      ]
     },
     "metadata": {},
     "output_type": "display_data"
    },
    {
     "data": {
      "application/vnd.jupyter.widget-view+json": {
       "model_id": "d4e504855a954df1ab4f882857b198e8",
       "version_major": 2,
       "version_minor": 0
      },
      "text/plain": [
       "[pred_fn]:   0%|          | 0/79 [00:00<?, ?it/s]"
      ]
     },
     "metadata": {},
     "output_type": "display_data"
    },
    {
     "data": {
      "application/vnd.jupyter.widget-view+json": {
       "model_id": "d8d8c4249c9c4b058ecd4abc2f9951e2",
       "version_major": 2,
       "version_minor": 0
      },
      "text/plain": [
       "[pred_fn]:   0%|          | 0/79 [00:00<?, ?it/s]"
      ]
     },
     "metadata": {},
     "output_type": "display_data"
    },
    {
     "data": {
      "application/vnd.jupyter.widget-view+json": {
       "model_id": "ad76103a12b041d9bea7509a9cb313f1",
       "version_major": 2,
       "version_minor": 0
      },
      "text/plain": [
       "[pred_fn]:   0%|          | 0/79 [00:00<?, ?it/s]"
      ]
     },
     "metadata": {},
     "output_type": "display_data"
    },
    {
     "data": {
      "application/vnd.jupyter.widget-view+json": {
       "model_id": "8f703f6ad05c4ad9b2dbacc98ccdea7f",
       "version_major": 2,
       "version_minor": 0
      },
      "text/plain": [
       "[pred_fn]:   0%|          | 0/79 [00:00<?, ?it/s]"
      ]
     },
     "metadata": {},
     "output_type": "display_data"
    },
    {
     "data": {
      "application/vnd.jupyter.widget-view+json": {
       "model_id": "c5ecc0626dad4ca380bbf96380cf4320",
       "version_major": 2,
       "version_minor": 0
      },
      "text/plain": [
       "[pred_fn]:   0%|          | 0/79 [00:00<?, ?it/s]"
      ]
     },
     "metadata": {},
     "output_type": "display_data"
    },
    {
     "data": {
      "application/vnd.jupyter.widget-view+json": {
       "model_id": "67af5b24efa14d8dac4cb3b29ef203b7",
       "version_major": 2,
       "version_minor": 0
      },
      "text/plain": [
       "[pred_fn]:   0%|          | 0/79 [00:00<?, ?it/s]"
      ]
     },
     "metadata": {},
     "output_type": "display_data"
    },
    {
     "data": {
      "application/vnd.jupyter.widget-view+json": {
       "model_id": "5069caedabfc4ef7be9260c86d4aade9",
       "version_major": 2,
       "version_minor": 0
      },
      "text/plain": [
       "[pred_fn]:   0%|          | 0/79 [00:00<?, ?it/s]"
      ]
     },
     "metadata": {},
     "output_type": "display_data"
    },
    {
     "data": {
      "application/vnd.jupyter.widget-view+json": {
       "model_id": "4464cdf158954fe19a1e2111750e22fe",
       "version_major": 2,
       "version_minor": 0
      },
      "text/plain": [
       "[pred_fn]:   0%|          | 0/79 [00:00<?, ?it/s]"
      ]
     },
     "metadata": {},
     "output_type": "display_data"
    },
    {
     "data": {
      "application/vnd.jupyter.widget-view+json": {
       "model_id": "4cde90adc2ab4e27a736d272b8123cf9",
       "version_major": 2,
       "version_minor": 0
      },
      "text/plain": [
       "[pred_fn]:   0%|          | 0/79 [00:00<?, ?it/s]"
      ]
     },
     "metadata": {},
     "output_type": "display_data"
    },
    {
     "data": {
      "application/vnd.jupyter.widget-view+json": {
       "model_id": "8102b09f02da4397a1b9a771cc49e134",
       "version_major": 2,
       "version_minor": 0
      },
      "text/plain": [
       "[pred_fn]:   0%|          | 0/79 [00:00<?, ?it/s]"
      ]
     },
     "metadata": {},
     "output_type": "display_data"
    },
    {
     "data": {
      "application/vnd.jupyter.widget-view+json": {
       "model_id": "bd898c8d4ad14bbf80b20ddb411cbd75",
       "version_major": 2,
       "version_minor": 0
      },
      "text/plain": [
       "[pred_fn]:   0%|          | 0/79 [00:00<?, ?it/s]"
      ]
     },
     "metadata": {},
     "output_type": "display_data"
    },
    {
     "data": {
      "application/vnd.jupyter.widget-view+json": {
       "model_id": "842ac29fc2544412873dbd4f63ac7e4a",
       "version_major": 2,
       "version_minor": 0
      },
      "text/plain": [
       "[pred_fn]:   0%|          | 0/79 [00:00<?, ?it/s]"
      ]
     },
     "metadata": {},
     "output_type": "display_data"
    },
    {
     "data": {
      "application/vnd.jupyter.widget-view+json": {
       "model_id": "ae755809ac5c4956b683818201b6cc76",
       "version_major": 2,
       "version_minor": 0
      },
      "text/plain": [
       "[pred_fn]:   0%|          | 0/79 [00:00<?, ?it/s]"
      ]
     },
     "metadata": {},
     "output_type": "display_data"
    },
    {
     "data": {
      "application/vnd.jupyter.widget-view+json": {
       "model_id": "6f1b0305d2654f62aa6bb7b653b7d87d",
       "version_major": 2,
       "version_minor": 0
      },
      "text/plain": [
       "[pred_fn]:   0%|          | 0/79 [00:00<?, ?it/s]"
      ]
     },
     "metadata": {},
     "output_type": "display_data"
    },
    {
     "data": {
      "application/vnd.jupyter.widget-view+json": {
       "model_id": "01da6ec6b365455985fc0260f321b388",
       "version_major": 2,
       "version_minor": 0
      },
      "text/plain": [
       "[pred_fn]:   0%|          | 0/79 [00:00<?, ?it/s]"
      ]
     },
     "metadata": {},
     "output_type": "display_data"
    },
    {
     "data": {
      "application/vnd.jupyter.widget-view+json": {
       "model_id": "016cce2c60d94636b597141ed6c3117c",
       "version_major": 2,
       "version_minor": 0
      },
      "text/plain": [
       "[pred_fn]:   0%|          | 0/79 [00:00<?, ?it/s]"
      ]
     },
     "metadata": {},
     "output_type": "display_data"
    },
    {
     "data": {
      "application/vnd.jupyter.widget-view+json": {
       "model_id": "a913a28e06044dd08cf05c32738f5ed0",
       "version_major": 2,
       "version_minor": 0
      },
      "text/plain": [
       "[pred_fn]:   0%|          | 0/79 [00:00<?, ?it/s]"
      ]
     },
     "metadata": {},
     "output_type": "display_data"
    },
    {
     "data": {
      "application/vnd.jupyter.widget-view+json": {
       "model_id": "5cacc93f57894e838a170964d6747341",
       "version_major": 2,
       "version_minor": 0
      },
      "text/plain": [
       "[pred_fn]:   0%|          | 0/79 [00:00<?, ?it/s]"
      ]
     },
     "metadata": {},
     "output_type": "display_data"
    },
    {
     "data": {
      "application/vnd.jupyter.widget-view+json": {
       "model_id": "dd03c5db06ee4e5aabc63a70b2ee7066",
       "version_major": 2,
       "version_minor": 0
      },
      "text/plain": [
       "[pred_fn]:   0%|          | 0/79 [00:00<?, ?it/s]"
      ]
     },
     "metadata": {},
     "output_type": "display_data"
    },
    {
     "data": {
      "application/vnd.jupyter.widget-view+json": {
       "model_id": "ffaf8d8138a045a29b3b0ae127a7d32b",
       "version_major": 2,
       "version_minor": 0
      },
      "text/plain": [
       "[pred_fn]:   0%|          | 0/79 [00:00<?, ?it/s]"
      ]
     },
     "metadata": {},
     "output_type": "display_data"
    },
    {
     "data": {
      "application/vnd.jupyter.widget-view+json": {
       "model_id": "93068b36d2714042944c7fadecec4afa",
       "version_major": 2,
       "version_minor": 0
      },
      "text/plain": [
       "[pred_fn]:   0%|          | 0/79 [00:00<?, ?it/s]"
      ]
     },
     "metadata": {},
     "output_type": "display_data"
    },
    {
     "data": {
      "application/vnd.jupyter.widget-view+json": {
       "model_id": "272a3b11ed0d4225b1dc4a4a49d6f3bf",
       "version_major": 2,
       "version_minor": 0
      },
      "text/plain": [
       "[pred_fn]:   0%|          | 0/79 [00:00<?, ?it/s]"
      ]
     },
     "metadata": {},
     "output_type": "display_data"
    },
    {
     "data": {
      "application/vnd.jupyter.widget-view+json": {
       "model_id": "64878fb008b0455dbbf96d5958b330bf",
       "version_major": 2,
       "version_minor": 0
      },
      "text/plain": [
       "[pred_fn]:   0%|          | 0/79 [00:00<?, ?it/s]"
      ]
     },
     "metadata": {},
     "output_type": "display_data"
    },
    {
     "data": {
      "application/vnd.jupyter.widget-view+json": {
       "model_id": "3b5d8478ccd74135b78477d4f11f8dc0",
       "version_major": 2,
       "version_minor": 0
      },
      "text/plain": [
       "[pred_fn]:   0%|          | 0/79 [00:00<?, ?it/s]"
      ]
     },
     "metadata": {},
     "output_type": "display_data"
    },
    {
     "data": {
      "application/vnd.jupyter.widget-view+json": {
       "model_id": "874f3cbc1a0d4348a71f38cc20e8f48a",
       "version_major": 2,
       "version_minor": 0
      },
      "text/plain": [
       "[pred_fn]:   0%|          | 0/79 [00:00<?, ?it/s]"
      ]
     },
     "metadata": {},
     "output_type": "display_data"
    },
    {
     "data": {
      "application/vnd.jupyter.widget-view+json": {
       "model_id": "91d38931d53348eaaea1ed3a70c3c7fe",
       "version_major": 2,
       "version_minor": 0
      },
      "text/plain": [
       "[pred_fn]:   0%|          | 0/79 [00:00<?, ?it/s]"
      ]
     },
     "metadata": {},
     "output_type": "display_data"
    },
    {
     "data": {
      "application/vnd.jupyter.widget-view+json": {
       "model_id": "d9bf8ae6c69542a39e41e1bb46b42030",
       "version_major": 2,
       "version_minor": 0
      },
      "text/plain": [
       "[pred_fn]:   0%|          | 0/79 [00:00<?, ?it/s]"
      ]
     },
     "metadata": {},
     "output_type": "display_data"
    },
    {
     "data": {
      "application/vnd.jupyter.widget-view+json": {
       "model_id": "36cf6e68d362491ebb23a73e3668000b",
       "version_major": 2,
       "version_minor": 0
      },
      "text/plain": [
       "[pred_fn]:   0%|          | 0/79 [00:00<?, ?it/s]"
      ]
     },
     "metadata": {},
     "output_type": "display_data"
    },
    {
     "data": {
      "application/vnd.jupyter.widget-view+json": {
       "model_id": "4aeac14810d54b28bcdd26f7859f07ff",
       "version_major": 2,
       "version_minor": 0
      },
      "text/plain": [
       "[pred_fn]:   0%|          | 0/79 [00:00<?, ?it/s]"
      ]
     },
     "metadata": {},
     "output_type": "display_data"
    },
    {
     "data": {
      "application/vnd.jupyter.widget-view+json": {
       "model_id": "914670507b9a4756bd861ae9c437dad9",
       "version_major": 2,
       "version_minor": 0
      },
      "text/plain": [
       "[pred_fn]:   0%|          | 0/79 [00:00<?, ?it/s]"
      ]
     },
     "metadata": {},
     "output_type": "display_data"
    },
    {
     "data": {
      "application/vnd.jupyter.widget-view+json": {
       "model_id": "28adfb10878f40069444d7c1d0946e42",
       "version_major": 2,
       "version_minor": 0
      },
      "text/plain": [
       "[pred_fn]:   0%|          | 0/79 [00:00<?, ?it/s]"
      ]
     },
     "metadata": {},
     "output_type": "display_data"
    },
    {
     "data": {
      "application/vnd.jupyter.widget-view+json": {
       "model_id": "acb7b9562da94ecb999fc9fbb7d8a996",
       "version_major": 2,
       "version_minor": 0
      },
      "text/plain": [
       "[pred_fn]:   0%|          | 0/79 [00:00<?, ?it/s]"
      ]
     },
     "metadata": {},
     "output_type": "display_data"
    },
    {
     "data": {
      "application/vnd.jupyter.widget-view+json": {
       "model_id": "a026fa8e223b4d288872c6f253be659e",
       "version_major": 2,
       "version_minor": 0
      },
      "text/plain": [
       "[pred_fn]:   0%|          | 0/79 [00:00<?, ?it/s]"
      ]
     },
     "metadata": {},
     "output_type": "display_data"
    },
    {
     "data": {
      "application/vnd.jupyter.widget-view+json": {
       "model_id": "0549b6c4434f443bb2ff554bc5d5edd8",
       "version_major": 2,
       "version_minor": 0
      },
      "text/plain": [
       "[pred_fn]:   0%|          | 0/79 [00:00<?, ?it/s]"
      ]
     },
     "metadata": {},
     "output_type": "display_data"
    },
    {
     "data": {
      "application/vnd.jupyter.widget-view+json": {
       "model_id": "aced483e0a14407d9cb20c99816125ff",
       "version_major": 2,
       "version_minor": 0
      },
      "text/plain": [
       "[pred_fn]:   0%|          | 0/79 [00:00<?, ?it/s]"
      ]
     },
     "metadata": {},
     "output_type": "display_data"
    },
    {
     "data": {
      "application/vnd.jupyter.widget-view+json": {
       "model_id": "66519be5bd2e43689ab7a28ddb76d1d4",
       "version_major": 2,
       "version_minor": 0
      },
      "text/plain": [
       "[pred_fn]:   0%|          | 0/79 [00:00<?, ?it/s]"
      ]
     },
     "metadata": {},
     "output_type": "display_data"
    },
    {
     "data": {
      "application/vnd.jupyter.widget-view+json": {
       "model_id": "711a16b479e14f1b9fad0e2483f223e3",
       "version_major": 2,
       "version_minor": 0
      },
      "text/plain": [
       "[pred_fn]:   0%|          | 0/79 [00:00<?, ?it/s]"
      ]
     },
     "metadata": {},
     "output_type": "display_data"
    },
    {
     "data": {
      "application/vnd.jupyter.widget-view+json": {
       "model_id": "8f745be395234cabba80f9a4bfddec13",
       "version_major": 2,
       "version_minor": 0
      },
      "text/plain": [
       "[pred_fn]:   0%|          | 0/79 [00:00<?, ?it/s]"
      ]
     },
     "metadata": {},
     "output_type": "display_data"
    },
    {
     "data": {
      "application/vnd.jupyter.widget-view+json": {
       "model_id": "6f149430e7834cc5b892b85eaf972c0e",
       "version_major": 2,
       "version_minor": 0
      },
      "text/plain": [
       "[pred_fn]:   0%|          | 0/79 [00:00<?, ?it/s]"
      ]
     },
     "metadata": {},
     "output_type": "display_data"
    },
    {
     "data": {
      "application/vnd.jupyter.widget-view+json": {
       "model_id": "39c1369200b347cd8fd7560c8f49d460",
       "version_major": 2,
       "version_minor": 0
      },
      "text/plain": [
       "[pred_fn]:   0%|          | 0/79 [00:00<?, ?it/s]"
      ]
     },
     "metadata": {},
     "output_type": "display_data"
    },
    {
     "data": {
      "application/vnd.jupyter.widget-view+json": {
       "model_id": "63f625017b5f40c3b80ad13717d40154",
       "version_major": 2,
       "version_minor": 0
      },
      "text/plain": [
       "[pred_fn]:   0%|          | 0/79 [00:00<?, ?it/s]"
      ]
     },
     "metadata": {},
     "output_type": "display_data"
    },
    {
     "data": {
      "application/vnd.jupyter.widget-view+json": {
       "model_id": "89b78f6cdea94135990411396545733e",
       "version_major": 2,
       "version_minor": 0
      },
      "text/plain": [
       "[pred_fn]:   0%|          | 0/79 [00:00<?, ?it/s]"
      ]
     },
     "metadata": {},
     "output_type": "display_data"
    },
    {
     "data": {
      "application/vnd.jupyter.widget-view+json": {
       "model_id": "0dd0681213bc45609eb89a51a1bc98e0",
       "version_major": 2,
       "version_minor": 0
      },
      "text/plain": [
       "[pred_fn]:   0%|          | 0/79 [00:00<?, ?it/s]"
      ]
     },
     "metadata": {},
     "output_type": "display_data"
    },
    {
     "data": {
      "application/vnd.jupyter.widget-view+json": {
       "model_id": "f7bac535eb5c4d78b03e7eddda785f17",
       "version_major": 2,
       "version_minor": 0
      },
      "text/plain": [
       "[pred_fn]:   0%|          | 0/79 [00:00<?, ?it/s]"
      ]
     },
     "metadata": {},
     "output_type": "display_data"
    },
    {
     "data": {
      "application/vnd.jupyter.widget-view+json": {
       "model_id": "975ef86dada740158748209807516603",
       "version_major": 2,
       "version_minor": 0
      },
      "text/plain": [
       "[pred_fn]:   0%|          | 0/79 [00:00<?, ?it/s]"
      ]
     },
     "metadata": {},
     "output_type": "display_data"
    },
    {
     "data": {
      "application/vnd.jupyter.widget-view+json": {
       "model_id": "31e22f638158401284de3e3c81f297a0",
       "version_major": 2,
       "version_minor": 0
      },
      "text/plain": [
       "[pred_fn]:   0%|          | 0/79 [00:00<?, ?it/s]"
      ]
     },
     "metadata": {},
     "output_type": "display_data"
    },
    {
     "data": {
      "application/vnd.jupyter.widget-view+json": {
       "model_id": "8100af0b98b94120b8225075468c9e46",
       "version_major": 2,
       "version_minor": 0
      },
      "text/plain": [
       "[pred_fn]:   0%|          | 0/79 [00:00<?, ?it/s]"
      ]
     },
     "metadata": {},
     "output_type": "display_data"
    },
    {
     "data": {
      "application/vnd.jupyter.widget-view+json": {
       "model_id": "06e645d627934bb6ae05d1aa5f525297",
       "version_major": 2,
       "version_minor": 0
      },
      "text/plain": [
       "[pred_fn]:   0%|          | 0/79 [00:00<?, ?it/s]"
      ]
     },
     "metadata": {},
     "output_type": "display_data"
    },
    {
     "data": {
      "application/vnd.jupyter.widget-view+json": {
       "model_id": "d4c2d967c9984e60921c520d5c5a2371",
       "version_major": 2,
       "version_minor": 0
      },
      "text/plain": [
       "[pred_fn]:   0%|          | 0/79 [00:00<?, ?it/s]"
      ]
     },
     "metadata": {},
     "output_type": "display_data"
    },
    {
     "data": {
      "application/vnd.jupyter.widget-view+json": {
       "model_id": "4b30a477e9ee4471b5ba5999c18554ec",
       "version_major": 2,
       "version_minor": 0
      },
      "text/plain": [
       "[pred_fn]:   0%|          | 0/79 [00:00<?, ?it/s]"
      ]
     },
     "metadata": {},
     "output_type": "display_data"
    },
    {
     "data": {
      "application/vnd.jupyter.widget-view+json": {
       "model_id": "75ae441af0454cfba68e50a8da9827ea",
       "version_major": 2,
       "version_minor": 0
      },
      "text/plain": [
       "[pred_fn]:   0%|          | 0/79 [00:00<?, ?it/s]"
      ]
     },
     "metadata": {},
     "output_type": "display_data"
    },
    {
     "data": {
      "application/vnd.jupyter.widget-view+json": {
       "model_id": "2075f8d1cc2841eb85ef25f57bfdbe50",
       "version_major": 2,
       "version_minor": 0
      },
      "text/plain": [
       "[pred_fn]:   0%|          | 0/79 [00:00<?, ?it/s]"
      ]
     },
     "metadata": {},
     "output_type": "display_data"
    },
    {
     "data": {
      "application/vnd.jupyter.widget-view+json": {
       "model_id": "71f12ba7a6704608832b361e677097ff",
       "version_major": 2,
       "version_minor": 0
      },
      "text/plain": [
       "[pred_fn]:   0%|          | 0/79 [00:00<?, ?it/s]"
      ]
     },
     "metadata": {},
     "output_type": "display_data"
    },
    {
     "data": {
      "application/vnd.jupyter.widget-view+json": {
       "model_id": "4bbaba2a1d0a45ad834625d0747d55cb",
       "version_major": 2,
       "version_minor": 0
      },
      "text/plain": [
       "[pred_fn]:   0%|          | 0/79 [00:00<?, ?it/s]"
      ]
     },
     "metadata": {},
     "output_type": "display_data"
    },
    {
     "data": {
      "application/vnd.jupyter.widget-view+json": {
       "model_id": "5b8b07c30f7343b9add72ed5f5b2489b",
       "version_major": 2,
       "version_minor": 0
      },
      "text/plain": [
       "[pred_fn]:   0%|          | 0/79 [00:00<?, ?it/s]"
      ]
     },
     "metadata": {},
     "output_type": "display_data"
    },
    {
     "data": {
      "application/vnd.jupyter.widget-view+json": {
       "model_id": "7e12bb6acdc642328dc49f34090e5284",
       "version_major": 2,
       "version_minor": 0
      },
      "text/plain": [
       "[pred_fn]:   0%|          | 0/79 [00:00<?, ?it/s]"
      ]
     },
     "metadata": {},
     "output_type": "display_data"
    },
    {
     "data": {
      "application/vnd.jupyter.widget-view+json": {
       "model_id": "06e4da64b8404be999e769804853d555",
       "version_major": 2,
       "version_minor": 0
      },
      "text/plain": [
       "[pred_fn]:   0%|          | 0/79 [00:00<?, ?it/s]"
      ]
     },
     "metadata": {},
     "output_type": "display_data"
    },
    {
     "data": {
      "application/vnd.jupyter.widget-view+json": {
       "model_id": "918e26d77c5c49ebaf54e7d6de0e21d5",
       "version_major": 2,
       "version_minor": 0
      },
      "text/plain": [
       "[pred_fn]:   0%|          | 0/79 [00:00<?, ?it/s]"
      ]
     },
     "metadata": {},
     "output_type": "display_data"
    },
    {
     "data": {
      "application/vnd.jupyter.widget-view+json": {
       "model_id": "8d98b89782fe4cb0bb990bb72e6ba0be",
       "version_major": 2,
       "version_minor": 0
      },
      "text/plain": [
       "[pred_fn]:   0%|          | 0/79 [00:00<?, ?it/s]"
      ]
     },
     "metadata": {},
     "output_type": "display_data"
    },
    {
     "data": {
      "application/vnd.jupyter.widget-view+json": {
       "model_id": "ea8f11989f5f42c7bdc469adea4f60fb",
       "version_major": 2,
       "version_minor": 0
      },
      "text/plain": [
       "[pred_fn]:   0%|          | 0/79 [00:00<?, ?it/s]"
      ]
     },
     "metadata": {},
     "output_type": "display_data"
    },
    {
     "data": {
      "application/vnd.jupyter.widget-view+json": {
       "model_id": "bf540eea52b9463895120171adb73e35",
       "version_major": 2,
       "version_minor": 0
      },
      "text/plain": [
       "[pred_fn]:   0%|          | 0/79 [00:00<?, ?it/s]"
      ]
     },
     "metadata": {},
     "output_type": "display_data"
    },
    {
     "data": {
      "application/vnd.jupyter.widget-view+json": {
       "model_id": "b25c3a848a2244328b0959d5a248e08f",
       "version_major": 2,
       "version_minor": 0
      },
      "text/plain": [
       "[pred_fn]:   0%|          | 0/79 [00:00<?, ?it/s]"
      ]
     },
     "metadata": {},
     "output_type": "display_data"
    },
    {
     "data": {
      "application/vnd.jupyter.widget-view+json": {
       "model_id": "bd31bf1430b4461a8308b95cc56a7838",
       "version_major": 2,
       "version_minor": 0
      },
      "text/plain": [
       "[pred_fn]:   0%|          | 0/79 [00:00<?, ?it/s]"
      ]
     },
     "metadata": {},
     "output_type": "display_data"
    },
    {
     "data": {
      "application/vnd.jupyter.widget-view+json": {
       "model_id": "994b965cb11e45deaa1849e3647c4564",
       "version_major": 2,
       "version_minor": 0
      },
      "text/plain": [
       "[pred_fn]:   0%|          | 0/79 [00:00<?, ?it/s]"
      ]
     },
     "metadata": {},
     "output_type": "display_data"
    },
    {
     "data": {
      "application/vnd.jupyter.widget-view+json": {
       "model_id": "a62e041ef9a24a9683f2ef53a445c4ea",
       "version_major": 2,
       "version_minor": 0
      },
      "text/plain": [
       "[pred_fn]:   0%|          | 0/79 [00:00<?, ?it/s]"
      ]
     },
     "metadata": {},
     "output_type": "display_data"
    },
    {
     "data": {
      "application/vnd.jupyter.widget-view+json": {
       "model_id": "cc07354ae36449d0b05482af9585e4fc",
       "version_major": 2,
       "version_minor": 0
      },
      "text/plain": [
       "[pred_fn]:   0%|          | 0/79 [00:00<?, ?it/s]"
      ]
     },
     "metadata": {},
     "output_type": "display_data"
    },
    {
     "data": {
      "application/vnd.jupyter.widget-view+json": {
       "model_id": "38f91e1a7f1f43cd838049b1fe10b4c6",
       "version_major": 2,
       "version_minor": 0
      },
      "text/plain": [
       "[pred_fn]:   0%|          | 0/79 [00:00<?, ?it/s]"
      ]
     },
     "metadata": {},
     "output_type": "display_data"
    },
    {
     "data": {
      "application/vnd.jupyter.widget-view+json": {
       "model_id": "d6b4101b6a4e40f69c3990b0e4992f0f",
       "version_major": 2,
       "version_minor": 0
      },
      "text/plain": [
       "[pred_fn]:   0%|          | 0/79 [00:00<?, ?it/s]"
      ]
     },
     "metadata": {},
     "output_type": "display_data"
    },
    {
     "data": {
      "application/vnd.jupyter.widget-view+json": {
       "model_id": "ab8f5aa6d84740c19f4b953f6005fa15",
       "version_major": 2,
       "version_minor": 0
      },
      "text/plain": [
       "[pred_fn]:   0%|          | 0/79 [00:00<?, ?it/s]"
      ]
     },
     "metadata": {},
     "output_type": "display_data"
    },
    {
     "data": {
      "application/vnd.jupyter.widget-view+json": {
       "model_id": "bc8c26ae50cd4e90817e018800aa58d2",
       "version_major": 2,
       "version_minor": 0
      },
      "text/plain": [
       "[pred_fn]:   0%|          | 0/79 [00:00<?, ?it/s]"
      ]
     },
     "metadata": {},
     "output_type": "display_data"
    },
    {
     "data": {
      "application/vnd.jupyter.widget-view+json": {
       "model_id": "f0408d5d0af14dcbbd085d7d905cfbca",
       "version_major": 2,
       "version_minor": 0
      },
      "text/plain": [
       "[pred_fn]:   0%|          | 0/79 [00:00<?, ?it/s]"
      ]
     },
     "metadata": {},
     "output_type": "display_data"
    },
    {
     "data": {
      "application/vnd.jupyter.widget-view+json": {
       "model_id": "577f6b8b30524704adfc3557bab512c6",
       "version_major": 2,
       "version_minor": 0
      },
      "text/plain": [
       "[pred_fn]:   0%|          | 0/79 [00:00<?, ?it/s]"
      ]
     },
     "metadata": {},
     "output_type": "display_data"
    },
    {
     "data": {
      "application/vnd.jupyter.widget-view+json": {
       "model_id": "4ac8ef35a42b4553a8b9c064310e3f95",
       "version_major": 2,
       "version_minor": 0
      },
      "text/plain": [
       "[pred_fn]:   0%|          | 0/79 [00:00<?, ?it/s]"
      ]
     },
     "metadata": {},
     "output_type": "display_data"
    },
    {
     "data": {
      "application/vnd.jupyter.widget-view+json": {
       "model_id": "9e2fb33e87a344288cdb6892e49e6380",
       "version_major": 2,
       "version_minor": 0
      },
      "text/plain": [
       "[pred_fn]:   0%|          | 0/79 [00:00<?, ?it/s]"
      ]
     },
     "metadata": {},
     "output_type": "display_data"
    },
    {
     "data": {
      "application/vnd.jupyter.widget-view+json": {
       "model_id": "6722b4b0b8554297996d275604cd4208",
       "version_major": 2,
       "version_minor": 0
      },
      "text/plain": [
       "[pred_fn]:   0%|          | 0/79 [00:00<?, ?it/s]"
      ]
     },
     "metadata": {},
     "output_type": "display_data"
    },
    {
     "data": {
      "application/vnd.jupyter.widget-view+json": {
       "model_id": "5440cd953e8f46358eb4f60692bcb4c0",
       "version_major": 2,
       "version_minor": 0
      },
      "text/plain": [
       "[pred_fn]:   0%|          | 0/79 [00:00<?, ?it/s]"
      ]
     },
     "metadata": {},
     "output_type": "display_data"
    },
    {
     "data": {
      "application/vnd.jupyter.widget-view+json": {
       "model_id": "0d9bd525a45d4ff2982ccd722127f5dc",
       "version_major": 2,
       "version_minor": 0
      },
      "text/plain": [
       "[pred_fn]:   0%|          | 0/79 [00:00<?, ?it/s]"
      ]
     },
     "metadata": {},
     "output_type": "display_data"
    },
    {
     "data": {
      "application/vnd.jupyter.widget-view+json": {
       "model_id": "245798695d424f7e94eed6b12110f2d3",
       "version_major": 2,
       "version_minor": 0
      },
      "text/plain": [
       "[pred_fn]:   0%|          | 0/79 [00:00<?, ?it/s]"
      ]
     },
     "metadata": {},
     "output_type": "display_data"
    },
    {
     "data": {
      "application/vnd.jupyter.widget-view+json": {
       "model_id": "9869e00980724c1bbc5cfcb777b102b6",
       "version_major": 2,
       "version_minor": 0
      },
      "text/plain": [
       "[pred_fn]:   0%|          | 0/79 [00:00<?, ?it/s]"
      ]
     },
     "metadata": {},
     "output_type": "display_data"
    },
    {
     "data": {
      "application/vnd.jupyter.widget-view+json": {
       "model_id": "e5c9c9c73ac54722a0e5c3e1f4e87271",
       "version_major": 2,
       "version_minor": 0
      },
      "text/plain": [
       "[pred_fn]:   0%|          | 0/79 [00:00<?, ?it/s]"
      ]
     },
     "metadata": {},
     "output_type": "display_data"
    },
    {
     "data": {
      "application/vnd.jupyter.widget-view+json": {
       "model_id": "950d71daef3348a684a4a50c46d67b72",
       "version_major": 2,
       "version_minor": 0
      },
      "text/plain": [
       "[pred_fn]:   0%|          | 0/79 [00:00<?, ?it/s]"
      ]
     },
     "metadata": {},
     "output_type": "display_data"
    },
    {
     "data": {
      "application/vnd.jupyter.widget-view+json": {
       "model_id": "dd469917ab89432fb2525c7a91f60e65",
       "version_major": 2,
       "version_minor": 0
      },
      "text/plain": [
       "[pred_fn]:   0%|          | 0/79 [00:00<?, ?it/s]"
      ]
     },
     "metadata": {},
     "output_type": "display_data"
    },
    {
     "data": {
      "application/vnd.jupyter.widget-view+json": {
       "model_id": "c049387be0d840b3969974771c663861",
       "version_major": 2,
       "version_minor": 0
      },
      "text/plain": [
       "[pred_fn]:   0%|          | 0/79 [00:00<?, ?it/s]"
      ]
     },
     "metadata": {},
     "output_type": "display_data"
    },
    {
     "data": {
      "application/vnd.jupyter.widget-view+json": {
       "model_id": "7e6d24227cb04e16ad964f562f1dabee",
       "version_major": 2,
       "version_minor": 0
      },
      "text/plain": [
       "[pred_fn]:   0%|          | 0/79 [00:00<?, ?it/s]"
      ]
     },
     "metadata": {},
     "output_type": "display_data"
    },
    {
     "data": {
      "application/vnd.jupyter.widget-view+json": {
       "model_id": "403f273465f346e782c9ad3c20cf18e0",
       "version_major": 2,
       "version_minor": 0
      },
      "text/plain": [
       "[pred_fn]:   0%|          | 0/79 [00:00<?, ?it/s]"
      ]
     },
     "metadata": {},
     "output_type": "display_data"
    },
    {
     "data": {
      "application/vnd.jupyter.widget-view+json": {
       "model_id": "3d00921fc37a41299f0df48ffab3bbe3",
       "version_major": 2,
       "version_minor": 0
      },
      "text/plain": [
       "[pred_fn]:   0%|          | 0/79 [00:00<?, ?it/s]"
      ]
     },
     "metadata": {},
     "output_type": "display_data"
    },
    {
     "data": {
      "application/vnd.jupyter.widget-view+json": {
       "model_id": "90fe24a323ee47a499f9483348fe8928",
       "version_major": 2,
       "version_minor": 0
      },
      "text/plain": [
       "[pred_fn]:   0%|          | 0/79 [00:00<?, ?it/s]"
      ]
     },
     "metadata": {},
     "output_type": "display_data"
    },
    {
     "data": {
      "application/vnd.jupyter.widget-view+json": {
       "model_id": "84e31605a3bc4efd9936a3c91741da58",
       "version_major": 2,
       "version_minor": 0
      },
      "text/plain": [
       "[pred_fn]:   0%|          | 0/79 [00:00<?, ?it/s]"
      ]
     },
     "metadata": {},
     "output_type": "display_data"
    },
    {
     "data": {
      "application/vnd.jupyter.widget-view+json": {
       "model_id": "7a7c010da7b144f3bb6a8861f546a93d",
       "version_major": 2,
       "version_minor": 0
      },
      "text/plain": [
       "[pred_fn]:   0%|          | 0/79 [00:00<?, ?it/s]"
      ]
     },
     "metadata": {},
     "output_type": "display_data"
    },
    {
     "data": {
      "application/vnd.jupyter.widget-view+json": {
       "model_id": "a79b690ae51f4caf86454624832faec9",
       "version_major": 2,
       "version_minor": 0
      },
      "text/plain": [
       "[pred_fn]:   0%|          | 0/79 [00:00<?, ?it/s]"
      ]
     },
     "metadata": {},
     "output_type": "display_data"
    },
    {
     "data": {
      "application/vnd.jupyter.widget-view+json": {
       "model_id": "df5b6ac66b3349daa024c2ddb791ea55",
       "version_major": 2,
       "version_minor": 0
      },
      "text/plain": [
       "[pred_fn]:   0%|          | 0/79 [00:00<?, ?it/s]"
      ]
     },
     "metadata": {},
     "output_type": "display_data"
    },
    {
     "data": {
      "application/vnd.jupyter.widget-view+json": {
       "model_id": "5a5fbb8d46ec460f9fbeb56c46498227",
       "version_major": 2,
       "version_minor": 0
      },
      "text/plain": [
       "[pred_fn]:   0%|          | 0/79 [00:00<?, ?it/s]"
      ]
     },
     "metadata": {},
     "output_type": "display_data"
    },
    {
     "data": {
      "application/vnd.jupyter.widget-view+json": {
       "model_id": "0217f85f221f4c4eaa107e1a25555e0f",
       "version_major": 2,
       "version_minor": 0
      },
      "text/plain": [
       "[pred_fn]:   0%|          | 0/79 [00:00<?, ?it/s]"
      ]
     },
     "metadata": {},
     "output_type": "display_data"
    },
    {
     "data": {
      "application/vnd.jupyter.widget-view+json": {
       "model_id": "cf5ffaec9aae4df78e4ae74d6229b98c",
       "version_major": 2,
       "version_minor": 0
      },
      "text/plain": [
       "[pred_fn]:   0%|          | 0/79 [00:00<?, ?it/s]"
      ]
     },
     "metadata": {},
     "output_type": "display_data"
    },
    {
     "data": {
      "application/vnd.jupyter.widget-view+json": {
       "model_id": "b30b6fd039f24ae2baeab3c599d62fba",
       "version_major": 2,
       "version_minor": 0
      },
      "text/plain": [
       "[pred_fn]:   0%|          | 0/79 [00:00<?, ?it/s]"
      ]
     },
     "metadata": {},
     "output_type": "display_data"
    },
    {
     "data": {
      "application/vnd.jupyter.widget-view+json": {
       "model_id": "2aeb38ad1a1844e4a100414205a22d1d",
       "version_major": 2,
       "version_minor": 0
      },
      "text/plain": [
       "[pred_fn]:   0%|          | 0/79 [00:00<?, ?it/s]"
      ]
     },
     "metadata": {},
     "output_type": "display_data"
    },
    {
     "data": {
      "application/vnd.jupyter.widget-view+json": {
       "model_id": "a03d6cda0d104cf38812397a55316781",
       "version_major": 2,
       "version_minor": 0
      },
      "text/plain": [
       "[pred_fn]:   0%|          | 0/79 [00:00<?, ?it/s]"
      ]
     },
     "metadata": {},
     "output_type": "display_data"
    },
    {
     "data": {
      "application/vnd.jupyter.widget-view+json": {
       "model_id": "1ec605ac5f8e4034905ff170c5ef333c",
       "version_major": 2,
       "version_minor": 0
      },
      "text/plain": [
       "[pred_fn]:   0%|          | 0/79 [00:00<?, ?it/s]"
      ]
     },
     "metadata": {},
     "output_type": "display_data"
    },
    {
     "data": {
      "application/vnd.jupyter.widget-view+json": {
       "model_id": "1b07e3ea41f44ccf8fecdef491886528",
       "version_major": 2,
       "version_minor": 0
      },
      "text/plain": [
       "[pred_fn]:   0%|          | 0/79 [00:00<?, ?it/s]"
      ]
     },
     "metadata": {},
     "output_type": "display_data"
    },
    {
     "data": {
      "application/vnd.jupyter.widget-view+json": {
       "model_id": "bd440e9fea0549f987b6b23568c53bd1",
       "version_major": 2,
       "version_minor": 0
      },
      "text/plain": [
       "[pred_fn]:   0%|          | 0/79 [00:00<?, ?it/s]"
      ]
     },
     "metadata": {},
     "output_type": "display_data"
    },
    {
     "data": {
      "application/vnd.jupyter.widget-view+json": {
       "model_id": "d38e82035258449d8d51acf57752ae99",
       "version_major": 2,
       "version_minor": 0
      },
      "text/plain": [
       "[pred_fn]:   0%|          | 0/79 [00:00<?, ?it/s]"
      ]
     },
     "metadata": {},
     "output_type": "display_data"
    },
    {
     "data": {
      "application/vnd.jupyter.widget-view+json": {
       "model_id": "d20393fc06494cb98f39c4f0f01022c6",
       "version_major": 2,
       "version_minor": 0
      },
      "text/plain": [
       "[pred_fn]:   0%|          | 0/79 [00:00<?, ?it/s]"
      ]
     },
     "metadata": {},
     "output_type": "display_data"
    },
    {
     "data": {
      "application/vnd.jupyter.widget-view+json": {
       "model_id": "6f058e20ad4f4934bc71a9ff0b51b5e9",
       "version_major": 2,
       "version_minor": 0
      },
      "text/plain": [
       "[pred_fn]:   0%|          | 0/79 [00:00<?, ?it/s]"
      ]
     },
     "metadata": {},
     "output_type": "display_data"
    },
    {
     "data": {
      "application/vnd.jupyter.widget-view+json": {
       "model_id": "5cad2fefc2d64bb99dca50e516ab1b20",
       "version_major": 2,
       "version_minor": 0
      },
      "text/plain": [
       "[pred_fn]:   0%|          | 0/79 [00:00<?, ?it/s]"
      ]
     },
     "metadata": {},
     "output_type": "display_data"
    },
    {
     "data": {
      "application/vnd.jupyter.widget-view+json": {
       "model_id": "740cd296da534d2781c8fdcf2c88dd2a",
       "version_major": 2,
       "version_minor": 0
      },
      "text/plain": [
       "[pred_fn]:   0%|          | 0/79 [00:00<?, ?it/s]"
      ]
     },
     "metadata": {},
     "output_type": "display_data"
    },
    {
     "data": {
      "application/vnd.jupyter.widget-view+json": {
       "model_id": "202c5b61f65048018017632f99ee7d0a",
       "version_major": 2,
       "version_minor": 0
      },
      "text/plain": [
       "[pred_fn]:   0%|          | 0/79 [00:00<?, ?it/s]"
      ]
     },
     "metadata": {},
     "output_type": "display_data"
    },
    {
     "data": {
      "application/vnd.jupyter.widget-view+json": {
       "model_id": "02105dd0146248e6aac9ebe7f50eb029",
       "version_major": 2,
       "version_minor": 0
      },
      "text/plain": [
       "[pred_fn]:   0%|          | 0/79 [00:00<?, ?it/s]"
      ]
     },
     "metadata": {},
     "output_type": "display_data"
    },
    {
     "data": {
      "application/vnd.jupyter.widget-view+json": {
       "model_id": "73ff8df5042940c6b1ddc3c3ba4ebc2b",
       "version_major": 2,
       "version_minor": 0
      },
      "text/plain": [
       "[pred_fn]:   0%|          | 0/79 [00:00<?, ?it/s]"
      ]
     },
     "metadata": {},
     "output_type": "display_data"
    },
    {
     "data": {
      "application/vnd.jupyter.widget-view+json": {
       "model_id": "21fe98e81056452b8305218b52e60412",
       "version_major": 2,
       "version_minor": 0
      },
      "text/plain": [
       "[pred_fn]:   0%|          | 0/79 [00:00<?, ?it/s]"
      ]
     },
     "metadata": {},
     "output_type": "display_data"
    },
    {
     "data": {
      "application/vnd.jupyter.widget-view+json": {
       "model_id": "14233e5743d24c668db5d19e3d0eb975",
       "version_major": 2,
       "version_minor": 0
      },
      "text/plain": [
       "[pred_fn]:   0%|          | 0/79 [00:00<?, ?it/s]"
      ]
     },
     "metadata": {},
     "output_type": "display_data"
    },
    {
     "data": {
      "application/vnd.jupyter.widget-view+json": {
       "model_id": "195acd9b328a4a5ba78925a3f26b4033",
       "version_major": 2,
       "version_minor": 0
      },
      "text/plain": [
       "[pred_fn]:   0%|          | 0/79 [00:00<?, ?it/s]"
      ]
     },
     "metadata": {},
     "output_type": "display_data"
    },
    {
     "data": {
      "application/vnd.jupyter.widget-view+json": {
       "model_id": "732e48b9cb354fe6ac98b282bbd2099d",
       "version_major": 2,
       "version_minor": 0
      },
      "text/plain": [
       "[pred_fn]:   0%|          | 0/79 [00:00<?, ?it/s]"
      ]
     },
     "metadata": {},
     "output_type": "display_data"
    },
    {
     "data": {
      "application/vnd.jupyter.widget-view+json": {
       "model_id": "72a943317554424dbae55f8126d6b376",
       "version_major": 2,
       "version_minor": 0
      },
      "text/plain": [
       "[pred_fn]:   0%|          | 0/79 [00:00<?, ?it/s]"
      ]
     },
     "metadata": {},
     "output_type": "display_data"
    },
    {
     "data": {
      "application/vnd.jupyter.widget-view+json": {
       "model_id": "51bae75658dc47b79e837aaf8f67c637",
       "version_major": 2,
       "version_minor": 0
      },
      "text/plain": [
       "[pred_fn]:   0%|          | 0/79 [00:00<?, ?it/s]"
      ]
     },
     "metadata": {},
     "output_type": "display_data"
    },
    {
     "data": {
      "application/vnd.jupyter.widget-view+json": {
       "model_id": "79ad722db5054fbe8964db26a1ab4cbb",
       "version_major": 2,
       "version_minor": 0
      },
      "text/plain": [
       "[pred_fn]:   0%|          | 0/79 [00:00<?, ?it/s]"
      ]
     },
     "metadata": {},
     "output_type": "display_data"
    },
    {
     "data": {
      "application/vnd.jupyter.widget-view+json": {
       "model_id": "c8772d597bf04979ac5a815316c8a14c",
       "version_major": 2,
       "version_minor": 0
      },
      "text/plain": [
       "[pred_fn]:   0%|          | 0/79 [00:00<?, ?it/s]"
      ]
     },
     "metadata": {},
     "output_type": "display_data"
    },
    {
     "data": {
      "application/vnd.jupyter.widget-view+json": {
       "model_id": "3c1c4f5396924eb3ba114dd328443225",
       "version_major": 2,
       "version_minor": 0
      },
      "text/plain": [
       "[pred_fn]:   0%|          | 0/79 [00:00<?, ?it/s]"
      ]
     },
     "metadata": {},
     "output_type": "display_data"
    },
    {
     "data": {
      "application/vnd.jupyter.widget-view+json": {
       "model_id": "79ae75fd6c8248879a50bbba6a2c75a3",
       "version_major": 2,
       "version_minor": 0
      },
      "text/plain": [
       "[pred_fn]:   0%|          | 0/79 [00:00<?, ?it/s]"
      ]
     },
     "metadata": {},
     "output_type": "display_data"
    },
    {
     "data": {
      "application/vnd.jupyter.widget-view+json": {
       "model_id": "38fbd58c8a07496481b47ff4cded6514",
       "version_major": 2,
       "version_minor": 0
      },
      "text/plain": [
       "[pred_fn]:   0%|          | 0/79 [00:00<?, ?it/s]"
      ]
     },
     "metadata": {},
     "output_type": "display_data"
    },
    {
     "data": {
      "application/vnd.jupyter.widget-view+json": {
       "model_id": "48d019a03c5a432d81ce804a8e30eff5",
       "version_major": 2,
       "version_minor": 0
      },
      "text/plain": [
       "[pred_fn]:   0%|          | 0/79 [00:00<?, ?it/s]"
      ]
     },
     "metadata": {},
     "output_type": "display_data"
    },
    {
     "data": {
      "application/vnd.jupyter.widget-view+json": {
       "model_id": "088e2aa095124e05a7b0c210d5fd088d",
       "version_major": 2,
       "version_minor": 0
      },
      "text/plain": [
       "[pred_fn]:   0%|          | 0/79 [00:00<?, ?it/s]"
      ]
     },
     "metadata": {},
     "output_type": "display_data"
    },
    {
     "data": {
      "application/vnd.jupyter.widget-view+json": {
       "model_id": "60357078375e4381b758a565d25d7eab",
       "version_major": 2,
       "version_minor": 0
      },
      "text/plain": [
       "[pred_fn]:   0%|          | 0/79 [00:00<?, ?it/s]"
      ]
     },
     "metadata": {},
     "output_type": "display_data"
    },
    {
     "data": {
      "application/vnd.jupyter.widget-view+json": {
       "model_id": "176db0f5bf1341adac01a89f84fb430c",
       "version_major": 2,
       "version_minor": 0
      },
      "text/plain": [
       "[pred_fn]:   0%|          | 0/79 [00:00<?, ?it/s]"
      ]
     },
     "metadata": {},
     "output_type": "display_data"
    },
    {
     "data": {
      "application/vnd.jupyter.widget-view+json": {
       "model_id": "014749da854f48f0bb091ed6f2e7cf3c",
       "version_major": 2,
       "version_minor": 0
      },
      "text/plain": [
       "[pred_fn]:   0%|          | 0/79 [00:00<?, ?it/s]"
      ]
     },
     "metadata": {},
     "output_type": "display_data"
    },
    {
     "data": {
      "application/vnd.jupyter.widget-view+json": {
       "model_id": "c0da0d872fc445b5bde09ed6d6b448d7",
       "version_major": 2,
       "version_minor": 0
      },
      "text/plain": [
       "[pred_fn]:   0%|          | 0/79 [00:00<?, ?it/s]"
      ]
     },
     "metadata": {},
     "output_type": "display_data"
    },
    {
     "data": {
      "application/vnd.jupyter.widget-view+json": {
       "model_id": "b804de0b950e409cbc692b1c50ab7c04",
       "version_major": 2,
       "version_minor": 0
      },
      "text/plain": [
       "[pred_fn]:   0%|          | 0/79 [00:00<?, ?it/s]"
      ]
     },
     "metadata": {},
     "output_type": "display_data"
    },
    {
     "data": {
      "application/vnd.jupyter.widget-view+json": {
       "model_id": "1cba250119954181b085b4df2005e295",
       "version_major": 2,
       "version_minor": 0
      },
      "text/plain": [
       "[pred_fn]:   0%|          | 0/79 [00:00<?, ?it/s]"
      ]
     },
     "metadata": {},
     "output_type": "display_data"
    },
    {
     "data": {
      "application/vnd.jupyter.widget-view+json": {
       "model_id": "592fe4741b324af0b3179d0e556cac3b",
       "version_major": 2,
       "version_minor": 0
      },
      "text/plain": [
       "[pred_fn]:   0%|          | 0/79 [00:00<?, ?it/s]"
      ]
     },
     "metadata": {},
     "output_type": "display_data"
    },
    {
     "data": {
      "application/vnd.jupyter.widget-view+json": {
       "model_id": "6822a78b5df048e7a92af0269bc0e2ec",
       "version_major": 2,
       "version_minor": 0
      },
      "text/plain": [
       "[pred_fn]:   0%|          | 0/79 [00:00<?, ?it/s]"
      ]
     },
     "metadata": {},
     "output_type": "display_data"
    },
    {
     "data": {
      "application/vnd.jupyter.widget-view+json": {
       "model_id": "12b170b59357485fa594ec39df0dd15f",
       "version_major": 2,
       "version_minor": 0
      },
      "text/plain": [
       "[pred_fn]:   0%|          | 0/79 [00:00<?, ?it/s]"
      ]
     },
     "metadata": {},
     "output_type": "display_data"
    },
    {
     "data": {
      "application/vnd.jupyter.widget-view+json": {
       "model_id": "cb0e8a2c81124de9a3db5676cb762a50",
       "version_major": 2,
       "version_minor": 0
      },
      "text/plain": [
       "[pred_fn]:   0%|          | 0/79 [00:00<?, ?it/s]"
      ]
     },
     "metadata": {},
     "output_type": "display_data"
    },
    {
     "data": {
      "application/vnd.jupyter.widget-view+json": {
       "model_id": "d7574b07388b41f8baed96d6d300437a",
       "version_major": 2,
       "version_minor": 0
      },
      "text/plain": [
       "[pred_fn]:   0%|          | 0/79 [00:00<?, ?it/s]"
      ]
     },
     "metadata": {},
     "output_type": "display_data"
    },
    {
     "data": {
      "application/vnd.jupyter.widget-view+json": {
       "model_id": "dc8a587221c9494683fc1386abebe49b",
       "version_major": 2,
       "version_minor": 0
      },
      "text/plain": [
       "[pred_fn]:   0%|          | 0/79 [00:00<?, ?it/s]"
      ]
     },
     "metadata": {},
     "output_type": "display_data"
    },
    {
     "data": {
      "application/vnd.jupyter.widget-view+json": {
       "model_id": "a54c75c2d3d447dfa707943ea8878c94",
       "version_major": 2,
       "version_minor": 0
      },
      "text/plain": [
       "[pred_fn]:   0%|          | 0/79 [00:00<?, ?it/s]"
      ]
     },
     "metadata": {},
     "output_type": "display_data"
    },
    {
     "data": {
      "application/vnd.jupyter.widget-view+json": {
       "model_id": "7326f30c49ee4aedb5f52956b10dddb2",
       "version_major": 2,
       "version_minor": 0
      },
      "text/plain": [
       "[pred_fn]:   0%|          | 0/79 [00:00<?, ?it/s]"
      ]
     },
     "metadata": {},
     "output_type": "display_data"
    },
    {
     "data": {
      "application/vnd.jupyter.widget-view+json": {
       "model_id": "c7b066b932674e619c4707b765eff81b",
       "version_major": 2,
       "version_minor": 0
      },
      "text/plain": [
       "[pred_fn]:   0%|          | 0/79 [00:00<?, ?it/s]"
      ]
     },
     "metadata": {},
     "output_type": "display_data"
    },
    {
     "data": {
      "application/vnd.jupyter.widget-view+json": {
       "model_id": "9a46950bde414d9ea3cdd705f07f0a87",
       "version_major": 2,
       "version_minor": 0
      },
      "text/plain": [
       "[pred_fn]:   0%|          | 0/79 [00:00<?, ?it/s]"
      ]
     },
     "metadata": {},
     "output_type": "display_data"
    },
    {
     "data": {
      "application/vnd.jupyter.widget-view+json": {
       "model_id": "c16b7c7c7e1742dcbbf42e20139677cc",
       "version_major": 2,
       "version_minor": 0
      },
      "text/plain": [
       "[pred_fn]:   0%|          | 0/79 [00:00<?, ?it/s]"
      ]
     },
     "metadata": {},
     "output_type": "display_data"
    },
    {
     "data": {
      "application/vnd.jupyter.widget-view+json": {
       "model_id": "e96ba9ce50434fd98d5912be610d2ab2",
       "version_major": 2,
       "version_minor": 0
      },
      "text/plain": [
       "[pred_fn]:   0%|          | 0/79 [00:00<?, ?it/s]"
      ]
     },
     "metadata": {},
     "output_type": "display_data"
    },
    {
     "data": {
      "application/vnd.jupyter.widget-view+json": {
       "model_id": "35ca19f7f9f540168c7d5a026f3eb9ea",
       "version_major": 2,
       "version_minor": 0
      },
      "text/plain": [
       "[pred_fn]:   0%|          | 0/79 [00:00<?, ?it/s]"
      ]
     },
     "metadata": {},
     "output_type": "display_data"
    },
    {
     "data": {
      "application/vnd.jupyter.widget-view+json": {
       "model_id": "10aeda2257f0407990822c2beb9e0e80",
       "version_major": 2,
       "version_minor": 0
      },
      "text/plain": [
       "[pred_fn]:   0%|          | 0/79 [00:00<?, ?it/s]"
      ]
     },
     "metadata": {},
     "output_type": "display_data"
    },
    {
     "data": {
      "application/vnd.jupyter.widget-view+json": {
       "model_id": "b74810c6311d4a1a808942c142178948",
       "version_major": 2,
       "version_minor": 0
      },
      "text/plain": [
       "[pred_fn]:   0%|          | 0/79 [00:00<?, ?it/s]"
      ]
     },
     "metadata": {},
     "output_type": "display_data"
    },
    {
     "data": {
      "application/vnd.jupyter.widget-view+json": {
       "model_id": "85eb4ff95d994cfeb9986b0bcf5cc602",
       "version_major": 2,
       "version_minor": 0
      },
      "text/plain": [
       "[pred_fn]:   0%|          | 0/79 [00:00<?, ?it/s]"
      ]
     },
     "metadata": {},
     "output_type": "display_data"
    },
    {
     "data": {
      "application/vnd.jupyter.widget-view+json": {
       "model_id": "d7b532da1c764ffc8152778e44722b4e",
       "version_major": 2,
       "version_minor": 0
      },
      "text/plain": [
       "[pred_fn]:   0%|          | 0/79 [00:00<?, ?it/s]"
      ]
     },
     "metadata": {},
     "output_type": "display_data"
    },
    {
     "data": {
      "application/vnd.jupyter.widget-view+json": {
       "model_id": "8e1b7e1a6553492bad3aeae5161b1895",
       "version_major": 2,
       "version_minor": 0
      },
      "text/plain": [
       "[pred_fn]:   0%|          | 0/79 [00:00<?, ?it/s]"
      ]
     },
     "metadata": {},
     "output_type": "display_data"
    },
    {
     "data": {
      "application/vnd.jupyter.widget-view+json": {
       "model_id": "92c266e27aa04dac9f214d69b1bf1a4b",
       "version_major": 2,
       "version_minor": 0
      },
      "text/plain": [
       "[pred_fn]:   0%|          | 0/79 [00:00<?, ?it/s]"
      ]
     },
     "metadata": {},
     "output_type": "display_data"
    },
    {
     "data": {
      "application/vnd.jupyter.widget-view+json": {
       "model_id": "ecd0c47306a841a290608a6f3756bad0",
       "version_major": 2,
       "version_minor": 0
      },
      "text/plain": [
       "[pred_fn]:   0%|          | 0/79 [00:00<?, ?it/s]"
      ]
     },
     "metadata": {},
     "output_type": "display_data"
    },
    {
     "data": {
      "application/vnd.jupyter.widget-view+json": {
       "model_id": "8f7418f7da77457bb9cc9de82ed8015f",
       "version_major": 2,
       "version_minor": 0
      },
      "text/plain": [
       "[pred_fn]:   0%|          | 0/79 [00:00<?, ?it/s]"
      ]
     },
     "metadata": {},
     "output_type": "display_data"
    },
    {
     "data": {
      "application/vnd.jupyter.widget-view+json": {
       "model_id": "fabb6d44b05442e3a3f86aa74732857a",
       "version_major": 2,
       "version_minor": 0
      },
      "text/plain": [
       "[pred_fn]:   0%|          | 0/79 [00:00<?, ?it/s]"
      ]
     },
     "metadata": {},
     "output_type": "display_data"
    },
    {
     "data": {
      "application/vnd.jupyter.widget-view+json": {
       "model_id": "d598ba223c8a45a48b95b12216ea4563",
       "version_major": 2,
       "version_minor": 0
      },
      "text/plain": [
       "[pred_fn]:   0%|          | 0/79 [00:00<?, ?it/s]"
      ]
     },
     "metadata": {},
     "output_type": "display_data"
    },
    {
     "data": {
      "application/vnd.jupyter.widget-view+json": {
       "model_id": "9f14447648984b1fa14fdde560377bfc",
       "version_major": 2,
       "version_minor": 0
      },
      "text/plain": [
       "[pred_fn]:   0%|          | 0/79 [00:00<?, ?it/s]"
      ]
     },
     "metadata": {},
     "output_type": "display_data"
    },
    {
     "data": {
      "application/vnd.jupyter.widget-view+json": {
       "model_id": "43591065390d4032b2549e233524df29",
       "version_major": 2,
       "version_minor": 0
      },
      "text/plain": [
       "[pred_fn]:   0%|          | 0/79 [00:00<?, ?it/s]"
      ]
     },
     "metadata": {},
     "output_type": "display_data"
    },
    {
     "data": {
      "application/vnd.jupyter.widget-view+json": {
       "model_id": "09d9bbc0e8e84ab299f399ced2e1c0e2",
       "version_major": 2,
       "version_minor": 0
      },
      "text/plain": [
       "[pred_fn]:   0%|          | 0/79 [00:00<?, ?it/s]"
      ]
     },
     "metadata": {},
     "output_type": "display_data"
    },
    {
     "data": {
      "application/vnd.jupyter.widget-view+json": {
       "model_id": "777f7be2bfeb4d3189e3c9a0683b680c",
       "version_major": 2,
       "version_minor": 0
      },
      "text/plain": [
       "[pred_fn]:   0%|          | 0/79 [00:00<?, ?it/s]"
      ]
     },
     "metadata": {},
     "output_type": "display_data"
    },
    {
     "data": {
      "application/vnd.jupyter.widget-view+json": {
       "model_id": "a0805bed76ad41e19c252dfd00d675f8",
       "version_major": 2,
       "version_minor": 0
      },
      "text/plain": [
       "[pred_fn]:   0%|          | 0/79 [00:00<?, ?it/s]"
      ]
     },
     "metadata": {},
     "output_type": "display_data"
    },
    {
     "data": {
      "application/vnd.jupyter.widget-view+json": {
       "model_id": "def79de0404240faae2890f6be4ac6cd",
       "version_major": 2,
       "version_minor": 0
      },
      "text/plain": [
       "[pred_fn]:   0%|          | 0/79 [00:00<?, ?it/s]"
      ]
     },
     "metadata": {},
     "output_type": "display_data"
    },
    {
     "data": {
      "application/vnd.jupyter.widget-view+json": {
       "model_id": "3efac36c89f345ddb0006f5344b3ea18",
       "version_major": 2,
       "version_minor": 0
      },
      "text/plain": [
       "[pred_fn]:   0%|          | 0/79 [00:00<?, ?it/s]"
      ]
     },
     "metadata": {},
     "output_type": "display_data"
    },
    {
     "data": {
      "application/vnd.jupyter.widget-view+json": {
       "model_id": "a5352c65ccaa49508698dd842e38655e",
       "version_major": 2,
       "version_minor": 0
      },
      "text/plain": [
       "[pred_fn]:   0%|          | 0/79 [00:00<?, ?it/s]"
      ]
     },
     "metadata": {},
     "output_type": "display_data"
    },
    {
     "data": {
      "application/vnd.jupyter.widget-view+json": {
       "model_id": "801611be644048ee8a8fac01b6cc39bd",
       "version_major": 2,
       "version_minor": 0
      },
      "text/plain": [
       "[pred_fn]:   0%|          | 0/79 [00:00<?, ?it/s]"
      ]
     },
     "metadata": {},
     "output_type": "display_data"
    },
    {
     "data": {
      "application/vnd.jupyter.widget-view+json": {
       "model_id": "839e0e2450a346d28d4cf5200ae0a164",
       "version_major": 2,
       "version_minor": 0
      },
      "text/plain": [
       "[pred_fn]:   0%|          | 0/79 [00:00<?, ?it/s]"
      ]
     },
     "metadata": {},
     "output_type": "display_data"
    },
    {
     "data": {
      "application/vnd.jupyter.widget-view+json": {
       "model_id": "8e8ff6589bbf4851914f83035e7fbf37",
       "version_major": 2,
       "version_minor": 0
      },
      "text/plain": [
       "[pred_fn]:   0%|          | 0/79 [00:00<?, ?it/s]"
      ]
     },
     "metadata": {},
     "output_type": "display_data"
    },
    {
     "data": {
      "application/vnd.jupyter.widget-view+json": {
       "model_id": "2d4c6100453d49d6934c783893e47bee",
       "version_major": 2,
       "version_minor": 0
      },
      "text/plain": [
       "[pred_fn]:   0%|          | 0/79 [00:00<?, ?it/s]"
      ]
     },
     "metadata": {},
     "output_type": "display_data"
    },
    {
     "data": {
      "application/vnd.jupyter.widget-view+json": {
       "model_id": "1bbe7f464740457d9fba58bb85e62f85",
       "version_major": 2,
       "version_minor": 0
      },
      "text/plain": [
       "[pred_fn]:   0%|          | 0/79 [00:00<?, ?it/s]"
      ]
     },
     "metadata": {},
     "output_type": "display_data"
    },
    {
     "data": {
      "application/vnd.jupyter.widget-view+json": {
       "model_id": "eb64b90c10ec4093987487e9a75ac187",
       "version_major": 2,
       "version_minor": 0
      },
      "text/plain": [
       "[pred_fn]:   0%|          | 0/79 [00:00<?, ?it/s]"
      ]
     },
     "metadata": {},
     "output_type": "display_data"
    },
    {
     "data": {
      "application/vnd.jupyter.widget-view+json": {
       "model_id": "021e844193084047bc2f6ede2fa117c1",
       "version_major": 2,
       "version_minor": 0
      },
      "text/plain": [
       "[pred_fn]:   0%|          | 0/79 [00:00<?, ?it/s]"
      ]
     },
     "metadata": {},
     "output_type": "display_data"
    },
    {
     "data": {
      "application/vnd.jupyter.widget-view+json": {
       "model_id": "f034d6d882eb49e4b966ed1e8ac58838",
       "version_major": 2,
       "version_minor": 0
      },
      "text/plain": [
       "[pred_fn]:   0%|          | 0/79 [00:00<?, ?it/s]"
      ]
     },
     "metadata": {},
     "output_type": "display_data"
    },
    {
     "data": {
      "application/vnd.jupyter.widget-view+json": {
       "model_id": "90bad9f558d0487f94a7d076293c060f",
       "version_major": 2,
       "version_minor": 0
      },
      "text/plain": [
       "[pred_fn]:   0%|          | 0/79 [00:00<?, ?it/s]"
      ]
     },
     "metadata": {},
     "output_type": "display_data"
    },
    {
     "data": {
      "application/vnd.jupyter.widget-view+json": {
       "model_id": "4050f2112032498ebfbb09bb8c5b2f34",
       "version_major": 2,
       "version_minor": 0
      },
      "text/plain": [
       "[pred_fn]:   0%|          | 0/79 [00:00<?, ?it/s]"
      ]
     },
     "metadata": {},
     "output_type": "display_data"
    },
    {
     "data": {
      "application/vnd.jupyter.widget-view+json": {
       "model_id": "1510de81c2db4a68a37e4f4589fedce7",
       "version_major": 2,
       "version_minor": 0
      },
      "text/plain": [
       "[pred_fn]:   0%|          | 0/79 [00:00<?, ?it/s]"
      ]
     },
     "metadata": {},
     "output_type": "display_data"
    },
    {
     "data": {
      "application/vnd.jupyter.widget-view+json": {
       "model_id": "e77532535d424259b902c3cc69141b5a",
       "version_major": 2,
       "version_minor": 0
      },
      "text/plain": [
       "[pred_fn]:   0%|          | 0/79 [00:00<?, ?it/s]"
      ]
     },
     "metadata": {},
     "output_type": "display_data"
    },
    {
     "data": {
      "application/vnd.jupyter.widget-view+json": {
       "model_id": "620be3335e0f4e7db2e35f972561e49e",
       "version_major": 2,
       "version_minor": 0
      },
      "text/plain": [
       "[pred_fn]:   0%|          | 0/79 [00:00<?, ?it/s]"
      ]
     },
     "metadata": {},
     "output_type": "display_data"
    },
    {
     "data": {
      "application/vnd.jupyter.widget-view+json": {
       "model_id": "b9c96fc218a4440697128d09b6f84ef1",
       "version_major": 2,
       "version_minor": 0
      },
      "text/plain": [
       "[pred_fn]:   0%|          | 0/79 [00:00<?, ?it/s]"
      ]
     },
     "metadata": {},
     "output_type": "display_data"
    },
    {
     "data": {
      "application/vnd.jupyter.widget-view+json": {
       "model_id": "fbd625a3163849b895797c8756c14912",
       "version_major": 2,
       "version_minor": 0
      },
      "text/plain": [
       "[pred_fn]:   0%|          | 0/79 [00:00<?, ?it/s]"
      ]
     },
     "metadata": {},
     "output_type": "display_data"
    },
    {
     "data": {
      "application/vnd.jupyter.widget-view+json": {
       "model_id": "85287c53e70c4e1496c620fb58a0d2bf",
       "version_major": 2,
       "version_minor": 0
      },
      "text/plain": [
       "[pred_fn]:   0%|          | 0/79 [00:00<?, ?it/s]"
      ]
     },
     "metadata": {},
     "output_type": "display_data"
    },
    {
     "data": {
      "application/vnd.jupyter.widget-view+json": {
       "model_id": "64607f47b809423bb493aea2ce7314ac",
       "version_major": 2,
       "version_minor": 0
      },
      "text/plain": [
       "[pred_fn]:   0%|          | 0/79 [00:00<?, ?it/s]"
      ]
     },
     "metadata": {},
     "output_type": "display_data"
    },
    {
     "data": {
      "application/vnd.jupyter.widget-view+json": {
       "model_id": "86e03e3537824c0c8c8a08129d1f7d49",
       "version_major": 2,
       "version_minor": 0
      },
      "text/plain": [
       "[pred_fn]:   0%|          | 0/79 [00:00<?, ?it/s]"
      ]
     },
     "metadata": {},
     "output_type": "display_data"
    },
    {
     "data": {
      "application/vnd.jupyter.widget-view+json": {
       "model_id": "a3b36643e8984b3f82d09f49de155632",
       "version_major": 2,
       "version_minor": 0
      },
      "text/plain": [
       "[pred_fn]:   0%|          | 0/79 [00:00<?, ?it/s]"
      ]
     },
     "metadata": {},
     "output_type": "display_data"
    },
    {
     "data": {
      "application/vnd.jupyter.widget-view+json": {
       "model_id": "35896f9eefbc48ccbd9c60f0a9d75717",
       "version_major": 2,
       "version_minor": 0
      },
      "text/plain": [
       "[pred_fn]:   0%|          | 0/79 [00:00<?, ?it/s]"
      ]
     },
     "metadata": {},
     "output_type": "display_data"
    },
    {
     "data": {
      "application/vnd.jupyter.widget-view+json": {
       "model_id": "76d455e74eb0407b857d6c0ed6b5fc4b",
       "version_major": 2,
       "version_minor": 0
      },
      "text/plain": [
       "[pred_fn]:   0%|          | 0/79 [00:00<?, ?it/s]"
      ]
     },
     "metadata": {},
     "output_type": "display_data"
    },
    {
     "data": {
      "application/vnd.jupyter.widget-view+json": {
       "model_id": "8853b725b7c9480aa71984537144e661",
       "version_major": 2,
       "version_minor": 0
      },
      "text/plain": [
       "[pred_fn]:   0%|          | 0/79 [00:00<?, ?it/s]"
      ]
     },
     "metadata": {},
     "output_type": "display_data"
    },
    {
     "data": {
      "application/vnd.jupyter.widget-view+json": {
       "model_id": "6648a2456a9d49ceb7f29e11c40a6e8c",
       "version_major": 2,
       "version_minor": 0
      },
      "text/plain": [
       "[pred_fn]:   0%|          | 0/79 [00:00<?, ?it/s]"
      ]
     },
     "metadata": {},
     "output_type": "display_data"
    },
    {
     "data": {
      "application/vnd.jupyter.widget-view+json": {
       "model_id": "9152a2b756eb471ea736df9cd1c25736",
       "version_major": 2,
       "version_minor": 0
      },
      "text/plain": [
       "[pred_fn]:   0%|          | 0/79 [00:00<?, ?it/s]"
      ]
     },
     "metadata": {},
     "output_type": "display_data"
    },
    {
     "data": {
      "application/vnd.jupyter.widget-view+json": {
       "model_id": "d24a5ce4d2d846f8ae9ebd9fc2325d9b",
       "version_major": 2,
       "version_minor": 0
      },
      "text/plain": [
       "[pred_fn]:   0%|          | 0/79 [00:00<?, ?it/s]"
      ]
     },
     "metadata": {},
     "output_type": "display_data"
    },
    {
     "data": {
      "application/vnd.jupyter.widget-view+json": {
       "model_id": "4323292a512b45e9af4d7463bebbffbc",
       "version_major": 2,
       "version_minor": 0
      },
      "text/plain": [
       "[pred_fn]:   0%|          | 0/79 [00:00<?, ?it/s]"
      ]
     },
     "metadata": {},
     "output_type": "display_data"
    },
    {
     "data": {
      "application/vnd.jupyter.widget-view+json": {
       "model_id": "3c9327e19fe5427a867e85e8a3eacfa0",
       "version_major": 2,
       "version_minor": 0
      },
      "text/plain": [
       "[pred_fn]:   0%|          | 0/79 [00:00<?, ?it/s]"
      ]
     },
     "metadata": {},
     "output_type": "display_data"
    },
    {
     "data": {
      "application/vnd.jupyter.widget-view+json": {
       "model_id": "f83773fc47a6454a8b3a1acf46808b92",
       "version_major": 2,
       "version_minor": 0
      },
      "text/plain": [
       "[pred_fn]:   0%|          | 0/79 [00:00<?, ?it/s]"
      ]
     },
     "metadata": {},
     "output_type": "display_data"
    },
    {
     "data": {
      "application/vnd.jupyter.widget-view+json": {
       "model_id": "5270d3b5e2fa4dff8c8457a0889304dd",
       "version_major": 2,
       "version_minor": 0
      },
      "text/plain": [
       "[pred_fn]:   0%|          | 0/79 [00:00<?, ?it/s]"
      ]
     },
     "metadata": {},
     "output_type": "display_data"
    },
    {
     "data": {
      "application/vnd.jupyter.widget-view+json": {
       "model_id": "53e782c10dd74873a86f4392d04259bc",
       "version_major": 2,
       "version_minor": 0
      },
      "text/plain": [
       "[pred_fn]:   0%|          | 0/79 [00:00<?, ?it/s]"
      ]
     },
     "metadata": {},
     "output_type": "display_data"
    },
    {
     "data": {
      "application/vnd.jupyter.widget-view+json": {
       "model_id": "2585b5ebc54544e4a8b7b5b6ee6237c2",
       "version_major": 2,
       "version_minor": 0
      },
      "text/plain": [
       "[pred_fn]:   0%|          | 0/79 [00:00<?, ?it/s]"
      ]
     },
     "metadata": {},
     "output_type": "display_data"
    },
    {
     "data": {
      "application/vnd.jupyter.widget-view+json": {
       "model_id": "3de7409267aa464cae7e85b5220e04fc",
       "version_major": 2,
       "version_minor": 0
      },
      "text/plain": [
       "[pred_fn]:   0%|          | 0/79 [00:00<?, ?it/s]"
      ]
     },
     "metadata": {},
     "output_type": "display_data"
    },
    {
     "data": {
      "application/vnd.jupyter.widget-view+json": {
       "model_id": "65eca15f8e674ba18af231440815ace0",
       "version_major": 2,
       "version_minor": 0
      },
      "text/plain": [
       "[pred_fn]:   0%|          | 0/79 [00:00<?, ?it/s]"
      ]
     },
     "metadata": {},
     "output_type": "display_data"
    },
    {
     "data": {
      "application/vnd.jupyter.widget-view+json": {
       "model_id": "ca9bdf7921ed4e648319764f9f26365a",
       "version_major": 2,
       "version_minor": 0
      },
      "text/plain": [
       "[pred_fn]:   0%|          | 0/79 [00:00<?, ?it/s]"
      ]
     },
     "metadata": {},
     "output_type": "display_data"
    },
    {
     "data": {
      "application/vnd.jupyter.widget-view+json": {
       "model_id": "18f10f3c4256489cb653412d23e07bb0",
       "version_major": 2,
       "version_minor": 0
      },
      "text/plain": [
       "[pred_fn]:   0%|          | 0/79 [00:00<?, ?it/s]"
      ]
     },
     "metadata": {},
     "output_type": "display_data"
    },
    {
     "data": {
      "application/vnd.jupyter.widget-view+json": {
       "model_id": "0cc04c5ae29f4c9a8db7a78fb2e270cf",
       "version_major": 2,
       "version_minor": 0
      },
      "text/plain": [
       "[pred_fn]:   0%|          | 0/79 [00:00<?, ?it/s]"
      ]
     },
     "metadata": {},
     "output_type": "display_data"
    },
    {
     "data": {
      "application/vnd.jupyter.widget-view+json": {
       "model_id": "7d1d73722b984e988864709cdbb03b5f",
       "version_major": 2,
       "version_minor": 0
      },
      "text/plain": [
       "[pred_fn]:   0%|          | 0/79 [00:00<?, ?it/s]"
      ]
     },
     "metadata": {},
     "output_type": "display_data"
    },
    {
     "data": {
      "application/vnd.jupyter.widget-view+json": {
       "model_id": "7e2e6006c8e24080aa7d3ce383e7f8d4",
       "version_major": 2,
       "version_minor": 0
      },
      "text/plain": [
       "[pred_fn]:   0%|          | 0/79 [00:00<?, ?it/s]"
      ]
     },
     "metadata": {},
     "output_type": "display_data"
    },
    {
     "data": {
      "application/vnd.jupyter.widget-view+json": {
       "model_id": "0f66873ac5644846990c302f898435da",
       "version_major": 2,
       "version_minor": 0
      },
      "text/plain": [
       "[pred_fn]:   0%|          | 0/79 [00:00<?, ?it/s]"
      ]
     },
     "metadata": {},
     "output_type": "display_data"
    },
    {
     "data": {
      "application/vnd.jupyter.widget-view+json": {
       "model_id": "6d855585a2e0445399689826b1aacd5d",
       "version_major": 2,
       "version_minor": 0
      },
      "text/plain": [
       "[pred_fn]:   0%|          | 0/79 [00:00<?, ?it/s]"
      ]
     },
     "metadata": {},
     "output_type": "display_data"
    },
    {
     "data": {
      "application/vnd.jupyter.widget-view+json": {
       "model_id": "c74f3b9af014458390cfad657137d523",
       "version_major": 2,
       "version_minor": 0
      },
      "text/plain": [
       "[pred_fn]:   0%|          | 0/79 [00:00<?, ?it/s]"
      ]
     },
     "metadata": {},
     "output_type": "display_data"
    },
    {
     "data": {
      "application/vnd.jupyter.widget-view+json": {
       "model_id": "439132ac075b45fe8adbef8e7bdee279",
       "version_major": 2,
       "version_minor": 0
      },
      "text/plain": [
       "[pred_fn]:   0%|          | 0/79 [00:00<?, ?it/s]"
      ]
     },
     "metadata": {},
     "output_type": "display_data"
    },
    {
     "data": {
      "application/vnd.jupyter.widget-view+json": {
       "model_id": "15f8eee204714958a841c5c9c3a42e52",
       "version_major": 2,
       "version_minor": 0
      },
      "text/plain": [
       "[pred_fn]:   0%|          | 0/79 [00:00<?, ?it/s]"
      ]
     },
     "metadata": {},
     "output_type": "display_data"
    },
    {
     "data": {
      "application/vnd.jupyter.widget-view+json": {
       "model_id": "6bc8cb3385884d13ab6d8f4b75ad0c61",
       "version_major": 2,
       "version_minor": 0
      },
      "text/plain": [
       "[pred_fn]:   0%|          | 0/79 [00:00<?, ?it/s]"
      ]
     },
     "metadata": {},
     "output_type": "display_data"
    },
    {
     "data": {
      "application/vnd.jupyter.widget-view+json": {
       "model_id": "e2828b2a6ee94488a2b4faf30a47406d",
       "version_major": 2,
       "version_minor": 0
      },
      "text/plain": [
       "[pred_fn]:   0%|          | 0/79 [00:00<?, ?it/s]"
      ]
     },
     "metadata": {},
     "output_type": "display_data"
    },
    {
     "data": {
      "application/vnd.jupyter.widget-view+json": {
       "model_id": "bcc78ed5db3c4d6682d95caa366ffe49",
       "version_major": 2,
       "version_minor": 0
      },
      "text/plain": [
       "[pred_fn]:   0%|          | 0/79 [00:00<?, ?it/s]"
      ]
     },
     "metadata": {},
     "output_type": "display_data"
    },
    {
     "data": {
      "application/vnd.jupyter.widget-view+json": {
       "model_id": "a02d5b0b4e1f4c8eaca597b6153899a2",
       "version_major": 2,
       "version_minor": 0
      },
      "text/plain": [
       "[pred_fn]:   0%|          | 0/79 [00:00<?, ?it/s]"
      ]
     },
     "metadata": {},
     "output_type": "display_data"
    },
    {
     "data": {
      "application/vnd.jupyter.widget-view+json": {
       "model_id": "01718ad065504d5d959f39c8a7b5c0d2",
       "version_major": 2,
       "version_minor": 0
      },
      "text/plain": [
       "[pred_fn]:   0%|          | 0/79 [00:00<?, ?it/s]"
      ]
     },
     "metadata": {},
     "output_type": "display_data"
    },
    {
     "data": {
      "application/vnd.jupyter.widget-view+json": {
       "model_id": "dd4e3b38e1fc43bf9b2eaad82d022c39",
       "version_major": 2,
       "version_minor": 0
      },
      "text/plain": [
       "[pred_fn]:   0%|          | 0/79 [00:00<?, ?it/s]"
      ]
     },
     "metadata": {},
     "output_type": "display_data"
    },
    {
     "data": {
      "application/vnd.jupyter.widget-view+json": {
       "model_id": "eac6ab35310d428482976fc1d02c390b",
       "version_major": 2,
       "version_minor": 0
      },
      "text/plain": [
       "[pred_fn]:   0%|          | 0/79 [00:00<?, ?it/s]"
      ]
     },
     "metadata": {},
     "output_type": "display_data"
    },
    {
     "data": {
      "application/vnd.jupyter.widget-view+json": {
       "model_id": "e65468848c314bb79c336589cc8eaa7a",
       "version_major": 2,
       "version_minor": 0
      },
      "text/plain": [
       "[pred_fn]:   0%|          | 0/79 [00:00<?, ?it/s]"
      ]
     },
     "metadata": {},
     "output_type": "display_data"
    },
    {
     "data": {
      "application/vnd.jupyter.widget-view+json": {
       "model_id": "858b252bf04f41bd887ff3472b75a69f",
       "version_major": 2,
       "version_minor": 0
      },
      "text/plain": [
       "[pred_fn]:   0%|          | 0/79 [00:00<?, ?it/s]"
      ]
     },
     "metadata": {},
     "output_type": "display_data"
    },
    {
     "data": {
      "application/vnd.jupyter.widget-view+json": {
       "model_id": "833369c7f5ad4818acb0d1def6d1d7fd",
       "version_major": 2,
       "version_minor": 0
      },
      "text/plain": [
       "[pred_fn]:   0%|          | 0/79 [00:00<?, ?it/s]"
      ]
     },
     "metadata": {},
     "output_type": "display_data"
    },
    {
     "data": {
      "application/vnd.jupyter.widget-view+json": {
       "model_id": "9f0646d2ed904db7ae5b733f92b5c6a8",
       "version_major": 2,
       "version_minor": 0
      },
      "text/plain": [
       "[pred_fn]:   0%|          | 0/79 [00:00<?, ?it/s]"
      ]
     },
     "metadata": {},
     "output_type": "display_data"
    },
    {
     "data": {
      "application/vnd.jupyter.widget-view+json": {
       "model_id": "e4d9cd2f33034809a9281e88c5761d5d",
       "version_major": 2,
       "version_minor": 0
      },
      "text/plain": [
       "[pred_fn]:   0%|          | 0/79 [00:00<?, ?it/s]"
      ]
     },
     "metadata": {},
     "output_type": "display_data"
    },
    {
     "data": {
      "application/vnd.jupyter.widget-view+json": {
       "model_id": "29f612835de34ce58ae6ce1a5388d97d",
       "version_major": 2,
       "version_minor": 0
      },
      "text/plain": [
       "[pred_fn]:   0%|          | 0/79 [00:00<?, ?it/s]"
      ]
     },
     "metadata": {},
     "output_type": "display_data"
    },
    {
     "data": {
      "application/vnd.jupyter.widget-view+json": {
       "model_id": "74cad684fc6d49609236eb79ce326a8f",
       "version_major": 2,
       "version_minor": 0
      },
      "text/plain": [
       "[pred_fn]:   0%|          | 0/79 [00:00<?, ?it/s]"
      ]
     },
     "metadata": {},
     "output_type": "display_data"
    },
    {
     "data": {
      "application/vnd.jupyter.widget-view+json": {
       "model_id": "e6df15546525423082ea88bbaea7cde0",
       "version_major": 2,
       "version_minor": 0
      },
      "text/plain": [
       "[pred_fn]:   0%|          | 0/79 [00:00<?, ?it/s]"
      ]
     },
     "metadata": {},
     "output_type": "display_data"
    },
    {
     "data": {
      "application/vnd.jupyter.widget-view+json": {
       "model_id": "47bb7fd540724517a852b5e3834b35af",
       "version_major": 2,
       "version_minor": 0
      },
      "text/plain": [
       "[pred_fn]:   0%|          | 0/79 [00:00<?, ?it/s]"
      ]
     },
     "metadata": {},
     "output_type": "display_data"
    },
    {
     "data": {
      "application/vnd.jupyter.widget-view+json": {
       "model_id": "6d7bbde8d6c0450c95768d24f348762c",
       "version_major": 2,
       "version_minor": 0
      },
      "text/plain": [
       "[pred_fn]:   0%|          | 0/79 [00:00<?, ?it/s]"
      ]
     },
     "metadata": {},
     "output_type": "display_data"
    },
    {
     "data": {
      "application/vnd.jupyter.widget-view+json": {
       "model_id": "f82f1f68c1f04cd2877e62397cc433ec",
       "version_major": 2,
       "version_minor": 0
      },
      "text/plain": [
       "[pred_fn]:   0%|          | 0/79 [00:00<?, ?it/s]"
      ]
     },
     "metadata": {},
     "output_type": "display_data"
    },
    {
     "data": {
      "application/vnd.jupyter.widget-view+json": {
       "model_id": "a62f787772db4fb99fadaf56a7ad36d8",
       "version_major": 2,
       "version_minor": 0
      },
      "text/plain": [
       "[pred_fn]:   0%|          | 0/79 [00:00<?, ?it/s]"
      ]
     },
     "metadata": {},
     "output_type": "display_data"
    },
    {
     "data": {
      "application/vnd.jupyter.widget-view+json": {
       "model_id": "cc347d51d4984980bdf5aee617d65153",
       "version_major": 2,
       "version_minor": 0
      },
      "text/plain": [
       "[pred_fn]:   0%|          | 0/79 [00:00<?, ?it/s]"
      ]
     },
     "metadata": {},
     "output_type": "display_data"
    },
    {
     "data": {
      "application/vnd.jupyter.widget-view+json": {
       "model_id": "6db9532230fc4243a5868bee118263c6",
       "version_major": 2,
       "version_minor": 0
      },
      "text/plain": [
       "[pred_fn]:   0%|          | 0/79 [00:00<?, ?it/s]"
      ]
     },
     "metadata": {},
     "output_type": "display_data"
    },
    {
     "data": {
      "application/vnd.jupyter.widget-view+json": {
       "model_id": "883d64f7ab6545a197b1a990f3fcf5d3",
       "version_major": 2,
       "version_minor": 0
      },
      "text/plain": [
       "[pred_fn]:   0%|          | 0/79 [00:00<?, ?it/s]"
      ]
     },
     "metadata": {},
     "output_type": "display_data"
    },
    {
     "data": {
      "application/vnd.jupyter.widget-view+json": {
       "model_id": "f95a4e4eea9f4a08bdd945f2659a5f63",
       "version_major": 2,
       "version_minor": 0
      },
      "text/plain": [
       "[pred_fn]:   0%|          | 0/79 [00:00<?, ?it/s]"
      ]
     },
     "metadata": {},
     "output_type": "display_data"
    },
    {
     "data": {
      "application/vnd.jupyter.widget-view+json": {
       "model_id": "2733076e7fce4d8184aa6ed7e269127f",
       "version_major": 2,
       "version_minor": 0
      },
      "text/plain": [
       "[pred_fn]:   0%|          | 0/79 [00:00<?, ?it/s]"
      ]
     },
     "metadata": {},
     "output_type": "display_data"
    },
    {
     "data": {
      "application/vnd.jupyter.widget-view+json": {
       "model_id": "c2a5a06d11504afa8b08c6ebea7c6e75",
       "version_major": 2,
       "version_minor": 0
      },
      "text/plain": [
       "[pred_fn]:   0%|          | 0/79 [00:00<?, ?it/s]"
      ]
     },
     "metadata": {},
     "output_type": "display_data"
    },
    {
     "data": {
      "application/vnd.jupyter.widget-view+json": {
       "model_id": "2b27a186e3584f308c4dfaa14327b2cd",
       "version_major": 2,
       "version_minor": 0
      },
      "text/plain": [
       "[pred_fn]:   0%|          | 0/79 [00:00<?, ?it/s]"
      ]
     },
     "metadata": {},
     "output_type": "display_data"
    },
    {
     "data": {
      "application/vnd.jupyter.widget-view+json": {
       "model_id": "401e8cd4caa346a78fb6220487f61c56",
       "version_major": 2,
       "version_minor": 0
      },
      "text/plain": [
       "[pred_fn]:   0%|          | 0/79 [00:00<?, ?it/s]"
      ]
     },
     "metadata": {},
     "output_type": "display_data"
    },
    {
     "data": {
      "application/vnd.jupyter.widget-view+json": {
       "model_id": "d319952bd254462992e6d9f18ffb7cbe",
       "version_major": 2,
       "version_minor": 0
      },
      "text/plain": [
       "[pred_fn]:   0%|          | 0/79 [00:00<?, ?it/s]"
      ]
     },
     "metadata": {},
     "output_type": "display_data"
    },
    {
     "data": {
      "application/vnd.jupyter.widget-view+json": {
       "model_id": "ae172ece632d4242af27bdfebbba6fff",
       "version_major": 2,
       "version_minor": 0
      },
      "text/plain": [
       "[pred_fn]:   0%|          | 0/79 [00:00<?, ?it/s]"
      ]
     },
     "metadata": {},
     "output_type": "display_data"
    },
    {
     "data": {
      "application/vnd.jupyter.widget-view+json": {
       "model_id": "2cc50583690341d38ff754bb517c9184",
       "version_major": 2,
       "version_minor": 0
      },
      "text/plain": [
       "[pred_fn]:   0%|          | 0/79 [00:00<?, ?it/s]"
      ]
     },
     "metadata": {},
     "output_type": "display_data"
    },
    {
     "data": {
      "application/vnd.jupyter.widget-view+json": {
       "model_id": "2c5b941fc0364af6aeba0cdda834ac41",
       "version_major": 2,
       "version_minor": 0
      },
      "text/plain": [
       "[pred_fn]:   0%|          | 0/79 [00:00<?, ?it/s]"
      ]
     },
     "metadata": {},
     "output_type": "display_data"
    },
    {
     "data": {
      "application/vnd.jupyter.widget-view+json": {
       "model_id": "aa0532c9e45e45d2b0cca62e099ecbf3",
       "version_major": 2,
       "version_minor": 0
      },
      "text/plain": [
       "[pred_fn]:   0%|          | 0/79 [00:00<?, ?it/s]"
      ]
     },
     "metadata": {},
     "output_type": "display_data"
    },
    {
     "data": {
      "application/vnd.jupyter.widget-view+json": {
       "model_id": "75347d4b31b9488c8699adf3bfa94b96",
       "version_major": 2,
       "version_minor": 0
      },
      "text/plain": [
       "[pred_fn]:   0%|          | 0/79 [00:00<?, ?it/s]"
      ]
     },
     "metadata": {},
     "output_type": "display_data"
    },
    {
     "data": {
      "application/vnd.jupyter.widget-view+json": {
       "model_id": "f03c9d1275e34cc187f8a14c2011c193",
       "version_major": 2,
       "version_minor": 0
      },
      "text/plain": [
       "[pred_fn]:   0%|          | 0/79 [00:00<?, ?it/s]"
      ]
     },
     "metadata": {},
     "output_type": "display_data"
    },
    {
     "data": {
      "application/vnd.jupyter.widget-view+json": {
       "model_id": "010f817eed91445a86318f9c1d55f9a1",
       "version_major": 2,
       "version_minor": 0
      },
      "text/plain": [
       "[pred_fn]:   0%|          | 0/79 [00:00<?, ?it/s]"
      ]
     },
     "metadata": {},
     "output_type": "display_data"
    },
    {
     "data": {
      "application/vnd.jupyter.widget-view+json": {
       "model_id": "16a12aba9698443a85b8a41fe776e428",
       "version_major": 2,
       "version_minor": 0
      },
      "text/plain": [
       "[pred_fn]:   0%|          | 0/79 [00:00<?, ?it/s]"
      ]
     },
     "metadata": {},
     "output_type": "display_data"
    },
    {
     "data": {
      "application/vnd.jupyter.widget-view+json": {
       "model_id": "2ca9f88bb29f46718b3c77140bc2c9a4",
       "version_major": 2,
       "version_minor": 0
      },
      "text/plain": [
       "[pred_fn]:   0%|          | 0/79 [00:00<?, ?it/s]"
      ]
     },
     "metadata": {},
     "output_type": "display_data"
    },
    {
     "data": {
      "application/vnd.jupyter.widget-view+json": {
       "model_id": "e780c413338d4512a707dc1e3fc2902d",
       "version_major": 2,
       "version_minor": 0
      },
      "text/plain": [
       "[pred_fn]:   0%|          | 0/79 [00:00<?, ?it/s]"
      ]
     },
     "metadata": {},
     "output_type": "display_data"
    },
    {
     "data": {
      "application/vnd.jupyter.widget-view+json": {
       "model_id": "42ca11f8da5a4c3dbf76cb3cab1faeaa",
       "version_major": 2,
       "version_minor": 0
      },
      "text/plain": [
       "[pred_fn]:   0%|          | 0/79 [00:00<?, ?it/s]"
      ]
     },
     "metadata": {},
     "output_type": "display_data"
    },
    {
     "data": {
      "application/vnd.jupyter.widget-view+json": {
       "model_id": "c68bb22a2ba34064bf3852d5dc83b609",
       "version_major": 2,
       "version_minor": 0
      },
      "text/plain": [
       "[pred_fn]:   0%|          | 0/79 [00:00<?, ?it/s]"
      ]
     },
     "metadata": {},
     "output_type": "display_data"
    },
    {
     "data": {
      "application/vnd.jupyter.widget-view+json": {
       "model_id": "b441b9a101ae4a49adebe0eccfc6afb7",
       "version_major": 2,
       "version_minor": 0
      },
      "text/plain": [
       "[pred_fn]:   0%|          | 0/79 [00:00<?, ?it/s]"
      ]
     },
     "metadata": {},
     "output_type": "display_data"
    },
    {
     "data": {
      "application/vnd.jupyter.widget-view+json": {
       "model_id": "3850d093af4041988595f40cb1a9e6ae",
       "version_major": 2,
       "version_minor": 0
      },
      "text/plain": [
       "[pred_fn]:   0%|          | 0/79 [00:00<?, ?it/s]"
      ]
     },
     "metadata": {},
     "output_type": "display_data"
    },
    {
     "data": {
      "application/vnd.jupyter.widget-view+json": {
       "model_id": "765a77aee7774bc7ab01742026344df0",
       "version_major": 2,
       "version_minor": 0
      },
      "text/plain": [
       "[pred_fn]:   0%|          | 0/79 [00:00<?, ?it/s]"
      ]
     },
     "metadata": {},
     "output_type": "display_data"
    },
    {
     "data": {
      "application/vnd.jupyter.widget-view+json": {
       "model_id": "04440dd796964ab3afa7a3f776df2830",
       "version_major": 2,
       "version_minor": 0
      },
      "text/plain": [
       "[pred_fn]:   0%|          | 0/79 [00:00<?, ?it/s]"
      ]
     },
     "metadata": {},
     "output_type": "display_data"
    },
    {
     "data": {
      "application/vnd.jupyter.widget-view+json": {
       "model_id": "af7c43233f354b13af75a40a45e79762",
       "version_major": 2,
       "version_minor": 0
      },
      "text/plain": [
       "[pred_fn]:   0%|          | 0/79 [00:00<?, ?it/s]"
      ]
     },
     "metadata": {},
     "output_type": "display_data"
    },
    {
     "data": {
      "application/vnd.jupyter.widget-view+json": {
       "model_id": "13c24bfadb2a4ccca8003f1fe2b7e980",
       "version_major": 2,
       "version_minor": 0
      },
      "text/plain": [
       "[pred_fn]:   0%|          | 0/79 [00:00<?, ?it/s]"
      ]
     },
     "metadata": {},
     "output_type": "display_data"
    },
    {
     "data": {
      "application/vnd.jupyter.widget-view+json": {
       "model_id": "68a4f82212cc4bb4a38bfb318f2e37dc",
       "version_major": 2,
       "version_minor": 0
      },
      "text/plain": [
       "[pred_fn]:   0%|          | 0/79 [00:00<?, ?it/s]"
      ]
     },
     "metadata": {},
     "output_type": "display_data"
    },
    {
     "data": {
      "application/vnd.jupyter.widget-view+json": {
       "model_id": "19a25362258e41f090bd9b99f3b16570",
       "version_major": 2,
       "version_minor": 0
      },
      "text/plain": [
       "[pred_fn]:   0%|          | 0/79 [00:00<?, ?it/s]"
      ]
     },
     "metadata": {},
     "output_type": "display_data"
    },
    {
     "data": {
      "application/vnd.jupyter.widget-view+json": {
       "model_id": "33c7db6bd72d45efa0fd0e94dcb04764",
       "version_major": 2,
       "version_minor": 0
      },
      "text/plain": [
       "[pred_fn]:   0%|          | 0/79 [00:00<?, ?it/s]"
      ]
     },
     "metadata": {},
     "output_type": "display_data"
    },
    {
     "data": {
      "application/vnd.jupyter.widget-view+json": {
       "model_id": "82599d3b970e4a0f870ecd42f37ed333",
       "version_major": 2,
       "version_minor": 0
      },
      "text/plain": [
       "[pred_fn]:   0%|          | 0/79 [00:00<?, ?it/s]"
      ]
     },
     "metadata": {},
     "output_type": "display_data"
    },
    {
     "data": {
      "application/vnd.jupyter.widget-view+json": {
       "model_id": "e4c31342c5b64f97a79cc9ed3084ef78",
       "version_major": 2,
       "version_minor": 0
      },
      "text/plain": [
       "[pred_fn]:   0%|          | 0/79 [00:00<?, ?it/s]"
      ]
     },
     "metadata": {},
     "output_type": "display_data"
    },
    {
     "data": {
      "application/vnd.jupyter.widget-view+json": {
       "model_id": "77937447fb1f4f0f9d957186eaa1de13",
       "version_major": 2,
       "version_minor": 0
      },
      "text/plain": [
       "[pred_fn]:   0%|          | 0/79 [00:00<?, ?it/s]"
      ]
     },
     "metadata": {},
     "output_type": "display_data"
    },
    {
     "data": {
      "application/vnd.jupyter.widget-view+json": {
       "model_id": "14fd4d331b784988ac6662ffdef8e71a",
       "version_major": 2,
       "version_minor": 0
      },
      "text/plain": [
       "[pred_fn]:   0%|          | 0/79 [00:00<?, ?it/s]"
      ]
     },
     "metadata": {},
     "output_type": "display_data"
    },
    {
     "data": {
      "application/vnd.jupyter.widget-view+json": {
       "model_id": "f83ebab39f1348eb8392285d18159bad",
       "version_major": 2,
       "version_minor": 0
      },
      "text/plain": [
       "[pred_fn]:   0%|          | 0/79 [00:00<?, ?it/s]"
      ]
     },
     "metadata": {},
     "output_type": "display_data"
    },
    {
     "data": {
      "application/vnd.jupyter.widget-view+json": {
       "model_id": "51f217ac6aa647f9a6f8d6f47e0f9854",
       "version_major": 2,
       "version_minor": 0
      },
      "text/plain": [
       "[pred_fn]:   0%|          | 0/79 [00:00<?, ?it/s]"
      ]
     },
     "metadata": {},
     "output_type": "display_data"
    },
    {
     "data": {
      "application/vnd.jupyter.widget-view+json": {
       "model_id": "8511f4f6adda461491d42dff76332eb2",
       "version_major": 2,
       "version_minor": 0
      },
      "text/plain": [
       "[pred_fn]:   0%|          | 0/79 [00:00<?, ?it/s]"
      ]
     },
     "metadata": {},
     "output_type": "display_data"
    },
    {
     "data": {
      "application/vnd.jupyter.widget-view+json": {
       "model_id": "f116936f8741464587192d8fe2b0f4bf",
       "version_major": 2,
       "version_minor": 0
      },
      "text/plain": [
       "[pred_fn]:   0%|          | 0/79 [00:00<?, ?it/s]"
      ]
     },
     "metadata": {},
     "output_type": "display_data"
    },
    {
     "data": {
      "application/vnd.jupyter.widget-view+json": {
       "model_id": "336ef191be65417788bbd62fbfe4847a",
       "version_major": 2,
       "version_minor": 0
      },
      "text/plain": [
       "[pred_fn]:   0%|          | 0/79 [00:00<?, ?it/s]"
      ]
     },
     "metadata": {},
     "output_type": "display_data"
    },
    {
     "data": {
      "application/vnd.jupyter.widget-view+json": {
       "model_id": "dfb9e37a2a0c4e189f5075dff3fe5998",
       "version_major": 2,
       "version_minor": 0
      },
      "text/plain": [
       "[pred_fn]:   0%|          | 0/79 [00:00<?, ?it/s]"
      ]
     },
     "metadata": {},
     "output_type": "display_data"
    },
    {
     "data": {
      "application/vnd.jupyter.widget-view+json": {
       "model_id": "b79d3aaeb21444aeb2de33cdceff1de8",
       "version_major": 2,
       "version_minor": 0
      },
      "text/plain": [
       "[pred_fn]:   0%|          | 0/79 [00:00<?, ?it/s]"
      ]
     },
     "metadata": {},
     "output_type": "display_data"
    },
    {
     "data": {
      "application/vnd.jupyter.widget-view+json": {
       "model_id": "b545dc47114842c294f5c5ec03143e80",
       "version_major": 2,
       "version_minor": 0
      },
      "text/plain": [
       "[pred_fn]:   0%|          | 0/79 [00:00<?, ?it/s]"
      ]
     },
     "metadata": {},
     "output_type": "display_data"
    },
    {
     "data": {
      "application/vnd.jupyter.widget-view+json": {
       "model_id": "b99f0fe81e4a42f682f7ab0a255c1831",
       "version_major": 2,
       "version_minor": 0
      },
      "text/plain": [
       "[pred_fn]:   0%|          | 0/79 [00:00<?, ?it/s]"
      ]
     },
     "metadata": {},
     "output_type": "display_data"
    },
    {
     "data": {
      "application/vnd.jupyter.widget-view+json": {
       "model_id": "4c1da12aa94143a888fcf8613c21ccc6",
       "version_major": 2,
       "version_minor": 0
      },
      "text/plain": [
       "[pred_fn]:   0%|          | 0/79 [00:00<?, ?it/s]"
      ]
     },
     "metadata": {},
     "output_type": "display_data"
    },
    {
     "data": {
      "application/vnd.jupyter.widget-view+json": {
       "model_id": "d5b6f72ee0e1463db7b0fa70cd306390",
       "version_major": 2,
       "version_minor": 0
      },
      "text/plain": [
       "[pred_fn]:   0%|          | 0/79 [00:00<?, ?it/s]"
      ]
     },
     "metadata": {},
     "output_type": "display_data"
    },
    {
     "data": {
      "application/vnd.jupyter.widget-view+json": {
       "model_id": "a3bf78f4799e4adcb5c09f2392ecb883",
       "version_major": 2,
       "version_minor": 0
      },
      "text/plain": [
       "[pred_fn]:   0%|          | 0/79 [00:00<?, ?it/s]"
      ]
     },
     "metadata": {},
     "output_type": "display_data"
    },
    {
     "data": {
      "application/vnd.jupyter.widget-view+json": {
       "model_id": "e85ee288a27c4a66b29f74d7a154cc09",
       "version_major": 2,
       "version_minor": 0
      },
      "text/plain": [
       "[pred_fn]:   0%|          | 0/79 [00:00<?, ?it/s]"
      ]
     },
     "metadata": {},
     "output_type": "display_data"
    },
    {
     "data": {
      "application/vnd.jupyter.widget-view+json": {
       "model_id": "367746c8c8694f80821dff0a0cac496e",
       "version_major": 2,
       "version_minor": 0
      },
      "text/plain": [
       "[pred_fn]:   0%|          | 0/79 [00:00<?, ?it/s]"
      ]
     },
     "metadata": {},
     "output_type": "display_data"
    },
    {
     "data": {
      "application/vnd.jupyter.widget-view+json": {
       "model_id": "cb998c9bce5b4ebab2947169d3fb7804",
       "version_major": 2,
       "version_minor": 0
      },
      "text/plain": [
       "[pred_fn]:   0%|          | 0/79 [00:00<?, ?it/s]"
      ]
     },
     "metadata": {},
     "output_type": "display_data"
    },
    {
     "data": {
      "application/vnd.jupyter.widget-view+json": {
       "model_id": "777202a898344179940128ae4ace1c4d",
       "version_major": 2,
       "version_minor": 0
      },
      "text/plain": [
       "[pred_fn]:   0%|          | 0/79 [00:00<?, ?it/s]"
      ]
     },
     "metadata": {},
     "output_type": "display_data"
    },
    {
     "data": {
      "application/vnd.jupyter.widget-view+json": {
       "model_id": "9e958fd2441546788c297f203d9d5796",
       "version_major": 2,
       "version_minor": 0
      },
      "text/plain": [
       "[pred_fn]:   0%|          | 0/79 [00:00<?, ?it/s]"
      ]
     },
     "metadata": {},
     "output_type": "display_data"
    },
    {
     "data": {
      "application/vnd.jupyter.widget-view+json": {
       "model_id": "5db9aa70794549de9604ad2aeafd4b7a",
       "version_major": 2,
       "version_minor": 0
      },
      "text/plain": [
       "[pred_fn]:   0%|          | 0/79 [00:00<?, ?it/s]"
      ]
     },
     "metadata": {},
     "output_type": "display_data"
    },
    {
     "data": {
      "application/vnd.jupyter.widget-view+json": {
       "model_id": "86d059cd92ae45ecb4b3bad5af65fc1c",
       "version_major": 2,
       "version_minor": 0
      },
      "text/plain": [
       "[pred_fn]:   0%|          | 0/79 [00:00<?, ?it/s]"
      ]
     },
     "metadata": {},
     "output_type": "display_data"
    },
    {
     "data": {
      "application/vnd.jupyter.widget-view+json": {
       "model_id": "1876852f415e46689e143e7bd1d4de4f",
       "version_major": 2,
       "version_minor": 0
      },
      "text/plain": [
       "[pred_fn]:   0%|          | 0/79 [00:00<?, ?it/s]"
      ]
     },
     "metadata": {},
     "output_type": "display_data"
    },
    {
     "data": {
      "application/vnd.jupyter.widget-view+json": {
       "model_id": "837fb270a4f7493a928ebddded0d5988",
       "version_major": 2,
       "version_minor": 0
      },
      "text/plain": [
       "[pred_fn]:   0%|          | 0/79 [00:00<?, ?it/s]"
      ]
     },
     "metadata": {},
     "output_type": "display_data"
    },
    {
     "data": {
      "application/vnd.jupyter.widget-view+json": {
       "model_id": "edf08459b3f746fa921ecbb68000b799",
       "version_major": 2,
       "version_minor": 0
      },
      "text/plain": [
       "[pred_fn]:   0%|          | 0/79 [00:00<?, ?it/s]"
      ]
     },
     "metadata": {},
     "output_type": "display_data"
    },
    {
     "data": {
      "application/vnd.jupyter.widget-view+json": {
       "model_id": "1adc517e049e40e481845627f0ebdcba",
       "version_major": 2,
       "version_minor": 0
      },
      "text/plain": [
       "[pred_fn]:   0%|          | 0/79 [00:00<?, ?it/s]"
      ]
     },
     "metadata": {},
     "output_type": "display_data"
    },
    {
     "data": {
      "application/vnd.jupyter.widget-view+json": {
       "model_id": "b91c264cd4204a3a839d65efed3a91e3",
       "version_major": 2,
       "version_minor": 0
      },
      "text/plain": [
       "[pred_fn]:   0%|          | 0/79 [00:00<?, ?it/s]"
      ]
     },
     "metadata": {},
     "output_type": "display_data"
    },
    {
     "data": {
      "application/vnd.jupyter.widget-view+json": {
       "model_id": "c896ab13658347dfb733a9839bcb0114",
       "version_major": 2,
       "version_minor": 0
      },
      "text/plain": [
       "[pred_fn]:   0%|          | 0/79 [00:00<?, ?it/s]"
      ]
     },
     "metadata": {},
     "output_type": "display_data"
    },
    {
     "data": {
      "application/vnd.jupyter.widget-view+json": {
       "model_id": "0ecefbb4ac8f470ea7105c79743904a9",
       "version_major": 2,
       "version_minor": 0
      },
      "text/plain": [
       "[pred_fn]:   0%|          | 0/79 [00:00<?, ?it/s]"
      ]
     },
     "metadata": {},
     "output_type": "display_data"
    },
    {
     "data": {
      "application/vnd.jupyter.widget-view+json": {
       "model_id": "9bb1c1a88d7e42c99435cdb8bf36541b",
       "version_major": 2,
       "version_minor": 0
      },
      "text/plain": [
       "[pred_fn]:   0%|          | 0/79 [00:00<?, ?it/s]"
      ]
     },
     "metadata": {},
     "output_type": "display_data"
    },
    {
     "data": {
      "application/vnd.jupyter.widget-view+json": {
       "model_id": "a162d6f9d6b04049a17a0c51f2728aad",
       "version_major": 2,
       "version_minor": 0
      },
      "text/plain": [
       "[pred_fn]:   0%|          | 0/79 [00:00<?, ?it/s]"
      ]
     },
     "metadata": {},
     "output_type": "display_data"
    },
    {
     "data": {
      "application/vnd.jupyter.widget-view+json": {
       "model_id": "704a10431cb642eba0e534668f16c39b",
       "version_major": 2,
       "version_minor": 0
      },
      "text/plain": [
       "[pred_fn]:   0%|          | 0/79 [00:00<?, ?it/s]"
      ]
     },
     "metadata": {},
     "output_type": "display_data"
    },
    {
     "data": {
      "application/vnd.jupyter.widget-view+json": {
       "model_id": "13531c59611c4351a2baca9cee8e58ed",
       "version_major": 2,
       "version_minor": 0
      },
      "text/plain": [
       "[pred_fn]:   0%|          | 0/79 [00:00<?, ?it/s]"
      ]
     },
     "metadata": {},
     "output_type": "display_data"
    },
    {
     "data": {
      "application/vnd.jupyter.widget-view+json": {
       "model_id": "163009d03c99484ba6cc59158d03e0e5",
       "version_major": 2,
       "version_minor": 0
      },
      "text/plain": [
       "[pred_fn]:   0%|          | 0/79 [00:00<?, ?it/s]"
      ]
     },
     "metadata": {},
     "output_type": "display_data"
    },
    {
     "data": {
      "application/vnd.jupyter.widget-view+json": {
       "model_id": "f3136855ebb343deb596d8a2c663ace6",
       "version_major": 2,
       "version_minor": 0
      },
      "text/plain": [
       "[pred_fn]:   0%|          | 0/79 [00:00<?, ?it/s]"
      ]
     },
     "metadata": {},
     "output_type": "display_data"
    },
    {
     "data": {
      "application/vnd.jupyter.widget-view+json": {
       "model_id": "142763468b024b93a483feb92d770165",
       "version_major": 2,
       "version_minor": 0
      },
      "text/plain": [
       "[pred_fn]:   0%|          | 0/79 [00:00<?, ?it/s]"
      ]
     },
     "metadata": {},
     "output_type": "display_data"
    },
    {
     "data": {
      "application/vnd.jupyter.widget-view+json": {
       "model_id": "2e9e53353f0c4c40aa048d373c16421c",
       "version_major": 2,
       "version_minor": 0
      },
      "text/plain": [
       "[pred_fn]:   0%|          | 0/79 [00:00<?, ?it/s]"
      ]
     },
     "metadata": {},
     "output_type": "display_data"
    },
    {
     "data": {
      "application/vnd.jupyter.widget-view+json": {
       "model_id": "316c7e4be9ef447e80d1bc024598af13",
       "version_major": 2,
       "version_minor": 0
      },
      "text/plain": [
       "[pred_fn]:   0%|          | 0/79 [00:00<?, ?it/s]"
      ]
     },
     "metadata": {},
     "output_type": "display_data"
    },
    {
     "data": {
      "application/vnd.jupyter.widget-view+json": {
       "model_id": "839f52932d62482f8594954ea680dfaa",
       "version_major": 2,
       "version_minor": 0
      },
      "text/plain": [
       "[pred_fn]:   0%|          | 0/79 [00:00<?, ?it/s]"
      ]
     },
     "metadata": {},
     "output_type": "display_data"
    },
    {
     "data": {
      "application/vnd.jupyter.widget-view+json": {
       "model_id": "dad79b7887f141b68373cb82d05abcb1",
       "version_major": 2,
       "version_minor": 0
      },
      "text/plain": [
       "[pred_fn]:   0%|          | 0/79 [00:00<?, ?it/s]"
      ]
     },
     "metadata": {},
     "output_type": "display_data"
    },
    {
     "data": {
      "application/vnd.jupyter.widget-view+json": {
       "model_id": "4c8a7756af164a43a6c7d45abfd691e4",
       "version_major": 2,
       "version_minor": 0
      },
      "text/plain": [
       "[pred_fn]:   0%|          | 0/79 [00:00<?, ?it/s]"
      ]
     },
     "metadata": {},
     "output_type": "display_data"
    },
    {
     "data": {
      "application/vnd.jupyter.widget-view+json": {
       "model_id": "ce0e3bd1d7c44c2c8010878e14d356fd",
       "version_major": 2,
       "version_minor": 0
      },
      "text/plain": [
       "[pred_fn]:   0%|          | 0/79 [00:00<?, ?it/s]"
      ]
     },
     "metadata": {},
     "output_type": "display_data"
    },
    {
     "data": {
      "application/vnd.jupyter.widget-view+json": {
       "model_id": "4a11a1b40bc94f5c9e23448841212839",
       "version_major": 2,
       "version_minor": 0
      },
      "text/plain": [
       "[pred_fn]:   0%|          | 0/79 [00:00<?, ?it/s]"
      ]
     },
     "metadata": {},
     "output_type": "display_data"
    },
    {
     "data": {
      "application/vnd.jupyter.widget-view+json": {
       "model_id": "fc68c8da2b1e4e36bc505e682bc4f8c1",
       "version_major": 2,
       "version_minor": 0
      },
      "text/plain": [
       "[pred_fn]:   0%|          | 0/79 [00:00<?, ?it/s]"
      ]
     },
     "metadata": {},
     "output_type": "display_data"
    },
    {
     "data": {
      "application/vnd.jupyter.widget-view+json": {
       "model_id": "c96ee011931c4c64b2aabee51b3c5d72",
       "version_major": 2,
       "version_minor": 0
      },
      "text/plain": [
       "[pred_fn]:   0%|          | 0/79 [00:00<?, ?it/s]"
      ]
     },
     "metadata": {},
     "output_type": "display_data"
    },
    {
     "data": {
      "application/vnd.jupyter.widget-view+json": {
       "model_id": "52332080e70242fea989920e4cea3b71",
       "version_major": 2,
       "version_minor": 0
      },
      "text/plain": [
       "[pred_fn]:   0%|          | 0/79 [00:00<?, ?it/s]"
      ]
     },
     "metadata": {},
     "output_type": "display_data"
    },
    {
     "data": {
      "application/vnd.jupyter.widget-view+json": {
       "model_id": "8e63d29eb3de46e1bf9d7e4322096d5c",
       "version_major": 2,
       "version_minor": 0
      },
      "text/plain": [
       "[pred_fn]:   0%|          | 0/79 [00:00<?, ?it/s]"
      ]
     },
     "metadata": {},
     "output_type": "display_data"
    },
    {
     "data": {
      "application/vnd.jupyter.widget-view+json": {
       "model_id": "d68b07e31fb0460585601272e7ad2156",
       "version_major": 2,
       "version_minor": 0
      },
      "text/plain": [
       "[pred_fn]:   0%|          | 0/79 [00:00<?, ?it/s]"
      ]
     },
     "metadata": {},
     "output_type": "display_data"
    },
    {
     "data": {
      "application/vnd.jupyter.widget-view+json": {
       "model_id": "ad2654f1799042ac8ec7b47b16bdaa5e",
       "version_major": 2,
       "version_minor": 0
      },
      "text/plain": [
       "[pred_fn]:   0%|          | 0/79 [00:00<?, ?it/s]"
      ]
     },
     "metadata": {},
     "output_type": "display_data"
    },
    {
     "data": {
      "application/vnd.jupyter.widget-view+json": {
       "model_id": "8f3faa80b71546bfb75763349a6b31a8",
       "version_major": 2,
       "version_minor": 0
      },
      "text/plain": [
       "[pred_fn]:   0%|          | 0/79 [00:00<?, ?it/s]"
      ]
     },
     "metadata": {},
     "output_type": "display_data"
    },
    {
     "data": {
      "application/vnd.jupyter.widget-view+json": {
       "model_id": "66ff0d0e4a48496e854ce378c1a71518",
       "version_major": 2,
       "version_minor": 0
      },
      "text/plain": [
       "[pred_fn]:   0%|          | 0/79 [00:00<?, ?it/s]"
      ]
     },
     "metadata": {},
     "output_type": "display_data"
    },
    {
     "data": {
      "application/vnd.jupyter.widget-view+json": {
       "model_id": "061399141d2144c7bc2b134606512cb7",
       "version_major": 2,
       "version_minor": 0
      },
      "text/plain": [
       "[pred_fn]:   0%|          | 0/79 [00:00<?, ?it/s]"
      ]
     },
     "metadata": {},
     "output_type": "display_data"
    },
    {
     "data": {
      "application/vnd.jupyter.widget-view+json": {
       "model_id": "54ea02232e9141d5b7d78f79d3c3dca1",
       "version_major": 2,
       "version_minor": 0
      },
      "text/plain": [
       "[pred_fn]:   0%|          | 0/79 [00:00<?, ?it/s]"
      ]
     },
     "metadata": {},
     "output_type": "display_data"
    },
    {
     "data": {
      "application/vnd.jupyter.widget-view+json": {
       "model_id": "dc107db12bc244a68b605338540e8a6d",
       "version_major": 2,
       "version_minor": 0
      },
      "text/plain": [
       "[pred_fn]:   0%|          | 0/79 [00:00<?, ?it/s]"
      ]
     },
     "metadata": {},
     "output_type": "display_data"
    },
    {
     "data": {
      "application/vnd.jupyter.widget-view+json": {
       "model_id": "f9e023134b5c4176858bf5728bed89ae",
       "version_major": 2,
       "version_minor": 0
      },
      "text/plain": [
       "[pred_fn]:   0%|          | 0/79 [00:00<?, ?it/s]"
      ]
     },
     "metadata": {},
     "output_type": "display_data"
    },
    {
     "data": {
      "application/vnd.jupyter.widget-view+json": {
       "model_id": "1c2bf3649b77477f9e5875eeae8343a7",
       "version_major": 2,
       "version_minor": 0
      },
      "text/plain": [
       "[pred_fn]:   0%|          | 0/79 [00:00<?, ?it/s]"
      ]
     },
     "metadata": {},
     "output_type": "display_data"
    },
    {
     "data": {
      "application/vnd.jupyter.widget-view+json": {
       "model_id": "8126da67976c4d7690e701ffa8b66375",
       "version_major": 2,
       "version_minor": 0
      },
      "text/plain": [
       "[pred_fn]:   0%|          | 0/79 [00:00<?, ?it/s]"
      ]
     },
     "metadata": {},
     "output_type": "display_data"
    },
    {
     "data": {
      "application/vnd.jupyter.widget-view+json": {
       "model_id": "7c2773f236d34aec8f63bede24d403c8",
       "version_major": 2,
       "version_minor": 0
      },
      "text/plain": [
       "[pred_fn]:   0%|          | 0/79 [00:00<?, ?it/s]"
      ]
     },
     "metadata": {},
     "output_type": "display_data"
    },
    {
     "data": {
      "application/vnd.jupyter.widget-view+json": {
       "model_id": "b073773e6afc4bf4a04b13788cca454a",
       "version_major": 2,
       "version_minor": 0
      },
      "text/plain": [
       "[pred_fn]:   0%|          | 0/79 [00:00<?, ?it/s]"
      ]
     },
     "metadata": {},
     "output_type": "display_data"
    },
    {
     "data": {
      "application/vnd.jupyter.widget-view+json": {
       "model_id": "8d950e87cbef415ca88422975dbb3e69",
       "version_major": 2,
       "version_minor": 0
      },
      "text/plain": [
       "[pred_fn]:   0%|          | 0/79 [00:00<?, ?it/s]"
      ]
     },
     "metadata": {},
     "output_type": "display_data"
    },
    {
     "data": {
      "application/vnd.jupyter.widget-view+json": {
       "model_id": "346c35963f824478a87a498d505c74e0",
       "version_major": 2,
       "version_minor": 0
      },
      "text/plain": [
       "[pred_fn]:   0%|          | 0/79 [00:00<?, ?it/s]"
      ]
     },
     "metadata": {},
     "output_type": "display_data"
    },
    {
     "data": {
      "application/vnd.jupyter.widget-view+json": {
       "model_id": "2f829bf6bf404855998a49ea1ae8a7ea",
       "version_major": 2,
       "version_minor": 0
      },
      "text/plain": [
       "[pred_fn]:   0%|          | 0/79 [00:00<?, ?it/s]"
      ]
     },
     "metadata": {},
     "output_type": "display_data"
    },
    {
     "data": {
      "application/vnd.jupyter.widget-view+json": {
       "model_id": "f0ef512a036d4eaca4fc5c5177a07c01",
       "version_major": 2,
       "version_minor": 0
      },
      "text/plain": [
       "[pred_fn]:   0%|          | 0/79 [00:00<?, ?it/s]"
      ]
     },
     "metadata": {},
     "output_type": "display_data"
    },
    {
     "data": {
      "application/vnd.jupyter.widget-view+json": {
       "model_id": "3193f7962bc44b50a0fe465f849386b8",
       "version_major": 2,
       "version_minor": 0
      },
      "text/plain": [
       "[pred_fn]:   0%|          | 0/79 [00:00<?, ?it/s]"
      ]
     },
     "metadata": {},
     "output_type": "display_data"
    },
    {
     "data": {
      "application/vnd.jupyter.widget-view+json": {
       "model_id": "ee9ded2f45fc4b14aa194c06cdff9b91",
       "version_major": 2,
       "version_minor": 0
      },
      "text/plain": [
       "[pred_fn]:   0%|          | 0/79 [00:00<?, ?it/s]"
      ]
     },
     "metadata": {},
     "output_type": "display_data"
    },
    {
     "data": {
      "application/vnd.jupyter.widget-view+json": {
       "model_id": "fc7bcabd65544f6f9f677e889be6d0eb",
       "version_major": 2,
       "version_minor": 0
      },
      "text/plain": [
       "[pred_fn]:   0%|          | 0/79 [00:00<?, ?it/s]"
      ]
     },
     "metadata": {},
     "output_type": "display_data"
    },
    {
     "data": {
      "application/vnd.jupyter.widget-view+json": {
       "model_id": "571cf56b929d42ffb40ff4166a43ff13",
       "version_major": 2,
       "version_minor": 0
      },
      "text/plain": [
       "[pred_fn]:   0%|          | 0/79 [00:00<?, ?it/s]"
      ]
     },
     "metadata": {},
     "output_type": "display_data"
    },
    {
     "data": {
      "application/vnd.jupyter.widget-view+json": {
       "model_id": "e922564eb61546f78cc018bc2540a3bb",
       "version_major": 2,
       "version_minor": 0
      },
      "text/plain": [
       "[pred_fn]:   0%|          | 0/79 [00:00<?, ?it/s]"
      ]
     },
     "metadata": {},
     "output_type": "display_data"
    },
    {
     "data": {
      "application/vnd.jupyter.widget-view+json": {
       "model_id": "8954a413b53749d28fd3d6d3261dc134",
       "version_major": 2,
       "version_minor": 0
      },
      "text/plain": [
       "[pred_fn]:   0%|          | 0/79 [00:00<?, ?it/s]"
      ]
     },
     "metadata": {},
     "output_type": "display_data"
    },
    {
     "data": {
      "application/vnd.jupyter.widget-view+json": {
       "model_id": "5b61e1d27e2c46168b7a683e4f48ac5e",
       "version_major": 2,
       "version_minor": 0
      },
      "text/plain": [
       "[pred_fn]:   0%|          | 0/79 [00:00<?, ?it/s]"
      ]
     },
     "metadata": {},
     "output_type": "display_data"
    },
    {
     "data": {
      "application/vnd.jupyter.widget-view+json": {
       "model_id": "83fe8fe329e84673ad6b703524c1dc11",
       "version_major": 2,
       "version_minor": 0
      },
      "text/plain": [
       "[pred_fn]:   0%|          | 0/79 [00:00<?, ?it/s]"
      ]
     },
     "metadata": {},
     "output_type": "display_data"
    },
    {
     "data": {
      "application/vnd.jupyter.widget-view+json": {
       "model_id": "4720dc68e3a34401b342cd79c4322611",
       "version_major": 2,
       "version_minor": 0
      },
      "text/plain": [
       "[pred_fn]:   0%|          | 0/79 [00:00<?, ?it/s]"
      ]
     },
     "metadata": {},
     "output_type": "display_data"
    },
    {
     "data": {
      "application/vnd.jupyter.widget-view+json": {
       "model_id": "45f6138203754647a03570c65e4ece37",
       "version_major": 2,
       "version_minor": 0
      },
      "text/plain": [
       "[pred_fn]:   0%|          | 0/79 [00:00<?, ?it/s]"
      ]
     },
     "metadata": {},
     "output_type": "display_data"
    },
    {
     "data": {
      "application/vnd.jupyter.widget-view+json": {
       "model_id": "d48f29b0a30742b081e0b629f0df6a67",
       "version_major": 2,
       "version_minor": 0
      },
      "text/plain": [
       "[pred_fn]:   0%|          | 0/79 [00:00<?, ?it/s]"
      ]
     },
     "metadata": {},
     "output_type": "display_data"
    },
    {
     "data": {
      "application/vnd.jupyter.widget-view+json": {
       "model_id": "dea83fcfd027446a8ede62e2aab6fc2b",
       "version_major": 2,
       "version_minor": 0
      },
      "text/plain": [
       "[pred_fn]:   0%|          | 0/79 [00:00<?, ?it/s]"
      ]
     },
     "metadata": {},
     "output_type": "display_data"
    },
    {
     "data": {
      "application/vnd.jupyter.widget-view+json": {
       "model_id": "7bc9c48341604534a43a82433edcc492",
       "version_major": 2,
       "version_minor": 0
      },
      "text/plain": [
       "[pred_fn]:   0%|          | 0/79 [00:00<?, ?it/s]"
      ]
     },
     "metadata": {},
     "output_type": "display_data"
    },
    {
     "data": {
      "application/vnd.jupyter.widget-view+json": {
       "model_id": "5aa7740ea14b43209b8bd94b4f29c492",
       "version_major": 2,
       "version_minor": 0
      },
      "text/plain": [
       "[pred_fn]:   0%|          | 0/79 [00:00<?, ?it/s]"
      ]
     },
     "metadata": {},
     "output_type": "display_data"
    },
    {
     "data": {
      "application/vnd.jupyter.widget-view+json": {
       "model_id": "052c9193e25d4df58db0ecc8dbf92e69",
       "version_major": 2,
       "version_minor": 0
      },
      "text/plain": [
       "[pred_fn]:   0%|          | 0/79 [00:00<?, ?it/s]"
      ]
     },
     "metadata": {},
     "output_type": "display_data"
    },
    {
     "data": {
      "application/vnd.jupyter.widget-view+json": {
       "model_id": "d7bf8e711b194b57ba1e7ac594f21c1c",
       "version_major": 2,
       "version_minor": 0
      },
      "text/plain": [
       "[pred_fn]:   0%|          | 0/79 [00:00<?, ?it/s]"
      ]
     },
     "metadata": {},
     "output_type": "display_data"
    },
    {
     "data": {
      "application/vnd.jupyter.widget-view+json": {
       "model_id": "96ef17f0b63b4456abff2b674d571909",
       "version_major": 2,
       "version_minor": 0
      },
      "text/plain": [
       "[pred_fn]:   0%|          | 0/79 [00:00<?, ?it/s]"
      ]
     },
     "metadata": {},
     "output_type": "display_data"
    },
    {
     "data": {
      "application/vnd.jupyter.widget-view+json": {
       "model_id": "b85565a727554059a15d4747c6608ddf",
       "version_major": 2,
       "version_minor": 0
      },
      "text/plain": [
       "[pred_fn]:   0%|          | 0/79 [00:00<?, ?it/s]"
      ]
     },
     "metadata": {},
     "output_type": "display_data"
    },
    {
     "data": {
      "application/vnd.jupyter.widget-view+json": {
       "model_id": "0fb099bf2f7745fda63e34352f57692e",
       "version_major": 2,
       "version_minor": 0
      },
      "text/plain": [
       "[pred_fn]:   0%|          | 0/79 [00:00<?, ?it/s]"
      ]
     },
     "metadata": {},
     "output_type": "display_data"
    },
    {
     "data": {
      "application/vnd.jupyter.widget-view+json": {
       "model_id": "24fd52d644a54acfaf6e03c3949b4063",
       "version_major": 2,
       "version_minor": 0
      },
      "text/plain": [
       "[pred_fn]:   0%|          | 0/79 [00:00<?, ?it/s]"
      ]
     },
     "metadata": {},
     "output_type": "display_data"
    },
    {
     "data": {
      "application/vnd.jupyter.widget-view+json": {
       "model_id": "b85fc9e883c0469ab06b9070c739f571",
       "version_major": 2,
       "version_minor": 0
      },
      "text/plain": [
       "[pred_fn]:   0%|          | 0/79 [00:00<?, ?it/s]"
      ]
     },
     "metadata": {},
     "output_type": "display_data"
    },
    {
     "data": {
      "application/vnd.jupyter.widget-view+json": {
       "model_id": "bbaf69428ae54de58dd69a825ba834b9",
       "version_major": 2,
       "version_minor": 0
      },
      "text/plain": [
       "[pred_fn]:   0%|          | 0/79 [00:00<?, ?it/s]"
      ]
     },
     "metadata": {},
     "output_type": "display_data"
    },
    {
     "data": {
      "application/vnd.jupyter.widget-view+json": {
       "model_id": "3ddf5d63d066406baf3f13bbc6fae04e",
       "version_major": 2,
       "version_minor": 0
      },
      "text/plain": [
       "[pred_fn]:   0%|          | 0/79 [00:00<?, ?it/s]"
      ]
     },
     "metadata": {},
     "output_type": "display_data"
    },
    {
     "data": {
      "application/vnd.jupyter.widget-view+json": {
       "model_id": "053be8495a204ad1bed208b441fe11d5",
       "version_major": 2,
       "version_minor": 0
      },
      "text/plain": [
       "[pred_fn]:   0%|          | 0/79 [00:00<?, ?it/s]"
      ]
     },
     "metadata": {},
     "output_type": "display_data"
    },
    {
     "data": {
      "application/vnd.jupyter.widget-view+json": {
       "model_id": "a79118e762954aacb7131aa4a7e414ac",
       "version_major": 2,
       "version_minor": 0
      },
      "text/plain": [
       "[pred_fn]:   0%|          | 0/79 [00:00<?, ?it/s]"
      ]
     },
     "metadata": {},
     "output_type": "display_data"
    },
    {
     "data": {
      "application/vnd.jupyter.widget-view+json": {
       "model_id": "1655738b4790400cbe50d4897c2747c5",
       "version_major": 2,
       "version_minor": 0
      },
      "text/plain": [
       "[pred_fn]:   0%|          | 0/79 [00:00<?, ?it/s]"
      ]
     },
     "metadata": {},
     "output_type": "display_data"
    },
    {
     "data": {
      "application/vnd.jupyter.widget-view+json": {
       "model_id": "374fc3ceb71643adaa2a275d6d741a7a",
       "version_major": 2,
       "version_minor": 0
      },
      "text/plain": [
       "[pred_fn]:   0%|          | 0/79 [00:00<?, ?it/s]"
      ]
     },
     "metadata": {},
     "output_type": "display_data"
    },
    {
     "data": {
      "application/vnd.jupyter.widget-view+json": {
       "model_id": "65e8a864907846018c7f0eee7be4f989",
       "version_major": 2,
       "version_minor": 0
      },
      "text/plain": [
       "[pred_fn]:   0%|          | 0/79 [00:00<?, ?it/s]"
      ]
     },
     "metadata": {},
     "output_type": "display_data"
    },
    {
     "data": {
      "application/vnd.jupyter.widget-view+json": {
       "model_id": "f6335944da6748f1b06e88db56af458c",
       "version_major": 2,
       "version_minor": 0
      },
      "text/plain": [
       "[pred_fn]:   0%|          | 0/79 [00:00<?, ?it/s]"
      ]
     },
     "metadata": {},
     "output_type": "display_data"
    },
    {
     "data": {
      "application/vnd.jupyter.widget-view+json": {
       "model_id": "b688fef4bab64ef79ad21f2aba2358c3",
       "version_major": 2,
       "version_minor": 0
      },
      "text/plain": [
       "[pred_fn]:   0%|          | 0/79 [00:00<?, ?it/s]"
      ]
     },
     "metadata": {},
     "output_type": "display_data"
    },
    {
     "data": {
      "application/vnd.jupyter.widget-view+json": {
       "model_id": "71f80d197d5b4342bfa45375141e76da",
       "version_major": 2,
       "version_minor": 0
      },
      "text/plain": [
       "[pred_fn]:   0%|          | 0/79 [00:00<?, ?it/s]"
      ]
     },
     "metadata": {},
     "output_type": "display_data"
    },
    {
     "data": {
      "application/vnd.jupyter.widget-view+json": {
       "model_id": "48c9163210ca4b63981c6b69eeac3fa5",
       "version_major": 2,
       "version_minor": 0
      },
      "text/plain": [
       "[pred_fn]:   0%|          | 0/79 [00:00<?, ?it/s]"
      ]
     },
     "metadata": {},
     "output_type": "display_data"
    },
    {
     "data": {
      "application/vnd.jupyter.widget-view+json": {
       "model_id": "c3588d59be894751bfc67601f1f9eeae",
       "version_major": 2,
       "version_minor": 0
      },
      "text/plain": [
       "[pred_fn]:   0%|          | 0/79 [00:00<?, ?it/s]"
      ]
     },
     "metadata": {},
     "output_type": "display_data"
    },
    {
     "data": {
      "application/vnd.jupyter.widget-view+json": {
       "model_id": "febd7f73cdd340f8b75d0cc7b8aea8a6",
       "version_major": 2,
       "version_minor": 0
      },
      "text/plain": [
       "[pred_fn]:   0%|          | 0/79 [00:00<?, ?it/s]"
      ]
     },
     "metadata": {},
     "output_type": "display_data"
    },
    {
     "data": {
      "application/vnd.jupyter.widget-view+json": {
       "model_id": "3933c50f35e04acba09e6bbe4a7ca536",
       "version_major": 2,
       "version_minor": 0
      },
      "text/plain": [
       "[pred_fn]:   0%|          | 0/79 [00:00<?, ?it/s]"
      ]
     },
     "metadata": {},
     "output_type": "display_data"
    },
    {
     "data": {
      "application/vnd.jupyter.widget-view+json": {
       "model_id": "e959c71732d5458cbb08da2d39f646b8",
       "version_major": 2,
       "version_minor": 0
      },
      "text/plain": [
       "[pred_fn]:   0%|          | 0/79 [00:00<?, ?it/s]"
      ]
     },
     "metadata": {},
     "output_type": "display_data"
    },
    {
     "data": {
      "application/vnd.jupyter.widget-view+json": {
       "model_id": "f58b61517475407ba8fcf62ca9f7dc6e",
       "version_major": 2,
       "version_minor": 0
      },
      "text/plain": [
       "[pred_fn]:   0%|          | 0/79 [00:00<?, ?it/s]"
      ]
     },
     "metadata": {},
     "output_type": "display_data"
    },
    {
     "data": {
      "application/vnd.jupyter.widget-view+json": {
       "model_id": "f73ac03bfb46473e9360c1670c9b2a4c",
       "version_major": 2,
       "version_minor": 0
      },
      "text/plain": [
       "[pred_fn]:   0%|          | 0/79 [00:00<?, ?it/s]"
      ]
     },
     "metadata": {},
     "output_type": "display_data"
    },
    {
     "data": {
      "application/vnd.jupyter.widget-view+json": {
       "model_id": "e76bc8e55b0043b8b969efbdc82a4a2d",
       "version_major": 2,
       "version_minor": 0
      },
      "text/plain": [
       "[pred_fn]:   0%|          | 0/79 [00:00<?, ?it/s]"
      ]
     },
     "metadata": {},
     "output_type": "display_data"
    },
    {
     "data": {
      "application/vnd.jupyter.widget-view+json": {
       "model_id": "be9b182688a94a35aec4a25b5b4b81e8",
       "version_major": 2,
       "version_minor": 0
      },
      "text/plain": [
       "[pred_fn]:   0%|          | 0/79 [00:00<?, ?it/s]"
      ]
     },
     "metadata": {},
     "output_type": "display_data"
    },
    {
     "data": {
      "application/vnd.jupyter.widget-view+json": {
       "model_id": "079ad94d578d4e6195b34f7aa2356738",
       "version_major": 2,
       "version_minor": 0
      },
      "text/plain": [
       "[pred_fn]:   0%|          | 0/79 [00:00<?, ?it/s]"
      ]
     },
     "metadata": {},
     "output_type": "display_data"
    },
    {
     "data": {
      "application/vnd.jupyter.widget-view+json": {
       "model_id": "80085508c55d4a05877af65c2e701bc8",
       "version_major": 2,
       "version_minor": 0
      },
      "text/plain": [
       "[pred_fn]:   0%|          | 0/79 [00:00<?, ?it/s]"
      ]
     },
     "metadata": {},
     "output_type": "display_data"
    },
    {
     "data": {
      "application/vnd.jupyter.widget-view+json": {
       "model_id": "2ba368dd06bd4f61ba801cedd0b4d796",
       "version_major": 2,
       "version_minor": 0
      },
      "text/plain": [
       "[pred_fn]:   0%|          | 0/79 [00:00<?, ?it/s]"
      ]
     },
     "metadata": {},
     "output_type": "display_data"
    },
    {
     "data": {
      "application/vnd.jupyter.widget-view+json": {
       "model_id": "8a9fde4d0dff4f909da7f4c849e23d5c",
       "version_major": 2,
       "version_minor": 0
      },
      "text/plain": [
       "[pred_fn]:   0%|          | 0/79 [00:00<?, ?it/s]"
      ]
     },
     "metadata": {},
     "output_type": "display_data"
    },
    {
     "data": {
      "application/vnd.jupyter.widget-view+json": {
       "model_id": "7cb3e17a9efd405f88685882aaf8fe97",
       "version_major": 2,
       "version_minor": 0
      },
      "text/plain": [
       "[pred_fn]:   0%|          | 0/79 [00:00<?, ?it/s]"
      ]
     },
     "metadata": {},
     "output_type": "display_data"
    },
    {
     "data": {
      "application/vnd.jupyter.widget-view+json": {
       "model_id": "f006dcb318e842c9a103678e668ba41e",
       "version_major": 2,
       "version_minor": 0
      },
      "text/plain": [
       "[pred_fn]:   0%|          | 0/79 [00:00<?, ?it/s]"
      ]
     },
     "metadata": {},
     "output_type": "display_data"
    },
    {
     "data": {
      "application/vnd.jupyter.widget-view+json": {
       "model_id": "8442e9d7eca64797bb5a287ddcc70400",
       "version_major": 2,
       "version_minor": 0
      },
      "text/plain": [
       "[pred_fn]:   0%|          | 0/79 [00:00<?, ?it/s]"
      ]
     },
     "metadata": {},
     "output_type": "display_data"
    },
    {
     "data": {
      "application/vnd.jupyter.widget-view+json": {
       "model_id": "0404b57b2d4347729beeb6c6c601f608",
       "version_major": 2,
       "version_minor": 0
      },
      "text/plain": [
       "[pred_fn]:   0%|          | 0/79 [00:00<?, ?it/s]"
      ]
     },
     "metadata": {},
     "output_type": "display_data"
    },
    {
     "data": {
      "application/vnd.jupyter.widget-view+json": {
       "model_id": "eedbe0216a6742058d5a31d1f134f9ee",
       "version_major": 2,
       "version_minor": 0
      },
      "text/plain": [
       "[pred_fn]:   0%|          | 0/79 [00:00<?, ?it/s]"
      ]
     },
     "metadata": {},
     "output_type": "display_data"
    },
    {
     "data": {
      "application/vnd.jupyter.widget-view+json": {
       "model_id": "fdf6e515e292429e90d6afc4bdf1e2e1",
       "version_major": 2,
       "version_minor": 0
      },
      "text/plain": [
       "[pred_fn]:   0%|          | 0/79 [00:00<?, ?it/s]"
      ]
     },
     "metadata": {},
     "output_type": "display_data"
    },
    {
     "data": {
      "application/vnd.jupyter.widget-view+json": {
       "model_id": "dfb2cb429bd54d0a80f6d0c672ea4e80",
       "version_major": 2,
       "version_minor": 0
      },
      "text/plain": [
       "[pred_fn]:   0%|          | 0/79 [00:00<?, ?it/s]"
      ]
     },
     "metadata": {},
     "output_type": "display_data"
    },
    {
     "data": {
      "application/vnd.jupyter.widget-view+json": {
       "model_id": "b6f1d46f19094799810ba9bb63f1fd9e",
       "version_major": 2,
       "version_minor": 0
      },
      "text/plain": [
       "[pred_fn]:   0%|          | 0/79 [00:00<?, ?it/s]"
      ]
     },
     "metadata": {},
     "output_type": "display_data"
    },
    {
     "data": {
      "application/vnd.jupyter.widget-view+json": {
       "model_id": "0f30609660ef4eb1be4bb06965b154b2",
       "version_major": 2,
       "version_minor": 0
      },
      "text/plain": [
       "[pred_fn]:   0%|          | 0/79 [00:00<?, ?it/s]"
      ]
     },
     "metadata": {},
     "output_type": "display_data"
    },
    {
     "data": {
      "application/vnd.jupyter.widget-view+json": {
       "model_id": "e55b1ee86eb34a1288b8dc6b5dbd7b91",
       "version_major": 2,
       "version_minor": 0
      },
      "text/plain": [
       "[pred_fn]:   0%|          | 0/79 [00:00<?, ?it/s]"
      ]
     },
     "metadata": {},
     "output_type": "display_data"
    },
    {
     "data": {
      "application/vnd.jupyter.widget-view+json": {
       "model_id": "85445765bd024cb2846f10c5e04724e0",
       "version_major": 2,
       "version_minor": 0
      },
      "text/plain": [
       "[pred_fn]:   0%|          | 0/79 [00:00<?, ?it/s]"
      ]
     },
     "metadata": {},
     "output_type": "display_data"
    },
    {
     "data": {
      "application/vnd.jupyter.widget-view+json": {
       "model_id": "b95ca962d6984ba390bafa9a94f629b1",
       "version_major": 2,
       "version_minor": 0
      },
      "text/plain": [
       "[pred_fn]:   0%|          | 0/79 [00:00<?, ?it/s]"
      ]
     },
     "metadata": {},
     "output_type": "display_data"
    },
    {
     "data": {
      "application/vnd.jupyter.widget-view+json": {
       "model_id": "af3e4cf97f634fec9878c6656979fa21",
       "version_major": 2,
       "version_minor": 0
      },
      "text/plain": [
       "[pred_fn]:   0%|          | 0/79 [00:00<?, ?it/s]"
      ]
     },
     "metadata": {},
     "output_type": "display_data"
    },
    {
     "data": {
      "application/vnd.jupyter.widget-view+json": {
       "model_id": "0edbcb353b1a43bc905f9eddb0ab5590",
       "version_major": 2,
       "version_minor": 0
      },
      "text/plain": [
       "[pred_fn]:   0%|          | 0/79 [00:00<?, ?it/s]"
      ]
     },
     "metadata": {},
     "output_type": "display_data"
    },
    {
     "data": {
      "application/vnd.jupyter.widget-view+json": {
       "model_id": "f304c733b04d4b4ebcca08158c855d15",
       "version_major": 2,
       "version_minor": 0
      },
      "text/plain": [
       "[pred_fn]:   0%|          | 0/79 [00:00<?, ?it/s]"
      ]
     },
     "metadata": {},
     "output_type": "display_data"
    },
    {
     "data": {
      "application/vnd.jupyter.widget-view+json": {
       "model_id": "356d4045224f4a37a5cc3b7333d2b076",
       "version_major": 2,
       "version_minor": 0
      },
      "text/plain": [
       "[pred_fn]:   0%|          | 0/79 [00:00<?, ?it/s]"
      ]
     },
     "metadata": {},
     "output_type": "display_data"
    },
    {
     "data": {
      "application/vnd.jupyter.widget-view+json": {
       "model_id": "9a6cd098f65f48b8a613b6e13d0a4ea2",
       "version_major": 2,
       "version_minor": 0
      },
      "text/plain": [
       "[pred_fn]:   0%|          | 0/79 [00:00<?, ?it/s]"
      ]
     },
     "metadata": {},
     "output_type": "display_data"
    },
    {
     "data": {
      "application/vnd.jupyter.widget-view+json": {
       "model_id": "78e24434e0014b398a0132bc51e3ac45",
       "version_major": 2,
       "version_minor": 0
      },
      "text/plain": [
       "[pred_fn]:   0%|          | 0/79 [00:00<?, ?it/s]"
      ]
     },
     "metadata": {},
     "output_type": "display_data"
    },
    {
     "data": {
      "application/vnd.jupyter.widget-view+json": {
       "model_id": "57cc96b46c8d4d6ca653b806c6f48cb4",
       "version_major": 2,
       "version_minor": 0
      },
      "text/plain": [
       "[pred_fn]:   0%|          | 0/79 [00:00<?, ?it/s]"
      ]
     },
     "metadata": {},
     "output_type": "display_data"
    },
    {
     "data": {
      "application/vnd.jupyter.widget-view+json": {
       "model_id": "f98448555d5c45fdb5ffd2ccda3cd287",
       "version_major": 2,
       "version_minor": 0
      },
      "text/plain": [
       "[pred_fn]:   0%|          | 0/79 [00:00<?, ?it/s]"
      ]
     },
     "metadata": {},
     "output_type": "display_data"
    },
    {
     "data": {
      "application/vnd.jupyter.widget-view+json": {
       "model_id": "2c03bd8fb8df4d1e8a4b04a652d459ab",
       "version_major": 2,
       "version_minor": 0
      },
      "text/plain": [
       "[pred_fn]:   0%|          | 0/79 [00:00<?, ?it/s]"
      ]
     },
     "metadata": {},
     "output_type": "display_data"
    },
    {
     "data": {
      "application/vnd.jupyter.widget-view+json": {
       "model_id": "4c2b77d334ed4c6a9a5ae77d1154cf21",
       "version_major": 2,
       "version_minor": 0
      },
      "text/plain": [
       "[pred_fn]:   0%|          | 0/79 [00:00<?, ?it/s]"
      ]
     },
     "metadata": {},
     "output_type": "display_data"
    },
    {
     "data": {
      "application/vnd.jupyter.widget-view+json": {
       "model_id": "7bec4f3547b74cd3b03effb265703aaa",
       "version_major": 2,
       "version_minor": 0
      },
      "text/plain": [
       "[pred_fn]:   0%|          | 0/79 [00:00<?, ?it/s]"
      ]
     },
     "metadata": {},
     "output_type": "display_data"
    },
    {
     "data": {
      "application/vnd.jupyter.widget-view+json": {
       "model_id": "a9e68ce071f8455ba8cc11cc4b22626f",
       "version_major": 2,
       "version_minor": 0
      },
      "text/plain": [
       "[pred_fn]:   0%|          | 0/79 [00:00<?, ?it/s]"
      ]
     },
     "metadata": {},
     "output_type": "display_data"
    },
    {
     "data": {
      "application/vnd.jupyter.widget-view+json": {
       "model_id": "ff50d10ec4214020a3700ace3ea328cb",
       "version_major": 2,
       "version_minor": 0
      },
      "text/plain": [
       "[pred_fn]:   0%|          | 0/79 [00:00<?, ?it/s]"
      ]
     },
     "metadata": {},
     "output_type": "display_data"
    },
    {
     "data": {
      "application/vnd.jupyter.widget-view+json": {
       "model_id": "5a7fd5e404a54604a4c83df839124f45",
       "version_major": 2,
       "version_minor": 0
      },
      "text/plain": [
       "[pred_fn]:   0%|          | 0/79 [00:00<?, ?it/s]"
      ]
     },
     "metadata": {},
     "output_type": "display_data"
    },
    {
     "data": {
      "application/vnd.jupyter.widget-view+json": {
       "model_id": "85e500053b5d4b97ba24a0dcf867915a",
       "version_major": 2,
       "version_minor": 0
      },
      "text/plain": [
       "[pred_fn]:   0%|          | 0/79 [00:00<?, ?it/s]"
      ]
     },
     "metadata": {},
     "output_type": "display_data"
    },
    {
     "data": {
      "application/vnd.jupyter.widget-view+json": {
       "model_id": "c8037f799dfe4adea6ad52ab5151fe6a",
       "version_major": 2,
       "version_minor": 0
      },
      "text/plain": [
       "[pred_fn]:   0%|          | 0/79 [00:00<?, ?it/s]"
      ]
     },
     "metadata": {},
     "output_type": "display_data"
    },
    {
     "data": {
      "application/vnd.jupyter.widget-view+json": {
       "model_id": "07a3e544f75544b1b7a6b8c3f0031807",
       "version_major": 2,
       "version_minor": 0
      },
      "text/plain": [
       "[pred_fn]:   0%|          | 0/79 [00:00<?, ?it/s]"
      ]
     },
     "metadata": {},
     "output_type": "display_data"
    },
    {
     "data": {
      "application/vnd.jupyter.widget-view+json": {
       "model_id": "066e074267e0438fbbe1556df3f182bf",
       "version_major": 2,
       "version_minor": 0
      },
      "text/plain": [
       "[pred_fn]:   0%|          | 0/79 [00:00<?, ?it/s]"
      ]
     },
     "metadata": {},
     "output_type": "display_data"
    },
    {
     "data": {
      "application/vnd.jupyter.widget-view+json": {
       "model_id": "3d9c7723ee544ff19046df4e4280aa28",
       "version_major": 2,
       "version_minor": 0
      },
      "text/plain": [
       "[pred_fn]:   0%|          | 0/79 [00:00<?, ?it/s]"
      ]
     },
     "metadata": {},
     "output_type": "display_data"
    },
    {
     "data": {
      "application/vnd.jupyter.widget-view+json": {
       "model_id": "909a4f86f38240b7aa8f7ac7bcdf6671",
       "version_major": 2,
       "version_minor": 0
      },
      "text/plain": [
       "[pred_fn]:   0%|          | 0/79 [00:00<?, ?it/s]"
      ]
     },
     "metadata": {},
     "output_type": "display_data"
    },
    {
     "data": {
      "application/vnd.jupyter.widget-view+json": {
       "model_id": "0acd1fd0b4b0497392b335b08aa855f5",
       "version_major": 2,
       "version_minor": 0
      },
      "text/plain": [
       "[pred_fn]:   0%|          | 0/79 [00:00<?, ?it/s]"
      ]
     },
     "metadata": {},
     "output_type": "display_data"
    },
    {
     "data": {
      "application/vnd.jupyter.widget-view+json": {
       "model_id": "375052e2776f4799b273e9efc2c52b29",
       "version_major": 2,
       "version_minor": 0
      },
      "text/plain": [
       "[pred_fn]:   0%|          | 0/79 [00:00<?, ?it/s]"
      ]
     },
     "metadata": {},
     "output_type": "display_data"
    },
    {
     "data": {
      "application/vnd.jupyter.widget-view+json": {
       "model_id": "e52fcfdadb72462cab821e8cd747abcf",
       "version_major": 2,
       "version_minor": 0
      },
      "text/plain": [
       "[pred_fn]:   0%|          | 0/79 [00:00<?, ?it/s]"
      ]
     },
     "metadata": {},
     "output_type": "display_data"
    },
    {
     "data": {
      "application/vnd.jupyter.widget-view+json": {
       "model_id": "7b6e5beaa93c45dd97bfbe1d053cbbab",
       "version_major": 2,
       "version_minor": 0
      },
      "text/plain": [
       "[pred_fn]:   0%|          | 0/79 [00:00<?, ?it/s]"
      ]
     },
     "metadata": {},
     "output_type": "display_data"
    },
    {
     "data": {
      "application/vnd.jupyter.widget-view+json": {
       "model_id": "b616e919983a41c2800bf4ed78abd99d",
       "version_major": 2,
       "version_minor": 0
      },
      "text/plain": [
       "[pred_fn]:   0%|          | 0/79 [00:00<?, ?it/s]"
      ]
     },
     "metadata": {},
     "output_type": "display_data"
    },
    {
     "data": {
      "application/vnd.jupyter.widget-view+json": {
       "model_id": "6faffa2d9737492e852a93b300110649",
       "version_major": 2,
       "version_minor": 0
      },
      "text/plain": [
       "[pred_fn]:   0%|          | 0/79 [00:00<?, ?it/s]"
      ]
     },
     "metadata": {},
     "output_type": "display_data"
    },
    {
     "data": {
      "application/vnd.jupyter.widget-view+json": {
       "model_id": "ef7e7749f28d40dfba159c5046ffe95e",
       "version_major": 2,
       "version_minor": 0
      },
      "text/plain": [
       "[pred_fn]:   0%|          | 0/79 [00:00<?, ?it/s]"
      ]
     },
     "metadata": {},
     "output_type": "display_data"
    },
    {
     "data": {
      "application/vnd.jupyter.widget-view+json": {
       "model_id": "89824395463b4e7987435145a723a307",
       "version_major": 2,
       "version_minor": 0
      },
      "text/plain": [
       "[pred_fn]:   0%|          | 0/79 [00:00<?, ?it/s]"
      ]
     },
     "metadata": {},
     "output_type": "display_data"
    },
    {
     "data": {
      "application/vnd.jupyter.widget-view+json": {
       "model_id": "f28629aab6824bc78dc4272c67d3fe80",
       "version_major": 2,
       "version_minor": 0
      },
      "text/plain": [
       "[pred_fn]:   0%|          | 0/79 [00:00<?, ?it/s]"
      ]
     },
     "metadata": {},
     "output_type": "display_data"
    },
    {
     "data": {
      "application/vnd.jupyter.widget-view+json": {
       "model_id": "c4180313fcb641968fc27eb3adb5507e",
       "version_major": 2,
       "version_minor": 0
      },
      "text/plain": [
       "[pred_fn]:   0%|          | 0/79 [00:00<?, ?it/s]"
      ]
     },
     "metadata": {},
     "output_type": "display_data"
    },
    {
     "data": {
      "application/vnd.jupyter.widget-view+json": {
       "model_id": "ece3e3fbbab9458587f7f633183ec211",
       "version_major": 2,
       "version_minor": 0
      },
      "text/plain": [
       "[pred_fn]:   0%|          | 0/79 [00:00<?, ?it/s]"
      ]
     },
     "metadata": {},
     "output_type": "display_data"
    },
    {
     "data": {
      "application/vnd.jupyter.widget-view+json": {
       "model_id": "0b133b43848b449f903c2423485c079b",
       "version_major": 2,
       "version_minor": 0
      },
      "text/plain": [
       "[pred_fn]:   0%|          | 0/79 [00:00<?, ?it/s]"
      ]
     },
     "metadata": {},
     "output_type": "display_data"
    },
    {
     "data": {
      "application/vnd.jupyter.widget-view+json": {
       "model_id": "d495c70832934fa5be1173c879dd7b5d",
       "version_major": 2,
       "version_minor": 0
      },
      "text/plain": [
       "[pred_fn]:   0%|          | 0/79 [00:00<?, ?it/s]"
      ]
     },
     "metadata": {},
     "output_type": "display_data"
    },
    {
     "data": {
      "application/vnd.jupyter.widget-view+json": {
       "model_id": "6352fafeefcb4a32affc390ed85d82db",
       "version_major": 2,
       "version_minor": 0
      },
      "text/plain": [
       "[pred_fn]:   0%|          | 0/79 [00:00<?, ?it/s]"
      ]
     },
     "metadata": {},
     "output_type": "display_data"
    },
    {
     "data": {
      "application/vnd.jupyter.widget-view+json": {
       "model_id": "bf67d53bf59046db9da2a65be4614f22",
       "version_major": 2,
       "version_minor": 0
      },
      "text/plain": [
       "[pred_fn]:   0%|          | 0/79 [00:00<?, ?it/s]"
      ]
     },
     "metadata": {},
     "output_type": "display_data"
    },
    {
     "data": {
      "application/vnd.jupyter.widget-view+json": {
       "model_id": "a988e6ae354147188e85f8898127113e",
       "version_major": 2,
       "version_minor": 0
      },
      "text/plain": [
       "[pred_fn]:   0%|          | 0/79 [00:00<?, ?it/s]"
      ]
     },
     "metadata": {},
     "output_type": "display_data"
    },
    {
     "data": {
      "application/vnd.jupyter.widget-view+json": {
       "model_id": "809d62917f1d4cbb8d2d14663786d15b",
       "version_major": 2,
       "version_minor": 0
      },
      "text/plain": [
       "[pred_fn]:   0%|          | 0/79 [00:00<?, ?it/s]"
      ]
     },
     "metadata": {},
     "output_type": "display_data"
    },
    {
     "data": {
      "application/vnd.jupyter.widget-view+json": {
       "model_id": "bbbdb400065241b8880ca9ecbef98d2a",
       "version_major": 2,
       "version_minor": 0
      },
      "text/plain": [
       "[pred_fn]:   0%|          | 0/79 [00:00<?, ?it/s]"
      ]
     },
     "metadata": {},
     "output_type": "display_data"
    },
    {
     "data": {
      "application/vnd.jupyter.widget-view+json": {
       "model_id": "3a2c6d1acd90489e97d322b2ab4c2a71",
       "version_major": 2,
       "version_minor": 0
      },
      "text/plain": [
       "[pred_fn]:   0%|          | 0/79 [00:00<?, ?it/s]"
      ]
     },
     "metadata": {},
     "output_type": "display_data"
    },
    {
     "data": {
      "application/vnd.jupyter.widget-view+json": {
       "model_id": "79ea7a122ae1444b9606886651e72ae9",
       "version_major": 2,
       "version_minor": 0
      },
      "text/plain": [
       "[pred_fn]:   0%|          | 0/79 [00:00<?, ?it/s]"
      ]
     },
     "metadata": {},
     "output_type": "display_data"
    },
    {
     "data": {
      "application/vnd.jupyter.widget-view+json": {
       "model_id": "cd5c71b8d15b495790c3d3864f26e4c7",
       "version_major": 2,
       "version_minor": 0
      },
      "text/plain": [
       "[pred_fn]:   0%|          | 0/79 [00:00<?, ?it/s]"
      ]
     },
     "metadata": {},
     "output_type": "display_data"
    },
    {
     "data": {
      "application/vnd.jupyter.widget-view+json": {
       "model_id": "128393ca4b7a42c384aeb678fd5605f2",
       "version_major": 2,
       "version_minor": 0
      },
      "text/plain": [
       "[pred_fn]:   0%|          | 0/79 [00:00<?, ?it/s]"
      ]
     },
     "metadata": {},
     "output_type": "display_data"
    },
    {
     "data": {
      "application/vnd.jupyter.widget-view+json": {
       "model_id": "78f0eb157e1143e2878f3aad908140ac",
       "version_major": 2,
       "version_minor": 0
      },
      "text/plain": [
       "[pred_fn]:   0%|          | 0/79 [00:00<?, ?it/s]"
      ]
     },
     "metadata": {},
     "output_type": "display_data"
    },
    {
     "data": {
      "application/vnd.jupyter.widget-view+json": {
       "model_id": "ba54a66b93694ee0b07a86e024c189e5",
       "version_major": 2,
       "version_minor": 0
      },
      "text/plain": [
       "[pred_fn]:   0%|          | 0/79 [00:00<?, ?it/s]"
      ]
     },
     "metadata": {},
     "output_type": "display_data"
    },
    {
     "data": {
      "application/vnd.jupyter.widget-view+json": {
       "model_id": "ca2986bfc1f44b279cb85f8072f95bba",
       "version_major": 2,
       "version_minor": 0
      },
      "text/plain": [
       "[pred_fn]:   0%|          | 0/79 [00:00<?, ?it/s]"
      ]
     },
     "metadata": {},
     "output_type": "display_data"
    },
    {
     "data": {
      "application/vnd.jupyter.widget-view+json": {
       "model_id": "7f8072a8343b4f6ca1ec0cdb51f5936a",
       "version_major": 2,
       "version_minor": 0
      },
      "text/plain": [
       "[pred_fn]:   0%|          | 0/79 [00:00<?, ?it/s]"
      ]
     },
     "metadata": {},
     "output_type": "display_data"
    },
    {
     "data": {
      "application/vnd.jupyter.widget-view+json": {
       "model_id": "49107f448cbc487eb3922ecc1e330e44",
       "version_major": 2,
       "version_minor": 0
      },
      "text/plain": [
       "[pred_fn]:   0%|          | 0/79 [00:00<?, ?it/s]"
      ]
     },
     "metadata": {},
     "output_type": "display_data"
    },
    {
     "data": {
      "application/vnd.jupyter.widget-view+json": {
       "model_id": "1b2df3b291cd45689deef55c0f2fd33d",
       "version_major": 2,
       "version_minor": 0
      },
      "text/plain": [
       "[pred_fn]:   0%|          | 0/79 [00:00<?, ?it/s]"
      ]
     },
     "metadata": {},
     "output_type": "display_data"
    },
    {
     "data": {
      "application/vnd.jupyter.widget-view+json": {
       "model_id": "8fbffda31b3549daac450694b18bc5e5",
       "version_major": 2,
       "version_minor": 0
      },
      "text/plain": [
       "[pred_fn]:   0%|          | 0/79 [00:00<?, ?it/s]"
      ]
     },
     "metadata": {},
     "output_type": "display_data"
    },
    {
     "data": {
      "application/vnd.jupyter.widget-view+json": {
       "model_id": "78f7d820e3fe40398cf83dac3b1946e9",
       "version_major": 2,
       "version_minor": 0
      },
      "text/plain": [
       "[pred_fn]:   0%|          | 0/79 [00:00<?, ?it/s]"
      ]
     },
     "metadata": {},
     "output_type": "display_data"
    },
    {
     "data": {
      "application/vnd.jupyter.widget-view+json": {
       "model_id": "b482ebd969434804a84b0f686e6a7184",
       "version_major": 2,
       "version_minor": 0
      },
      "text/plain": [
       "[pred_fn]:   0%|          | 0/79 [00:00<?, ?it/s]"
      ]
     },
     "metadata": {},
     "output_type": "display_data"
    },
    {
     "data": {
      "application/vnd.jupyter.widget-view+json": {
       "model_id": "50e252bc6fc64f56ba80b8699a238497",
       "version_major": 2,
       "version_minor": 0
      },
      "text/plain": [
       "[pred_fn]:   0%|          | 0/79 [00:00<?, ?it/s]"
      ]
     },
     "metadata": {},
     "output_type": "display_data"
    },
    {
     "data": {
      "application/vnd.jupyter.widget-view+json": {
       "model_id": "1a8e60a0d0c44b01a2c4e31009f923a2",
       "version_major": 2,
       "version_minor": 0
      },
      "text/plain": [
       "[pred_fn]:   0%|          | 0/79 [00:00<?, ?it/s]"
      ]
     },
     "metadata": {},
     "output_type": "display_data"
    },
    {
     "data": {
      "application/vnd.jupyter.widget-view+json": {
       "model_id": "ce50c3577fcc4b1eb4069599c5a86a72",
       "version_major": 2,
       "version_minor": 0
      },
      "text/plain": [
       "[pred_fn]:   0%|          | 0/79 [00:00<?, ?it/s]"
      ]
     },
     "metadata": {},
     "output_type": "display_data"
    },
    {
     "data": {
      "application/vnd.jupyter.widget-view+json": {
       "model_id": "4defdc7203494dd4b8d1b8c5667868b5",
       "version_major": 2,
       "version_minor": 0
      },
      "text/plain": [
       "[pred_fn]:   0%|          | 0/79 [00:00<?, ?it/s]"
      ]
     },
     "metadata": {},
     "output_type": "display_data"
    },
    {
     "data": {
      "application/vnd.jupyter.widget-view+json": {
       "model_id": "76fef80f8cf14ee39c250759b39fe701",
       "version_major": 2,
       "version_minor": 0
      },
      "text/plain": [
       "[pred_fn]:   0%|          | 0/79 [00:00<?, ?it/s]"
      ]
     },
     "metadata": {},
     "output_type": "display_data"
    },
    {
     "data": {
      "application/vnd.jupyter.widget-view+json": {
       "model_id": "8a25d94f548744c0b35171fe21ab4806",
       "version_major": 2,
       "version_minor": 0
      },
      "text/plain": [
       "[pred_fn]:   0%|          | 0/79 [00:00<?, ?it/s]"
      ]
     },
     "metadata": {},
     "output_type": "display_data"
    },
    {
     "data": {
      "application/vnd.jupyter.widget-view+json": {
       "model_id": "25e4019bfd55403086edf06f6a335161",
       "version_major": 2,
       "version_minor": 0
      },
      "text/plain": [
       "[pred_fn]:   0%|          | 0/79 [00:00<?, ?it/s]"
      ]
     },
     "metadata": {},
     "output_type": "display_data"
    },
    {
     "data": {
      "application/vnd.jupyter.widget-view+json": {
       "model_id": "15c95df48fe1496087ad7316ccfdd22a",
       "version_major": 2,
       "version_minor": 0
      },
      "text/plain": [
       "[pred_fn]:   0%|          | 0/79 [00:00<?, ?it/s]"
      ]
     },
     "metadata": {},
     "output_type": "display_data"
    },
    {
     "data": {
      "application/vnd.jupyter.widget-view+json": {
       "model_id": "e65839303f0a44058d94af1b877c715d",
       "version_major": 2,
       "version_minor": 0
      },
      "text/plain": [
       "[pred_fn]:   0%|          | 0/79 [00:00<?, ?it/s]"
      ]
     },
     "metadata": {},
     "output_type": "display_data"
    },
    {
     "data": {
      "application/vnd.jupyter.widget-view+json": {
       "model_id": "f4f98f4c8a2d47fe9349920598738137",
       "version_major": 2,
       "version_minor": 0
      },
      "text/plain": [
       "[pred_fn]:   0%|          | 0/79 [00:00<?, ?it/s]"
      ]
     },
     "metadata": {},
     "output_type": "display_data"
    },
    {
     "data": {
      "application/vnd.jupyter.widget-view+json": {
       "model_id": "7c5f8071be3a4bacb0509c6b37aae039",
       "version_major": 2,
       "version_minor": 0
      },
      "text/plain": [
       "[pred_fn]:   0%|          | 0/79 [00:00<?, ?it/s]"
      ]
     },
     "metadata": {},
     "output_type": "display_data"
    },
    {
     "data": {
      "application/vnd.jupyter.widget-view+json": {
       "model_id": "1186f84d961a4401b82734d81eec1484",
       "version_major": 2,
       "version_minor": 0
      },
      "text/plain": [
       "[pred_fn]:   0%|          | 0/79 [00:00<?, ?it/s]"
      ]
     },
     "metadata": {},
     "output_type": "display_data"
    },
    {
     "data": {
      "application/vnd.jupyter.widget-view+json": {
       "model_id": "4f287f82b60547e0880ec89227ee7018",
       "version_major": 2,
       "version_minor": 0
      },
      "text/plain": [
       "[pred_fn]:   0%|          | 0/79 [00:00<?, ?it/s]"
      ]
     },
     "metadata": {},
     "output_type": "display_data"
    },
    {
     "data": {
      "application/vnd.jupyter.widget-view+json": {
       "model_id": "32f2bf6e7a0c4e24bdbfe25b88053c32",
       "version_major": 2,
       "version_minor": 0
      },
      "text/plain": [
       "[pred_fn]:   0%|          | 0/79 [00:00<?, ?it/s]"
      ]
     },
     "metadata": {},
     "output_type": "display_data"
    },
    {
     "data": {
      "application/vnd.jupyter.widget-view+json": {
       "model_id": "521012af8a1f40d58448a9c7f5b6ffd2",
       "version_major": 2,
       "version_minor": 0
      },
      "text/plain": [
       "[pred_fn]:   0%|          | 0/79 [00:00<?, ?it/s]"
      ]
     },
     "metadata": {},
     "output_type": "display_data"
    },
    {
     "data": {
      "application/vnd.jupyter.widget-view+json": {
       "model_id": "848d940c6d204e7a9a0b0494d5efdef9",
       "version_major": 2,
       "version_minor": 0
      },
      "text/plain": [
       "[pred_fn]:   0%|          | 0/79 [00:00<?, ?it/s]"
      ]
     },
     "metadata": {},
     "output_type": "display_data"
    },
    {
     "data": {
      "application/vnd.jupyter.widget-view+json": {
       "model_id": "cb39b247774046e78406a520f5167784",
       "version_major": 2,
       "version_minor": 0
      },
      "text/plain": [
       "[pred_fn]:   0%|          | 0/79 [00:00<?, ?it/s]"
      ]
     },
     "metadata": {},
     "output_type": "display_data"
    },
    {
     "data": {
      "application/vnd.jupyter.widget-view+json": {
       "model_id": "2f45c109adc445adb1bc3cd44835d9d1",
       "version_major": 2,
       "version_minor": 0
      },
      "text/plain": [
       "[pred_fn]:   0%|          | 0/79 [00:00<?, ?it/s]"
      ]
     },
     "metadata": {},
     "output_type": "display_data"
    },
    {
     "data": {
      "application/vnd.jupyter.widget-view+json": {
       "model_id": "6b68ee3032f94c018e5cb73b1604f891",
       "version_major": 2,
       "version_minor": 0
      },
      "text/plain": [
       "[pred_fn]:   0%|          | 0/79 [00:00<?, ?it/s]"
      ]
     },
     "metadata": {},
     "output_type": "display_data"
    },
    {
     "data": {
      "application/vnd.jupyter.widget-view+json": {
       "model_id": "30123b4dbad94a7098ec198a48b58a0f",
       "version_major": 2,
       "version_minor": 0
      },
      "text/plain": [
       "[pred_fn]:   0%|          | 0/79 [00:00<?, ?it/s]"
      ]
     },
     "metadata": {},
     "output_type": "display_data"
    },
    {
     "data": {
      "application/vnd.jupyter.widget-view+json": {
       "model_id": "49f19d10bf9d49e5971975aca5c98796",
       "version_major": 2,
       "version_minor": 0
      },
      "text/plain": [
       "[pred_fn]:   0%|          | 0/79 [00:00<?, ?it/s]"
      ]
     },
     "metadata": {},
     "output_type": "display_data"
    },
    {
     "data": {
      "application/vnd.jupyter.widget-view+json": {
       "model_id": "94becebfe4c4467aa646acfe69934755",
       "version_major": 2,
       "version_minor": 0
      },
      "text/plain": [
       "[pred_fn]:   0%|          | 0/79 [00:00<?, ?it/s]"
      ]
     },
     "metadata": {},
     "output_type": "display_data"
    },
    {
     "data": {
      "application/vnd.jupyter.widget-view+json": {
       "model_id": "a59bf314a78f40769ec0a4b9c5917df0",
       "version_major": 2,
       "version_minor": 0
      },
      "text/plain": [
       "[pred_fn]:   0%|          | 0/79 [00:00<?, ?it/s]"
      ]
     },
     "metadata": {},
     "output_type": "display_data"
    },
    {
     "data": {
      "application/vnd.jupyter.widget-view+json": {
       "model_id": "f80b31b6f098450f9123700caf36d61a",
       "version_major": 2,
       "version_minor": 0
      },
      "text/plain": [
       "[pred_fn]:   0%|          | 0/79 [00:00<?, ?it/s]"
      ]
     },
     "metadata": {},
     "output_type": "display_data"
    },
    {
     "data": {
      "application/vnd.jupyter.widget-view+json": {
       "model_id": "a917948044204e75911fe30b17e99cb5",
       "version_major": 2,
       "version_minor": 0
      },
      "text/plain": [
       "[pred_fn]:   0%|          | 0/79 [00:00<?, ?it/s]"
      ]
     },
     "metadata": {},
     "output_type": "display_data"
    },
    {
     "data": {
      "application/vnd.jupyter.widget-view+json": {
       "model_id": "702b0f43cf12447e8bce7046b458d5cd",
       "version_major": 2,
       "version_minor": 0
      },
      "text/plain": [
       "[pred_fn]:   0%|          | 0/79 [00:00<?, ?it/s]"
      ]
     },
     "metadata": {},
     "output_type": "display_data"
    },
    {
     "data": {
      "application/vnd.jupyter.widget-view+json": {
       "model_id": "924ead6292c94c6f99737b0ca3bbd210",
       "version_major": 2,
       "version_minor": 0
      },
      "text/plain": [
       "[pred_fn]:   0%|          | 0/79 [00:00<?, ?it/s]"
      ]
     },
     "metadata": {},
     "output_type": "display_data"
    },
    {
     "data": {
      "application/vnd.jupyter.widget-view+json": {
       "model_id": "33d191a56b474142ac8e69e6109edd7f",
       "version_major": 2,
       "version_minor": 0
      },
      "text/plain": [
       "[pred_fn]:   0%|          | 0/79 [00:00<?, ?it/s]"
      ]
     },
     "metadata": {},
     "output_type": "display_data"
    },
    {
     "data": {
      "application/vnd.jupyter.widget-view+json": {
       "model_id": "5458d5a9fd2a4a86937e967a59f3491e",
       "version_major": 2,
       "version_minor": 0
      },
      "text/plain": [
       "[pred_fn]:   0%|          | 0/79 [00:00<?, ?it/s]"
      ]
     },
     "metadata": {},
     "output_type": "display_data"
    },
    {
     "data": {
      "application/vnd.jupyter.widget-view+json": {
       "model_id": "db0efdb1ec32481f9dcee715745fdd0b",
       "version_major": 2,
       "version_minor": 0
      },
      "text/plain": [
       "[pred_fn]:   0%|          | 0/79 [00:00<?, ?it/s]"
      ]
     },
     "metadata": {},
     "output_type": "display_data"
    },
    {
     "data": {
      "application/vnd.jupyter.widget-view+json": {
       "model_id": "91ec97ce917a47a9b5d9a2a50e817f04",
       "version_major": 2,
       "version_minor": 0
      },
      "text/plain": [
       "[pred_fn]:   0%|          | 0/79 [00:00<?, ?it/s]"
      ]
     },
     "metadata": {},
     "output_type": "display_data"
    },
    {
     "data": {
      "application/vnd.jupyter.widget-view+json": {
       "model_id": "0fa97620e5f243819aa50422b823a679",
       "version_major": 2,
       "version_minor": 0
      },
      "text/plain": [
       "[pred_fn]:   0%|          | 0/79 [00:00<?, ?it/s]"
      ]
     },
     "metadata": {},
     "output_type": "display_data"
    },
    {
     "data": {
      "application/vnd.jupyter.widget-view+json": {
       "model_id": "4b3b42b64bcf41be9d073dcef2314479",
       "version_major": 2,
       "version_minor": 0
      },
      "text/plain": [
       "[pred_fn]:   0%|          | 0/79 [00:00<?, ?it/s]"
      ]
     },
     "metadata": {},
     "output_type": "display_data"
    },
    {
     "data": {
      "application/vnd.jupyter.widget-view+json": {
       "model_id": "bb5af6f199d74c2d81469ad9b52d1adb",
       "version_major": 2,
       "version_minor": 0
      },
      "text/plain": [
       "[pred_fn]:   0%|          | 0/79 [00:00<?, ?it/s]"
      ]
     },
     "metadata": {},
     "output_type": "display_data"
    },
    {
     "data": {
      "application/vnd.jupyter.widget-view+json": {
       "model_id": "ab9dfc36276440e59d05773b17217666",
       "version_major": 2,
       "version_minor": 0
      },
      "text/plain": [
       "[pred_fn]:   0%|          | 0/79 [00:00<?, ?it/s]"
      ]
     },
     "metadata": {},
     "output_type": "display_data"
    },
    {
     "data": {
      "application/vnd.jupyter.widget-view+json": {
       "model_id": "6cdf014a730e4f82b7b6aa94124edef4",
       "version_major": 2,
       "version_minor": 0
      },
      "text/plain": [
       "[pred_fn]:   0%|          | 0/79 [00:00<?, ?it/s]"
      ]
     },
     "metadata": {},
     "output_type": "display_data"
    },
    {
     "data": {
      "application/vnd.jupyter.widget-view+json": {
       "model_id": "68c06e3273bd437b9e556b62ad7cb7ac",
       "version_major": 2,
       "version_minor": 0
      },
      "text/plain": [
       "[pred_fn]:   0%|          | 0/79 [00:00<?, ?it/s]"
      ]
     },
     "metadata": {},
     "output_type": "display_data"
    },
    {
     "data": {
      "application/vnd.jupyter.widget-view+json": {
       "model_id": "c924c3d8e8134cdda4496c285cba946a",
       "version_major": 2,
       "version_minor": 0
      },
      "text/plain": [
       "[pred_fn]:   0%|          | 0/79 [00:00<?, ?it/s]"
      ]
     },
     "metadata": {},
     "output_type": "display_data"
    },
    {
     "data": {
      "application/vnd.jupyter.widget-view+json": {
       "model_id": "afdc77eace5f479093bc38aba6f0b6d9",
       "version_major": 2,
       "version_minor": 0
      },
      "text/plain": [
       "[pred_fn]:   0%|          | 0/79 [00:00<?, ?it/s]"
      ]
     },
     "metadata": {},
     "output_type": "display_data"
    },
    {
     "data": {
      "application/vnd.jupyter.widget-view+json": {
       "model_id": "ac3ba7ddb5214fa5bf76cd21de3d0774",
       "version_major": 2,
       "version_minor": 0
      },
      "text/plain": [
       "[pred_fn]:   0%|          | 0/79 [00:00<?, ?it/s]"
      ]
     },
     "metadata": {},
     "output_type": "display_data"
    },
    {
     "data": {
      "application/vnd.jupyter.widget-view+json": {
       "model_id": "78e60a724ecc4ed99b57d02a5a49b3d6",
       "version_major": 2,
       "version_minor": 0
      },
      "text/plain": [
       "[pred_fn]:   0%|          | 0/79 [00:00<?, ?it/s]"
      ]
     },
     "metadata": {},
     "output_type": "display_data"
    },
    {
     "data": {
      "application/vnd.jupyter.widget-view+json": {
       "model_id": "c458a85441cc4eaa8b292d5e492e36de",
       "version_major": 2,
       "version_minor": 0
      },
      "text/plain": [
       "[pred_fn]:   0%|          | 0/79 [00:00<?, ?it/s]"
      ]
     },
     "metadata": {},
     "output_type": "display_data"
    },
    {
     "data": {
      "application/vnd.jupyter.widget-view+json": {
       "model_id": "0a4804ac6cd244378640804ae0e17233",
       "version_major": 2,
       "version_minor": 0
      },
      "text/plain": [
       "[pred_fn]:   0%|          | 0/79 [00:00<?, ?it/s]"
      ]
     },
     "metadata": {},
     "output_type": "display_data"
    },
    {
     "data": {
      "application/vnd.jupyter.widget-view+json": {
       "model_id": "57c3fb0008554daba73e85f0a71d215b",
       "version_major": 2,
       "version_minor": 0
      },
      "text/plain": [
       "[pred_fn]:   0%|          | 0/79 [00:00<?, ?it/s]"
      ]
     },
     "metadata": {},
     "output_type": "display_data"
    },
    {
     "data": {
      "application/vnd.jupyter.widget-view+json": {
       "model_id": "6d30b777a3ad4cc0be009d61e988c6b1",
       "version_major": 2,
       "version_minor": 0
      },
      "text/plain": [
       "[pred_fn]:   0%|          | 0/79 [00:00<?, ?it/s]"
      ]
     },
     "metadata": {},
     "output_type": "display_data"
    },
    {
     "data": {
      "application/vnd.jupyter.widget-view+json": {
       "model_id": "d8ff1a6a9259401db6cb16c2c04f5f60",
       "version_major": 2,
       "version_minor": 0
      },
      "text/plain": [
       "[pred_fn]:   0%|          | 0/79 [00:00<?, ?it/s]"
      ]
     },
     "metadata": {},
     "output_type": "display_data"
    },
    {
     "data": {
      "application/vnd.jupyter.widget-view+json": {
       "model_id": "422fddbabf904cc3abe896e02b78e81a",
       "version_major": 2,
       "version_minor": 0
      },
      "text/plain": [
       "[pred_fn]:   0%|          | 0/79 [00:00<?, ?it/s]"
      ]
     },
     "metadata": {},
     "output_type": "display_data"
    },
    {
     "data": {
      "application/vnd.jupyter.widget-view+json": {
       "model_id": "a1da8be5634642538a38b8135d462a59",
       "version_major": 2,
       "version_minor": 0
      },
      "text/plain": [
       "[pred_fn]:   0%|          | 0/79 [00:00<?, ?it/s]"
      ]
     },
     "metadata": {},
     "output_type": "display_data"
    },
    {
     "data": {
      "application/vnd.jupyter.widget-view+json": {
       "model_id": "3f31b381e06745828f8065e73184b1f3",
       "version_major": 2,
       "version_minor": 0
      },
      "text/plain": [
       "[pred_fn]:   0%|          | 0/79 [00:00<?, ?it/s]"
      ]
     },
     "metadata": {},
     "output_type": "display_data"
    },
    {
     "data": {
      "application/vnd.jupyter.widget-view+json": {
       "model_id": "a41bb751aa834f8996c3932a1ece4c7c",
       "version_major": 2,
       "version_minor": 0
      },
      "text/plain": [
       "[pred_fn]:   0%|          | 0/79 [00:00<?, ?it/s]"
      ]
     },
     "metadata": {},
     "output_type": "display_data"
    },
    {
     "data": {
      "application/vnd.jupyter.widget-view+json": {
       "model_id": "06c2539dfdc24cd38992db4b0600395f",
       "version_major": 2,
       "version_minor": 0
      },
      "text/plain": [
       "[pred_fn]:   0%|          | 0/79 [00:00<?, ?it/s]"
      ]
     },
     "metadata": {},
     "output_type": "display_data"
    },
    {
     "data": {
      "application/vnd.jupyter.widget-view+json": {
       "model_id": "83395d5e3e8644a984d2939d24209160",
       "version_major": 2,
       "version_minor": 0
      },
      "text/plain": [
       "[pred_fn]:   0%|          | 0/79 [00:00<?, ?it/s]"
      ]
     },
     "metadata": {},
     "output_type": "display_data"
    },
    {
     "data": {
      "application/vnd.jupyter.widget-view+json": {
       "model_id": "956fe78e918b4705b92ee9da2fc6cbea",
       "version_major": 2,
       "version_minor": 0
      },
      "text/plain": [
       "[pred_fn]:   0%|          | 0/79 [00:00<?, ?it/s]"
      ]
     },
     "metadata": {},
     "output_type": "display_data"
    },
    {
     "data": {
      "application/vnd.jupyter.widget-view+json": {
       "model_id": "a4ba680cd1634dc2866b57a904091315",
       "version_major": 2,
       "version_minor": 0
      },
      "text/plain": [
       "[pred_fn]:   0%|          | 0/79 [00:00<?, ?it/s]"
      ]
     },
     "metadata": {},
     "output_type": "display_data"
    },
    {
     "data": {
      "application/vnd.jupyter.widget-view+json": {
       "model_id": "c0f4b051eb1f4a319b81a6989ee6b21f",
       "version_major": 2,
       "version_minor": 0
      },
      "text/plain": [
       "[pred_fn]:   0%|          | 0/79 [00:00<?, ?it/s]"
      ]
     },
     "metadata": {},
     "output_type": "display_data"
    },
    {
     "data": {
      "application/vnd.jupyter.widget-view+json": {
       "model_id": "bcd66138a3cc4d8d8393e52c03af6b04",
       "version_major": 2,
       "version_minor": 0
      },
      "text/plain": [
       "[pred_fn]:   0%|          | 0/79 [00:00<?, ?it/s]"
      ]
     },
     "metadata": {},
     "output_type": "display_data"
    },
    {
     "data": {
      "application/vnd.jupyter.widget-view+json": {
       "model_id": "f497d9114124417dad22a5176f9ba13e",
       "version_major": 2,
       "version_minor": 0
      },
      "text/plain": [
       "[pred_fn]:   0%|          | 0/79 [00:00<?, ?it/s]"
      ]
     },
     "metadata": {},
     "output_type": "display_data"
    },
    {
     "data": {
      "application/vnd.jupyter.widget-view+json": {
       "model_id": "1d77628ed16f40909cbb1e2e1ff46124",
       "version_major": 2,
       "version_minor": 0
      },
      "text/plain": [
       "[pred_fn]:   0%|          | 0/79 [00:00<?, ?it/s]"
      ]
     },
     "metadata": {},
     "output_type": "display_data"
    },
    {
     "data": {
      "application/vnd.jupyter.widget-view+json": {
       "model_id": "80de7732ef8a4c029d50bf62af58029a",
       "version_major": 2,
       "version_minor": 0
      },
      "text/plain": [
       "[pred_fn]:   0%|          | 0/79 [00:00<?, ?it/s]"
      ]
     },
     "metadata": {},
     "output_type": "display_data"
    },
    {
     "data": {
      "application/vnd.jupyter.widget-view+json": {
       "model_id": "c39f4e5bed1d44688628fb94a8532ae4",
       "version_major": 2,
       "version_minor": 0
      },
      "text/plain": [
       "[pred_fn]:   0%|          | 0/79 [00:00<?, ?it/s]"
      ]
     },
     "metadata": {},
     "output_type": "display_data"
    },
    {
     "data": {
      "application/vnd.jupyter.widget-view+json": {
       "model_id": "f020b9d4d50e40cfaa89cf59eed523f0",
       "version_major": 2,
       "version_minor": 0
      },
      "text/plain": [
       "[pred_fn]:   0%|          | 0/79 [00:00<?, ?it/s]"
      ]
     },
     "metadata": {},
     "output_type": "display_data"
    },
    {
     "data": {
      "application/vnd.jupyter.widget-view+json": {
       "model_id": "8a2c9ddfc58341b79db70782928c86c4",
       "version_major": 2,
       "version_minor": 0
      },
      "text/plain": [
       "[pred_fn]:   0%|          | 0/79 [00:00<?, ?it/s]"
      ]
     },
     "metadata": {},
     "output_type": "display_data"
    },
    {
     "data": {
      "application/vnd.jupyter.widget-view+json": {
       "model_id": "5bbc8b1755dc468990ea79b6aee738dd",
       "version_major": 2,
       "version_minor": 0
      },
      "text/plain": [
       "[pred_fn]:   0%|          | 0/79 [00:00<?, ?it/s]"
      ]
     },
     "metadata": {},
     "output_type": "display_data"
    },
    {
     "data": {
      "application/vnd.jupyter.widget-view+json": {
       "model_id": "287d5a4e8db44877a2b25dfcd24307d0",
       "version_major": 2,
       "version_minor": 0
      },
      "text/plain": [
       "[pred_fn]:   0%|          | 0/79 [00:00<?, ?it/s]"
      ]
     },
     "metadata": {},
     "output_type": "display_data"
    },
    {
     "data": {
      "application/vnd.jupyter.widget-view+json": {
       "model_id": "647a19ca20e243009c19973039edcc85",
       "version_major": 2,
       "version_minor": 0
      },
      "text/plain": [
       "[pred_fn]:   0%|          | 0/79 [00:00<?, ?it/s]"
      ]
     },
     "metadata": {},
     "output_type": "display_data"
    },
    {
     "data": {
      "application/vnd.jupyter.widget-view+json": {
       "model_id": "ef792edda03b4c21b2985ab653aa70c5",
       "version_major": 2,
       "version_minor": 0
      },
      "text/plain": [
       "[pred_fn]:   0%|          | 0/79 [00:00<?, ?it/s]"
      ]
     },
     "metadata": {},
     "output_type": "display_data"
    },
    {
     "data": {
      "application/vnd.jupyter.widget-view+json": {
       "model_id": "3da3e24a6deb4dcbbd0c63ef53f0e587",
       "version_major": 2,
       "version_minor": 0
      },
      "text/plain": [
       "[pred_fn]:   0%|          | 0/79 [00:00<?, ?it/s]"
      ]
     },
     "metadata": {},
     "output_type": "display_data"
    },
    {
     "data": {
      "application/vnd.jupyter.widget-view+json": {
       "model_id": "e2c51e040bcf42969f4b924c5324c6a9",
       "version_major": 2,
       "version_minor": 0
      },
      "text/plain": [
       "[pred_fn]:   0%|          | 0/79 [00:00<?, ?it/s]"
      ]
     },
     "metadata": {},
     "output_type": "display_data"
    },
    {
     "data": {
      "application/vnd.jupyter.widget-view+json": {
       "model_id": "27f5fc3c4abe491f988bc995c9bf981b",
       "version_major": 2,
       "version_minor": 0
      },
      "text/plain": [
       "[pred_fn]:   0%|          | 0/79 [00:00<?, ?it/s]"
      ]
     },
     "metadata": {},
     "output_type": "display_data"
    },
    {
     "data": {
      "application/vnd.jupyter.widget-view+json": {
       "model_id": "86cf8eb5341b4f8ba21b9b51fd9d3d1f",
       "version_major": 2,
       "version_minor": 0
      },
      "text/plain": [
       "[pred_fn]:   0%|          | 0/79 [00:00<?, ?it/s]"
      ]
     },
     "metadata": {},
     "output_type": "display_data"
    },
    {
     "data": {
      "application/vnd.jupyter.widget-view+json": {
       "model_id": "b6a38f09568c4cf48877e121450a0512",
       "version_major": 2,
       "version_minor": 0
      },
      "text/plain": [
       "[pred_fn]:   0%|          | 0/79 [00:00<?, ?it/s]"
      ]
     },
     "metadata": {},
     "output_type": "display_data"
    },
    {
     "data": {
      "application/vnd.jupyter.widget-view+json": {
       "model_id": "7138b089186d49d7a17266a0c4ec6fdb",
       "version_major": 2,
       "version_minor": 0
      },
      "text/plain": [
       "[pred_fn]:   0%|          | 0/79 [00:00<?, ?it/s]"
      ]
     },
     "metadata": {},
     "output_type": "display_data"
    },
    {
     "data": {
      "application/vnd.jupyter.widget-view+json": {
       "model_id": "adca77ef71e749dbafadeb40e9df2653",
       "version_major": 2,
       "version_minor": 0
      },
      "text/plain": [
       "[pred_fn]:   0%|          | 0/79 [00:00<?, ?it/s]"
      ]
     },
     "metadata": {},
     "output_type": "display_data"
    },
    {
     "data": {
      "application/vnd.jupyter.widget-view+json": {
       "model_id": "72531c2478ef4783912e0942533fd570",
       "version_major": 2,
       "version_minor": 0
      },
      "text/plain": [
       "[pred_fn]:   0%|          | 0/79 [00:00<?, ?it/s]"
      ]
     },
     "metadata": {},
     "output_type": "display_data"
    },
    {
     "data": {
      "application/vnd.jupyter.widget-view+json": {
       "model_id": "3445f8054d894496b9bc04a9a8abc44b",
       "version_major": 2,
       "version_minor": 0
      },
      "text/plain": [
       "[pred_fn]:   0%|          | 0/79 [00:00<?, ?it/s]"
      ]
     },
     "metadata": {},
     "output_type": "display_data"
    },
    {
     "data": {
      "application/vnd.jupyter.widget-view+json": {
       "model_id": "a86614d0809a4ba9985084fae1fb8599",
       "version_major": 2,
       "version_minor": 0
      },
      "text/plain": [
       "[pred_fn]:   0%|          | 0/79 [00:00<?, ?it/s]"
      ]
     },
     "metadata": {},
     "output_type": "display_data"
    },
    {
     "data": {
      "application/vnd.jupyter.widget-view+json": {
       "model_id": "62d8bca7071e4d64941611ab4af30309",
       "version_major": 2,
       "version_minor": 0
      },
      "text/plain": [
       "[pred_fn]:   0%|          | 0/79 [00:00<?, ?it/s]"
      ]
     },
     "metadata": {},
     "output_type": "display_data"
    },
    {
     "data": {
      "application/vnd.jupyter.widget-view+json": {
       "model_id": "61ad666e4d434f66b7a6e0c403135b64",
       "version_major": 2,
       "version_minor": 0
      },
      "text/plain": [
       "[pred_fn]:   0%|          | 0/79 [00:00<?, ?it/s]"
      ]
     },
     "metadata": {},
     "output_type": "display_data"
    },
    {
     "data": {
      "application/vnd.jupyter.widget-view+json": {
       "model_id": "34672fb6dc3f45eb90debfed6dc64da4",
       "version_major": 2,
       "version_minor": 0
      },
      "text/plain": [
       "[pred_fn]:   0%|          | 0/79 [00:00<?, ?it/s]"
      ]
     },
     "metadata": {},
     "output_type": "display_data"
    },
    {
     "data": {
      "application/vnd.jupyter.widget-view+json": {
       "model_id": "5d4f12c2a15242ee8b9a25b4eb57eace",
       "version_major": 2,
       "version_minor": 0
      },
      "text/plain": [
       "[pred_fn]:   0%|          | 0/79 [00:00<?, ?it/s]"
      ]
     },
     "metadata": {},
     "output_type": "display_data"
    },
    {
     "data": {
      "application/vnd.jupyter.widget-view+json": {
       "model_id": "bd52e6bb4c264193864df11a2cda948c",
       "version_major": 2,
       "version_minor": 0
      },
      "text/plain": [
       "[pred_fn]:   0%|          | 0/79 [00:00<?, ?it/s]"
      ]
     },
     "metadata": {},
     "output_type": "display_data"
    },
    {
     "data": {
      "application/vnd.jupyter.widget-view+json": {
       "model_id": "773df36639f74fb8a7bd644ad9889d83",
       "version_major": 2,
       "version_minor": 0
      },
      "text/plain": [
       "[pred_fn]:   0%|          | 0/79 [00:00<?, ?it/s]"
      ]
     },
     "metadata": {},
     "output_type": "display_data"
    },
    {
     "data": {
      "application/vnd.jupyter.widget-view+json": {
       "model_id": "341408e62dd24bad8dc39914631bc858",
       "version_major": 2,
       "version_minor": 0
      },
      "text/plain": [
       "[pred_fn]:   0%|          | 0/79 [00:00<?, ?it/s]"
      ]
     },
     "metadata": {},
     "output_type": "display_data"
    },
    {
     "data": {
      "application/vnd.jupyter.widget-view+json": {
       "model_id": "5a2bb830197b4705ab8b796d232f9306",
       "version_major": 2,
       "version_minor": 0
      },
      "text/plain": [
       "[pred_fn]:   0%|          | 0/79 [00:00<?, ?it/s]"
      ]
     },
     "metadata": {},
     "output_type": "display_data"
    },
    {
     "data": {
      "application/vnd.jupyter.widget-view+json": {
       "model_id": "9071261ea6ed44f38f81e7afd2ccb3de",
       "version_major": 2,
       "version_minor": 0
      },
      "text/plain": [
       "[pred_fn]:   0%|          | 0/79 [00:00<?, ?it/s]"
      ]
     },
     "metadata": {},
     "output_type": "display_data"
    },
    {
     "data": {
      "application/vnd.jupyter.widget-view+json": {
       "model_id": "94cc315df3a346d0bcc6fc7c2f4d2792",
       "version_major": 2,
       "version_minor": 0
      },
      "text/plain": [
       "[pred_fn]:   0%|          | 0/79 [00:00<?, ?it/s]"
      ]
     },
     "metadata": {},
     "output_type": "display_data"
    },
    {
     "data": {
      "application/vnd.jupyter.widget-view+json": {
       "model_id": "fbfbcb0a87c241d7b0f4f6b0cfb10e18",
       "version_major": 2,
       "version_minor": 0
      },
      "text/plain": [
       "[pred_fn]:   0%|          | 0/79 [00:00<?, ?it/s]"
      ]
     },
     "metadata": {},
     "output_type": "display_data"
    },
    {
     "data": {
      "application/vnd.jupyter.widget-view+json": {
       "model_id": "2bfac6538c39441fafc2306b9343d2bc",
       "version_major": 2,
       "version_minor": 0
      },
      "text/plain": [
       "[pred_fn]:   0%|          | 0/79 [00:00<?, ?it/s]"
      ]
     },
     "metadata": {},
     "output_type": "display_data"
    },
    {
     "data": {
      "application/vnd.jupyter.widget-view+json": {
       "model_id": "f319deee15c041e6a042e4306b7a2947",
       "version_major": 2,
       "version_minor": 0
      },
      "text/plain": [
       "[pred_fn]:   0%|          | 0/79 [00:00<?, ?it/s]"
      ]
     },
     "metadata": {},
     "output_type": "display_data"
    },
    {
     "data": {
      "application/vnd.jupyter.widget-view+json": {
       "model_id": "194b130e4fa3480aa185c91c11ee06e4",
       "version_major": 2,
       "version_minor": 0
      },
      "text/plain": [
       "[pred_fn]:   0%|          | 0/79 [00:00<?, ?it/s]"
      ]
     },
     "metadata": {},
     "output_type": "display_data"
    },
    {
     "data": {
      "application/vnd.jupyter.widget-view+json": {
       "model_id": "c3333a66df244b9ba4dd807fe0d94fd8",
       "version_major": 2,
       "version_minor": 0
      },
      "text/plain": [
       "[pred_fn]:   0%|          | 0/79 [00:00<?, ?it/s]"
      ]
     },
     "metadata": {},
     "output_type": "display_data"
    },
    {
     "data": {
      "application/vnd.jupyter.widget-view+json": {
       "model_id": "63bee01d433941ab828a29bfe56168b3",
       "version_major": 2,
       "version_minor": 0
      },
      "text/plain": [
       "[pred_fn]:   0%|          | 0/79 [00:00<?, ?it/s]"
      ]
     },
     "metadata": {},
     "output_type": "display_data"
    },
    {
     "data": {
      "application/vnd.jupyter.widget-view+json": {
       "model_id": "8c5a25a1823443c08b551f3b065d2936",
       "version_major": 2,
       "version_minor": 0
      },
      "text/plain": [
       "[pred_fn]:   0%|          | 0/79 [00:00<?, ?it/s]"
      ]
     },
     "metadata": {},
     "output_type": "display_data"
    },
    {
     "data": {
      "application/vnd.jupyter.widget-view+json": {
       "model_id": "5b3e2f9979014f2ba279c8e830e8a6bc",
       "version_major": 2,
       "version_minor": 0
      },
      "text/plain": [
       "[pred_fn]:   0%|          | 0/79 [00:00<?, ?it/s]"
      ]
     },
     "metadata": {},
     "output_type": "display_data"
    },
    {
     "data": {
      "application/vnd.jupyter.widget-view+json": {
       "model_id": "a784732effbb403dbb61d19cc119d2e4",
       "version_major": 2,
       "version_minor": 0
      },
      "text/plain": [
       "[pred_fn]:   0%|          | 0/79 [00:00<?, ?it/s]"
      ]
     },
     "metadata": {},
     "output_type": "display_data"
    },
    {
     "data": {
      "application/vnd.jupyter.widget-view+json": {
       "model_id": "59c9104cd860411eb17c147f4d52ee56",
       "version_major": 2,
       "version_minor": 0
      },
      "text/plain": [
       "[pred_fn]:   0%|          | 0/79 [00:00<?, ?it/s]"
      ]
     },
     "metadata": {},
     "output_type": "display_data"
    },
    {
     "data": {
      "application/vnd.jupyter.widget-view+json": {
       "model_id": "b0ab0225756c45d9a8ae6f1d6c3b477a",
       "version_major": 2,
       "version_minor": 0
      },
      "text/plain": [
       "[pred_fn]:   0%|          | 0/79 [00:00<?, ?it/s]"
      ]
     },
     "metadata": {},
     "output_type": "display_data"
    },
    {
     "data": {
      "application/vnd.jupyter.widget-view+json": {
       "model_id": "1809e5a7f18a43279cc53c83a3f60d38",
       "version_major": 2,
       "version_minor": 0
      },
      "text/plain": [
       "[pred_fn]:   0%|          | 0/79 [00:00<?, ?it/s]"
      ]
     },
     "metadata": {},
     "output_type": "display_data"
    },
    {
     "data": {
      "application/vnd.jupyter.widget-view+json": {
       "model_id": "4303518992b34c9ca6c10cf7e0f713a1",
       "version_major": 2,
       "version_minor": 0
      },
      "text/plain": [
       "[pred_fn]:   0%|          | 0/79 [00:00<?, ?it/s]"
      ]
     },
     "metadata": {},
     "output_type": "display_data"
    },
    {
     "data": {
      "application/vnd.jupyter.widget-view+json": {
       "model_id": "e1efa806d71947e7adb81142faeaf31c",
       "version_major": 2,
       "version_minor": 0
      },
      "text/plain": [
       "[pred_fn]:   0%|          | 0/79 [00:00<?, ?it/s]"
      ]
     },
     "metadata": {},
     "output_type": "display_data"
    },
    {
     "data": {
      "application/vnd.jupyter.widget-view+json": {
       "model_id": "1ffe289790734e6ca2c643e83f792afa",
       "version_major": 2,
       "version_minor": 0
      },
      "text/plain": [
       "[pred_fn]:   0%|          | 0/79 [00:00<?, ?it/s]"
      ]
     },
     "metadata": {},
     "output_type": "display_data"
    },
    {
     "data": {
      "application/vnd.jupyter.widget-view+json": {
       "model_id": "33bd3af31ba04ed0b18a8a1128f34904",
       "version_major": 2,
       "version_minor": 0
      },
      "text/plain": [
       "[pred_fn]:   0%|          | 0/79 [00:00<?, ?it/s]"
      ]
     },
     "metadata": {},
     "output_type": "display_data"
    },
    {
     "data": {
      "application/vnd.jupyter.widget-view+json": {
       "model_id": "3ec96b639c8640ea929a3c735a3239a2",
       "version_major": 2,
       "version_minor": 0
      },
      "text/plain": [
       "[pred_fn]:   0%|          | 0/79 [00:00<?, ?it/s]"
      ]
     },
     "metadata": {},
     "output_type": "display_data"
    },
    {
     "data": {
      "application/vnd.jupyter.widget-view+json": {
       "model_id": "cebe32e0d7724335819663f3413bd937",
       "version_major": 2,
       "version_minor": 0
      },
      "text/plain": [
       "[pred_fn]:   0%|          | 0/79 [00:00<?, ?it/s]"
      ]
     },
     "metadata": {},
     "output_type": "display_data"
    },
    {
     "data": {
      "application/vnd.jupyter.widget-view+json": {
       "model_id": "3d0d276793334cd2a54155841e733ce3",
       "version_major": 2,
       "version_minor": 0
      },
      "text/plain": [
       "[pred_fn]:   0%|          | 0/79 [00:00<?, ?it/s]"
      ]
     },
     "metadata": {},
     "output_type": "display_data"
    },
    {
     "data": {
      "application/vnd.jupyter.widget-view+json": {
       "model_id": "ee3ef69cab7d47e986102c85a34498bb",
       "version_major": 2,
       "version_minor": 0
      },
      "text/plain": [
       "[pred_fn]:   0%|          | 0/79 [00:00<?, ?it/s]"
      ]
     },
     "metadata": {},
     "output_type": "display_data"
    },
    {
     "data": {
      "application/vnd.jupyter.widget-view+json": {
       "model_id": "e3f14118ef9441b9a5e3837a204cb0f3",
       "version_major": 2,
       "version_minor": 0
      },
      "text/plain": [
       "[pred_fn]:   0%|          | 0/79 [00:00<?, ?it/s]"
      ]
     },
     "metadata": {},
     "output_type": "display_data"
    },
    {
     "data": {
      "application/vnd.jupyter.widget-view+json": {
       "model_id": "c9d5dc4148ce46a9aff22369b84b1e2b",
       "version_major": 2,
       "version_minor": 0
      },
      "text/plain": [
       "[pred_fn]:   0%|          | 0/79 [00:00<?, ?it/s]"
      ]
     },
     "metadata": {},
     "output_type": "display_data"
    },
    {
     "data": {
      "application/vnd.jupyter.widget-view+json": {
       "model_id": "81a0cb5dc3504062b3ed9573b28c7546",
       "version_major": 2,
       "version_minor": 0
      },
      "text/plain": [
       "[pred_fn]:   0%|          | 0/79 [00:00<?, ?it/s]"
      ]
     },
     "metadata": {},
     "output_type": "display_data"
    },
    {
     "data": {
      "application/vnd.jupyter.widget-view+json": {
       "model_id": "667ffd7995314c33b625998613c464ab",
       "version_major": 2,
       "version_minor": 0
      },
      "text/plain": [
       "[pred_fn]:   0%|          | 0/79 [00:00<?, ?it/s]"
      ]
     },
     "metadata": {},
     "output_type": "display_data"
    },
    {
     "data": {
      "application/vnd.jupyter.widget-view+json": {
       "model_id": "73590f7961624509bed5edb440815369",
       "version_major": 2,
       "version_minor": 0
      },
      "text/plain": [
       "[pred_fn]:   0%|          | 0/79 [00:00<?, ?it/s]"
      ]
     },
     "metadata": {},
     "output_type": "display_data"
    },
    {
     "data": {
      "application/vnd.jupyter.widget-view+json": {
       "model_id": "90597114ac5e4ff0b67783e0158e7e91",
       "version_major": 2,
       "version_minor": 0
      },
      "text/plain": [
       "[pred_fn]:   0%|          | 0/79 [00:00<?, ?it/s]"
      ]
     },
     "metadata": {},
     "output_type": "display_data"
    },
    {
     "data": {
      "application/vnd.jupyter.widget-view+json": {
       "model_id": "e2a845d5ee3745feb020a67a1e70d74c",
       "version_major": 2,
       "version_minor": 0
      },
      "text/plain": [
       "[pred_fn]:   0%|          | 0/79 [00:00<?, ?it/s]"
      ]
     },
     "metadata": {},
     "output_type": "display_data"
    },
    {
     "data": {
      "application/vnd.jupyter.widget-view+json": {
       "model_id": "894579ba3ce6470cba03b568ac3526ab",
       "version_major": 2,
       "version_minor": 0
      },
      "text/plain": [
       "[pred_fn]:   0%|          | 0/79 [00:00<?, ?it/s]"
      ]
     },
     "metadata": {},
     "output_type": "display_data"
    },
    {
     "data": {
      "application/vnd.jupyter.widget-view+json": {
       "model_id": "9ecf41b67e7346968f1d6f74752da72b",
       "version_major": 2,
       "version_minor": 0
      },
      "text/plain": [
       "[pred_fn]:   0%|          | 0/79 [00:00<?, ?it/s]"
      ]
     },
     "metadata": {},
     "output_type": "display_data"
    },
    {
     "data": {
      "application/vnd.jupyter.widget-view+json": {
       "model_id": "e9b5520cb125463d9e09d7466d070132",
       "version_major": 2,
       "version_minor": 0
      },
      "text/plain": [
       "[pred_fn]:   0%|          | 0/79 [00:00<?, ?it/s]"
      ]
     },
     "metadata": {},
     "output_type": "display_data"
    },
    {
     "data": {
      "application/vnd.jupyter.widget-view+json": {
       "model_id": "160c3bd932834c46bc7320421bc1f0f3",
       "version_major": 2,
       "version_minor": 0
      },
      "text/plain": [
       "[pred_fn]:   0%|          | 0/79 [00:00<?, ?it/s]"
      ]
     },
     "metadata": {},
     "output_type": "display_data"
    },
    {
     "data": {
      "application/vnd.jupyter.widget-view+json": {
       "model_id": "5d16e78df87e48238b88140c87e075f9",
       "version_major": 2,
       "version_minor": 0
      },
      "text/plain": [
       "[pred_fn]:   0%|          | 0/79 [00:00<?, ?it/s]"
      ]
     },
     "metadata": {},
     "output_type": "display_data"
    },
    {
     "data": {
      "application/vnd.jupyter.widget-view+json": {
       "model_id": "d6691a3e208442109dbfbddc16caa7f2",
       "version_major": 2,
       "version_minor": 0
      },
      "text/plain": [
       "[pred_fn]:   0%|          | 0/79 [00:00<?, ?it/s]"
      ]
     },
     "metadata": {},
     "output_type": "display_data"
    },
    {
     "data": {
      "application/vnd.jupyter.widget-view+json": {
       "model_id": "a064ed64e74b48c1a812acb1f7f3e0ab",
       "version_major": 2,
       "version_minor": 0
      },
      "text/plain": [
       "[pred_fn]:   0%|          | 0/79 [00:00<?, ?it/s]"
      ]
     },
     "metadata": {},
     "output_type": "display_data"
    },
    {
     "data": {
      "application/vnd.jupyter.widget-view+json": {
       "model_id": "c1dc91bb849e40a8a69a43605c398457",
       "version_major": 2,
       "version_minor": 0
      },
      "text/plain": [
       "[pred_fn]:   0%|          | 0/79 [00:00<?, ?it/s]"
      ]
     },
     "metadata": {},
     "output_type": "display_data"
    },
    {
     "data": {
      "application/vnd.jupyter.widget-view+json": {
       "model_id": "8002e3e605404ebe8f339175e5f713d4",
       "version_major": 2,
       "version_minor": 0
      },
      "text/plain": [
       "[pred_fn]:   0%|          | 0/79 [00:00<?, ?it/s]"
      ]
     },
     "metadata": {},
     "output_type": "display_data"
    },
    {
     "data": {
      "application/vnd.jupyter.widget-view+json": {
       "model_id": "3c893de635ae4584b2d9cf96758161b8",
       "version_major": 2,
       "version_minor": 0
      },
      "text/plain": [
       "[pred_fn]:   0%|          | 0/79 [00:00<?, ?it/s]"
      ]
     },
     "metadata": {},
     "output_type": "display_data"
    },
    {
     "data": {
      "application/vnd.jupyter.widget-view+json": {
       "model_id": "d15c5052404141969fb649f1cc09d8c5",
       "version_major": 2,
       "version_minor": 0
      },
      "text/plain": [
       "[pred_fn]:   0%|          | 0/79 [00:00<?, ?it/s]"
      ]
     },
     "metadata": {},
     "output_type": "display_data"
    },
    {
     "data": {
      "application/vnd.jupyter.widget-view+json": {
       "model_id": "edb7f0227d62462fab7d851158cd616f",
       "version_major": 2,
       "version_minor": 0
      },
      "text/plain": [
       "[pred_fn]:   0%|          | 0/79 [00:00<?, ?it/s]"
      ]
     },
     "metadata": {},
     "output_type": "display_data"
    },
    {
     "data": {
      "application/vnd.jupyter.widget-view+json": {
       "model_id": "7665726510124ff19c9af74de27282cc",
       "version_major": 2,
       "version_minor": 0
      },
      "text/plain": [
       "[pred_fn]:   0%|          | 0/79 [00:00<?, ?it/s]"
      ]
     },
     "metadata": {},
     "output_type": "display_data"
    },
    {
     "data": {
      "application/vnd.jupyter.widget-view+json": {
       "model_id": "0295c7efc7a049c595cbdd08bf1e438a",
       "version_major": 2,
       "version_minor": 0
      },
      "text/plain": [
       "[pred_fn]:   0%|          | 0/79 [00:00<?, ?it/s]"
      ]
     },
     "metadata": {},
     "output_type": "display_data"
    },
    {
     "data": {
      "application/vnd.jupyter.widget-view+json": {
       "model_id": "dbbdd0c0a48b477d8ab6c2abe1eb7e11",
       "version_major": 2,
       "version_minor": 0
      },
      "text/plain": [
       "[pred_fn]:   0%|          | 0/79 [00:00<?, ?it/s]"
      ]
     },
     "metadata": {},
     "output_type": "display_data"
    },
    {
     "data": {
      "application/vnd.jupyter.widget-view+json": {
       "model_id": "f1e7cc5e3aba403e963ec7cf993a5944",
       "version_major": 2,
       "version_minor": 0
      },
      "text/plain": [
       "[pred_fn]:   0%|          | 0/79 [00:00<?, ?it/s]"
      ]
     },
     "metadata": {},
     "output_type": "display_data"
    },
    {
     "data": {
      "application/vnd.jupyter.widget-view+json": {
       "model_id": "3f514e2a9157424ab537ec3331f0d28b",
       "version_major": 2,
       "version_minor": 0
      },
      "text/plain": [
       "[pred_fn]:   0%|          | 0/79 [00:00<?, ?it/s]"
      ]
     },
     "metadata": {},
     "output_type": "display_data"
    },
    {
     "data": {
      "application/vnd.jupyter.widget-view+json": {
       "model_id": "4db0aa259273404bb0431b81452c34e6",
       "version_major": 2,
       "version_minor": 0
      },
      "text/plain": [
       "[pred_fn]:   0%|          | 0/79 [00:00<?, ?it/s]"
      ]
     },
     "metadata": {},
     "output_type": "display_data"
    },
    {
     "data": {
      "application/vnd.jupyter.widget-view+json": {
       "model_id": "26fa910b23c34cd09a7e067703087da8",
       "version_major": 2,
       "version_minor": 0
      },
      "text/plain": [
       "[pred_fn]:   0%|          | 0/79 [00:00<?, ?it/s]"
      ]
     },
     "metadata": {},
     "output_type": "display_data"
    },
    {
     "data": {
      "application/vnd.jupyter.widget-view+json": {
       "model_id": "e33d4262fbde4c81bcd2536478b0843c",
       "version_major": 2,
       "version_minor": 0
      },
      "text/plain": [
       "[pred_fn]:   0%|          | 0/79 [00:00<?, ?it/s]"
      ]
     },
     "metadata": {},
     "output_type": "display_data"
    },
    {
     "data": {
      "application/vnd.jupyter.widget-view+json": {
       "model_id": "2dc9fe664f344c23874811150fad0e02",
       "version_major": 2,
       "version_minor": 0
      },
      "text/plain": [
       "[pred_fn]:   0%|          | 0/79 [00:00<?, ?it/s]"
      ]
     },
     "metadata": {},
     "output_type": "display_data"
    },
    {
     "data": {
      "application/vnd.jupyter.widget-view+json": {
       "model_id": "a23d4b5614c7421c9872aa3a990bebdb",
       "version_major": 2,
       "version_minor": 0
      },
      "text/plain": [
       "[pred_fn]:   0%|          | 0/79 [00:00<?, ?it/s]"
      ]
     },
     "metadata": {},
     "output_type": "display_data"
    },
    {
     "data": {
      "application/vnd.jupyter.widget-view+json": {
       "model_id": "dad02c0a89cd4e41ba4ce44d417e1642",
       "version_major": 2,
       "version_minor": 0
      },
      "text/plain": [
       "[pred_fn]:   0%|          | 0/79 [00:00<?, ?it/s]"
      ]
     },
     "metadata": {},
     "output_type": "display_data"
    },
    {
     "data": {
      "application/vnd.jupyter.widget-view+json": {
       "model_id": "f545c344beb24e2eb6fb0c254589ad62",
       "version_major": 2,
       "version_minor": 0
      },
      "text/plain": [
       "[pred_fn]:   0%|          | 0/79 [00:00<?, ?it/s]"
      ]
     },
     "metadata": {},
     "output_type": "display_data"
    },
    {
     "data": {
      "application/vnd.jupyter.widget-view+json": {
       "model_id": "a5d57252f4bc41b5a91adceb2c0290b8",
       "version_major": 2,
       "version_minor": 0
      },
      "text/plain": [
       "[pred_fn]:   0%|          | 0/79 [00:00<?, ?it/s]"
      ]
     },
     "metadata": {},
     "output_type": "display_data"
    },
    {
     "data": {
      "application/vnd.jupyter.widget-view+json": {
       "model_id": "11f51e40a0354e4baea33bd17ae49495",
       "version_major": 2,
       "version_minor": 0
      },
      "text/plain": [
       "[pred_fn]:   0%|          | 0/79 [00:00<?, ?it/s]"
      ]
     },
     "metadata": {},
     "output_type": "display_data"
    },
    {
     "data": {
      "application/vnd.jupyter.widget-view+json": {
       "model_id": "afeb86f7a2f94510834e3c5be7709289",
       "version_major": 2,
       "version_minor": 0
      },
      "text/plain": [
       "[pred_fn]:   0%|          | 0/79 [00:00<?, ?it/s]"
      ]
     },
     "metadata": {},
     "output_type": "display_data"
    },
    {
     "data": {
      "application/vnd.jupyter.widget-view+json": {
       "model_id": "ac9e4f85866d499586c9dd76508a830e",
       "version_major": 2,
       "version_minor": 0
      },
      "text/plain": [
       "[pred_fn]:   0%|          | 0/79 [00:00<?, ?it/s]"
      ]
     },
     "metadata": {},
     "output_type": "display_data"
    },
    {
     "data": {
      "application/vnd.jupyter.widget-view+json": {
       "model_id": "779b950ef969423ebd59b13a0998a2af",
       "version_major": 2,
       "version_minor": 0
      },
      "text/plain": [
       "[pred_fn]:   0%|          | 0/79 [00:00<?, ?it/s]"
      ]
     },
     "metadata": {},
     "output_type": "display_data"
    },
    {
     "data": {
      "application/vnd.jupyter.widget-view+json": {
       "model_id": "62d101975c2749568556edd1c950f694",
       "version_major": 2,
       "version_minor": 0
      },
      "text/plain": [
       "[pred_fn]:   0%|          | 0/79 [00:00<?, ?it/s]"
      ]
     },
     "metadata": {},
     "output_type": "display_data"
    },
    {
     "data": {
      "application/vnd.jupyter.widget-view+json": {
       "model_id": "d1943abb361e47478aae749526813eff",
       "version_major": 2,
       "version_minor": 0
      },
      "text/plain": [
       "[pred_fn]:   0%|          | 0/79 [00:00<?, ?it/s]"
      ]
     },
     "metadata": {},
     "output_type": "display_data"
    },
    {
     "data": {
      "application/vnd.jupyter.widget-view+json": {
       "model_id": "b43b649cbe64441b9ae7aea9d773d275",
       "version_major": 2,
       "version_minor": 0
      },
      "text/plain": [
       "[pred_fn]:   0%|          | 0/79 [00:00<?, ?it/s]"
      ]
     },
     "metadata": {},
     "output_type": "display_data"
    },
    {
     "data": {
      "application/vnd.jupyter.widget-view+json": {
       "model_id": "76508995ea7d4934a0c47ca3a3916c2f",
       "version_major": 2,
       "version_minor": 0
      },
      "text/plain": [
       "[pred_fn]:   0%|          | 0/79 [00:00<?, ?it/s]"
      ]
     },
     "metadata": {},
     "output_type": "display_data"
    },
    {
     "data": {
      "application/vnd.jupyter.widget-view+json": {
       "model_id": "d387a7876caf4012a055a13674306faf",
       "version_major": 2,
       "version_minor": 0
      },
      "text/plain": [
       "[pred_fn]:   0%|          | 0/79 [00:00<?, ?it/s]"
      ]
     },
     "metadata": {},
     "output_type": "display_data"
    },
    {
     "data": {
      "application/vnd.jupyter.widget-view+json": {
       "model_id": "f49708bf950d48ff8b5fd7190eade875",
       "version_major": 2,
       "version_minor": 0
      },
      "text/plain": [
       "[pred_fn]:   0%|          | 0/79 [00:00<?, ?it/s]"
      ]
     },
     "metadata": {},
     "output_type": "display_data"
    },
    {
     "data": {
      "application/vnd.jupyter.widget-view+json": {
       "model_id": "1446ca2e35c642b6914a87ffd0e4c387",
       "version_major": 2,
       "version_minor": 0
      },
      "text/plain": [
       "[pred_fn]:   0%|          | 0/79 [00:00<?, ?it/s]"
      ]
     },
     "metadata": {},
     "output_type": "display_data"
    },
    {
     "data": {
      "application/vnd.jupyter.widget-view+json": {
       "model_id": "14edf4c87bc542b7adf53a06392ee2a9",
       "version_major": 2,
       "version_minor": 0
      },
      "text/plain": [
       "[pred_fn]:   0%|          | 0/79 [00:00<?, ?it/s]"
      ]
     },
     "metadata": {},
     "output_type": "display_data"
    },
    {
     "data": {
      "application/vnd.jupyter.widget-view+json": {
       "model_id": "2817f96b0a2b4bf7bfe91bc6b621d166",
       "version_major": 2,
       "version_minor": 0
      },
      "text/plain": [
       "[pred_fn]:   0%|          | 0/79 [00:00<?, ?it/s]"
      ]
     },
     "metadata": {},
     "output_type": "display_data"
    },
    {
     "data": {
      "application/vnd.jupyter.widget-view+json": {
       "model_id": "d9584d405870469caec91815a98a367e",
       "version_major": 2,
       "version_minor": 0
      },
      "text/plain": [
       "[pred_fn]:   0%|          | 0/79 [00:00<?, ?it/s]"
      ]
     },
     "metadata": {},
     "output_type": "display_data"
    },
    {
     "data": {
      "application/vnd.jupyter.widget-view+json": {
       "model_id": "b2e4158573fc4682a0488956b11e548e",
       "version_major": 2,
       "version_minor": 0
      },
      "text/plain": [
       "[pred_fn]:   0%|          | 0/79 [00:00<?, ?it/s]"
      ]
     },
     "metadata": {},
     "output_type": "display_data"
    },
    {
     "data": {
      "application/vnd.jupyter.widget-view+json": {
       "model_id": "fc2021cc7557453c8f9dd2a2e5c3842b",
       "version_major": 2,
       "version_minor": 0
      },
      "text/plain": [
       "[pred_fn]:   0%|          | 0/79 [00:00<?, ?it/s]"
      ]
     },
     "metadata": {},
     "output_type": "display_data"
    },
    {
     "data": {
      "application/vnd.jupyter.widget-view+json": {
       "model_id": "79c1baf2b20546c58937049343b55b62",
       "version_major": 2,
       "version_minor": 0
      },
      "text/plain": [
       "[pred_fn]:   0%|          | 0/79 [00:00<?, ?it/s]"
      ]
     },
     "metadata": {},
     "output_type": "display_data"
    },
    {
     "data": {
      "application/vnd.jupyter.widget-view+json": {
       "model_id": "9531f7af2cea4e8f987c9c98eba85231",
       "version_major": 2,
       "version_minor": 0
      },
      "text/plain": [
       "[pred_fn]:   0%|          | 0/79 [00:00<?, ?it/s]"
      ]
     },
     "metadata": {},
     "output_type": "display_data"
    },
    {
     "data": {
      "application/vnd.jupyter.widget-view+json": {
       "model_id": "8336bab133c4486dba227bf3efe28806",
       "version_major": 2,
       "version_minor": 0
      },
      "text/plain": [
       "[pred_fn]:   0%|          | 0/79 [00:00<?, ?it/s]"
      ]
     },
     "metadata": {},
     "output_type": "display_data"
    },
    {
     "data": {
      "application/vnd.jupyter.widget-view+json": {
       "model_id": "cc2fdee9a546419a98e51921f2dcd759",
       "version_major": 2,
       "version_minor": 0
      },
      "text/plain": [
       "[pred_fn]:   0%|          | 0/79 [00:00<?, ?it/s]"
      ]
     },
     "metadata": {},
     "output_type": "display_data"
    },
    {
     "data": {
      "application/vnd.jupyter.widget-view+json": {
       "model_id": "eee4cc5e30f24a16b8e670b61f7e4c37",
       "version_major": 2,
       "version_minor": 0
      },
      "text/plain": [
       "[pred_fn]:   0%|          | 0/79 [00:00<?, ?it/s]"
      ]
     },
     "metadata": {},
     "output_type": "display_data"
    },
    {
     "data": {
      "application/vnd.jupyter.widget-view+json": {
       "model_id": "010f1ad0bdb84d4c891aeba3c9813cdb",
       "version_major": 2,
       "version_minor": 0
      },
      "text/plain": [
       "[pred_fn]:   0%|          | 0/79 [00:00<?, ?it/s]"
      ]
     },
     "metadata": {},
     "output_type": "display_data"
    },
    {
     "data": {
      "application/vnd.jupyter.widget-view+json": {
       "model_id": "a5a6cfa2856d4d2083318a3907183a1a",
       "version_major": 2,
       "version_minor": 0
      },
      "text/plain": [
       "[pred_fn]:   0%|          | 0/79 [00:00<?, ?it/s]"
      ]
     },
     "metadata": {},
     "output_type": "display_data"
    },
    {
     "data": {
      "application/vnd.jupyter.widget-view+json": {
       "model_id": "568970fc7647445fb63cf256bf33493a",
       "version_major": 2,
       "version_minor": 0
      },
      "text/plain": [
       "[pred_fn]:   0%|          | 0/79 [00:00<?, ?it/s]"
      ]
     },
     "metadata": {},
     "output_type": "display_data"
    },
    {
     "data": {
      "application/vnd.jupyter.widget-view+json": {
       "model_id": "85f6420e500f4ff9867471913f155304",
       "version_major": 2,
       "version_minor": 0
      },
      "text/plain": [
       "[pred_fn]:   0%|          | 0/79 [00:00<?, ?it/s]"
      ]
     },
     "metadata": {},
     "output_type": "display_data"
    },
    {
     "data": {
      "application/vnd.jupyter.widget-view+json": {
       "model_id": "2f13e14a27354dfd844936506eb52f32",
       "version_major": 2,
       "version_minor": 0
      },
      "text/plain": [
       "[pred_fn]:   0%|          | 0/79 [00:00<?, ?it/s]"
      ]
     },
     "metadata": {},
     "output_type": "display_data"
    },
    {
     "data": {
      "application/vnd.jupyter.widget-view+json": {
       "model_id": "c9e5ad336610415b88e364ff3b64b9b7",
       "version_major": 2,
       "version_minor": 0
      },
      "text/plain": [
       "[pred_fn]:   0%|          | 0/79 [00:00<?, ?it/s]"
      ]
     },
     "metadata": {},
     "output_type": "display_data"
    },
    {
     "name": "stdout",
     "output_type": "stream",
     "text": [
      "0.2871 0.9132 0.7780992857142857 0.18524173039048525\n"
     ]
    }
   ],
   "source": [
    "base_dset = \"mnist\"\n",
    "#base_dset = \"fashion\"\n",
    "\n",
    "threshold = 1e-1\n",
    "\n",
    "n_samples = [1, 3, 5, 10, 20, 100]\n",
    "optimizers = ['adam',]\n",
    "#optimizers = ['sgd']\n",
    "spurious_versions = ['v20']\n",
    "spurious_versions = ['v8']\n",
    "architecures = ['LargeMLP']\n",
    "grad_clips = [None]\n",
    "tar_clses = [0]\n",
    "wd = 0.0\n",
    "\n",
    "opt_methods = {\n",
    "    'sgd': {\n",
    "        'methods': ['train_classifier', #'incremental_retraining',\n",
    "                    'wd-0.0001', 'wd-0.001'],\n",
    "        'method_names':  ['original', #'retrain',\n",
    "                          'wd(1e-4)', 'wd(1e-3)'],\n",
    "    },\n",
    "    'adam': {\n",
    "        'methods': ['train_classifier', #'incremental_retraining',\n",
    "                    'gc-0.00001', 'gc-0.0001', 'gc-0.001', 'gc-0.01', 'gc-0.1',\n",
    "                    'wd-0.00001', 'wd-0.0001', 'wd-0.001', 'wd-0.05', 'wd-0.01', 'wd-0.1',\n",
    "                    \"ninput00\", \"ninput01\", \"ninput02\", \"ninput03\", \"ninput04\", \"ninput05\", \"ninput06\", \"ninput07\"],\n",
    "        'method_names':  ['original', #'retrain',\n",
    "                          'gc(1e-5)', 'gc(1e-4)', 'gc(1e-3)', 'gc(1e-2)', 'gc(1e-1)', \n",
    "                          'wd(1e-5)', 'wd(1e-4)', 'wd(1e-3)', 'wd(1e-2)', 'wd(5e-2)', 'wd(1e-1)',\n",
    "                          \"ninput00\", \"ninput01\", \"ninput02\", \"ninput03\", \"ninput04\", \"ninput05\", \"ninput06\", \"ninput07\"],\n",
    "    },\n",
    "}\n",
    "\n",
    "base_dset = \"cifar10\"\n",
    "optimizers = ['adam']\n",
    "spurious_versions = ['v20']\n",
    "spurious_versions = ['v8']\n",
    "architecures = ['altResNet20Norm02']\n",
    "n_samples = [1, 3, 5, 10, 20, 100, 1000]\n",
    "wd = 0.0\n",
    "\n",
    "opt_methods = {\n",
    "    'sgd': {\n",
    "        'methods': ['train_classifier', #'incremental_retraining',\n",
    "                    'wd-0.0001', 'wd-0.001'],\n",
    "        'method_names':  ['original', #'retrain',\n",
    "                          'wd(1e-4)', 'wd(1e-3)'],\n",
    "    },\n",
    "    'adam': {\n",
    "        'methods': ['train_classifier', #'incremental_retraining',\n",
    "                    'gc-0.01', 'gc-0.1', 'gc-1.0', 'gc-10.0',\n",
    "                    'wd-0.000001', 'wd-0.00001', 'wd-0.0001', 'wd-0.001', 'wd-0.01',\n",
    "                    \"ninput00\", \"ninput01\", \"ninput02\", \"ninput03\", \"ninput04\", \"ninput05\"],\n",
    "        'method_names':  ['original', #'retrain',\n",
    "                          'gc(1e-2)', 'gc(1e-1)', 'gc(1e-0)', 'gc(1e-1)', \n",
    "                          'wd(1e-6)', 'wd(1e-5)', 'wd(1e-4)', 'wd(1e-3)', 'wd(1e-2)',\n",
    "                          \"ninput00\", \"ninput01\", \"ninput02\", \"ninput03\", \"ninput04\", \"ninput05\"],\n",
    "    },\n",
    "}\n",
    "\n",
    "\n",
    "\n",
    "all_accs = []\n",
    "all_results = {}\n",
    "\n",
    "#methods = ['train_classifier', 'incremental_retraining', 'noisy-0.02', 'noisy-0.01', 'forget_retrain-1.0', 'forget_retrain-0.5', 'wd-0.0001']\n",
    "#methods = ['train_classifier', 'incremental_retraining', 'noisy-0.02', 'noisy-0.01', 'forget_retrain-0.2', 'forget_retrain-0.1', 'wd-0.0001']\n",
    "\n",
    "model_seed = 0\n",
    "\n",
    "for toptimizer in optimizers:\n",
    "    methods = opt_methods[toptimizer]['methods']\n",
    "    for tar_cls in tar_clses:\n",
    "        for spurious_version in spurious_versions:\n",
    "            for arch in architecures:\n",
    "                lr = 0.1 if \"cifar\" in base_dset and toptimizer == \"sgd\" else 0.01\n",
    "                optimizer = toptimizer if 'Vgg' not in arch else \"sgd\"\n",
    "                momentum = 0. if optimizer == 'adam' else 0.9\n",
    "\n",
    "                grad_clip = None\n",
    "                if 'cifar' in base_dset:\n",
    "                    if grad_clip is None:\n",
    "                        model_path = f\"../models/train_classifier/128-{base_dset}-70-{lr}-aug01-ce-tor-{arch}-{momentum}-{optimizer}-0-0.0.pt\"\n",
    "                    else:\n",
    "                        model_path = f\"../models/train_classifier/128-{base_dset}-70-{grad_clip}-{lr}-aug01-ce-tor-{arch}-{momentum}-{optimizer}-0-0.0.pt\"\n",
    "                else:\n",
    "                    if grad_clip is None:\n",
    "                        model_path = f\"../models/train_classifier/128-{base_dset}-70-0.01-ce-tor-{arch}-{momentum}-{optimizer}-0-0.0.pt\"\n",
    "                    else:\n",
    "                        model_path = f\"../models/train_classifier/128-{base_dset}-70-{grad_clip}-0.01-ce-tor-{arch}-{momentum}-{optimizer}-0-0.0.pt\"\n",
    "                mod_tst_preds, tst_preds, tsty = evaluate(base_dset, model_path, arch, spurious_version, 0)\n",
    "                ind = np.arange(len(tsty))\n",
    "                mod_tst_preds, tst_preds, tsty = mod_tst_preds[ind], tst_preds[ind], tsty[ind]\n",
    "                baseline_rv = (mod_tst_preds[:, tar_cls] - tst_preds[:, tar_cls]) > threshold\n",
    "                baseline_nos = baseline_rv.mean()\n",
    "                baseline_sem = sem(baseline_rv)\n",
    "                baseline_acc = (tst_preds.argmax(1) == tsty).mean()\n",
    "                baseline_spacc = (tst_preds.argmax(1) == tsty)[tsty != tar_cls].mean()\n",
    "                baseline_mod_tst_preds = mod_tst_preds\n",
    "\n",
    "                key = (optimizer, tar_cls, spurious_version, arch, grad_clip)\n",
    "                all_results[key] = {}\n",
    "                for method in methods:\n",
    "                    mkey = method\n",
    "                    noise_multiplier = None\n",
    "                    twd = wd\n",
    "                    noise_level = None\n",
    "                    grad_clip = None\n",
    "                    if 'forget' in method:\n",
    "                        if 'cifar' in base_dset:\n",
    "                            lr = 0.001\n",
    "                        else:\n",
    "                            lr = 0.0001\n",
    "                        folder, noise_level = method.split('-')[0], float(method.split('-')[1])\n",
    "                    elif 'gc' in method:\n",
    "                        lr = 0.01\n",
    "                        folder, grad_clip = 'train_classifier', float(method.split('-')[1])\n",
    "                    elif 'wd' in method:\n",
    "                        lr = 0.01\n",
    "                        folder, twd = 'train_classifier', float(method.split('-')[1])\n",
    "                    elif 'noisy' in method:\n",
    "                        lr = 0.01\n",
    "                        folder, noise_multiplier = 'train_classifier', float(method.split('-')[1])\n",
    "                    elif 'oneothers' in method or 'ninput' in method:\n",
    "                        lr = 0.01\n",
    "                        folder, twd = 'train_classifier', 0.\n",
    "                    else:\n",
    "                        lr = 0.01\n",
    "                        folder, twd = 'train_classifier', 0.\n",
    "\n",
    "                    all_results[key][mkey] = {}\n",
    "                    all_results[key][mkey]['score_mean'] = [baseline_nos]\n",
    "                    all_results[key][mkey]['score_sem'] = [0]\n",
    "                    all_results[key][mkey]['acc'] = [baseline_acc]\n",
    "                    all_results[key][mkey]['spacc'] = [baseline_spacc]\n",
    "                    all_results[key]['n_samples'] = n_samples\n",
    "\n",
    "                    for i in n_samples:\n",
    "                        taccs, sptaccs, tret, ttest_res = [], [], [], []\n",
    "\n",
    "                        for seed in range(5):\n",
    "                            ds_name, model_path = get_model_path(base_dset, spurious_version, i, tar_cls, seed, arch, momentum, optimizer, lr, model_seed,\n",
    "                                                                 bs=None, wd=twd, gi=None, depth=None, noise_level=noise_level,\n",
    "                                                                 noise_multiplier=noise_multiplier, grad_clip=grad_clip, folder=folder)\n",
    "                            if 'oneothers' in method:\n",
    "                                model_path = model_path.replace(f\"128-{ds_name}\", \"128-oneothers\" + ds_name)\n",
    "                                ds_name = \"oneothers\" + ds_name\n",
    "                            elif 'ninput' in method:\n",
    "                                pre = \"aug01-\" if 'cifar10' in base_dset else \"\"\n",
    "                                pre2 = \"-aug01\" if 'cifar10' in base_dset else \"-\"\n",
    "                                if '01' in method:\n",
    "                                    model_path = model_path.replace(f\"{lr}-{pre}ce\", f\"{lr}{pre2}noise01-ce\")\n",
    "                                elif '02' in method:\n",
    "                                    model_path = model_path.replace(f\"{lr}-{pre}ce\", f\"{lr}{pre2}noise02-ce\")\n",
    "                                elif '03' in method:\n",
    "                                    model_path = model_path.replace(f\"{lr}-{pre}ce\", f\"{lr}{pre2}noise03-ce\")\n",
    "                                elif '04' in method:\n",
    "                                    model_path = model_path.replace(f\"{lr}-{pre}ce\", f\"{lr}{pre2}noise04-ce\")\n",
    "                                elif '05' in method:\n",
    "                                    model_path = model_path.replace(f\"{lr}-{pre}ce\", f\"{lr}{pre2}noise05-ce\")\n",
    "                                elif '06' in method:\n",
    "                                    model_path = model_path.replace(f\"{lr}-{pre}ce\", f\"{lr}{pre2}noise06-ce\")\n",
    "                                elif '07' in method:\n",
    "                                    model_path = model_path.replace(f\"{lr}-{pre}ce\", f\"{lr}{pre2}noise07-ce\")\n",
    "                            try:\n",
    "                                mod_tst_preds, tst_preds, tsty = evaluate(ds_name, model_path, arch, spurious_version, seed)\n",
    "                                ind = np.arange(len(tsty))\n",
    "                                mod_tst_preds, tst_preds, tsty = mod_tst_preds[ind], tst_preds[ind], tsty[ind]\n",
    "                                rv = (mod_tst_preds[:, tar_cls] - tst_preds[:, tar_cls]) > threshold\n",
    "                                taccs.append((tst_preds.argmax(1) == tsty).mean())\n",
    "                                sptaccs.append((mod_tst_preds.argmax(1) == tsty)[tsty != tar_cls].mean())\n",
    "                                #taccs.append(mod_tst_preds[rv][:, tar_cls].mean())\n",
    "                                tret.append(rv.mean())\n",
    "                            except FileNotFoundError:\n",
    "                                print(f\"missing {model_path}\")\n",
    "                            except:\n",
    "                                print(f\"wierd {model_path}\")\n",
    "\n",
    "                        if taccs:\n",
    "                            all_results[key][mkey]['score_mean'].append(np.mean(tret))\n",
    "                            all_results[key][mkey]['score_sem'].append(sem(tret))\n",
    "                            all_results[key][mkey]['acc'].append(np.mean(taccs))\n",
    "                            all_results[key][mkey]['spacc'].append(np.mean(sptaccs))\n",
    "                            all_accs += taccs\n",
    "                        else:\n",
    "                            all_results[key][mkey]['score_mean'].append(-1)\n",
    "                            all_results[key][mkey]['score_sem'].append(-1)\n",
    "                            all_results[key][mkey]['acc'].append(-1)\n",
    "                            all_results[key][mkey]['spacc'].append(-1)\n",
    "\n",
    "print(min(all_accs), max(all_accs), np.mean(all_accs), np.std(all_accs))"
   ]
  },
  {
   "cell_type": "code",
   "execution_count": 17,
   "id": "548c2f77-456b-41de-b245-6a31ba88bbc7",
   "metadata": {},
   "outputs": [
    {
     "name": "stdout",
     "output_type": "stream",
     "text": [
      "[0.021262499999999997, 0.021824999999999997, 0.0269075, 0.022239999999999996, 0.0106625, 0.0018] [0.90448, 0.9053100000000001, 0.9079900000000001, 0.8884125, 0.8248575, 0.6478124999999999]\n",
      "[0.021262499999999997, 0.040010000000000004, 0.041225, 0.05272500000000001, 0.02066, 0.0017699999999999999] [0.90448, 0.8357224999999999, 0.7625850000000001, 0.6324274999999999, 0.49761500000000003, 0.3777775]\n",
      "[0.021262499999999997, 0.02307, 0.0203475, 0.022907499999999997, 0.022635] [0.90448, 0.904135, 0.9048375, 0.90423, 0.9043175000000001]\n"
     ]
    },
    {
     "data": {
      "image/png": "[encoded data removed]",
      "text/plain": [
       "<Figure size 432x288 with 2 Axes>"
      ]
     },
     "metadata": {
      "needs_background": "light"
     },
     "output_type": "display_data"
    },
    {
     "data": {
      "image/png": "[encoded data removed]",
      "text/plain": [
       "<Figure size 432x288 with 2 Axes>"
      ]
     },
     "metadata": {
      "needs_background": "light"
     },
     "output_type": "display_data"
    },
    {
     "data": {
      "image/png": "[encoded data removed]",
      "text/plain": [
       "<Figure size 432x288 with 2 Axes>"
      ]
     },
     "metadata": {
      "needs_background": "light"
     },
     "output_type": "display_data"
    }
   ],
   "source": [
    "#res = all_results[('adam', 0, 'v20', 'LargeMLP', None)]\n",
    "arch = architecures[0]\n",
    "spurious_version = spurious_versions[0]\n",
    "res = all_results[('adam', 0, spurious_version, arch, None)]\n",
    "\n",
    "#res = all_results[('adam', 0, 'v20', 'altResNet20Norm02', None)]\n",
    "\n",
    "idx = 3  # controls number of spurious examples\n",
    "\n",
    "mnist_setting = {\n",
    "    \"wd\": {\n",
    "        'mkeys': ['train_classifier', 'wd-0.00001', 'wd-0.0001', 'wd-0.001', 'wd-0.01', 'wd-0.05', 'wd-0.1'],\n",
    "        'ticks': [0., 1e-5, 1e-4, 1e-3, 1e-2, 5e-2, 1e-1],\n",
    "    },\n",
    "    \"noise\": {\n",
    "        'mkeys': ['train_classifier', \"ninput00\", \"ninput01\", \"ninput02\", \"ninput03\", \"ninput04\", \"ninput05\", \"ninput06\"],\n",
    "        'ticks': [0., 0.05, 0.1, 0.2, 0.5, 0.75, 1.0, 5.0],\n",
    "    },\n",
    "    \"gc\": {\n",
    "        'mkeys': ['train_classifier', 'gc-0.1', 'gc-0.01', 'gc-0.001', 'gc-0.0001', 'gc-0.00001'],\n",
    "        'ticks': [1e0, 1e-1, 1e-2, 1e-3, 1e-4, 1e-5],\n",
    "    },\n",
    "}\n",
    "methods = {\n",
    "    'cifar10': {\n",
    "        \"wd\": {\n",
    "            'mkeys': ['train_classifier', 'wd-0.000001', 'wd-0.00001', 'wd-0.0001', 'wd-0.001', 'wd-0.01'],\n",
    "            'ticks': [0., 1e-6, 1e-5, 1e-4, 1e-3, 1e-2],\n",
    "        },\n",
    "        \"noise\": {\n",
    "            'mkeys': ['train_classifier', \"ninput01\", \"ninput02\", \"ninput03\", \"ninput04\", \"ninput05\"],\n",
    "            'ticks': [0., 0.1, 0.2, 0.5, 1.0, 2.0],\n",
    "        },\n",
    "        \"gc\": {\n",
    "            'mkeys': ['train_classifier', 'gc-0.01', 'gc-0.1', 'gc-1.0', 'gc-10.0'],\n",
    "            'ticks': [0., 1e-2, 1e-1, 1e-0, 1e1],\n",
    "        },\n",
    "    },\n",
    "    'mnist': mnist_setting,\n",
    "    'fashion': mnist_setting,\n",
    "}\n",
    "\n",
    "fontsize=20\n",
    "\n",
    "for k, v in methods[base_dset].items():\n",
    "    mkeys = v['mkeys']\n",
    "    ticks = v['ticks']\n",
    "    \n",
    "    spu_scores = []\n",
    "    accs = []\n",
    "    acc_sems = []\n",
    "    spaccs = []\n",
    "    spacc_sems = []\n",
    "    spu_score_sems = []\n",
    "    for mkey in mkeys:\n",
    "        spu_scores.append(np.mean(res[mkey]['score_mean']))\n",
    "        spu_score_sems.append(sem(res[mkey]['score_mean']))\n",
    "        accs.append(np.mean(np.mean(res[mkey]['acc'])))\n",
    "        acc_sems.append(sem(res[mkey]['acc']))\n",
    "        spaccs.append(np.mean(np.mean(res[mkey]['spacc'])))\n",
    "        spacc_sems.append(sem(res[mkey]['spacc']))\n",
    "        #spu_scores.append(res[mkey]['score_mean'][idx])\n",
    "        #accs.append(np.mean(res[mkey]['acc'][idx]))\n",
    "    \n",
    "    print(spu_scores, accs)\n",
    "    \n",
    "    color = 'tab:blue'\n",
    "    fig, ax1 = plt.subplots()\n",
    "    if k == \"wd\":\n",
    "        plt.xscale(\"symlog\", linthreshx=0.000001)\n",
    "        plt.xlabel(\"Weight decay\", fontsize=fontsize)\n",
    "    elif k == \"gc\":\n",
    "        plt.xscale(\"symlog\", linthreshx=0.000001)\n",
    "        plt.xlabel(\"Gradient clipping\", fontsize=fontsize)\n",
    "    else:\n",
    "        linthreshx = 0.5 if \"cifar\" in base_dset else 0.01\n",
    "        plt.xscale(\"symlog\", linthreshx=linthreshx)\n",
    "        plt.xlabel(\"Noise level\", fontsize=fontsize)\n",
    "\n",
    "    ax1.errorbar(ticks, spu_scores, yerr=spu_score_sems, color=color)\n",
    "    ax1.set_ylabel(\"Spurious score\", fontsize=fontsize, color=color)\n",
    "    ax1.tick_params(axis='y', labelcolor=color, labelsize=fontsize)\n",
    "    ax1.tick_params(axis='x', labelsize=fontsize)\n",
    "    \n",
    "    if k == \"gc\":\n",
    "        ax1.set_xticks(ticks)\n",
    "        if 'cifar' in base_dset:\n",
    "            ax1.set_xticklabels([\"$\\infty$\", ] + [f\"$10^{{{i}}}$\" for i in [-2, -1, 0, 1]])\n",
    "        else:\n",
    "            ax1.set_xticklabels([\"$\\infty$\", ] + [f\"$10^{{{i}}}$\" for i in [-1, -2, -3, -4, -5]])\n",
    "\n",
    "    color = 'tab:red'\n",
    "    ax2 = ax1.twinx()\n",
    "    ax2.set_ylabel('Test accuracy', fontsize=fontsize, color=color)  # we already handled the x-label with ax1\n",
    "    ax2.errorbar(ticks, spaccs, yerr=spacc_sems, color=color, linestyle='--')\n",
    "    ax2.errorbar(ticks, accs, yerr=acc_sems, color=color)\n",
    "    ax2.tick_params(axis='y', labelcolor=color, labelsize=fontsize)\n",
    "\n",
    "    fig.tight_layout()\n",
    "    plt.savefig(f\"figs/regularization/{base_dset}_{spurious_version}_{k}.png\")"
   ]
  },
  {
   "cell_type": "code",
   "execution_count": null,
   "id": "189e3b2e-cd4e-4ff7-a279-c3bdd5f42060",
   "metadata": {},
   "outputs": [],
   "source": []
  },
  {
   "cell_type": "markdown",
   "id": "e76b1f99-4578-4819-b320-2969c97a4be4",
   "metadata": {},
   "source": [
    "# plot"
   ]
  },
  {
   "cell_type": "code",
   "execution_count": 1,
   "id": "c9f09d1f-1116-48ec-9840-d5795f3feab6",
   "metadata": {},
   "outputs": [],
   "source": [
    "import sympy\n",
    "from sympy import symbols, simplify, latex, fraction, factor, collect, lambdify\n",
    "from sympy.solvers import solve\n",
    "from sympy.abc import lamda\n",
    "import sympy.plotting\n",
    "from sympy.stats import Normal, cdf\n",
    "\n",
    "def move_sympyplot_to_axes(p, ax):\n",
    "    backend = p.backend(p)\n",
    "    backend.ax = ax\n",
    "    backend._process_series(backend.parent._series, ax, backend.parent)\n",
    "    backend.ax.spines['right'].set_color('none')\n",
    "    backend.ax.spines['left'].set_position(('axes', 0))\n",
    "    backend.ax.spines['bottom'].set_position(('axes', 0))\n",
    "    plt.close(backend.fig)"
   ]
  },
  {
   "cell_type": "code",
   "execution_count": 2,
   "id": "596b9729-35d3-4d97-9546-18ac12ca464b",
   "metadata": {},
   "outputs": [],
   "source": [
    "sinv, ssp, xinv, xsp, gamma = symbols('sigma_inv sigma_sp x_{inv} x_{sp} gamma')\n",
    "gcdf = cdf(Normal(\"snorm\", 0, 1))"
   ]
  },
  {
   "cell_type": "code",
   "execution_count": 3,
   "id": "86d65974-9807-4e01-804a-db94eddb52d7",
   "metadata": {},
   "outputs": [],
   "source": [
    "temp = ((gamma * (1 - gamma) / 2 * xsp**2 + ssp + lamda) / (sinv + lamda) ) * xinv**2\n",
    "top = temp + (gamma / 2)**2 * xsp**2\n",
    "top1 = temp - (gamma / 2)**2 * xsp**2\n",
    "top2 = temp + (gamma / 2) * (gamma / 2 - 1) * xsp**2\n",
    "\n",
    "down = sympy.sqrt(temp**2 * sinv + (gamma / 2)**2 * xsp**4 * ssp)\n",
    "error_ctest = gcdf(top / down) / 2 + gcdf(top1 / down) / 2\n",
    "error_stest = gcdf(top2 / down)\n",
    "sscore = (gamma / 2 * (sinv + lamda) * xsp**2) / ((sinv + lamda) * (ssp + lamda) + (ssp + lamda + gamma / 2 * (1 - gamma / 2) * (sinv + lamda) + gamma / 2 * (1 - gamma) * xsp**2) * xsp**2)"
   ]
  },
  {
   "cell_type": "code",
   "execution_count": 4,
   "id": "04c59715-4152-4c43-8070-32ae01d15847",
   "metadata": {},
   "outputs": [],
   "source": [
    "ugamma = 0.5"
   ]
  },
  {
   "cell_type": "code",
   "execution_count": 296,
   "id": "c0dd0b2c-e788-4614-aaf9-914b36dcc2e1",
   "metadata": {},
   "outputs": [
    {
     "data": {
      "image/png": "[encoded data removed]",
      "text/plain": [
       "<Figure size 252x324 with 1 Axes>"
      ]
     },
     "metadata": {
      "needs_background": "light"
     },
     "output_type": "display_data"
    }
   ],
   "source": [
    "# gamma\n",
    "plt.rc('font', size=15)\n",
    "#plots = []\n",
    "fig = plt.figure(figsize=(3.5,4.5))\n",
    "ax = fig.add_subplot(111)\n",
    "for i, noise in enumerate([0, 0.1, 0.2, 0.3]):\n",
    "    f = lambdify(gamma, error_ctest.subs({sinv: 0.5 + noise, ssp: 0.1 + noise, xinv: 1, lamda: 0., xsp: np.sqrt(5)}), \"numpy\")\n",
    "    res = [f(g) for g in np.linspace(0, ugamma, 100)]\n",
    "    ax.plot(np.linspace(0, ugamma, 100), res, label=\"$\\sigma^2_{noise}=\" + str(noise) + \"$\")\n",
    "    #plots.append(sympy.plotting.plot(error_ctest.subs({sinv: 0.5 + noise, ssp: 0.1 + noise, xinv: 1, lamda: 0., xsp: np.sqrt(5)}), linewidth=100,\n",
    "    #                        xlim=(0, 0.3), ylim=(0.85, 1.0), ylabel=\"Clean test accuracy\", xlabel=\"$\\gamma$\", show=False, label=\"$\\sigma_{inv}=0.1$\", legend=False))\n",
    "    #if i > 0:\n",
    "    #    plots[0].append(plots[i][0])\n",
    "\n",
    "#move_sympyplot_to_axes(plots[0], ax)\n",
    "ax.set_ylim(.81, .93)\n",
    "ax.set_ylabel(\"Clean test accuracy\", fontsize= 18)\n",
    "ax.set_xlabel(\"$\\gamma$\", fontsize=20)\n",
    "ax.yaxis.set_label_coords(-0.2, 0.5)\n",
    "ax.xaxis.set_label_coords(0.5, -0.1)\n",
    "ax.spines['top'].set_visible(False)\n",
    "#plt.legend(fontsize=14)\n",
    "plt.tight_layout()\n",
    "\n",
    "ticks = ax.yaxis.get_ticklabels()\n",
    "for ent in ticks:\n",
    "    temp = ent.get_text().replace(\"0.\", \".\")\n",
    "    ent.set_text(temp)\n",
    "ax.yaxis.set_ticklabels(ticks)\n",
    "plt.savefig(\"figs/fig6/error_ctest_noise.png\", dpi=300)"
   ]
  },
  {
   "cell_type": "code",
   "execution_count": 299,
   "id": "c22cd165-9e26-4a85-8931-97c4861f9cf1",
   "metadata": {},
   "outputs": [
    {
     "data": {
      "image/png": "[encoded data removed]",
      "text/plain": [
       "<Figure size 252x324 with 1 Axes>"
      ]
     },
     "metadata": {
      "needs_background": "light"
     },
     "output_type": "display_data"
    }
   ],
   "source": [
    "plt.rc('font', size=15)\n",
    "fig = plt.figure(figsize=(3.5,4.5))\n",
    "ax = fig.add_subplot(111)\n",
    "#plots = []\n",
    "for i, noise in enumerate([0, 0.1, 0.2, 0.3]):\n",
    "    f = lambdify(gamma, error_stest.subs({sinv: 0.5 + noise, ssp: 0.1 + noise, xinv: 1, lamda: 0., xsp: np.sqrt(5)}), \"numpy\")\n",
    "    res = [f(g) for g in np.linspace(0, ugamma, 100)]\n",
    "    ax.plot(np.linspace(0, ugamma, 100), res, label=\"$\\sigma^2_{noise}=\" + str(noise) + \"$\")\n",
    "    #plots.append(sympy.plotting.plot(error_stest.subs({sinv: 0.5 + noise, ssp: 0.1 + noise, xinv: 1, lamda: 0., xsp: np.sqrt(5)}), linewidth=100,\n",
    "    #                        xlim=(0, 0.2), ylim=(0.65, 0.95), ylabel=\"Spurious test accuracy\", xlabel=\"$\\gamma$\", show=False, label=\"$\\sigma_{inv}=0.1$\", legend=False))\n",
    "    #if i > 0:\n",
    "    #    plots[0].append(plots[i][0])\n",
    "\n",
    "#move_sympyplot_to_axes(plots[0], ax)\n",
    "ax.set_ylim(.5, .93)\n",
    "ax.set_xlabel(\"$\\gamma$\", fontsize= 20)\n",
    "ax.set_ylabel(\"Spurious test accuracy\", fontsize= 18)\n",
    "ax.yaxis.set_label_coords(-0.2, 0.5)\n",
    "ax.xaxis.set_label_coords(0.5, -0.1)\n",
    "ax.spines['top'].set_visible(False)\n",
    "plt.legend(fontsize=12, frameon=False)\n",
    "plt.tight_layout()\n",
    "\n",
    "ticks = ax.yaxis.get_ticklabels()\n",
    "for ent in ticks:\n",
    "    temp = ent.get_text().replace(\"0.\", \".\")\n",
    "    ent.set_text(temp)\n",
    "ax.yaxis.set_ticklabels(ticks)\n",
    "\n",
    "plt.savefig(\"figs/fig6/error_stest_noise.png\", dpi=300)"
   ]
  },
  {
   "cell_type": "code",
   "execution_count": 304,
   "id": "719661ce-6646-481e-952b-c923b42ef29f",
   "metadata": {},
   "outputs": [
    {
     "data": {
      "image/png": "[encoded data removed]",
      "text/plain": [
       "<Figure size 252x324 with 1 Axes>"
      ]
     },
     "metadata": {
      "needs_background": "light"
     },
     "output_type": "display_data"
    }
   ],
   "source": [
    "plt.rc('font', size=15)\n",
    "fig = plt.figure(figsize=(3.5,4.5))\n",
    "ax = fig.add_subplot(111)\n",
    "#plots = []\n",
    "for i, noise in enumerate([0, 0.1, 0.2, 0.3]):\n",
    "    f = lambdify(gamma, sscore.subs({sinv: 0.5 + noise, ssp: 0.1 + noise, xinv: 1, lamda: 0., xsp: np.sqrt(5)}), \"numpy\")\n",
    "    res = [f(g) for g in np.linspace(0, ugamma, 100)]\n",
    "    ax.plot(np.linspace(0, ugamma, 100), res)\n",
    "    #plots.append(sympy.plotting.plot(sscore.subs({sinv: 0.5 + noise, ssp: 0.1 + noise, xinv: 1, lamda: 0., xsp: np.sqrt(5)}), linewidth=100,\n",
    "    #                        xlim=(0, 0.2), ylim=(0.0, 0.14), ylabel=\"Spurious score\", xlabel=\"$\\gamma$\", show=False, label=\"$\\sigma_{inv}=0.1$\", legend=False))\n",
    "    #if i > 0:\n",
    "    #    plots[0].append(plots[i][0])\n",
    "#move_sympyplot_to_axes(plots[0], ax)\n",
    "ax.set_xlabel(\"$\\gamma$\", fontsize= 20)\n",
    "ax.set_ylabel(\"Spurious score\", fontsize= 18)\n",
    "\n",
    "ax.set_ylim(-0.01, .17)\n",
    "ax.yaxis.set_label_coords(-0.20, 0.5)\n",
    "ax.xaxis.set_label_coords(0.5, -0.1)\n",
    "ax.spines['top'].set_visible(False)\n",
    "plt.tight_layout()\n",
    "\n",
    "ticks = ax.yaxis.get_ticklabels()\n",
    "for ent in ticks:\n",
    "    temp = ent.get_text().replace(\"0.\", \".\")\n",
    "    ent.set_text(temp)\n",
    "_ = ax.yaxis.set_ticklabels(ticks)\n",
    "plt.savefig\n",
    "plt.savefig(\"figs/fig6/sscore_noise.png\", dpi=300)"
   ]
  },
  {
   "cell_type": "code",
   "execution_count": null,
   "id": "73a5712e-3436-4ee8-a597-ef5546dae8ef",
   "metadata": {},
   "outputs": [],
   "source": []
  },
  {
   "cell_type": "markdown",
   "id": "9030b357-6e0f-4458-b897-6ecf3a05f57b",
   "metadata": {},
   "source": [
    "### L2"
   ]
  },
  {
   "cell_type": "code",
   "execution_count": 275,
   "id": "a8bc0bc9-d6f6-46b7-a26f-f24b98b3bf35",
   "metadata": {},
   "outputs": [],
   "source": [
    "lams = [0, 1.0, 10.0, 100.0]"
   ]
  },
  {
   "cell_type": "code",
   "execution_count": 297,
   "id": "4d78ec16-ba4b-44bd-a3c9-8d786b0a7a36",
   "metadata": {},
   "outputs": [
    {
     "data": {
      "image/png": "[encoded data removed]",
      "text/plain": [
       "<Figure size 252x324 with 1 Axes>"
      ]
     },
     "metadata": {
      "needs_background": "light"
     },
     "output_type": "display_data"
    }
   ],
   "source": [
    "# gamma\n",
    "plt.rc('font', size=15)\n",
    "fig = plt.figure(figsize=(3.5,4.5))\n",
    "ax = fig.add_subplot(111)\n",
    "#plots = []\n",
    "for i, lam in enumerate(lams):\n",
    "    f = lambdify(gamma, error_ctest.subs({sinv: 0.5, ssp: 0.1, xinv: 1, lamda: lam, xsp: np.sqrt(5)}), \"numpy\")\n",
    "    res = [f(g) for g in np.linspace(0, ugamma, 100)]\n",
    "    ax.plot(np.linspace(0, ugamma, 100), res, label=f\"$\\lambda={lam}$\")\n",
    "    #plots.append(sympy.plotting.plot(error_ctest.subs({sinv: 0.5, ssp: 0.1, xinv: 1, lamda: lam, xsp: np.sqrt(5)}), linewidth=100,\n",
    "    #                        xlim=(0, 0.3), ylim=(0.92, 0.93), ylabel=\"Clean test accuracy\", xlabel=\"$\\gamma$\", show=False, label=\"$\\sigma_{inv}=0.1$\", legend=False))\n",
    "    #if i > 0:\n",
    "    #    plots[0].append(plots[i][0])\n",
    "#move_sympyplot_to_axes(plots[0], ax)\n",
    "ax.set_xlabel(\"$\\gamma$\", fontsize= 20)\n",
    "ax.set_ylabel(\"Clean test accuracy\", fontsize=18)\n",
    "\n",
    "ax.set_ylim(.81, .93)\n",
    "ax.yaxis.set_label_coords(-0.25, 0.5)\n",
    "ax.xaxis.set_label_coords(0.5, -0.1)\n",
    "ax.spines['top'].set_visible(False)\n",
    "#plt.legend(fontsize=14)\n",
    "plt.tight_layout()\n",
    "\n",
    "ticks = ax.yaxis.get_ticklabels()\n",
    "for ent in ticks:\n",
    "    temp = ent.get_text().replace(\"0.\", \".\")\n",
    "    ent.set_text(temp)\n",
    "ax.yaxis.set_ticklabels(ticks)\n",
    "plt.savefig(\"figs/fig6/error_ctest_l2.png\", dpi=300)"
   ]
  },
  {
   "cell_type": "code",
   "execution_count": 300,
   "id": "eee67c58-a552-4b0d-94c4-359a213256a0",
   "metadata": {},
   "outputs": [
    {
     "data": {
      "image/png": "[encoded data removed]",
      "text/plain": [
       "<Figure size 252x324 with 1 Axes>"
      ]
     },
     "metadata": {
      "needs_background": "light"
     },
     "output_type": "display_data"
    }
   ],
   "source": [
    "plt.rc('font', size=15)\n",
    "fig = plt.figure(figsize=(3.5,4.5))\n",
    "ax = fig.add_subplot(111)\n",
    "#plots = []\n",
    "for i, lam in enumerate(lams):\n",
    "    f = lambdify(gamma, error_stest.subs({sinv: 0.5, ssp: 0.1, xinv: 1, lamda: lam, xsp: np.sqrt(5)}), \"numpy\")\n",
    "    res = [f(g) for g in np.linspace(0, ugamma, 100)]\n",
    "    ax.plot(np.linspace(0, ugamma, 100), res, label=f\"$\\lambda={lam}$\")\n",
    "    #plots.append(sympy.plotting.plot(error_stest.subs({sinv: 0.5, ssp: 0.1, xinv: 1, lamda: lam, xsp: np.sqrt(5)}), linewidth=100,\n",
    "    #                        xlim=(0, 0.3), ylim=(0.7, 0.95), ylabel=\"Spurious test accuracy\", xlabel=\"$\\gamma$\", show=False, label=\"$\\sigma_{inv}=0.1$\", legend=False))\n",
    "    #if i > 0:\n",
    "    #    plots[0].append(plots[i][0])\n",
    "#move_sympyplot_to_axes(plots[0], ax)\n",
    "ax.set_xlabel(\"$\\gamma$\", fontsize= 20)\n",
    "ax.set_ylabel(\"Spurious test accuracy\", fontsize=18)\n",
    "\n",
    "ax.set_ylim(.5, .93)\n",
    "ax.yaxis.set_label_coords(-0.2, 0.5)\n",
    "ax.xaxis.set_label_coords(0.5, -0.1)\n",
    "ax.spines['top'].set_visible(False)\n",
    "plt.legend(fontsize=12, frameon=False)\n",
    "plt.tight_layout()\n",
    "\n",
    "ticks = ax.yaxis.get_ticklabels()\n",
    "for ent in ticks:\n",
    "    temp = ent.get_text().replace(\"0.\", \".\")\n",
    "    ent.set_text(temp)\n",
    "ax.yaxis.set_ticklabels(ticks)\n",
    "\n",
    "plt.savefig(\"figs/fig6/error_stest_l2.png\", dpi=300)"
   ]
  },
  {
   "cell_type": "code",
   "execution_count": 303,
   "id": "09671454-54c8-4060-9508-9979b8d8dcc4",
   "metadata": {},
   "outputs": [
    {
     "data": {
      "image/png": "[encoded data removed]",
      "text/plain": [
       "<Figure size 252x324 with 1 Axes>"
      ]
     },
     "metadata": {
      "needs_background": "light"
     },
     "output_type": "display_data"
    }
   ],
   "source": [
    "plt.rc('font', size=15)\n",
    "fig = plt.figure(figsize=(3.5,4.5))\n",
    "ax = fig.add_subplot(111)\n",
    "#plots = []\n",
    "for i, lam in enumerate(lams):\n",
    "    f = lambdify(gamma, sscore.subs({sinv: 0.5, ssp: 0.1, xinv: 1, lamda: lam, xsp: np.sqrt(5)}), \"numpy\")\n",
    "    res = [f(g) for g in np.linspace(0, ugamma, 100)]\n",
    "    ax.plot(np.linspace(0, ugamma, 100), res)\n",
    "    #plots.append(sympy.plotting.plot(sscore.subs({sinv: 0.5, ssp: 0.1, xinv: 1, lamda: lam, xsp: np.sqrt(5)}), linewidth=100,\n",
    "    #                        xlim=(0, 0.3), ylim=(0.0, 0.12), ylabel=\"Spurious score\", xlabel=\"$\\gamma$\", show=False, label=\"$\\sigma_{inv}=0.1$\", legend=False))\n",
    "    #if i > 0:\n",
    "    #    plots[0].append(plots[i][0])\n",
    "\n",
    "#move_sympyplot_to_axes(plots[0], ax)\n",
    "ax.set_ylabel(\"Spurious score\", fontsize=18)\n",
    "ax.set_xlabel(\"$\\gamma$\", fontsize= 20)\n",
    "ax.set_ylim(-0.01, .17)\n",
    "ax.yaxis.set_label_coords(-0.20, 0.5)\n",
    "ax.xaxis.set_label_coords(0.5, -0.1)\n",
    "ax.spines['top'].set_visible(False)\n",
    "plt.tight_layout()\n",
    "\n",
    "ticks = ax.yaxis.get_ticklabels()\n",
    "for ent in ticks:\n",
    "    temp = ent.get_text().replace(\"0.\", \".\")\n",
    "    ent.set_text(temp)\n",
    "_ = ax.yaxis.set_ticklabels(ticks)\n",
    "plt.savefig\n",
    "plt.savefig(\"figs/fig6/sscore_l2.png\", dpi=300)"
   ]
  },
  {
   "cell_type": "code",
   "execution_count": null,
   "id": "f4c8f85d-09b6-46e3-93ba-7de8cb465e5e",
   "metadata": {},
   "outputs": [],
   "source": []
  },
  {
   "cell_type": "code",
   "execution_count": 13,
   "id": "74a73630-449f-4187-b179-2b78fa91d561",
   "metadata": {},
   "outputs": [
    {
     "data": {
      "image/png": "[encoded data removed]",
      "text/plain": [
       "<Figure size 432x288 with 2 Axes>"
      ]
     },
     "metadata": {
      "needs_background": "light"
     },
     "output_type": "display_data"
    }
   ],
   "source": [
    "ugamma = 0.3\n",
    "fontsize = 15\n",
    "\n",
    "fig, ax1 = plt.subplots()\n",
    "f = lambdify(gamma, sscore.subs({sinv: 1.0, ssp: 0.05, xinv: 1, lamda: 0., xsp: 5}), \"numpy\")\n",
    "scores = [f(g) for g in np.linspace(0, ugamma, 100)]\n",
    "ticks = np.linspace(0, ugamma, 100)\n",
    "\n",
    "color = 'tab:blue'\n",
    "ax1.plot(ticks, res, color=color)\n",
    "ax1.set_xlabel(\"$\\gamma$\", fontsize=fontsize)\n",
    "ax1.set_ylabel(\"Prediction difference\", fontsize=fontsize, color=color)\n",
    "ax1.tick_params(axis='y', labelcolor=color, labelsize=fontsize)\n",
    "ax1.tick_params(axis='x', labelsize=fontsize)\n",
    "\n",
    "f = lambdify(gamma, error_stest.subs({sinv: 1.0, ssp: 0.05, xinv: 1, lamda: 0., xsp: 5}), \"numpy\")\n",
    "spaccs = [f(g) for g in np.linspace(0, ugamma, 100)]\n",
    "color = 'tab:red'\n",
    "ax2 = ax1.twinx()\n",
    "ax2.set_ylabel('Spurious test accuracy', fontsize=fontsize, color=color)  # we already handled the x-label with ax1\n",
    "ax2.plot(ticks, spaccs, color=color, linestyle='--')\n",
    "ax2.tick_params(axis='y', labelcolor=color, labelsize=fontsize)\n",
    "\n",
    "fig.tight_layout()\n",
    "plt.savefig(\"figs/phase_transition.png\", dpi=300)"
   ]
  }
 ],
 "metadata": {
  "kernelspec": {
   "display_name": "Python 3",
   "language": "python",
   "name": "python3"
  },
  "language_info": {
   "codemirror_mode": {
    "name": "ipython",
    "version": 3
   },
   "file_extension": ".py",
   "mimetype": "text/x-python",
   "name": "python",
   "nbconvert_exporter": "python",
   "pygments_lexer": "ipython3",
   "version": "3.8.12"
  }
 },
 "nbformat": 4,
 "nbformat_minor": 5
}
