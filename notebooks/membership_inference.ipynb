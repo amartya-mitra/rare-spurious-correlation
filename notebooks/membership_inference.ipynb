{
 "cells": [
  {
   "cell_type": "code",
   "execution_count": null,
   "id": "7f250d1e-e806-442e-b5f3-54a69dde9b89",
   "metadata": {},
   "outputs": [],
   "source": [
    "%load_ext autoreload\n",
    "%autoreload 2\n",
    "\n",
    "from functools import lru_cache\n",
    "import sys\n",
    "sys.path.append(\"../\")\n",
    "from os.path import join\n",
    "from IPython.display import display\n",
    "from functools import partial\n",
    "\n",
    "import matplotlib\n",
    "matplotlib.rcParams['pdf.fonttype'] = 42\n",
    "matplotlib.rcParams['ps.fonttype'] = 42\n",
    "matplotlib.rc('text', usetex=True)\n",
    "\n",
    "import matplotlib.pyplot as plt\n",
    "plt.rcParams['text.usetex'] = True #Let TeX do the typsetting\n",
    "plt.rcParams['text.latex.preamble'] = r\"\"\"\n",
    "\\usepackage{sansmath}\n",
    "\\sansmath\n",
    "\"\"\" #Force sans-serif math mode (for axes labels)\n",
    "plt.rcParams['font.family'] = 'sans-serif' # ... for regular text\n",
    "plt.rcParams['font.sans-serif'] = 'Helvetica, Avant Garde, Computer Modern Sans serif' # Choose a nice font here\n",
    "\n",
    "from scipy.stats import ttest_ind, sem\n",
    "import scipy\n",
    "import joblib\n",
    "import numpy as np\n",
    "import torch\n",
    "from torch import nn\n",
    "from torch.utils.data import Dataset, DataLoader\n",
    "from tqdm.notebook import tqdm\n",
    "from scipy.stats import pearsonr\n",
    "import seaborn as sns\n",
    "import pandas as pd\n",
    "pd.options.display.float_format = '{:,.3f}'.format\n",
    "pd.set_option('display.max_rows', 128)\n",
    "\n",
    "from spurious_ml.datasets import add_spurious_correlation, add_colored_spurious_correlation\n",
    "from spurious_ml.models.torch_utils import archs\n",
    "from spurious_ml.variables import auto_var\n",
    "from params import *\n",
    "from utils import params_to_dataframe\n",
    "\n",
    "fontsize=16"
   ]
  },
  {
   "cell_type": "code",
   "execution_count": 2,
   "id": "65046755-c042-45cb-87d9-c9ac0d721300",
   "metadata": {},
   "outputs": [],
   "source": [
    "def mlp_pred_fn(X, model, device=\"cuda\"):\n",
    "    dset = torch.utils.data.TensorDataset(torch.from_numpy(X.reshape(len(X), -1)).float())\n",
    "    loader = torch.utils.data.DataLoader(dset, batch_size=256)\n",
    "    \n",
    "    model.to(device).eval()\n",
    "    fetX = []\n",
    "    for (x, ) in tqdm(loader, desc=\"[pred_fn]\"):\n",
    "        fetX.append(model(x.to(device)).cpu().detach().numpy())\n",
    "    fetX = np.concatenate(fetX, axis=0)\n",
    "    return fetX\n",
    "\n",
    "def cnn_pred_fn(X, model, device=\"cuda\"):\n",
    "    if len(X.shape) == 4:\n",
    "        X = X.transpose(0, 3, 1, 2)\n",
    "        \n",
    "    dset = torch.utils.data.TensorDataset(torch.from_numpy(X).float())\n",
    "    loader = torch.utils.data.DataLoader(dset, batch_size=128)\n",
    "    \n",
    "    model.to(device).eval()\n",
    "    fetX = []\n",
    "    #for (x, ) in loader:\n",
    "    for (x, ) in tqdm(loader, desc=\"[pred_fn]\"):\n",
    "        fetX.append(model(x.to(device)).cpu().detach().numpy())\n",
    "        #fetX.append(model.feature_extractor(x.to(device)).cpu().detach().flatten(1).numpy())\n",
    "    fetX = np.concatenate(fetX, axis=0)\n",
    "    return fetX\n",
    "\n",
    "class CLF():\n",
    "    def __init__(self, model):\n",
    "        self.model = model\n",
    "        \n",
    "    def predict(self, X, device=\"cuda\"):\n",
    "        return pred_fn(X, self.model, device=device)"
   ]
  },
  {
   "cell_type": "markdown",
   "id": "b67b8e2c-e24f-422f-be9d-f7bdac0d4a0e",
   "metadata": {},
   "source": [
    "## BBox"
   ]
  },
  {
   "cell_type": "code",
   "execution_count": 3,
   "id": "6e34fd8b-7902-4c8c-8dd7-2db2fefcc34d",
   "metadata": {},
   "outputs": [],
   "source": [
    "from sklearn.linear_model import LogisticRegression\n",
    "from sklearn.preprocessing import StandardScaler\n",
    "from sklearn.model_selection import GridSearchCV"
   ]
  },
  {
   "cell_type": "code",
   "execution_count": 15,
   "id": "f0f6ae0c-0667-48d2-8cd2-3014e7761e96",
   "metadata": {},
   "outputs": [],
   "source": [
    "def get_date(ds_name,):\n",
    "    if 'cifar' in ds_name:\n",
    "        res = joblib.load(f\"../results/mem_inference/128-{ds_name}-70-0.01-aug01-ce-tor-altResNet20Norm02-0.0-adam-0-0.0.pkl\")\n",
    "    else:\n",
    "        res = joblib.load(f\"../results/mem_inference/128-{ds_name}-70-ce-tor-LargeMLP-0.0-adam-0-0.0.pkl\")\n",
    "\n",
    "    (_, tar_trny, _, tar_tsty, _, shadow_trny, _, shadow_tsty, spurious_ind) = auto_var.get_var_with_argument(\"dataset\", ds_name)\n",
    "    trnX = np.concatenate((res['aux_shadow_trn_pred'], res['aux_shadow_tst_pred']), axis=0)\n",
    "    trnX = np.concatenate((\n",
    "        np.sort(trnX, axis=1),\n",
    "        np.concatenate(((res['aux_shadow_trn_pred'].argmax(1) == shadow_trny).astype(np.float32),\n",
    "                        (res['aux_shadow_tst_pred'].argmax(1) == shadow_tsty).astype(np.float32))).reshape(-1, 1)\n",
    "    ), axis=1)\n",
    "    trny = np.concatenate((np.ones(len(res['aux_shadow_trn_pred'])), np.zeros(len(res['target_shadow_tst_pred']))))\n",
    "    tstX = np.concatenate((res['target_tar_trn_pred'], res['target_tar_trn_pred']), axis=0)\n",
    "    tstX = np.concatenate((\n",
    "        np.sort(tstX, axis=1),\n",
    "        np.concatenate(((res['target_tar_trn_pred'].argmax(1) == tar_trny).astype(np.float32),\n",
    "                        (res['target_tar_tst_pred'].argmax(1) == tar_tsty).astype(np.float32))).reshape(-1, 1)\n",
    "    ), axis=1)\n",
    "    tsty = np.concatenate((np.ones(len(res['aux_tar_trn_pred'])), np.zeros(len(res['aux_tar_trn_pred']))))\n",
    "\n",
    "\n",
    "    mod_tar_trn = np.concatenate((\n",
    "        np.sort(res['target_tar_trn_pred'], axis=1),\n",
    "        (res['target_tar_trn_pred'].argmax(1) == tar_trny).astype(np.float32).reshape(-1, 1),\n",
    "    ), axis=1)\n",
    "    mod_tar_tst = np.concatenate((\n",
    "        np.sort(res['target_tar_tst_pred'], axis=1),\n",
    "        (res['target_tar_tst_pred'].argmax(1) == tar_tsty).astype(np.float32).reshape(-1, 1),\n",
    "    ), axis=1)\n",
    "    \n",
    "    scaler = StandardScaler()\n",
    "    trnX = scaler.fit_transform(trnX)\n",
    "    tstX = scaler.transform(tstX)\n",
    "    mod_tar_trn = scaler.transform(mod_tar_trn)\n",
    "    mod_tar_tst = scaler.transform(mod_tar_tst)\n",
    "    \n",
    "    return trnX, trny, tstX, tsty, mod_tar_trn, mod_tar_tst, spurious_ind\n"
   ]
  },
  {
   "cell_type": "code",
   "execution_count": 42,
   "id": "ba02474a-de12-4a85-9ab8-0bd05edd3c2b",
   "metadata": {},
   "outputs": [
    {
     "name": "stdout",
     "output_type": "stream",
     "text": [
      "===================== memfashion ====================\n"
     ]
    },
    {
     "data": {
      "application/vnd.jupyter.widget-view+json": {
       "model_id": "e38b1833cee14573b4d5a4bad1638c59",
       "version_major": 2,
       "version_minor": 0
      },
      "text/plain": [
       "  0%|          | 0/7 [00:00<?, ?it/s]"
      ]
     },
     "metadata": {},
     "output_type": "display_data"
    },
    {
     "data": {
      "application/vnd.jupyter.widget-view+json": {
       "model_id": "f5d095692b744a019c04882c7a6f26ce",
       "version_major": 2,
       "version_minor": 0
      },
      "text/plain": [
       "  0%|          | 0/10 [00:00<?, ?it/s]"
      ]
     },
     "metadata": {},
     "output_type": "display_data"
    },
    {
     "data": {
      "application/vnd.jupyter.widget-view+json": {
       "model_id": "0fd9aca3d9e94fdf93e3d89d223c538d",
       "version_major": 2,
       "version_minor": 0
      },
      "text/plain": [
       "  0%|          | 0/10 [00:00<?, ?it/s]"
      ]
     },
     "metadata": {},
     "output_type": "display_data"
    },
    {
     "data": {
      "application/vnd.jupyter.widget-view+json": {
       "model_id": "7171009ba09942f3a2f48910d400d69c",
       "version_major": 2,
       "version_minor": 0
      },
      "text/plain": [
       "  0%|          | 0/10 [00:00<?, ?it/s]"
      ]
     },
     "metadata": {},
     "output_type": "display_data"
    },
    {
     "data": {
      "application/vnd.jupyter.widget-view+json": {
       "model_id": "c854a13ff3d04d75ab4296f4d6aeb939",
       "version_major": 2,
       "version_minor": 0
      },
      "text/plain": [
       "  0%|          | 0/10 [00:00<?, ?it/s]"
      ]
     },
     "metadata": {},
     "output_type": "display_data"
    },
    {
     "data": {
      "application/vnd.jupyter.widget-view+json": {
       "model_id": "4354b435354c464189b4c2aaa1ece2e0",
       "version_major": 2,
       "version_minor": 0
      },
      "text/plain": [
       "  0%|          | 0/10 [00:00<?, ?it/s]"
      ]
     },
     "metadata": {},
     "output_type": "display_data"
    },
    {
     "data": {
      "application/vnd.jupyter.widget-view+json": {
       "model_id": "40291697d4314999b90ec494d2ed2aac",
       "version_major": 2,
       "version_minor": 0
      },
      "text/plain": [
       "  0%|          | 0/10 [00:00<?, ?it/s]"
      ]
     },
     "metadata": {},
     "output_type": "display_data"
    },
    {
     "data": {
      "application/vnd.jupyter.widget-view+json": {
       "model_id": "b8a778a594ce4e0a970eb65e6a0b5a87",
       "version_major": 2,
       "version_minor": 0
      },
      "text/plain": [
       "  0%|          | 0/10 [00:00<?, ?it/s]"
      ]
     },
     "metadata": {},
     "output_type": "display_data"
    },
    {
     "name": "stdout",
     "output_type": "stream",
     "text": [
      "===================== memmnist ====================\n"
     ]
    },
    {
     "data": {
      "application/vnd.jupyter.widget-view+json": {
       "model_id": "a6c53eda8c8447f4ad0c4fc2c206f4ca",
       "version_major": 2,
       "version_minor": 0
      },
      "text/plain": [
       "  0%|          | 0/7 [00:00<?, ?it/s]"
      ]
     },
     "metadata": {},
     "output_type": "display_data"
    },
    {
     "data": {
      "application/vnd.jupyter.widget-view+json": {
       "model_id": "878f8bceca0b4f1b9adae0ec72c66737",
       "version_major": 2,
       "version_minor": 0
      },
      "text/plain": [
       "  0%|          | 0/10 [00:00<?, ?it/s]"
      ]
     },
     "metadata": {},
     "output_type": "display_data"
    },
    {
     "data": {
      "application/vnd.jupyter.widget-view+json": {
       "model_id": "edfd62f542354de0b91130746f6fe199",
       "version_major": 2,
       "version_minor": 0
      },
      "text/plain": [
       "  0%|          | 0/10 [00:00<?, ?it/s]"
      ]
     },
     "metadata": {},
     "output_type": "display_data"
    },
    {
     "data": {
      "application/vnd.jupyter.widget-view+json": {
       "model_id": "a4ac7ad94534488da61ed62cace2124a",
       "version_major": 2,
       "version_minor": 0
      },
      "text/plain": [
       "  0%|          | 0/10 [00:00<?, ?it/s]"
      ]
     },
     "metadata": {},
     "output_type": "display_data"
    },
    {
     "data": {
      "application/vnd.jupyter.widget-view+json": {
       "model_id": "198726e84a2a41629bfeca8d6a5b942c",
       "version_major": 2,
       "version_minor": 0
      },
      "text/plain": [
       "  0%|          | 0/10 [00:00<?, ?it/s]"
      ]
     },
     "metadata": {},
     "output_type": "display_data"
    },
    {
     "data": {
      "application/vnd.jupyter.widget-view+json": {
       "model_id": "ef9dd256c2c541518012b6685d110aa5",
       "version_major": 2,
       "version_minor": 0
      },
      "text/plain": [
       "  0%|          | 0/10 [00:00<?, ?it/s]"
      ]
     },
     "metadata": {},
     "output_type": "display_data"
    },
    {
     "data": {
      "application/vnd.jupyter.widget-view+json": {
       "model_id": "918fa41c11414353b3828528323dd92c",
       "version_major": 2,
       "version_minor": 0
      },
      "text/plain": [
       "  0%|          | 0/10 [00:00<?, ?it/s]"
      ]
     },
     "metadata": {},
     "output_type": "display_data"
    },
    {
     "data": {
      "application/vnd.jupyter.widget-view+json": {
       "model_id": "42e523b2769040f2937d3eabbd035acb",
       "version_major": 2,
       "version_minor": 0
      },
      "text/plain": [
       "  0%|          | 0/10 [00:00<?, ?it/s]"
      ]
     },
     "metadata": {},
     "output_type": "display_data"
    },
    {
     "name": "stdout",
     "output_type": "stream",
     "text": [
      "===================== memcifar10 ====================\n"
     ]
    },
    {
     "data": {
      "application/vnd.jupyter.widget-view+json": {
       "model_id": "a1fe24255bf8406fba5ced3c25862754",
       "version_major": 2,
       "version_minor": 0
      },
      "text/plain": [
       "  0%|          | 0/7 [00:00<?, ?it/s]"
      ]
     },
     "metadata": {},
     "output_type": "display_data"
    },
    {
     "data": {
      "application/vnd.jupyter.widget-view+json": {
       "model_id": "136b64af26f94fb892b1bffaeae339ff",
       "version_major": 2,
       "version_minor": 0
      },
      "text/plain": [
       "  0%|          | 0/10 [00:00<?, ?it/s]"
      ]
     },
     "metadata": {},
     "output_type": "display_data"
    },
    {
     "data": {
      "application/vnd.jupyter.widget-view+json": {
       "model_id": "82167c5dcde74c9d80f30cda125fd3d6",
       "version_major": 2,
       "version_minor": 0
      },
      "text/plain": [
       "  0%|          | 0/10 [00:00<?, ?it/s]"
      ]
     },
     "metadata": {},
     "output_type": "display_data"
    },
    {
     "data": {
      "application/vnd.jupyter.widget-view+json": {
       "model_id": "935d4b5417214ee4af5c62cbdf55c003",
       "version_major": 2,
       "version_minor": 0
      },
      "text/plain": [
       "  0%|          | 0/10 [00:00<?, ?it/s]"
      ]
     },
     "metadata": {},
     "output_type": "display_data"
    },
    {
     "data": {
      "application/vnd.jupyter.widget-view+json": {
       "model_id": "c283cc3cf4a64bd2972393d38170d5a8",
       "version_major": 2,
       "version_minor": 0
      },
      "text/plain": [
       "  0%|          | 0/10 [00:00<?, ?it/s]"
      ]
     },
     "metadata": {},
     "output_type": "display_data"
    },
    {
     "data": {
      "application/vnd.jupyter.widget-view+json": {
       "model_id": "14581c315dc644d0ad2a688f2dfabfa6",
       "version_major": 2,
       "version_minor": 0
      },
      "text/plain": [
       "  0%|          | 0/10 [00:00<?, ?it/s]"
      ]
     },
     "metadata": {},
     "output_type": "display_data"
    },
    {
     "data": {
      "application/vnd.jupyter.widget-view+json": {
       "model_id": "e7bce9ceed834d49bbc5b30de35994b2",
       "version_major": 2,
       "version_minor": 0
      },
      "text/plain": [
       "  0%|          | 0/10 [00:00<?, ?it/s]"
      ]
     },
     "metadata": {},
     "output_type": "display_data"
    },
    {
     "data": {
      "application/vnd.jupyter.widget-view+json": {
       "model_id": "9c63cc121fea4b949e09a52938e7b218",
       "version_major": 2,
       "version_minor": 0
      },
      "text/plain": [
       "  0%|          | 0/10 [00:00<?, ?it/s]"
      ]
     },
     "metadata": {},
     "output_type": "display_data"
    }
   ],
   "source": [
    "results = {}\n",
    "#results = joblib.load(\"caches/meminf_results.pkl\")\n",
    "\n",
    "nspus = {\n",
    "    'memfashion': [1, 3, 5, 10, 20, 100, 1000],\n",
    "    'memmnist': [1, 3, 5, 10, 20, 100, 1000],\n",
    "    'memcifar10': [1, 3, 5, 10, 20, 100, 1000],\n",
    "}\n",
    "\n",
    "for base_dset in ['memfashion', 'memmnist', 'memcifar10']:\n",
    "    print(f\"===================== {base_dset} ====================\")\n",
    "    results.setdefault(base_dset, dict())\n",
    "    for i in tqdm(nspus[base_dset]):\n",
    "        res = results[base_dset].setdefault(i, dict())\n",
    "        temp = {'tst_acc': [], 'spu_tst_acc': [], 'clfs': []}\n",
    "        for rs in tqdm(range(10)):\n",
    "            if 'tst_acc' in res and len(res['tst_acc']) > rs:\n",
    "                temp['clfs'].append(res['clfs'][rs])\n",
    "                temp['tst_acc'].append(res['tst_acc'][rs])\n",
    "                temp['spu_tst_acc'].append(res['spu_tst_acc'][rs])\n",
    "                continue\n",
    "            if i == 0:\n",
    "                if rs != 0:\n",
    "                    continue\n",
    "                ds_name = base_dset.replace(\"sp\", \"\")\n",
    "                ds_name = f\"{ds_name}v20\"\n",
    "            else:\n",
    "                ds_name = f\"{base_dset}v20-{i}-0-{rs}\"\n",
    "\n",
    "            trnX, trny, tstX, tsty, mod_tar_trn, mod_tar_tst, spurious_ind = get_date(ds_name)\n",
    "\n",
    "            clf = GridSearchCV(LogisticRegression(), param_grid={\"C\": [0.01, 0.1, 1.0, 10.0]}, n_jobs=12, cv=3)\n",
    "            clf.fit(trnX, trny)\n",
    "            #print(i, clf.score(trnX, trny), clf.score(tstX, tsty))\n",
    "            #(clf.predict(mod_tar_trn) == 1).mean(), (clf.predict(mod_tar_tst) == 0).mean()\n",
    "            if len(np.shape(spurious_ind)) == 2:\n",
    "                ind = spurious_ind[0]\n",
    "            else:\n",
    "                ind = spurious_ind\n",
    "            temp['clfs'].append(clf)\n",
    "            temp['tst_acc'].append(clf.score(tstX, tsty))\n",
    "            temp['spu_tst_acc'].append(clf.score(tstX[ind], tsty[ind]))\n",
    "        res['tst_acc'] = temp['tst_acc']\n",
    "        res['spu_tst_acc'] = temp['spu_tst_acc']\n",
    "        res['clfs'] = temp['clfs']\n",
    "            #print(clf.best_estimator_.coef_)\n",
    "            #print(\"avg one prediction\", clf.predict(mod_tar_trn).mean(), clf.predict(mod_tar_tst).mean())\n",
    "            #print(clf.score(tstX[ind], tsty[ind]), len(ind))\n",
    "#joblib.dump(results, \"caches/meminf_results.pkl\")"
   ]
  },
  {
   "cell_type": "code",
   "execution_count": 31,
   "id": "a78b5534-4228-465a-aa74-d8aba20c2ccb",
   "metadata": {},
   "outputs": [
    {
     "data": {
      "text/plain": [
       "['caches/meminf_results.pkl']"
      ]
     },
     "execution_count": 31,
     "metadata": {},
     "output_type": "execute_result"
    }
   ],
   "source": [
    "joblib.dump(results, \"caches/meminf_results.pkl\")"
   ]
  },
  {
   "cell_type": "code",
   "execution_count": 35,
   "id": "18c52474-a083-462a-85f5-9d2ef4e78f46",
   "metadata": {},
   "outputs": [
    {
     "name": "stdout",
     "output_type": "stream",
     "text": [
      "memfashion\n",
      "1 0.5281314285714285 0.9 0.09999999999999999\n",
      "3 0.5308514285714286 0.9333333333333332 0.044444444444444446\n",
      "5 0.5299028571428572 0.82 0.10519822558706331\n",
      "10 0.5281714285714285 0.71 0.12948616399703355\n",
      "20 0.5300400000000001 0.5149999999999999 0.14162744555111248\n",
      "100 0.5302114285714286 0.20299999999999999 0.10872033439569209\n",
      "1000 0.5308742857142856 0.2962 0.13573984922146726\n"
     ]
    },
    {
     "data": {
      "image/png": "[encoded data removed]",
      "text/plain": [
       "<Figure size 432x288 with 1 Axes>"
      ]
     },
     "metadata": {
      "needs_background": "light"
     },
     "output_type": "display_data"
    },
    {
     "name": "stdout",
     "output_type": "stream",
     "text": [
      "memmnist\n",
      "1 0.5137885714285714 0.7 0.15275252316519464\n",
      "3 0.5141114285714286 0.7666666666666666 0.1319371343004213\n",
      "5 0.5137628571428572 0.82 0.10934146311237815\n",
      "10 0.5137257142857142 0.76 0.132664991614216\n",
      "20 0.5137885714285715 0.745 0.13342705039750288\n",
      "100 0.5134285714285716 0.5990000000000001 0.150646385065601\n",
      "1000 0.5143914285714286 0.613 0.15303173236656217\n"
     ]
    },
    {
     "data": {
      "image/png": "[encoded data removed]",
      "text/plain": [
       "<Figure size 432x288 with 1 Axes>"
      ]
     },
     "metadata": {
      "needs_background": "light"
     },
     "output_type": "display_data"
    },
    {
     "name": "stdout",
     "output_type": "stream",
     "text": [
      "memcifar10\n",
      "1 0.5617533333333332 1.0 0.0\n",
      "3 0.5636466666666666 1.0 0.0\n",
      "5 0.56267 0.9400000000000001 0.04268749491621898\n",
      "10 0.5624866666666667 0.9800000000000001 0.013333333333333329\n",
      "20 0.5620499999999999 0.99 0.006666666666666672\n",
      "100 0.5615433333333333 0.9800000000000001 0.01220200347848208\n",
      "1000 0.5675333333333332 0.9996 0.00040000000000000034\n"
     ]
    },
    {
     "data": {
      "image/png": "[encoded data removed]",
      "text/plain": [
       "<Figure size 432x288 with 1 Axes>"
      ]
     },
     "metadata": {
      "needs_background": "light"
     },
     "output_type": "display_data"
    }
   ],
   "source": [
    "#results = joblib.load(\"caches/meminf_results.pkl\")\n",
    "fontsize = 20\n",
    "\n",
    "#for base_dset in ['memfashion', 'spmemfashion', 'memmnist', 'spmemmnist', ]:\n",
    "for base_dset in ['memfashion', 'memmnist', 'memcifar10']:\n",
    "    print(base_dset)\n",
    "    nspu = nspus[base_dset]\n",
    "    tstaccs, spu_tstaccs = [], []\n",
    "    for i in nspu:\n",
    "        tstaccs.append(results[base_dset][i]['tst_acc'])\n",
    "        spu_tstaccs.append(results[base_dset][i]['spu_tst_acc'])\n",
    "        print(i, \n",
    "              np.mean(results[base_dset][i]['tst_acc']),\n",
    "              np.mean(results[base_dset][i]['spu_tst_acc']),\n",
    "              sem(results[base_dset][i]['spu_tst_acc']))\n",
    "    tstaccs, spu_tstaccs = np.array(tstaccs), np.array(spu_tstaccs)\n",
    "    \n",
    "    #plt.figure(figsize=(8, 4))\n",
    "    width = 0.3\n",
    "    plt.bar(np.arange(len(nspu)) + width/2, tstaccs.mean(1), yerr=sem(tstaccs, axis=1), width=width, label=\"All eamples\")\n",
    "    plt.bar(np.arange(len(nspu)) - width/2, spu_tstaccs.mean(1), yerr=sem(spu_tstaccs, axis=1), width=width, label=\"Spurious examples\")\n",
    "    \n",
    "    plt.ylim(0., 1.0)\n",
    "    plt.yticks(fontsize=fontsize)\n",
    "    plt.ylabel(\"Test accuracy\", fontsize=fontsize)\n",
    "    plt.xticks(np.arange(len(nspu)), labels=nspu, fontsize=fontsize)\n",
    "    plt.xlabel(\"\\# spurious examples\", fontsize=fontsize)\n",
    "    if 'fashion' in base_dset:\n",
    "        plt.legend(fontsize=fontsize-6)\n",
    "    plt.tight_layout()\n",
    "    \n",
    "    plt.savefig(f\"./figs/meminf/{base_dset}_bbox.png\")\n",
    "    plt.show()\n",
    "    "
   ]
  },
  {
   "cell_type": "code",
   "execution_count": null,
   "id": "c5d58e7b-d172-4173-855c-42b1d2f12b46",
   "metadata": {},
   "outputs": [],
   "source": []
  }
 ],
 "metadata": {
  "kernelspec": {
   "display_name": "Python 3",
   "language": "python",
   "name": "python3"
  },
  "language_info": {
   "codemirror_mode": {
    "name": "ipython",
    "version": 3
   },
   "file_extension": ".py",
   "mimetype": "text/x-python",
   "name": "python",
   "nbconvert_exporter": "python",
   "pygments_lexer": "ipython3",
   "version": "3.8.12"
  }
 },
 "nbformat": 4,
 "nbformat_minor": 5
}
